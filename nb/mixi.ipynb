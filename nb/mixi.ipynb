{
 "cells": [
  {
   "cell_type": "code",
   "execution_count": 4,
   "id": "273acb7b",
   "metadata": {},
   "outputs": [
    {
     "name": "stdout",
     "output_type": "stream",
     "text": [
      "The autoreload extension is already loaded. To reload it, use:\n",
      "  %reload_ext autoreload\n"
     ]
    }
   ],
   "source": [
    "# automatically reload changes we make to schools.py and ui.py\n",
    "%load_ext autoreload\n",
    "%autoreload 2\n",
    "\n",
    "# load the demographic data\n",
    "import pandas as pd\n",
    "\n",
    "import numpy as np\n",
    "\n",
    "import pingouin as pg\n",
    "\n",
    "\n",
    "import matplotlib.pyplot as plt\n",
    "import seaborn as sns\n",
    "import math\n",
    "\n",
    "from IPython.display import Markdown as md\n",
    "\n",
    "from school_data import schools, ui, exams, geo"
   ]
  },
  {
   "cell_type": "code",
   "execution_count": 11,
   "id": "01f0dc1e",
   "metadata": {},
   "outputs": [
    {
     "name": "stdout",
     "output_type": "stream",
     "text": [
      "0       331500010001\n",
      "1       331700010002\n",
      "2       331300010003\n",
      "3       307500013004\n",
      "4       331600010005\n",
      "            ...     \n",
      "2185    320700860842\n",
      "2186    320800860846\n",
      "2187    307500012754\n",
      "2188    307500012811\n",
      "2189    307500012811\n",
      "Name: beds, Length: 2184, dtype: int64\n"
     ]
    },
    {
     "data": {
      "text/plain": [
       "0       310100010015\n",
       "1       310100010015\n",
       "2       310100010015\n",
       "3       310100010015\n",
       "4       310100010015\n",
       "            ...     \n",
       "9301    320800860846\n",
       "9302    320800860846\n",
       "9303    320800860846\n",
       "9304    320800860846\n",
       "9305    320800860846\n",
       "Name: beds, Length: 9306, dtype: int64"
      ]
     },
     "execution_count": 11,
     "metadata": {},
     "output_type": "execute_result"
    }
   ],
   "source": [
    "# load the demographic data and merge it with the math data\n",
    "df = schools.load_school_demographics(refresh=True)\n",
    "df.beds"
   ]
  },
  {
   "cell_type": "code",
   "execution_count": null,
   "id": "85c61903",
   "metadata": {},
   "outputs": [],
   "source": [
    "nys_exams = exams.load_math_ela_long()\n",
    "nys_exams = nys_exams[nys_exams[\"mean_scale_score\"].notnull()]\n",
    "\n",
    "regents = exams.load_regents()\n",
    "\n",
    "regents = df.merge(regents, on=[\"dbn\", \"ay\"], how=\"inner\")\n",
    "cols = [x for x in regents.columns if not x.startswith(\"grade\")]\n",
    "regents = regents[cols]\n",
    "regents"
   ]
  }
 ],
 "metadata": {
  "kernelspec": {
   "display_name": "Python 3 (ipykernel)",
   "language": "python",
   "name": "python3"
  },
  "language_info": {
   "codemirror_mode": {
    "name": "ipython",
    "version": 3
   },
   "file_extension": ".py",
   "mimetype": "text/x-python",
   "name": "python",
   "nbconvert_exporter": "python",
   "pygments_lexer": "ipython3",
   "version": "3.10.4"
  }
 },
 "nbformat": 4,
 "nbformat_minor": 5
}
