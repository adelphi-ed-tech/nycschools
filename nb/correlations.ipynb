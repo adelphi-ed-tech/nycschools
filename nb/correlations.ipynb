{
 "cells": [
  {
   "cell_type": "code",
   "execution_count": 3,
   "id": "approved-clear",
   "metadata": {},
   "outputs": [
    {
     "data": {
      "text/plain": [
       "Index(['dbn', 'school_name', 'year', 'total_enrollment',\n",
       "       'grade_3k_pk_half_day_full', 'grade_k', 'grade_1', 'grade_2', 'grade_3',\n",
       "       'grade_4', 'grade_5', 'grade_6', 'grade_7', 'grade_8', 'grade_9',\n",
       "       'grade_10', 'grade_11', 'grade_12', 'female', 'female_1', 'male',\n",
       "       'male_1', 'asian', 'asian_1', 'black', 'black_1', 'hispanic',\n",
       "       'hispanic_1', 'multi_racial', 'multi_racial_1', 'native_american',\n",
       "       'native_american_1', 'white', 'white_1', 'missing_race_ethnicity_data',\n",
       "       'missing_race_ethnicity_data_1', 'students_with_disabilities',\n",
       "       'students_with_disabilities_1', 'english_language_learners',\n",
       "       'english_language_learners_1', 'poverty', 'poverty_1',\n",
       "       'economic_need_index', 'district', 'boro', 'grade', 'category',\n",
       "       'number_tested', 'mean_scale_score', 'level1_n', 'level1_', 'level2_n',\n",
       "       'level2_', 'level3_n', 'level3_', 'level4_n', 'level4_', 'level3_4_n',\n",
       "       'level3_4_'],\n",
       "      dtype='object')"
      ]
     },
     "execution_count": 3,
     "metadata": {},
     "output_type": "execute_result"
    }
   ],
   "source": [
    "# load the demographic data\n",
    "import pandas as pd\n",
    "import numpy as np\n",
    "from scipy.stats import pearsonr\n",
    "df = pd.read_csv(\"demo-math.csv\")\n",
    "df.drop(df.columns[0], axis=1, inplace=True)\n",
    "df.columns\n",
    "\n"
   ]
  },
  {
   "cell_type": "code",
   "execution_count": 4,
   "id": "innocent-fellow",
   "metadata": {},
   "outputs": [
    {
     "name": "stdout",
     "output_type": "stream",
     "text": [
      "(-0.47137621471716734, 0.0) (-0.6563811932689171, 0.0)\n"
     ]
    }
   ],
   "source": [
    "# display(df[[\"black_1\", \"mean_scale_score\"]])\n",
    "\n",
    "pct_black = df[\"black_1\"]\n",
    "math_avg = df[\"mean_scale_score\"]\n",
    "\n",
    "# np.corrcoef(pct_black, math_avg)\n",
    "\n",
    "black_R = pearsonr(pct_black, math_avg)\n",
    "pov_R = pearsonr(df[\"poverty_1\"], math_avg)\n",
    "print(black_R, pov_R)"
   ]
  },
  {
   "cell_type": "code",
   "execution_count": 18,
   "id": "premium-finder",
   "metadata": {},
   "outputs": [
    {
     "data": {
      "text/plain": [
       "(0.584611886499248, 0.0)"
      ]
     },
     "execution_count": 18,
     "metadata": {},
     "output_type": "execute_result"
    }
   ],
   "source": [
    "pearsonr(df[\"white_1\"], df[\"mean_scale_score\"])"
   ]
  },
  {
   "cell_type": "code",
   "execution_count": null,
   "id": "smaller-ireland",
   "metadata": {},
   "outputs": [],
   "source": [
    "np.corrcoef(pct_black, math_avg)\n"
   ]
  },
  {
   "cell_type": "code",
   "execution_count": null,
   "id": "multiple-instruction",
   "metadata": {},
   "outputs": [],
   "source": [
    "from statsmodels.multivariate.manova import MANOVA\n",
    "\n",
    "\n",
    "from statsmodels import multivariate as mv\n",
    "import pingouin as pg"
   ]
  },
  {
   "cell_type": "code",
   "execution_count": 24,
   "id": "after-piano",
   "metadata": {},
   "outputs": [
    {
     "data": {
      "text/html": [
       "<div>\n",
       "<style scoped>\n",
       "    .dataframe tbody tr th:only-of-type {\n",
       "        vertical-align: middle;\n",
       "    }\n",
       "\n",
       "    .dataframe tbody tr th {\n",
       "        vertical-align: top;\n",
       "    }\n",
       "\n",
       "    .dataframe thead th {\n",
       "        text-align: right;\n",
       "    }\n",
       "</style>\n",
       "<table border=\"1\" class=\"dataframe\">\n",
       "  <thead>\n",
       "    <tr style=\"text-align: right;\">\n",
       "      <th></th>\n",
       "      <th>Source</th>\n",
       "      <th>SS</th>\n",
       "      <th>DF</th>\n",
       "      <th>F</th>\n",
       "      <th>p-unc</th>\n",
       "      <th>np2</th>\n",
       "    </tr>\n",
       "  </thead>\n",
       "  <tbody>\n",
       "    <tr>\n",
       "      <th>0</th>\n",
       "      <td>black_1</td>\n",
       "      <td>1.019744e+06</td>\n",
       "      <td>718</td>\n",
       "      <td>7.491231</td>\n",
       "      <td>0.0</td>\n",
       "      <td>0.383161</td>\n",
       "    </tr>\n",
       "    <tr>\n",
       "      <th>1</th>\n",
       "      <td>poverty_1</td>\n",
       "      <td>6.591402e+05</td>\n",
       "      <td>1</td>\n",
       "      <td>3476.675117</td>\n",
       "      <td>0.0</td>\n",
       "      <td>0.286484</td>\n",
       "    </tr>\n",
       "    <tr>\n",
       "      <th>2</th>\n",
       "      <td>Residual</td>\n",
       "      <td>1.641653e+06</td>\n",
       "      <td>8659</td>\n",
       "      <td>NaN</td>\n",
       "      <td>NaN</td>\n",
       "      <td>NaN</td>\n",
       "    </tr>\n",
       "  </tbody>\n",
       "</table>\n",
       "</div>"
      ],
      "text/plain": [
       "      Source            SS    DF            F  p-unc       np2\n",
       "0    black_1  1.019744e+06   718     7.491231    0.0  0.383161\n",
       "1  poverty_1  6.591402e+05     1  3476.675117    0.0  0.286484\n",
       "2   Residual  1.641653e+06  8659          NaN    NaN       NaN"
      ]
     },
     "execution_count": 24,
     "metadata": {},
     "output_type": "execute_result"
    }
   ],
   "source": [
    "pg.corr(df[\"white_1\"], df[\"mean_scale_score\"])\n",
    "\n",
    "\n",
    "# len(df[\"black_1\"].unique())\n",
    "\n",
    "pg.ancova(data=df, dv='mean_scale_score', covar='poverty_1', between='black_1')"
   ]
  },
  {
   "cell_type": "code",
   "execution_count": 9,
   "id": "powerful-thing",
   "metadata": {},
   "outputs": [
    {
     "name": "stdout",
     "output_type": "stream",
     "text": [
      "                   Multivariate linear model\n",
      "================================================================\n",
      "                                                                \n",
      "----------------------------------------------------------------\n",
      "       Intercept        Value  Num DF   Den DF   F Value  Pr > F\n",
      "----------------------------------------------------------------\n",
      "          Wilks' lambda 0.3690 2.0000 9376.0000 8017.4085 0.0000\n",
      "         Pillai's trace 0.6310 2.0000 9376.0000 8017.4085 0.0000\n",
      " Hotelling-Lawley trace 1.7102 2.0000 9376.0000 8017.4085 0.0000\n",
      "    Roy's greatest root 1.7102 2.0000 9376.0000 8017.4085 0.0000\n",
      "----------------------------------------------------------------\n",
      "                                                                \n",
      "----------------------------------------------------------------\n",
      "    mean_scale_score    Value  Num DF   Den DF   F Value  Pr > F\n",
      "----------------------------------------------------------------\n",
      "          Wilks' lambda 0.5062 2.0000 9376.0000 4572.6725 0.0000\n",
      "         Pillai's trace 0.4938 2.0000 9376.0000 4572.6725 0.0000\n",
      " Hotelling-Lawley trace 0.9754 2.0000 9376.0000 4572.6725 0.0000\n",
      "    Roy's greatest root 0.9754 2.0000 9376.0000 4572.6725 0.0000\n",
      "================================================================\n",
      "\n"
     ]
    }
   ],
   "source": [
    "fit = MANOVA.from_formula('black_1 + poverty_1 ~ mean_scale_score', data=df)\n",
    "\n",
    "print(fit.mv_test())"
   ]
  }
 ],
 "metadata": {
  "kernelspec": {
   "display_name": "Python 3",
   "language": "python",
   "name": "python3"
  },
  "language_info": {
   "codemirror_mode": {
    "name": "ipython",
    "version": 3
   },
   "file_extension": ".py",
   "mimetype": "text/x-python",
   "name": "python",
   "nbconvert_exporter": "python",
   "pygments_lexer": "ipython3",
   "version": "3.9.7"
  }
 },
 "nbformat": 4,
 "nbformat_minor": 5
}
