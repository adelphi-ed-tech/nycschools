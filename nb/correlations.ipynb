{
 "cells": [
  {
   "cell_type": "markdown",
   "id": "823c1f69",
   "metadata": {},
   "source": [
    "Statistics Libraries\n",
    "====================\n",
    "\n",
    "This notebook runs some examples of different statitics\n",
    "functions on our data set. The data we are looking at\n",
    "is the combined school demographics data and NYS\n",
    "math test scores which are given each year in grades\n",
    "3-8. The basic hypothesis we are attempting to test is\n",
    "that the percentage of Black students in a school\n",
    "has no effect on the average test score for the school.\n",
    "This is a complex topic and this notebook does not\n",
    "claim to adequately explore the topic. It is meant to\n",
    "give us a first look at how we might explore this question.\n",
    "\n",
    "In addition to `pandas` there are two \"main\" libraries\n",
    "for doing mathematical and statistical operations:\n",
    "`scipy` and `numpy`. In addition to these libraries, this\n",
    "notebook uses a package called [Pingouin](https://pingouin-stats.org/)\n",
    "which \"wraps\" these other packages and works nicely with\n",
    "pandas `DataFrames`.\n",
    "\n",
    "To run these examples you need all 3 libraries installed (along with their dependencies). You can do this with `pip` or `conda`. Here are the `pip` commands:\n",
    "\n",
    "```\n",
    "pip install numpy\n",
    "pip install scipy\n",
    "pip install pingouin\n",
    "```\n"
   ]
  },
  {
   "cell_type": "code",
   "execution_count": 2,
   "id": "approved-clear",
   "metadata": {},
   "outputs": [
    {
     "data": {
      "text/plain": [
       "Index(['dbn', 'school_name', 'year', 'total_enrollment',\n",
       "       'grade_3k_pk_half_day_full', 'grade_k', 'grade_1', 'grade_2', 'grade_3',\n",
       "       'grade_4', 'grade_5', 'grade_6', 'grade_7', 'grade_8', 'grade_9',\n",
       "       'grade_10', 'grade_11', 'grade_12', 'female', 'female_1', 'male',\n",
       "       'male_1', 'asian', 'asian_1', 'black', 'black_1', 'hispanic',\n",
       "       'hispanic_1', 'multi_racial', 'multi_racial_1', 'native_american',\n",
       "       'native_american_1', 'white', 'white_1', 'missing_race_ethnicity_data',\n",
       "       'missing_race_ethnicity_data_1', 'students_with_disabilities',\n",
       "       'students_with_disabilities_1', 'english_language_learners',\n",
       "       'english_language_learners_1', 'poverty', 'poverty_1',\n",
       "       'economic_need_index', 'district', 'boro', 'grade', 'category',\n",
       "       'number_tested_math', 'mean_scale_score_math', 'level1_n_math',\n",
       "       'level1_math', 'level2_n_math', 'level2_math', 'level3_n_math',\n",
       "       'level3_math', 'level4_n_math', 'level4_math', 'level3_4_n_math',\n",
       "       'level3_4_math'],\n",
       "      dtype='object')"
      ]
     },
     "execution_count": 2,
     "metadata": {},
     "output_type": "execute_result"
    }
   ],
   "source": [
    "# load pandas and the dataset\n",
    "import pandas as pd\n",
    "\n",
    "\n",
    "# this dataframe has the school demographic data\n",
    "# and the NYS math test scores for grades 3-8 combined\n",
    "df = pd.read_csv(\"demo-math.csv\")\n",
    "# the first column is needed -- it's the combined dbn and school name\n",
    "df.drop(df.columns[0], axis=1, inplace=True)\n",
    "df.columns"
   ]
  },
  {
   "cell_type": "code",
   "execution_count": 2,
   "id": "4a36b002",
   "metadata": {},
   "outputs": [
    {
     "name": "stdout",
     "output_type": "stream",
     "text": [
      "numpy R: [[ 1.         -0.47137621]\n",
      " [-0.47137621  1.        ]]\n",
      "scipy_R: (-0.47137621471716734, 0.0)\n"
     ]
    }
   ],
   "source": [
    "import numpy as np\n",
    "from scipy.stats import pearsonr\n",
    "\n",
    "numpy_R = np.corrcoef(df[\"black_1\"], df[\"mean_scale_score\"])\n",
    "\n",
    "scipy_R = pearsonr(df[\"black_1\"], df[\"mean_scale_score\"])\n",
    "print(\"numpy R:\", numpy_R)\n",
    "print(\"scipy_R:\", scipy_R)"
   ]
  },
  {
   "cell_type": "markdown",
   "id": "d0147b25",
   "metadata": {},
   "source": [
    "Numpy and Scipy Pearson Coefficients\n",
    "--------------------------------------------------------\n",
    "\n",
    "The code above uses two different libraries to calculate the\n",
    "correlation between `black_1` (the percentage of Black students in a school)\n",
    "and `mean_scale_score` (the average mean test score for the school in a given year --\n",
    "for all grades and all demographic categories).\n",
    "\n",
    "The `numpy` fuction `[corrcoef](https://numpy.org/doc/stable/reference/generated/numpy.corrcoef.html)`\n",
    "returns an array where it runs a \"row-wise\" and \"column-wise\" correlation. We see that `numpy`\n",
    "returns a value of `-0.47137621` for R.\n",
    "\n",
    "The [`pearsonr`](https://docs.scipy.org/doc/scipy/reference/generated/scipy.stats.pearsonr.html?highlight=pearson) function from the `scipy.stats` \n",
    "library runs the same statistical operation as `numpy`, but\n",
    "it returns the R coeefficient and the p-value for the test. We see that for our data\n",
    "R=-0.47137621471716734 and p < .01 (the result returned is zero).\n"
   ]
  },
  {
   "cell_type": "markdown",
   "id": "7cff4b38",
   "metadata": {},
   "source": [
    "Pingouin\n",
    "-------------\n",
    "The next example runs use the `pingouin` library\n",
    "to find the correlation on the same two `Series`.\n",
    "In this example, we use the [`corr`](https://pingouin-stats.org/generated/pingouin.corr.html#pingouin.corr)\n",
    "function wich **returns** a pandas `DataFrame`. Pinguin runs the Pearson correlation coefficient\n",
    "as well as several related statistical functions and returns all of the results\n"
   ]
  },
  {
   "cell_type": "code",
   "execution_count": 4,
   "id": "premium-finder",
   "metadata": {},
   "outputs": [
    {
     "name": "stdout",
     "output_type": "stream",
     "text": [
      "With pg.corr we get a dataframe which can display this table of results:\n"
     ]
    },
    {
     "data": {
      "text/html": [
       "<div>\n",
       "<style scoped>\n",
       "    .dataframe tbody tr th:only-of-type {\n",
       "        vertical-align: middle;\n",
       "    }\n",
       "\n",
       "    .dataframe tbody tr th {\n",
       "        vertical-align: top;\n",
       "    }\n",
       "\n",
       "    .dataframe thead th {\n",
       "        text-align: right;\n",
       "    }\n",
       "</style>\n",
       "<table border=\"1\" class=\"dataframe\">\n",
       "  <thead>\n",
       "    <tr style=\"text-align: right;\">\n",
       "      <th></th>\n",
       "      <th>n</th>\n",
       "      <th>r</th>\n",
       "      <th>CI95%</th>\n",
       "      <th>p-val</th>\n",
       "      <th>BF10</th>\n",
       "      <th>power</th>\n",
       "    </tr>\n",
       "  </thead>\n",
       "  <tbody>\n",
       "    <tr>\n",
       "      <th>pearson</th>\n",
       "      <td>9379</td>\n",
       "      <td>-0.471376</td>\n",
       "      <td>[-0.49, -0.46]</td>\n",
       "      <td>0.0</td>\n",
       "      <td>inf</td>\n",
       "      <td>1.0</td>\n",
       "    </tr>\n",
       "  </tbody>\n",
       "</table>\n",
       "</div>"
      ],
      "text/plain": [
       "            n         r           CI95%  p-val BF10  power\n",
       "pearson  9379 -0.471376  [-0.49, -0.46]    0.0  inf    1.0"
      ]
     },
     "metadata": {},
     "output_type": "display_data"
    },
    {
     "name": "stdout",
     "output_type": "stream",
     "text": [
      "\n",
      "The columns in the dataframe results: n, r, CI95%, p-val, BF10, power\n",
      "\n",
      "• n=9379: the size of our data\n",
      "• r=-0.47137621471716734: the R coeeficient (matches all of our other results, differing precision)\n",
      "• p-val=0.0: the p-value of the test\n",
      "• CI95%=[-0.49 -0.46]: confidence intervals\n",
      "• BF10=inf: Bayes Factor of the alternative hypothesis (only for Pearson correlation)\n",
      "• power=1.0: the power of the test\n",
      "\n"
     ]
    }
   ],
   "source": [
    "import pingouin as pg\n",
    "\n",
    "penguin_R = pg.corr(df[\"black_1\"], df[\"mean_scale_score\"])\n",
    "print(\"With pg.corr we get a dataframe which can display this table of results:\")\n",
    "\n",
    "# show the dataframe\n",
    "display(penguin_R)\n",
    "\n",
    "# we can also get single values from the df...\n",
    "# since there is only one row, we always want the zero-eth row\n",
    "print(f\"\"\"\n",
    "The columns in the dataframe results: {\", \".join(penguin_R.columns)}\n",
    "\n",
    "• n={penguin_R[\"n\"][0]}: the size of our data\n",
    "• r={penguin_R[\"r\"][0]}: the R coefficient (matches all of our other results, differing precision)\n",
    "• p-val={penguin_R[\"p-val\"][0]}: the p-value of the test\n",
    "• CI95%={penguin_R[\"CI95%\"][0]}: confidence intervals\n",
    "• BF10={penguin_R[\"BF10\"][0]}: Bayes Factor of the alternative hypothesis (only for Pearson correlation)\n",
    "• power={penguin_R[\"power\"][0]}: the power of the test\n",
    "\"\"\")"
   ]
  },
  {
   "cell_type": "code",
   "execution_count": 5,
   "id": "448843ee",
   "metadata": {},
   "outputs": [
    {
     "data": {
      "text/html": [
       "<div>\n",
       "<style scoped>\n",
       "    .dataframe tbody tr th:only-of-type {\n",
       "        vertical-align: middle;\n",
       "    }\n",
       "\n",
       "    .dataframe tbody tr th {\n",
       "        vertical-align: top;\n",
       "    }\n",
       "\n",
       "    .dataframe thead th {\n",
       "        text-align: right;\n",
       "    }\n",
       "</style>\n",
       "<table border=\"1\" class=\"dataframe\">\n",
       "  <thead>\n",
       "    <tr style=\"text-align: right;\">\n",
       "      <th></th>\n",
       "      <th>category</th>\n",
       "      <th>n</th>\n",
       "      <th>r</th>\n",
       "      <th>p-val</th>\n",
       "    </tr>\n",
       "  </thead>\n",
       "  <tbody>\n",
       "    <tr>\n",
       "      <th>pearson</th>\n",
       "      <td>% poverty</td>\n",
       "      <td>9379</td>\n",
       "      <td>-0.656381</td>\n",
       "      <td>0.000000e+00</td>\n",
       "    </tr>\n",
       "    <tr>\n",
       "      <th>pearson</th>\n",
       "      <td>% SWD</td>\n",
       "      <td>9379</td>\n",
       "      <td>-0.539883</td>\n",
       "      <td>0.000000e+00</td>\n",
       "    </tr>\n",
       "    <tr>\n",
       "      <th>pearson</th>\n",
       "      <td>% Black</td>\n",
       "      <td>9379</td>\n",
       "      <td>-0.471376</td>\n",
       "      <td>0.000000e+00</td>\n",
       "    </tr>\n",
       "    <tr>\n",
       "      <th>pearson</th>\n",
       "      <td>% ENL</td>\n",
       "      <td>9379</td>\n",
       "      <td>-0.190130</td>\n",
       "      <td>4.624005e-77</td>\n",
       "    </tr>\n",
       "  </tbody>\n",
       "</table>\n",
       "</div>"
      ],
      "text/plain": [
       "          category     n         r         p-val\n",
       "pearson  % poverty  9379 -0.656381  0.000000e+00\n",
       "pearson      % SWD  9379 -0.539883  0.000000e+00\n",
       "pearson    % Black  9379 -0.471376  0.000000e+00\n",
       "pearson      % ENL  9379 -0.190130  4.624005e-77"
      ]
     },
     "execution_count": 5,
     "metadata": {},
     "output_type": "execute_result"
    }
   ],
   "source": [
    "# now lets run several correlations and put them in a single df\n",
    "pct_black = pg.corr(df[\"black_1\"], df[\"mean_scale_score\"])\n",
    "pct_ell = pg.corr(df[\"english_language_learners_1\"], df[\"mean_scale_score\"])\n",
    "pct_swd = pg.corr(df[\"students_with_disabilities_1\"], df[\"mean_scale_score\"])\n",
    "pct_pov = pg.corr(df[\"poverty_1\"], df[\"mean_scale_score\"])\n",
    "combo = pd.concat([pct_black, pct_ell, pct_swd, pct_pov])\n",
    "combo[\"category\"] = [\"% Black\", \"% ENL\", \"% SWD\", \"% poverty\"]\n",
    "\n",
    "\n",
    "combo[[\"category\", \"n\", \"r\", \"p-val\"]].sort_values(by=\"r\")\n"
   ]
  },
  {
   "cell_type": "code",
   "execution_count": 6,
   "id": "after-piano",
   "metadata": {},
   "outputs": [
    {
     "data": {
      "text/html": [
       "<div>\n",
       "<style scoped>\n",
       "    .dataframe tbody tr th:only-of-type {\n",
       "        vertical-align: middle;\n",
       "    }\n",
       "\n",
       "    .dataframe tbody tr th {\n",
       "        vertical-align: top;\n",
       "    }\n",
       "\n",
       "    .dataframe thead th {\n",
       "        text-align: right;\n",
       "    }\n",
       "</style>\n",
       "<table border=\"1\" class=\"dataframe\">\n",
       "  <thead>\n",
       "    <tr style=\"text-align: right;\">\n",
       "      <th></th>\n",
       "      <th>Source</th>\n",
       "      <th>SS</th>\n",
       "      <th>DF</th>\n",
       "      <th>F</th>\n",
       "      <th>p-unc</th>\n",
       "      <th>np2</th>\n",
       "    </tr>\n",
       "  </thead>\n",
       "  <tbody>\n",
       "    <tr>\n",
       "      <th>0</th>\n",
       "      <td>black_1</td>\n",
       "      <td>1.019744e+06</td>\n",
       "      <td>718</td>\n",
       "      <td>7.491231</td>\n",
       "      <td>0.0</td>\n",
       "      <td>0.383161</td>\n",
       "    </tr>\n",
       "    <tr>\n",
       "      <th>1</th>\n",
       "      <td>poverty_1</td>\n",
       "      <td>6.591402e+05</td>\n",
       "      <td>1</td>\n",
       "      <td>3476.675117</td>\n",
       "      <td>0.0</td>\n",
       "      <td>0.286484</td>\n",
       "    </tr>\n",
       "    <tr>\n",
       "      <th>2</th>\n",
       "      <td>Residual</td>\n",
       "      <td>1.641653e+06</td>\n",
       "      <td>8659</td>\n",
       "      <td>NaN</td>\n",
       "      <td>NaN</td>\n",
       "      <td>NaN</td>\n",
       "    </tr>\n",
       "  </tbody>\n",
       "</table>\n",
       "</div>"
      ],
      "text/plain": [
       "      Source            SS    DF            F  p-unc       np2\n",
       "0    black_1  1.019744e+06   718     7.491231    0.0  0.383161\n",
       "1  poverty_1  6.591402e+05     1  3476.675117    0.0  0.286484\n",
       "2   Residual  1.641653e+06  8659          NaN    NaN       NaN"
      ]
     },
     "execution_count": 6,
     "metadata": {},
     "output_type": "execute_result"
    }
   ],
   "source": [
    "# run analysis of covariance (ancova) analyzing percent black and percent poverty\n",
    "\n",
    "pg.ancova(data=df, dv='mean_scale_score', covar='poverty_1', between='black_1')"
   ]
  }
 ],
 "metadata": {
  "kernelspec": {
   "display_name": "Python 3",
   "language": "python",
   "name": "python3"
  },
  "language_info": {
   "codemirror_mode": {
    "name": "ipython",
    "version": 3
   },
   "file_extension": ".py",
   "mimetype": "text/x-python",
   "name": "python",
   "nbconvert_exporter": "python",
   "pygments_lexer": "ipython3",
   "version": "3.9.7"
  }
 },
 "nbformat": 4,
 "nbformat_minor": 5
}
