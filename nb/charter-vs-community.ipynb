{
 "cells": [
  {
   "cell_type": "code",
   "execution_count": 29,
   "id": "indonesian-registrar",
   "metadata": {},
   "outputs": [],
   "source": [
    "# load the demographic data\n",
    "# load the demographic data\n",
    "import pandas as pd\n",
    "import numpy as np\n",
    "import scipy as scipy\n",
    "from scipy.stats import pearsonr\n",
    "import matplotlib.pyplot as plt\n",
    "import seaborn as sns\n",
    "import statsmodels.api as sm\n",
    "from statsmodels.formula.api import ols\n",
    "\n",
    "import schools\n",
    "df = schools.load_school_demographics()\n"
   ]
  },
  {
   "cell_type": "markdown",
   "id": "8f54a0b2",
   "metadata": {},
   "source": [
    "Math Test Results\n",
    "https://data.cityofnewyork.us/Education/2013-2019-New-York-State-MATH-Exam/365g-7jtb"
   ]
  },
  {
   "cell_type": "code",
   "execution_count": 41,
   "id": "realistic-spelling",
   "metadata": {},
   "outputs": [
    {
     "data": {
      "text/plain": [
       "0       False\n",
       "1       False\n",
       "2       False\n",
       "3       False\n",
       "4       False\n",
       "        ...  \n",
       "3479     True\n",
       "3480     True\n",
       "3481     True\n",
       "3482     True\n",
       "3483     True\n",
       "Name: charter, Length: 22364, dtype: bool"
      ]
     },
     "execution_count": 41,
     "metadata": {},
     "output_type": "execute_result"
    }
   ],
   "source": [
    "df[\"charter\"]\n"
   ]
  },
  {
   "cell_type": "code",
   "execution_count": 47,
   "id": "after-piano",
   "metadata": {},
   "outputs": [],
   "source": [
    "# the columns we want to look at\n",
    "cols = ['dbn', \n",
    "        'district',\n",
    "        'boro',\n",
    "        'school_name', \n",
    "        'charter',\n",
    "        'year',\n",
    "        'grade',\n",
    "        'number_tested',\n",
    "        'mean_scale_score',\n",
    "        'total_enrollment',\n",
    "        'female_1',\n",
    "        'male_1',\n",
    "        'asian_1', \n",
    "        'black_1', \n",
    "        'hispanic_1', \n",
    "        'multi_racial_1', \n",
    "        'native_american_1', \n",
    "        'white_1', \n",
    "        'students_with_disabilities_1', \n",
    "        'english_language_learners_1',  \n",
    "        'poverty_1',\n",
    "        'economic_need_index',\n",
    "       ]\n",
    "# make the combined df the default df\n",
    "df = df[cols]"
   ]
  },
  {
   "cell_type": "code",
   "execution_count": 48,
   "id": "premium-phenomenon",
   "metadata": {},
   "outputs": [
    {
     "data": {
      "text/html": [
       "<div>\n",
       "<style scoped>\n",
       "    .dataframe tbody tr th:only-of-type {\n",
       "        vertical-align: middle;\n",
       "    }\n",
       "\n",
       "    .dataframe tbody tr th {\n",
       "        vertical-align: top;\n",
       "    }\n",
       "\n",
       "    .dataframe thead th {\n",
       "        text-align: right;\n",
       "    }\n",
       "</style>\n",
       "<table border=\"1\" class=\"dataframe\">\n",
       "  <thead>\n",
       "    <tr style=\"text-align: right;\">\n",
       "      <th></th>\n",
       "      <th>n</th>\n",
       "      <th>r</th>\n",
       "      <th>CI95%</th>\n",
       "      <th>p-val</th>\n",
       "      <th>BF10</th>\n",
       "      <th>power</th>\n",
       "    </tr>\n",
       "  </thead>\n",
       "  <tbody>\n",
       "    <tr>\n",
       "      <th>pearson</th>\n",
       "      <td>22299</td>\n",
       "      <td>0.05598</td>\n",
       "      <td>[0.04, 0.07]</td>\n",
       "      <td>5.986905e-17</td>\n",
       "      <td>1.316e+13</td>\n",
       "      <td>1.0</td>\n",
       "    </tr>\n",
       "  </tbody>\n",
       "</table>\n",
       "</div>"
      ],
      "text/plain": [
       "             n        r         CI95%         p-val       BF10  power\n",
       "pearson  22299  0.05598  [0.04, 0.07]  5.986905e-17  1.316e+13    1.0"
      ]
     },
     "execution_count": 48,
     "metadata": {},
     "output_type": "execute_result"
    }
   ],
   "source": [
    "# Pearson R correlation\n",
    "charter_R = pg.corr(df[\"charter\"], df[\"mean_scale_score\"])\n",
    "\n",
    "charter_R\n"
   ]
  },
  {
   "cell_type": "code",
   "execution_count": 51,
   "id": "wrong-tours",
   "metadata": {},
   "outputs": [
    {
     "data": {
      "text/plain": [
       "Ttest_indResult(statistic=nan, pvalue=nan)"
      ]
     },
     "metadata": {},
     "output_type": "display_data"
    },
    {
     "name": "stdout",
     "output_type": "stream",
     "text": [
      "\n",
      "T-Test results comparing average math test scores at the school level of charter schools (n=5267) and community schools (n=32606).\n",
      "\n",
      "  Charter schools: M=419.15, SD=142.22\n",
      "Community schools: M=387.41, SD=136.96\n",
      "T-score: nan, p-val: nan\n",
      "\n"
     ]
    }
   ],
   "source": [
    "# T test\n",
    "t = scipy.stats.ttest_ind(public_df[\"mean_scale_score\"], charter_df[\"mean_scale_score\"])\n",
    "\n",
    "print(f\"\"\"\n",
    "T-Test results comparing average math test scores at the school level of charter schools (n={charter_df[\"dbn\"].count()}) and community schools (n={public_df[\"dbn\"].count()}).\n",
    "\n",
    "  Charter schools: M={round(charter_df[\"mean_scale_score\"].mean(), 2)}, SD={round(charter_df[\"mean_scale_score\"].std(), 2)}\n",
    "Community schools: M={round(public_df[\"mean_scale_score\"].mean(), 2)}, SD={round(public_df[\"mean_scale_score\"].std(), 2)}\n",
    "T-score: {round(t.statistic, 2)}, p-val: {round(t.pvalue, 4)}\n",
    "\"\"\")"
   ]
  }
 ],
 "metadata": {
  "kernelspec": {
   "display_name": "Python 3",
   "language": "python",
   "name": "python3"
  },
  "language_info": {
   "codemirror_mode": {
    "name": "ipython",
    "version": 3
   },
   "file_extension": ".py",
   "mimetype": "text/x-python",
   "name": "python",
   "nbconvert_exporter": "python",
   "pygments_lexer": "ipython3",
   "version": "3.9.7"
  }
 },
 "nbformat": 4,
 "nbformat_minor": 5
}
