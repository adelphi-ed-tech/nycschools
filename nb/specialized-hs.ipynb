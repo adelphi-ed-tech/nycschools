{
 "cells": [
  {
   "cell_type": "code",
   "execution_count": null,
   "id": "f5630f61",
   "metadata": {},
   "outputs": [],
   "source": []
  },
  {
   "cell_type": "code",
   "execution_count": null,
   "id": "5447fb1f",
   "metadata": {},
   "outputs": [],
   "source": [
    "# schools.demo has some lists of strings for accessing sub-sets of columns\n",
    "df[schools.demo.core_cols].sort_values(by=\"total_enrollment\", ascending=False)\n",
    "dbn =[\"02M475\", \"13K430\", \"09X413\"]\n",
    "tech = df[df[\"dbn\"].isin(dbn)]\n",
    "tech = tech[tech[\"year\"] == 2020]\n",
    "tech\n",
    "\n",
    "tech[schools.demo.core_cols].columns\n",
    "cols = ['dbn','school_name', 'total_enrollment', 'male_pct', 'female_pct',\n",
    "       'asian_pct', 'black_pct', 'hispanic_pct','white_pct', 'poverty_pct']\n",
    "tech = tech[cols]\n",
    "pretty_cols = ['id', 'school', 'total students', '% male', '% female', '% asian', '% black', '% hispanic','% white',  '% poverty']\n",
    "tech.columns = pretty_cols\n",
    "ui.fmt_table(tech, pct_cols=pretty_cols[3:],  num_cols=[\"total students\"])\n",
    "\n",
    "import matplotlib.pyplot as plt\n",
    "import seaborn as sns\n",
    "data = pd.melt(tech, id_vars=['id','school', 'total students'], value_vars=pretty_cols[3:], var_name=\"enroll_cat\", value_name=\"enrollment\")\n",
    "# data = data.groupby([\"id\",\"school\", \"total students, enroll_cat\"]).max()\n",
    "data\n",
    "# ax = data.plot(x=\"enroll_cat\", y=[\"enrollment\"], kind=\"bar\", figsize=(12, 9))\n",
    "\n",
    "# ax.set_xlabel(\"New York City School Students\")\n",
    "\n",
    "# # Set the y-axis label\n",
    "# ax.set_ylabel(\"number of students (millions)\")"
   ]
  }
 ],
 "metadata": {
  "kernelspec": {
   "display_name": "Python 3 (ipykernel)",
   "language": "python",
   "name": "python3"
  },
  "language_info": {
   "codemirror_mode": {
    "name": "ipython",
    "version": 3
   },
   "file_extension": ".py",
   "mimetype": "text/x-python",
   "name": "python",
   "nbconvert_exporter": "python",
   "pygments_lexer": "ipython3",
   "version": "3.9.7"
  }
 },
 "nbformat": 4,
 "nbformat_minor": 5
}
