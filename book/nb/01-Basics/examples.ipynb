{
 "cells": [
  {
   "cell_type": "code",
   "execution_count": 1,
   "metadata": {},
   "outputs": [],
   "source": [
    "#contain all examples from the nyc open data project notebooks\n",
    "\n",
    "from IPython.display import HTML\n",
    "\n",
    "import inspect\n",
    "import builtins\n"
   ]
  },
  {
   "cell_type": "code",
   "execution_count": 2,
   "metadata": {},
   "outputs": [
    {
     "data": {
      "text/html": [
       "\n",
       "<button onclick=\"if(document.getElementById('spoiler').style.display=='none') {document.getElementById('spoiler').style.display=''} else {document.getElementById('spoiler').style.display='none'}\">Show Code</button>\n",
       "\n",
       "<div id=\"spoiler\" style=\"display:none\">\n",
       "<pre><code>    df.head(10)\n",
       "</code></pre>\n",
       "</div>\n"
      ],
      "text/plain": [
       "<IPython.core.display.HTML object>"
      ]
     },
     "execution_count": 2,
     "metadata": {},
     "output_type": "execute_result"
    }
   ],
   "source": [
    "# example 1 from loading data notebook\n",
    "def hidden_code1():\n",
    "    # This is the solution\n",
    "    df.head(10)\n",
    "\n",
    "# Define the HTML for the spoiler button\n",
    "spoiler_button1 = '''\n",
    "<button onclick=\"if(document.getElementById('spoiler').style.display=='none') {document.getElementById('spoiler').style.display=''} else {document.getElementById('spoiler').style.display='none'}\">Show Code</button>\n",
    "'''\n",
    "\n",
    "# Get the source code of the function as a string\n",
    "source_code1 = inspect.getsource(hidden_code1)\n",
    "\n",
    "# Remove the first line of the source code (the function definition)\n",
    "source_code1 = '\\n'.join(source_code1.split('\\n')[2:])\n",
    "\n",
    "# Define the HTML for the code block that will be revealed (without the function name)\n",
    "spoiler_content1 = '''\n",
    "<div id=\"spoiler\" style=\"display:none\">\n",
    "<pre><code>{}</code></pre>\n",
    "</div>\n",
    "'''.format(source_code1)\n",
    "\n",
    "# Combine the spoiler button and content HTML into a single string\n",
    "solution1 = spoiler_button1 + spoiler_content1\n",
    "\n",
    "# Display the spoiler code as HTML\n",
    "HTML(solution1)\n",
    "\n",
    "\n",
    "\n",
    "\n",
    "\n"
   ]
  },
  {
   "cell_type": "code",
   "execution_count": 5,
   "metadata": {},
   "outputs": [
    {
     "data": {
      "text/html": [
       "\n",
       "<button onclick=\"if(document.getElementById('spoiler1').style.display=='none') {document.getElementById('spoiler1').style.display=''} else {document.getElementById('spoiler1').style.display='none'}\">Show Code</button>\n",
       "\n",
       "<div id=\"spoiler1\" style=\"display:none\">\n",
       "<pre><code>    swd = df[\"swd_pct\"]\n",
       "    swd.min()\n",
       "</code></pre>\n",
       "</div>\n"
      ],
      "text/plain": [
       "<IPython.core.display.HTML object>"
      ]
     },
     "execution_count": 5,
     "metadata": {},
     "output_type": "execute_result"
    }
   ],
   "source": [
    "# example 2 from loading data notebook\n",
    "def hidden_code2():\n",
    "    # This is the solution\n",
    "    swd = df[\"swd_pct\"]\n",
    "    swd.mean()\n",
    "\n",
    "\n",
    "# Define the HTML for the spoiler button\n",
    "spoiler_button2 = '''\n",
    "<button onclick=\"if(document.getElementById('spoiler1').style.display=='none') {document.getElementById('spoiler1').style.display=''} else {document.getElementById('spoiler1').style.display='none'}\">Show Code</button>\n",
    "'''\n",
    "\n",
    "# Get the source code of the function as a string\n",
    "source_code2 = inspect.getsource(hidden_code2)\n",
    "\n",
    "# Remove the first line of the source code (the function definition)\n",
    "source_code2 = '\\n'.join(source_code2.split('\\n')[2:])\n",
    "\n",
    "# Define the HTML for the code block that will be revealed (without the function name)\n",
    "spoiler_content2 = '''\n",
    "<div id=\"spoiler1\" style=\"display:none\">\n",
    "<pre><code>{}</code></pre>\n",
    "</div>\n",
    "'''.format(source_code2)\n",
    "\n",
    "# Combine the spoiler button and content HTML into a single string\n",
    "solution2 = spoiler_button2 + spoiler_content2\n",
    "\n",
    "# Display the spoiler code as HTML\n",
    "HTML(solution2)\n"
   ]
  }
 ],
 "metadata": {
  "kernelspec": {
   "display_name": ".venv",
   "language": "python",
   "name": "python3"
  },
  "language_info": {
   "codemirror_mode": {
    "name": "ipython",
    "version": 3
   },
   "file_extension": ".py",
   "mimetype": "text/x-python",
   "name": "python",
   "nbconvert_exporter": "python",
   "pygments_lexer": "ipython3",
   "version": "3.8.8"
  },
  "orig_nbformat": 4
 },
 "nbformat": 4,
 "nbformat_minor": 2
}
