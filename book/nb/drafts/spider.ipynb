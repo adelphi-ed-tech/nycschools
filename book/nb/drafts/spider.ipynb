{
 "cells": [
  {
   "cell_type": "code",
   "execution_count": 17,
   "id": "significant-titanium",
   "metadata": {},
   "outputs": [
    {
     "data": {
      "image/png": "[encoded data removed]",
      "text/plain": [
       "<Figure size 432x288 with 1 Axes>"
      ]
     },
     "metadata": {},
     "output_type": "display_data"
    }
   ],
   "source": [
    "\n",
    "import networkx as nx\n",
    "\n",
    "# first create the Graph -- this is the collection of all of the nodes and edges\n",
    "G = nx.MultiGraph()\n",
    "speakers = [\"Matt\", \"Julie\", \"Diego\", \"Fiona\"]\n",
    "G.add_nodes_from(speakers)\n",
    "\n",
    "# add an edge everytime someone speaks\n",
    "\n",
    "# Matt responds to Julie\n",
    "G.add_edge(\"Julie\", \"Matt\")\n",
    "\n",
    "# Diego follows Matt\n",
    "G.add_edge(\"Matt\", \"Diego\")\n",
    "# ...\n",
    "G.add_edge(\"Diego\", \"Julie\")\n",
    "G.add_edge(\"Julie\", \"Fiona\")\n",
    "\n",
    "\n",
    "nx.draw_circular(G, with_labels=True, node_size=200, font_weight='bold', cmap=\"tab10\")"
   ]
  }
 ],
 "metadata": {
  "kernelspec": {
   "display_name": "Python 3",
   "language": "python",
   "name": "python3"
  },
  "language_info": {
   "codemirror_mode": {
    "name": "ipython",
    "version": 3
   },
   "file_extension": ".py",
   "mimetype": "text/x-python",
   "name": "python",
   "nbconvert_exporter": "python",
   "pygments_lexer": "ipython3",
   "version": "3.9.7"
  }
 },
 "nbformat": 4,
 "nbformat_minor": 5
}
