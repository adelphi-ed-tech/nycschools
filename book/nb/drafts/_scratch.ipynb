{
 "cells": [
  {
   "cell_type": "markdown",
   "metadata": {},
   "source": [
    "SHSAT\n",
    "======\n",
    "\n",
    "\n",
    "URLs\n",
    "- [2017- 2018 Class Size Report City Middle School And High School Core Average Class Size](https://data.cityofnewyork.us/Education/2017-2018-Class-Size-Report-City-Middle-School-And/43qn-d6r8): https://data.cityofnewyork.us/resource/43qn-d6r8.csv?$limit=1000000\n",
    "- [2010-2011 Class Size - School-level detail](https://data.cityofnewyork.us/Education/2010-2011-Class-Size-School-level-detail/urz7-pzb3)"
   ]
  },
  {
   "cell_type": "code",
   "execution_count": 28,
   "metadata": {},
   "outputs": [
    {
     "data": {
      "text/plain": [
       "'/home/mxc/Documents/nycschools/school-data'"
      ]
     },
     "execution_count": 28,
     "metadata": {},
     "output_type": "execute_result"
    }
   ],
   "source": [
    "import requests\n",
    "import pandas as pd\n",
    "from dotenv import load_dotenv\n",
    "import os\n",
    "from nycschools import schools\n",
    "\n",
    "# read SOCRATA_APP_TOKEN from .envpytho file\n",
    "load_dotenv()\n",
    "token = os.getenv(\"SOCRATA_APP_TOKEN\")\n",
    "# os.environ['NYC_SCHOOLS_DATA_DIR'] = '/home/mxc/Projects/school-data-portal/school-data'\n",
    "os.getenv(\"NYC_SCHOOLS_DATA_DIR\")\n"
   ]
  },
  {
   "cell_type": "code",
   "execution_count": 1,
   "metadata": {},
   "outputs": [
    {
     "ename": "FileNotFoundError",
     "evalue": "[Errno 2] No such file or directory: '/home/mxc/Documents/nycschools/school-data/nyc-regents.csv'",
     "output_type": "error",
     "traceback": [
      "\u001b[0;31m---------------------------------------------------------------------------\u001b[0m",
      "\u001b[0;31mFileNotFoundError\u001b[0m                         Traceback (most recent call last)",
      "Cell \u001b[0;32mIn[1], line 3\u001b[0m\n\u001b[1;32m      1\u001b[0m \u001b[39mfrom\u001b[39;00m \u001b[39mnycschools\u001b[39;00m \u001b[39mimport\u001b[39;00m exams\n\u001b[1;32m      2\u001b[0m \u001b[39m# exams.load_regents_excel()\u001b[39;00m\n\u001b[0;32m----> 3\u001b[0m reg \u001b[39m=\u001b[39m exams\u001b[39m.\u001b[39;49mload_regents()\n\u001b[1;32m      4\u001b[0m schools \u001b[39m=\u001b[39m schools\u001b[39m.\u001b[39mload_school_demographics()\n\u001b[1;32m      5\u001b[0m reg \u001b[39m=\u001b[39m reg[reg\u001b[39m.\u001b[39mregents_exam \u001b[39m==\u001b[39m \u001b[39m'\u001b[39m\u001b[39mCommon Core Algebra\u001b[39m\u001b[39m'\u001b[39m]\n",
      "File \u001b[0;32m~/Documents/nycschools/nycschools/exams.py:137\u001b[0m, in \u001b[0;36mload_regents\u001b[0;34m()\u001b[0m\n\u001b[1;32m    132\u001b[0m \u001b[39m\u001b[39m\u001b[39m\"\"\"\u001b[39;00m\n\u001b[1;32m    133\u001b[0m \u001b[39mLoads the New York State Regents exam scores for all categories.\u001b[39;00m\n\u001b[1;32m    134\u001b[0m \u001b[39m@return `DataFrame`\u001b[39;00m\n\u001b[1;32m    135\u001b[0m \u001b[39m\"\"\"\u001b[39;00m\n\u001b[1;32m    136\u001b[0m filename \u001b[39m=\u001b[39m os\u001b[39m.\u001b[39mpath\u001b[39m.\u001b[39mjoin(config\u001b[39m.\u001b[39mdata_dir, urls[\u001b[39m\"\u001b[39m\u001b[39mnyc_regents\u001b[39m\u001b[39m\"\u001b[39m]\u001b[39m.\u001b[39mfilename)\n\u001b[0;32m--> 137\u001b[0m \u001b[39mreturn\u001b[39;00m pd\u001b[39m.\u001b[39;49mread_csv(filename, low_memory\u001b[39m=\u001b[39;49m\u001b[39mFalse\u001b[39;49;00m)\n",
      "File \u001b[0;32m~/.virtualenvs/nycs/lib/python3.10/site-packages/pandas/util/_decorators.py:211\u001b[0m, in \u001b[0;36mdeprecate_kwarg.<locals>._deprecate_kwarg.<locals>.wrapper\u001b[0;34m(*args, **kwargs)\u001b[0m\n\u001b[1;32m    209\u001b[0m     \u001b[39melse\u001b[39;00m:\n\u001b[1;32m    210\u001b[0m         kwargs[new_arg_name] \u001b[39m=\u001b[39m new_arg_value\n\u001b[0;32m--> 211\u001b[0m \u001b[39mreturn\u001b[39;00m func(\u001b[39m*\u001b[39;49margs, \u001b[39m*\u001b[39;49m\u001b[39m*\u001b[39;49mkwargs)\n",
      "File \u001b[0;32m~/.virtualenvs/nycs/lib/python3.10/site-packages/pandas/util/_decorators.py:331\u001b[0m, in \u001b[0;36mdeprecate_nonkeyword_arguments.<locals>.decorate.<locals>.wrapper\u001b[0;34m(*args, **kwargs)\u001b[0m\n\u001b[1;32m    325\u001b[0m \u001b[39mif\u001b[39;00m \u001b[39mlen\u001b[39m(args) \u001b[39m>\u001b[39m num_allow_args:\n\u001b[1;32m    326\u001b[0m     warnings\u001b[39m.\u001b[39mwarn(\n\u001b[1;32m    327\u001b[0m         msg\u001b[39m.\u001b[39mformat(arguments\u001b[39m=\u001b[39m_format_argument_list(allow_args)),\n\u001b[1;32m    328\u001b[0m         \u001b[39mFutureWarning\u001b[39;00m,\n\u001b[1;32m    329\u001b[0m         stacklevel\u001b[39m=\u001b[39mfind_stack_level(),\n\u001b[1;32m    330\u001b[0m     )\n\u001b[0;32m--> 331\u001b[0m \u001b[39mreturn\u001b[39;00m func(\u001b[39m*\u001b[39;49margs, \u001b[39m*\u001b[39;49m\u001b[39m*\u001b[39;49mkwargs)\n",
      "File \u001b[0;32m~/.virtualenvs/nycs/lib/python3.10/site-packages/pandas/io/parsers/readers.py:950\u001b[0m, in \u001b[0;36mread_csv\u001b[0;34m(filepath_or_buffer, sep, delimiter, header, names, index_col, usecols, squeeze, prefix, mangle_dupe_cols, dtype, engine, converters, true_values, false_values, skipinitialspace, skiprows, skipfooter, nrows, na_values, keep_default_na, na_filter, verbose, skip_blank_lines, parse_dates, infer_datetime_format, keep_date_col, date_parser, dayfirst, cache_dates, iterator, chunksize, compression, thousands, decimal, lineterminator, quotechar, quoting, doublequote, escapechar, comment, encoding, encoding_errors, dialect, error_bad_lines, warn_bad_lines, on_bad_lines, delim_whitespace, low_memory, memory_map, float_precision, storage_options)\u001b[0m\n\u001b[1;32m    935\u001b[0m kwds_defaults \u001b[39m=\u001b[39m _refine_defaults_read(\n\u001b[1;32m    936\u001b[0m     dialect,\n\u001b[1;32m    937\u001b[0m     delimiter,\n\u001b[0;32m   (...)\u001b[0m\n\u001b[1;32m    946\u001b[0m     defaults\u001b[39m=\u001b[39m{\u001b[39m\"\u001b[39m\u001b[39mdelimiter\u001b[39m\u001b[39m\"\u001b[39m: \u001b[39m\"\u001b[39m\u001b[39m,\u001b[39m\u001b[39m\"\u001b[39m},\n\u001b[1;32m    947\u001b[0m )\n\u001b[1;32m    948\u001b[0m kwds\u001b[39m.\u001b[39mupdate(kwds_defaults)\n\u001b[0;32m--> 950\u001b[0m \u001b[39mreturn\u001b[39;00m _read(filepath_or_buffer, kwds)\n",
      "File \u001b[0;32m~/.virtualenvs/nycs/lib/python3.10/site-packages/pandas/io/parsers/readers.py:605\u001b[0m, in \u001b[0;36m_read\u001b[0;34m(filepath_or_buffer, kwds)\u001b[0m\n\u001b[1;32m    602\u001b[0m _validate_names(kwds\u001b[39m.\u001b[39mget(\u001b[39m\"\u001b[39m\u001b[39mnames\u001b[39m\u001b[39m\"\u001b[39m, \u001b[39mNone\u001b[39;00m))\n\u001b[1;32m    604\u001b[0m \u001b[39m# Create the parser.\u001b[39;00m\n\u001b[0;32m--> 605\u001b[0m parser \u001b[39m=\u001b[39m TextFileReader(filepath_or_buffer, \u001b[39m*\u001b[39;49m\u001b[39m*\u001b[39;49mkwds)\n\u001b[1;32m    607\u001b[0m \u001b[39mif\u001b[39;00m chunksize \u001b[39mor\u001b[39;00m iterator:\n\u001b[1;32m    608\u001b[0m     \u001b[39mreturn\u001b[39;00m parser\n",
      "File \u001b[0;32m~/.virtualenvs/nycs/lib/python3.10/site-packages/pandas/io/parsers/readers.py:1442\u001b[0m, in \u001b[0;36mTextFileReader.__init__\u001b[0;34m(self, f, engine, **kwds)\u001b[0m\n\u001b[1;32m   1439\u001b[0m     \u001b[39mself\u001b[39m\u001b[39m.\u001b[39moptions[\u001b[39m\"\u001b[39m\u001b[39mhas_index_names\u001b[39m\u001b[39m\"\u001b[39m] \u001b[39m=\u001b[39m kwds[\u001b[39m\"\u001b[39m\u001b[39mhas_index_names\u001b[39m\u001b[39m\"\u001b[39m]\n\u001b[1;32m   1441\u001b[0m \u001b[39mself\u001b[39m\u001b[39m.\u001b[39mhandles: IOHandles \u001b[39m|\u001b[39m \u001b[39mNone\u001b[39;00m \u001b[39m=\u001b[39m \u001b[39mNone\u001b[39;00m\n\u001b[0;32m-> 1442\u001b[0m \u001b[39mself\u001b[39m\u001b[39m.\u001b[39m_engine \u001b[39m=\u001b[39m \u001b[39mself\u001b[39;49m\u001b[39m.\u001b[39;49m_make_engine(f, \u001b[39mself\u001b[39;49m\u001b[39m.\u001b[39;49mengine)\n",
      "File \u001b[0;32m~/.virtualenvs/nycs/lib/python3.10/site-packages/pandas/io/parsers/readers.py:1735\u001b[0m, in \u001b[0;36mTextFileReader._make_engine\u001b[0;34m(self, f, engine)\u001b[0m\n\u001b[1;32m   1733\u001b[0m     \u001b[39mif\u001b[39;00m \u001b[39m\"\u001b[39m\u001b[39mb\u001b[39m\u001b[39m\"\u001b[39m \u001b[39mnot\u001b[39;00m \u001b[39min\u001b[39;00m mode:\n\u001b[1;32m   1734\u001b[0m         mode \u001b[39m+\u001b[39m\u001b[39m=\u001b[39m \u001b[39m\"\u001b[39m\u001b[39mb\u001b[39m\u001b[39m\"\u001b[39m\n\u001b[0;32m-> 1735\u001b[0m \u001b[39mself\u001b[39m\u001b[39m.\u001b[39mhandles \u001b[39m=\u001b[39m get_handle(\n\u001b[1;32m   1736\u001b[0m     f,\n\u001b[1;32m   1737\u001b[0m     mode,\n\u001b[1;32m   1738\u001b[0m     encoding\u001b[39m=\u001b[39;49m\u001b[39mself\u001b[39;49m\u001b[39m.\u001b[39;49moptions\u001b[39m.\u001b[39;49mget(\u001b[39m\"\u001b[39;49m\u001b[39mencoding\u001b[39;49m\u001b[39m\"\u001b[39;49m, \u001b[39mNone\u001b[39;49;00m),\n\u001b[1;32m   1739\u001b[0m     compression\u001b[39m=\u001b[39;49m\u001b[39mself\u001b[39;49m\u001b[39m.\u001b[39;49moptions\u001b[39m.\u001b[39;49mget(\u001b[39m\"\u001b[39;49m\u001b[39mcompression\u001b[39;49m\u001b[39m\"\u001b[39;49m, \u001b[39mNone\u001b[39;49;00m),\n\u001b[1;32m   1740\u001b[0m     memory_map\u001b[39m=\u001b[39;49m\u001b[39mself\u001b[39;49m\u001b[39m.\u001b[39;49moptions\u001b[39m.\u001b[39;49mget(\u001b[39m\"\u001b[39;49m\u001b[39mmemory_map\u001b[39;49m\u001b[39m\"\u001b[39;49m, \u001b[39mFalse\u001b[39;49;00m),\n\u001b[1;32m   1741\u001b[0m     is_text\u001b[39m=\u001b[39;49mis_text,\n\u001b[1;32m   1742\u001b[0m     errors\u001b[39m=\u001b[39;49m\u001b[39mself\u001b[39;49m\u001b[39m.\u001b[39;49moptions\u001b[39m.\u001b[39;49mget(\u001b[39m\"\u001b[39;49m\u001b[39mencoding_errors\u001b[39;49m\u001b[39m\"\u001b[39;49m, \u001b[39m\"\u001b[39;49m\u001b[39mstrict\u001b[39;49m\u001b[39m\"\u001b[39;49m),\n\u001b[1;32m   1743\u001b[0m     storage_options\u001b[39m=\u001b[39;49m\u001b[39mself\u001b[39;49m\u001b[39m.\u001b[39;49moptions\u001b[39m.\u001b[39;49mget(\u001b[39m\"\u001b[39;49m\u001b[39mstorage_options\u001b[39;49m\u001b[39m\"\u001b[39;49m, \u001b[39mNone\u001b[39;49;00m),\n\u001b[1;32m   1744\u001b[0m )\n\u001b[1;32m   1745\u001b[0m \u001b[39massert\u001b[39;00m \u001b[39mself\u001b[39m\u001b[39m.\u001b[39mhandles \u001b[39mis\u001b[39;00m \u001b[39mnot\u001b[39;00m \u001b[39mNone\u001b[39;00m\n\u001b[1;32m   1746\u001b[0m f \u001b[39m=\u001b[39m \u001b[39mself\u001b[39m\u001b[39m.\u001b[39mhandles\u001b[39m.\u001b[39mhandle\n",
      "File \u001b[0;32m~/.virtualenvs/nycs/lib/python3.10/site-packages/pandas/io/common.py:856\u001b[0m, in \u001b[0;36mget_handle\u001b[0;34m(path_or_buf, mode, encoding, compression, memory_map, is_text, errors, storage_options)\u001b[0m\n\u001b[1;32m    851\u001b[0m \u001b[39melif\u001b[39;00m \u001b[39misinstance\u001b[39m(handle, \u001b[39mstr\u001b[39m):\n\u001b[1;32m    852\u001b[0m     \u001b[39m# Check whether the filename is to be opened in binary mode.\u001b[39;00m\n\u001b[1;32m    853\u001b[0m     \u001b[39m# Binary mode does not support 'encoding' and 'newline'.\u001b[39;00m\n\u001b[1;32m    854\u001b[0m     \u001b[39mif\u001b[39;00m ioargs\u001b[39m.\u001b[39mencoding \u001b[39mand\u001b[39;00m \u001b[39m\"\u001b[39m\u001b[39mb\u001b[39m\u001b[39m\"\u001b[39m \u001b[39mnot\u001b[39;00m \u001b[39min\u001b[39;00m ioargs\u001b[39m.\u001b[39mmode:\n\u001b[1;32m    855\u001b[0m         \u001b[39m# Encoding\u001b[39;00m\n\u001b[0;32m--> 856\u001b[0m         handle \u001b[39m=\u001b[39m \u001b[39mopen\u001b[39;49m(\n\u001b[1;32m    857\u001b[0m             handle,\n\u001b[1;32m    858\u001b[0m             ioargs\u001b[39m.\u001b[39;49mmode,\n\u001b[1;32m    859\u001b[0m             encoding\u001b[39m=\u001b[39;49mioargs\u001b[39m.\u001b[39;49mencoding,\n\u001b[1;32m    860\u001b[0m             errors\u001b[39m=\u001b[39;49merrors,\n\u001b[1;32m    861\u001b[0m             newline\u001b[39m=\u001b[39;49m\u001b[39m\"\u001b[39;49m\u001b[39m\"\u001b[39;49m,\n\u001b[1;32m    862\u001b[0m         )\n\u001b[1;32m    863\u001b[0m     \u001b[39melse\u001b[39;00m:\n\u001b[1;32m    864\u001b[0m         \u001b[39m# Binary mode\u001b[39;00m\n\u001b[1;32m    865\u001b[0m         handle \u001b[39m=\u001b[39m \u001b[39mopen\u001b[39m(handle, ioargs\u001b[39m.\u001b[39mmode)\n",
      "\u001b[0;31mFileNotFoundError\u001b[0m: [Errno 2] No such file or directory: '/home/mxc/Documents/nycschools/school-data/nyc-regents.csv'"
     ]
    }
   ],
   "source": [
    "from nycschools import exams, schools\n",
    "# exams.load_regents_excel()\n",
    "reg = exams.load_regents()\n",
    "schools = schools.load_school_demographics()\n",
    "reg = reg[reg.regents_exam == 'Common Core Algebra']\n",
    "reg = reg.merge(schools[[\"dbn\", 'boro']], on='dbn', how='inner')\n",
    "reg[\"boro\",\"number_tested\"].groupby(\"boro\").sum()\n"
   ]
  },
  {
   "cell_type": "code",
   "execution_count": 5,
   "metadata": {},
   "outputs": [
    {
     "data": {
      "text/plain": [
       "18"
      ]
     },
     "execution_count": 5,
     "metadata": {},
     "output_type": "execute_result"
    }
   ],
   "source": [
    "reg = exams.load_regents()\n",
    "len(reg.regents_exam.unique())"
   ]
  },
  {
   "cell_type": "code",
   "execution_count": 3,
   "metadata": {},
   "outputs": [
    {
     "name": "stdout",
     "output_type": "stream",
     "text": [
      "   asian_pct  white_pct  black_pct   entropy\n",
      "0         10         30         60  1.295462\n",
      "1         20         50         30  1.485475\n",
      "2         30         70          0  0.881291\n"
     ]
    }
   ],
   "source": [
    "import numpy as np\n",
    "import pandas as pd\n",
    "\n",
    "# define function to calculate entropy for a row\n",
    "def entropy(row):\n",
    "    # get proportions and handle cases where proportion is 0\n",
    "    p = row[row != 0] / 100\n",
    "\n",
    "    # calculate entropy\n",
    "    return -np.sum(p * np.log2(p))\n",
    "\n",
    "# create example dataframe\n",
    "df = pd.DataFrame({\n",
    "    \"asian_pct\": [10, 20, 30],\n",
    "    \"white_pct\": [30, 50, 70],\n",
    "    \"black_pct\": [60, 30, 0]\n",
    "})\n",
    "\n",
    "# calculate entropy for each row and add to new column \"entropy\"\n",
    "df[\"entropy\"] = df.apply(entropy, axis=1)\n",
    "\n",
    "print(df)"
   ]
  },
  {
   "cell_type": "code",
   "execution_count": 33,
   "metadata": {},
   "outputs": [
    {
     "data": {
      "text/html": [
       "<div>\n",
       "<style scoped>\n",
       "    .dataframe tbody tr th:only-of-type {\n",
       "        vertical-align: middle;\n",
       "    }\n",
       "\n",
       "    .dataframe tbody tr th {\n",
       "        vertical-align: top;\n",
       "    }\n",
       "\n",
       "    .dataframe thead th {\n",
       "        text-align: right;\n",
       "    }\n",
       "</style>\n",
       "<table border=\"1\" class=\"dataframe\">\n",
       "  <thead>\n",
       "    <tr style=\"text-align: right;\">\n",
       "      <th></th>\n",
       "      <th>school_dbn</th>\n",
       "      <th>school_name</th>\n",
       "      <th>program_code</th>\n",
       "      <th>selection_criteria</th>\n",
       "    </tr>\n",
       "  </thead>\n",
       "  <tbody>\n",
       "    <tr>\n",
       "      <th>0</th>\n",
       "      <td>01M448</td>\n",
       "      <td>UNIVERSITY NEIGHBORHOOD HIGH SCHOOL (01M448)</td>\n",
       "      <td>M35C</td>\n",
       "      <td>2018-19 ELA/Math State Test Scores - 20%</td>\n",
       "    </tr>\n",
       "    <tr>\n",
       "      <th>1</th>\n",
       "      <td>01M448</td>\n",
       "      <td>UNIVERSITY NEIGHBORHOOD HIGH SCHOOL (01M448)</td>\n",
       "      <td>M35C</td>\n",
       "      <td>2018-19 Final Grades - 40%</td>\n",
       "    </tr>\n",
       "    <tr>\n",
       "      <th>2</th>\n",
       "      <td>01M448</td>\n",
       "      <td>UNIVERSITY NEIGHBORHOOD HIGH SCHOOL (01M448)</td>\n",
       "      <td>M35C</td>\n",
       "      <td>2019-20 Marking Period Grades - 40%</td>\n",
       "    </tr>\n",
       "    <tr>\n",
       "      <th>3</th>\n",
       "      <td>01M450</td>\n",
       "      <td>EAST SIDE COMMUNITY SCHOOL (01M450)</td>\n",
       "      <td>M58A</td>\n",
       "      <td>Essay/Video Response - 100%</td>\n",
       "    </tr>\n",
       "    <tr>\n",
       "      <th>4</th>\n",
       "      <td>01M539</td>\n",
       "      <td>NEW EXPLORATIONS INTO SCIENCE, TECHNOLOGY AND ...</td>\n",
       "      <td>M29A</td>\n",
       "      <td>2018-19 ELA/Math State Test Scores - 20%</td>\n",
       "    </tr>\n",
       "  </tbody>\n",
       "</table>\n",
       "</div>"
      ],
      "text/plain": [
       "  school_dbn                                        school_name program_code  \\\n",
       "0     01M448       UNIVERSITY NEIGHBORHOOD HIGH SCHOOL (01M448)         M35C   \n",
       "1     01M448       UNIVERSITY NEIGHBORHOOD HIGH SCHOOL (01M448)         M35C   \n",
       "2     01M448       UNIVERSITY NEIGHBORHOOD HIGH SCHOOL (01M448)         M35C   \n",
       "3     01M450                EAST SIDE COMMUNITY SCHOOL (01M450)         M58A   \n",
       "4     01M539  NEW EXPLORATIONS INTO SCIENCE, TECHNOLOGY AND ...         M29A   \n",
       "\n",
       "                         selection_criteria  \n",
       "0  2018-19 ELA/Math State Test Scores - 20%  \n",
       "1                2018-19 Final Grades - 40%  \n",
       "2       2019-20 Marking Period Grades - 40%  \n",
       "3               Essay/Video Response - 100%  \n",
       "4  2018-19 ELA/Math State Test Scores - 20%  "
      ]
     },
     "execution_count": 33,
     "metadata": {},
     "output_type": "execute_result"
    }
   ],
   "source": [
    "# load the data_urls from config for hs_admissions\n",
    "data_urls = schools.config.urls[\"hs_admissions\"].data_urls\n",
    "# get a dataframe from the 2021 url\n",
    "df = pd.read_csv(data_urls[\"2021\"])\n",
    "df.head()"
   ]
  },
  {
   "cell_type": "code",
   "execution_count": 34,
   "metadata": {},
   "outputs": [],
   "source": [
    "df[[\"criteria\", \"percent\"]] = df.selection_criteria.str.split(\" - \", expand=True)\n",
    "df[\"percent\"] = df.percent.str.replace(\"%\", \"\").astype(float) / 100\n",
    "df.drop(\"selection_criteria\", axis=1, inplace=True)\n"
   ]
  },
  {
   "cell_type": "code",
   "execution_count": 35,
   "metadata": {},
   "outputs": [
    {
     "data": {
      "text/html": [
       "<div>\n",
       "<style scoped>\n",
       "    .dataframe tbody tr th:only-of-type {\n",
       "        vertical-align: middle;\n",
       "    }\n",
       "\n",
       "    .dataframe tbody tr th {\n",
       "        vertical-align: top;\n",
       "    }\n",
       "\n",
       "    .dataframe thead th {\n",
       "        text-align: right;\n",
       "    }\n",
       "</style>\n",
       "<table border=\"1\" class=\"dataframe\">\n",
       "  <thead>\n",
       "    <tr style=\"text-align: right;\">\n",
       "      <th></th>\n",
       "      <th>school_dbn</th>\n",
       "      <th>school_name</th>\n",
       "      <th>program_code</th>\n",
       "      <th>criteria</th>\n",
       "      <th>percent</th>\n",
       "    </tr>\n",
       "  </thead>\n",
       "  <tbody>\n",
       "    <tr>\n",
       "      <th>0</th>\n",
       "      <td>01M448</td>\n",
       "      <td>UNIVERSITY NEIGHBORHOOD HIGH SCHOOL (01M448)</td>\n",
       "      <td>M35C</td>\n",
       "      <td>7th grade ELA/Math Scores</td>\n",
       "      <td>0.2</td>\n",
       "    </tr>\n",
       "    <tr>\n",
       "      <th>1</th>\n",
       "      <td>01M448</td>\n",
       "      <td>UNIVERSITY NEIGHBORHOOD HIGH SCHOOL (01M448)</td>\n",
       "      <td>M35C</td>\n",
       "      <td>7th grade final grades</td>\n",
       "      <td>0.4</td>\n",
       "    </tr>\n",
       "    <tr>\n",
       "      <th>2</th>\n",
       "      <td>01M448</td>\n",
       "      <td>UNIVERSITY NEIGHBORHOOD HIGH SCHOOL (01M448)</td>\n",
       "      <td>M35C</td>\n",
       "      <td>8th grade fall grades</td>\n",
       "      <td>0.4</td>\n",
       "    </tr>\n",
       "    <tr>\n",
       "      <th>3</th>\n",
       "      <td>01M450</td>\n",
       "      <td>EAST SIDE COMMUNITY SCHOOL (01M450)</td>\n",
       "      <td>M58A</td>\n",
       "      <td>Essay/Video Response</td>\n",
       "      <td>1.0</td>\n",
       "    </tr>\n",
       "    <tr>\n",
       "      <th>4</th>\n",
       "      <td>01M539</td>\n",
       "      <td>NEW EXPLORATIONS INTO SCIENCE, TECHNOLOGY AND ...</td>\n",
       "      <td>M29A</td>\n",
       "      <td>7th grade ELA/Math Scores</td>\n",
       "      <td>0.2</td>\n",
       "    </tr>\n",
       "  </tbody>\n",
       "</table>\n",
       "</div>"
      ],
      "text/plain": [
       "  school_dbn                                        school_name program_code  \\\n",
       "0     01M448       UNIVERSITY NEIGHBORHOOD HIGH SCHOOL (01M448)         M35C   \n",
       "1     01M448       UNIVERSITY NEIGHBORHOOD HIGH SCHOOL (01M448)         M35C   \n",
       "2     01M448       UNIVERSITY NEIGHBORHOOD HIGH SCHOOL (01M448)         M35C   \n",
       "3     01M450                EAST SIDE COMMUNITY SCHOOL (01M450)         M58A   \n",
       "4     01M539  NEW EXPLORATIONS INTO SCIENCE, TECHNOLOGY AND ...         M29A   \n",
       "\n",
       "                    criteria  percent  \n",
       "0  7th grade ELA/Math Scores      0.2  \n",
       "1     7th grade final grades      0.4  \n",
       "2      8th grade fall grades      0.4  \n",
       "3       Essay/Video Response      1.0  \n",
       "4  7th grade ELA/Math Scores      0.2  "
      ]
     },
     "execution_count": 35,
     "metadata": {},
     "output_type": "execute_result"
    }
   ],
   "source": [
    "\n",
    "list(df.criteria.unique())\n",
    "# df.head()\n",
    "vals = {\n",
    "    '2018-19 ELA/Math State Test Scores': \"7th grade ELA/Math Scores\",\n",
    "    '2018-19 Final Grades': \"7th grade final grades\",\n",
    "    '2019-20 Marking Period Grades': \"8th grade fall grades\",\n",
    "    'Essay/Video Response': \"Essay/Video Response\",\n",
    "    'Humanities Response': \"Humanities Response\",\n",
    "    'STEM Response': \"STEM Response\",\n",
    "    'Video Response': \"Video Response\",\n",
    "    'Interview': \"Interview\",\n",
    "    'Online Admissions Activity': \"Online Admissions Activity\",\n",
    "    'Essay': \"Essay\",\n",
    "    'Interview/Online Form': \"Interview/Online Form\",\n",
    "    'Artifact 1': \"Artifact 1\",\n",
    "    'Artifact 2': \"Artifact 2\",\n",
    "    'Entrance Assessment: Math': \"Entrance Assessment: Math\",\n",
    "    'Written Exercise': \"Written Exercise\"\n",
    "}\n",
    "df.criteria = df.criteria.map(vals)\n"
   ]
  },
  {
   "cell_type": "code",
   "execution_count": 36,
   "metadata": {},
   "outputs": [
    {
     "data": {
      "text/html": [
       "<div>\n",
       "<style scoped>\n",
       "    .dataframe tbody tr th:only-of-type {\n",
       "        vertical-align: middle;\n",
       "    }\n",
       "\n",
       "    .dataframe tbody tr th {\n",
       "        vertical-align: top;\n",
       "    }\n",
       "\n",
       "    .dataframe thead th {\n",
       "        text-align: right;\n",
       "    }\n",
       "</style>\n",
       "<table border=\"1\" class=\"dataframe\">\n",
       "  <thead>\n",
       "    <tr style=\"text-align: right;\">\n",
       "      <th></th>\n",
       "      <th>school_dbn</th>\n",
       "      <th>school_name</th>\n",
       "      <th>program_code</th>\n",
       "      <th>criteria</th>\n",
       "      <th>percent</th>\n",
       "      <th>admission year</th>\n",
       "    </tr>\n",
       "  </thead>\n",
       "  <tbody>\n",
       "    <tr>\n",
       "      <th>0</th>\n",
       "      <td>01M448</td>\n",
       "      <td>UNIVERSITY NEIGHBORHOOD HIGH SCHOOL (01M448)</td>\n",
       "      <td>M35C</td>\n",
       "      <td>7th grade ELA/Math Scores</td>\n",
       "      <td>0.2</td>\n",
       "      <td>2021</td>\n",
       "    </tr>\n",
       "    <tr>\n",
       "      <th>1</th>\n",
       "      <td>01M448</td>\n",
       "      <td>UNIVERSITY NEIGHBORHOOD HIGH SCHOOL (01M448)</td>\n",
       "      <td>M35C</td>\n",
       "      <td>7th grade final grades</td>\n",
       "      <td>0.4</td>\n",
       "      <td>2021</td>\n",
       "    </tr>\n",
       "    <tr>\n",
       "      <th>2</th>\n",
       "      <td>01M448</td>\n",
       "      <td>UNIVERSITY NEIGHBORHOOD HIGH SCHOOL (01M448)</td>\n",
       "      <td>M35C</td>\n",
       "      <td>8th grade fall grades</td>\n",
       "      <td>0.4</td>\n",
       "      <td>2021</td>\n",
       "    </tr>\n",
       "    <tr>\n",
       "      <th>3</th>\n",
       "      <td>01M450</td>\n",
       "      <td>EAST SIDE COMMUNITY SCHOOL (01M450)</td>\n",
       "      <td>M58A</td>\n",
       "      <td>Essay/Video Response</td>\n",
       "      <td>1.0</td>\n",
       "      <td>2021</td>\n",
       "    </tr>\n",
       "    <tr>\n",
       "      <th>4</th>\n",
       "      <td>01M539</td>\n",
       "      <td>NEW EXPLORATIONS INTO SCIENCE, TECHNOLOGY AND ...</td>\n",
       "      <td>M29A</td>\n",
       "      <td>7th grade ELA/Math Scores</td>\n",
       "      <td>0.2</td>\n",
       "      <td>2021</td>\n",
       "    </tr>\n",
       "  </tbody>\n",
       "</table>\n",
       "</div>"
      ],
      "text/plain": [
       "  school_dbn                                        school_name program_code  \\\n",
       "0     01M448       UNIVERSITY NEIGHBORHOOD HIGH SCHOOL (01M448)         M35C   \n",
       "1     01M448       UNIVERSITY NEIGHBORHOOD HIGH SCHOOL (01M448)         M35C   \n",
       "2     01M448       UNIVERSITY NEIGHBORHOOD HIGH SCHOOL (01M448)         M35C   \n",
       "3     01M450                EAST SIDE COMMUNITY SCHOOL (01M450)         M58A   \n",
       "4     01M539  NEW EXPLORATIONS INTO SCIENCE, TECHNOLOGY AND ...         M29A   \n",
       "\n",
       "                    criteria  percent  admission year  \n",
       "0  7th grade ELA/Math Scores      0.2            2021  \n",
       "1     7th grade final grades      0.4            2021  \n",
       "2      8th grade fall grades      0.4            2021  \n",
       "3       Essay/Video Response      1.0            2021  \n",
       "4  7th grade ELA/Math Scores      0.2            2021  "
      ]
     },
     "execution_count": 36,
     "metadata": {},
     "output_type": "execute_result"
    }
   ],
   "source": [
    "\n",
    "df[\"admission year\"] = 2021\n",
    "df.head()"
   ]
  },
  {
   "cell_type": "code",
   "execution_count": 38,
   "metadata": {},
   "outputs": [],
   "source": [
    "data = schools.load_hs_directory(2020)"
   ]
  },
  {
   "cell_type": "code",
   "execution_count": 46,
   "metadata": {},
   "outputs": [
    {
     "data": {
      "text/plain": [
       "array([nan, 'Priority to District 6 students or residents',\n",
       "       'Priority to Brooklyn students or residents',\n",
       "       'Open to New York City residents',\n",
       "       'Priority to Bronx students or residents',\n",
       "       'Priority to continuing 8th graders',\n",
       "       'Priority to Staten Island students or residents',\n",
       "       'Priority to Queens students or residents',\n",
       "       'Priority to Manhattan students or residents',\n",
       "       'Priority to students who live in the zoned area',\n",
       "       'Priority to Manhattan students or residents who have lived in the United States two years or fewer and whose home language is Spanish',\n",
       "       'Open to New York City residents whose home language is Chinese (Mandarin)',\n",
       "       'Priority to students who reside in the geographical catchment area',\n",
       "       'Priority to students living in the geographic zone',\n",
       "       'Priority to Districts 13, 14, 15 and 16 students or residents',\n",
       "       'Priority to students who live in the zoned area for up to 50% of the seats',\n",
       "       'Priority to District 13 students or residents',\n",
       "       'Priority to students attending Isaac Newton Middle School for Math & Science'],\n",
       "      dtype=object)"
      ]
     },
     "execution_count": 46,
     "metadata": {},
     "output_type": "execute_result"
    }
   ],
   "source": [
    "cols = list(data.columns)\n",
    "[c for c in cols if \"admiss\" in c.lower()]\n",
    "data.admissionspriority12.unique()"
   ]
  },
  {
   "cell_type": "code",
   "execution_count": 16,
   "metadata": {},
   "outputs": [],
   "source": [
    "# 2021 DOE High School Directory\n",
    "url = \"https://data.cityofnewyork.us/resource/8b6c-7uty.csv?$limit=10000\"\n",
    "hs21 = pd.read_csv(url)\n"
   ]
  },
  {
   "cell_type": "code",
   "execution_count": 17,
   "metadata": {},
   "outputs": [],
   "source": [
    "url = \"https://data.cityofnewyork.us/resource/23z9-6uk9.csv?$limit=10000\"\n",
    "hs20 = pd.read_csv(url)"
   ]
  },
  {
   "cell_type": "code",
   "execution_count": 26,
   "metadata": {},
   "outputs": [
    {
     "data": {
      "text/plain": [
       "116"
      ]
     },
     "execution_count": 26,
     "metadata": {},
     "output_type": "execute_result"
    }
   ],
   "source": [
    "# hs21.columns & hs20.columns\n",
    "len(hs21.columns.difference(hs20.columns))"
   ]
  },
  {
   "cell_type": "code",
   "execution_count": 26,
   "metadata": {},
   "outputs": [
    {
     "data": {
      "text/plain": [
       "Index(['dbn', 'beds', 'district', 'geo_district', 'boro', 'school_name',\n",
       "       'short_name', 'ay', 'year', 'total_enrollment',\n",
       "       'grade_3k_pk_half_day_full', 'grade_k', 'grade_1', 'grade_2', 'grade_3',\n",
       "       'grade_4', 'grade_5', 'grade_6', 'grade_7', 'grade_8', 'grade_9',\n",
       "       'grade_10', 'grade_11', 'grade_12', 'female_n', 'female_pct', 'male_n',\n",
       "       'male_pct', 'asian_n', 'asian_pct', 'black_n', 'black_pct',\n",
       "       'hispanic_n', 'hispanic_pct', 'multi_racial_n', 'multi_racial_pct',\n",
       "       'native_american_n', 'native_american_pct', 'white_n', 'white_pct',\n",
       "       'missing_race_ethnicity_data_n', 'missing_race_ethnicity_data_pct',\n",
       "       'swd_n', 'swd_pct', 'ell_n', 'ell_pct', 'poverty_n', 'poverty_pct',\n",
       "       'eni_pct', 'clean_name', 'zip'],\n",
       "      dtype='object')"
      ]
     },
     "execution_count": 26,
     "metadata": {},
     "output_type": "execute_result"
    }
   ],
   "source": [
    "from nycschools import schools\n",
    "df = schools.load_school_demographics()\n",
    "df.columns"
   ]
  },
  {
   "cell_type": "code",
   "execution_count": null,
   "metadata": {},
   "outputs": [],
   "source": [
    "\n",
    "# Define the API endpoint URL\n",
    "url = \"https://data.cityofnewyork.us/api/catalog/v1?limit=10\"\n",
    "\n",
    "# Send a GET request to the API endpoint and get the JSON response\n",
    "headers = {\n",
    "    \"X-App-Token\": token\n",
    "}\n",
    "\n",
    "response = requests.get(url, headers=headers)\n",
    "data = response.json()\n",
    "\n",
    "results = data[\"results\"]\n",
    "len(results)"
   ]
  },
  {
   "cell_type": "code",
   "execution_count": 38,
   "metadata": {},
   "outputs": [
    {
     "data": {
      "text/plain": [
       "dict_keys(['www.dallasopendata.com', 'data.ny.gov', 'data.ct.gov', 'data.cdc.gov', 'opendata.howardcountymd.gov', 'data.cityofchicago.org', 'data.nj.gov', 'data.wa.gov', 'data.cityofnewyork.us', 'data.nashville.gov', 'data.memphistn.gov', 'www.datos.gov.co', 'healthdata.gov', 'health.data.ny.gov', 'data.mo.gov', 'datahub.transportation.gov', 'data.montgomerycountymd.gov', 'data.fortworthtexas.gov', 'data.pa.gov', 'data.kingcounty.gov', 'data.lacity.org', 'data.colorado.gov', 'data.virginia.gov', 'data.calgary.ca', 'data.cambridgema.gov', 'data.providenceri.gov', 'data.sfgov.org', 'insights.cincinnati-oh.gov', 'data.pr.gov', 'data.delaware.gov', 'priv-data.ojp.usdoj.gov', 'datahub.usac.org', 'data.vermont.gov', 'data.bts.gov', 'datacatalog.cookcountyil.gov', 'data.cincinnati-oh.gov', 'data.oregon.gov', 'data.lacounty.gov', 'data.edd.ca.gov', 'data.energystar.gov', 'data.norfolk.gov', 'data.hawaii.gov', 'data.cityofgainesville.org', 'data.hartford.gov', 'internal.chattadata.org', 'internal-sandiegocounty.data.socrata.com', 'data.cityoftacoma.org', 'data.edmonton.ca', 'data.transportation.gov', 'covid19.buffalony.gov', 'data.sccgov.org', 'data.ramseycounty.us', 'data.novascotia.ca', 'data.texas.gov', 'data.exim.gov', 'data.brla.gov', 'opendata.fcc.gov', 'data.sonomacounty.ca.gov', 'finances.worldbank.org', 'clatsop.data.socrata.com', 'data.nasa.gov', 'data.americorps.gov', 'cthru.data.socrata.com', 'stat.stpete.org', 'data.nola.gov', 'chronicdata.cdc.gov', 'datahub.smcgov.org', 'dashboard.edmonton.ca', 'mydata.iowa.gov', 'performance.seattle.gov', 'data.oaklandca.gov', 'hidot-contracts.data.socrata.com', 'www.chattadata.org', 'data.melbourne.vic.gov.au', 'data.smgov.net', 'www.data.act.gov.au', 'data.michigan.gov', 'opendata.maryland.gov', 'data.littlerock.gov', 'bythenumbers.sco.ca.gov', 'bronx.lehman.cuny.edu', 'hicscdata.hawaii.gov', 'data.cityofberkeley.info', 'data.winnipeg.ca', 'data.princegeorgescountymd.gov', 'data.honolulu.gov', 'amopen.amo.on.ca', 'controllerdata.lacity.org', 'performance.commerce.gov', 'celebratingcities.data.socrata.com', 'data.kcmo.org', 'gnb.socrata.com', 'data.wcad.org', 'portal.bcwg.texas.gov', 'data.ftb.ca.gov', 'citydata.mesaaz.gov', 'healthdata.nj.gov', 'data.acgov.org', 'midashboard-staging-sandbox.demo.socrata.com', 'data.debtwatch.treasurer.ca.gov', 'janesville.data.socrata.com', 'performance.smcgov.org', 'mydata.iadb.org', 'data.countyofriverside.us', 'data.cityoforlando.net', 'data.marincounty.org', 'data.grandrapidsmi.gov', 'data.usaid.gov', 'data.pinellas.gov', 'data.oxnard.org', 'opendata.utah.gov', 'data.auburnwa.gov', 'data.smcgov.org', 'data.weho.org', 'www.datahub.va.gov', 'stat.montgomerycountymd.gov', 'internal.open.piercecountywa.gov', 'performance.fultoncountyga.gov', 'sharefulton.fultoncountyga.gov', 'performance.cityofrc.us', 'data.oce.pr.gov', 'internal.opendata.clermontauditor.org', 'dashboard.hawaii.gov', 'idp.nz', 'data.redmond.gov', 'data.austintexas.gov', 'highriskregions.auditor.ca.gov', 'data.urbanaillinois.us', 'kirklandwa.data.socrata.com', 'data.albanyny.gov', 'data.everettwa.gov', 'data.montgomeryschoolsmd.org', 'data.permits.performance.gov', 'internal.agtransport.usda.gov', 'opendata.fcgov.com', 'data.fultoncountyga.gov', 'data.strathcona.ca', 'data.readingpa.gov', 'highways.hidot.hawaii.gov', 'data.culvercity.org', 'uspto.data.commerce.gov', 'metroairports.data.socrata.com', 'bis.data.commerce.gov', 'data.macoupincountyil.gov', 'data.qac.org', 'opennassau.nassaucountyny.gov', 'perspectives.dnrec.delaware.gov', 'data.waterpointdata.org', 'policedata.coloradosprings.gov', 'nasa-test-0.demo.socrata.com', 'bloomington.data.socrata.com', 'ita.data.commerce.gov', 'data.tuscaloosa.com', 'datadiscovery.nlm.nih.gov', 'data.richmondgov.com', 'usc.data.socrata.com', 'checkbooknyc.socrata.com', 'cookcounty.data.socrata.com', 'census.data.commerce.gov', 'open.piercecountywa.gov', 'fortlauderdale.data.socrata.com', 'data.framinghamma.gov', 'data.princeedwardisland.ca', 'data.maryland.gov', 'data.ohiocourtofclaims.gov', 'www.transparentrichmond.org', 'data.miamigov.com', 'openinformation.novascotia.ca', 'www.thedatazone.ca', 'healthstat.dph.sbcounty.gov', 'data.sandiegocounty.gov', 'performance.princegeorgescountymd.gov', 'douglasco.data.socrata.com', 'data.somervillema.gov', 'ptsd-va.data.socrata.com', 'transparencyarchive.michigan.gov', 'marysvillewa.data.socrata.com', 'dovernh.data.socrata.com', 'policeview.johnscreekga.gov', 'data.cstx.gov', 'data.orcities.org', 'data.roseville.ca.us', 'internal-ct.data.socrata.com', 'data.commerce.gov', 'ascensionparishla.data.socrata.com'])"
      ]
     },
     "execution_count": 38,
     "metadata": {},
     "output_type": "execute_result"
    }
   ],
   "source": [
    "datasets = {result[\"metadata\"][\"domain\"]: result for result in results}\n",
    "datasets.keys()"
   ]
  },
  {
   "cell_type": "code",
   "execution_count": null,
   "metadata": {},
   "outputs": [],
   "source": [
    "\n",
    "# do a dict comprehension to add each item in results keyed by metadata.domain\n",
    "datasets = {result[\"metadata\"][\"domain\"]: result for result in results}\n",
    "\n",
    "\n",
    "# Extract the intersecting keys from the results dictionary\n",
    "keys = set(results[0].keys())\n",
    "for result in results:\n",
    "    keys &= set(result.keys())\n",
    "\n",
    "# Create a list of dictionaries with only the intersecting keys\n",
    "filtered_results = []\n",
    "for result in results:\n",
    "    filtered_result = {}\n",
    "    for key in keys:\n",
    "        filtered_result[key] = result[key]\n",
    "    filtered_results.append(filtered_result)\n",
    "\n",
    "# Create a DataFrame from the list of dictionaries\n",
    "# df = pd.DataFrame(filtered_results)\n",
    "# df.head()\n",
    "datasets.keys()\n",
    "len(results)"
   ]
  },
  {
   "cell_type": "code",
   "execution_count": null,
   "metadata": {},
   "outputs": [],
   "source": [
    "import pandas as pd\n",
    "\n",
    "# meta = \"https://data.cityofnewyork.us/api/views/metadata/v1\"\n",
    "# meta = \"https://data.cityofnewyork.us/api/catalog/v1.csv?ids=*\"\n",
    "# get a list of all of the data sets in cityofnewyork socrata\n",
    "meta = \"https://data.cityofnewyork.us/api/catalog/v1?domains=data.cityofnewyork.us\"\n",
    "df = pd.read_json(meta, lines=True)\n",
    "meta.head()"
   ]
  },
  {
   "cell_type": "code",
   "execution_count": 2,
   "metadata": {},
   "outputs": [
    {
     "name": "stderr",
     "output_type": "stream",
     "text": [
      "/home/mxc/.virtualenvs/nycschools/lib/python3.10/site-packages/openpyxl/worksheet/header_footer.py:48: UserWarning: Cannot parse header or footer so it will be ignored\n",
      "  warn(\"\"\"Cannot parse header or footer so it will be ignored\"\"\")\n",
      "/home/mxc/.virtualenvs/nycschools/lib/python3.10/site-packages/openpyxl/worksheet/header_footer.py:48: UserWarning: Cannot parse header or footer so it will be ignored\n",
      "  warn(\"\"\"Cannot parse header or footer so it will be ignored\"\"\")\n",
      "/home/mxc/.virtualenvs/nycschools/lib/python3.10/site-packages/openpyxl/worksheet/header_footer.py:48: UserWarning: Cannot parse header or footer so it will be ignored\n",
      "  warn(\"\"\"Cannot parse header or footer so it will be ignored\"\"\")\n"
     ]
    },
    {
     "data": {
      "text/html": [
       "<div>\n",
       "<style scoped>\n",
       "    .dataframe tbody tr th:only-of-type {\n",
       "        vertical-align: middle;\n",
       "    }\n",
       "\n",
       "    .dataframe tbody tr th {\n",
       "        vertical-align: top;\n",
       "    }\n",
       "\n",
       "    .dataframe thead th {\n",
       "        text-align: right;\n",
       "    }\n",
       "</style>\n",
       "<table border=\"1\" class=\"dataframe\">\n",
       "  <thead>\n",
       "    <tr style=\"text-align: right;\">\n",
       "      <th></th>\n",
       "      <th>DBN</th>\n",
       "      <th>School Name</th>\n",
       "      <th>Grade Level</th>\n",
       "      <th>Program Type</th>\n",
       "      <th>Number of Students</th>\n",
       "      <th>Number of Classes</th>\n",
       "      <th>Average Class Size</th>\n",
       "      <th>Minimum Class Size</th>\n",
       "      <th>Maximum Class Size</th>\n",
       "    </tr>\n",
       "  </thead>\n",
       "  <tbody>\n",
       "    <tr>\n",
       "      <th>0</th>\n",
       "      <td>01M015</td>\n",
       "      <td>PS 015 ROBERTO CLEMENTE</td>\n",
       "      <td>K</td>\n",
       "      <td>G&amp;T</td>\n",
       "      <td>11</td>\n",
       "      <td>1</td>\n",
       "      <td>11.0</td>\n",
       "      <td>&lt;15</td>\n",
       "      <td>&lt;15</td>\n",
       "    </tr>\n",
       "    <tr>\n",
       "      <th>1</th>\n",
       "      <td>01M015</td>\n",
       "      <td>PS 015 ROBERTO CLEMENTE</td>\n",
       "      <td>K</td>\n",
       "      <td>ICT</td>\n",
       "      <td>25</td>\n",
       "      <td>1</td>\n",
       "      <td>25.0</td>\n",
       "      <td>25</td>\n",
       "      <td>25</td>\n",
       "    </tr>\n",
       "    <tr>\n",
       "      <th>2</th>\n",
       "      <td>01M015</td>\n",
       "      <td>PS 015 ROBERTO CLEMENTE</td>\n",
       "      <td>1</td>\n",
       "      <td>G&amp;T</td>\n",
       "      <td>14</td>\n",
       "      <td>1</td>\n",
       "      <td>14.0</td>\n",
       "      <td>&lt;15</td>\n",
       "      <td>&lt;15</td>\n",
       "    </tr>\n",
       "    <tr>\n",
       "      <th>3</th>\n",
       "      <td>01M015</td>\n",
       "      <td>PS 015 ROBERTO CLEMENTE</td>\n",
       "      <td>1</td>\n",
       "      <td>ICT</td>\n",
       "      <td>17</td>\n",
       "      <td>1</td>\n",
       "      <td>17.0</td>\n",
       "      <td>17</td>\n",
       "      <td>17</td>\n",
       "    </tr>\n",
       "    <tr>\n",
       "      <th>4</th>\n",
       "      <td>01M015</td>\n",
       "      <td>PS 015 ROBERTO CLEMENTE</td>\n",
       "      <td>2</td>\n",
       "      <td>G&amp;T</td>\n",
       "      <td>7</td>\n",
       "      <td>1</td>\n",
       "      <td>7.0</td>\n",
       "      <td>&lt;15</td>\n",
       "      <td>&lt;15</td>\n",
       "    </tr>\n",
       "  </tbody>\n",
       "</table>\n",
       "</div>"
      ],
      "text/plain": [
       "      DBN              School Name Grade Level Program Type  \\\n",
       "0  01M015  PS 015 ROBERTO CLEMENTE           K          G&T   \n",
       "1  01M015  PS 015 ROBERTO CLEMENTE           K          ICT   \n",
       "2  01M015  PS 015 ROBERTO CLEMENTE           1          G&T   \n",
       "3  01M015  PS 015 ROBERTO CLEMENTE           1          ICT   \n",
       "4  01M015  PS 015 ROBERTO CLEMENTE           2          G&T   \n",
       "\n",
       "   Number of Students  Number of Classes  Average Class Size  \\\n",
       "0                  11                  1                11.0   \n",
       "1                  25                  1                25.0   \n",
       "2                  14                  1                14.0   \n",
       "3                  17                  1                17.0   \n",
       "4                   7                  1                 7.0   \n",
       "\n",
       "  Minimum Class Size Maximum Class Size  \n",
       "0                <15                <15  \n",
       "1                 25                 25  \n",
       "2                <15                <15  \n",
       "3                 17                 17  \n",
       "4                <15                <15  "
      ]
     },
     "execution_count": 2,
     "metadata": {},
     "output_type": "execute_result"
    }
   ],
   "source": [
    "\n",
    "{\n",
    "    \"doe_22\": \"https://infohub.nyced.org/docs/default-source/default-document-library/updated2023_avg_classsize_schl.xlsx\",\n",
    "\n",
    "}\n",
    "\n",
    "url = \"https://data.cityofnewyork.us/resource/sgr7-hhwp.csv?$limit=1000000\"\n",
    "\n",
    "# nyc = pd.read_csv(url)\n",
    "# print(df.columns)\n",
    "# df.grade_level.unique()\n",
    "# df.head()\n",
    "\n",
    "url = \"https://infohub.nyced.org/docs/default-source/default-document-library/updated2023_avg_classsize_schl.xlsx\"\n",
    "xls = pd.read_excel(url, sheet_name=None)\n",
    "# first sheet is k-8\n",
    "k8 = xls[\"K-8 Avg\"]\n",
    "hs = xls[\"MS HS Avg\"]\n",
    "ptr = xls[\"PTR\"]\n",
    "k8.head()"
   ]
  },
  {
   "cell_type": "markdown",
   "metadata": {},
   "source": [
    "SHSAT\n",
    "======"
   ]
  },
  {
   "cell_type": "code",
   "execution_count": 17,
   "metadata": {},
   "outputs": [
    {
     "name": "stdout",
     "output_type": "stream",
     "text": [
      "set()\n",
      "{'Subject', 'Department'}\n",
      "11 9\n"
     ]
    }
   ],
   "source": [
    "# show the intersecting columns\n",
    "print(set(k8.columns) - set(hs.columns))\n",
    "print(set(hs.columns) - set(k8.columns))\n",
    "print(len(hs.columns) , len(k8.columns))"
   ]
  },
  {
   "cell_type": "code",
   "execution_count": 23,
   "metadata": {},
   "outputs": [],
   "source": [
    "k8[\"Subject\"] = \"K8\"\n",
    "k8[\"Department\"] = \"K8\"\n",
    "df = pd.concat([k8, hs], axis=0).head()\n",
    "df[\"ay\"] = 2022\n",
    "cols = {\n",
    "    \"DBN\": \"dbn\",\n",
    "    \"School Name\": \"school_name\",\n",
    "    \"Grade Level\": \"grade\",\n",
    "    \"Program Type\": \"program_type\",\n",
    "    \"Number of Students\": \"students_n\",\n",
    "    \"Number of Classes\": \"classes_n\",\n",
    "    \"Average Class Size\": \"avg_class_size\",\n",
    "    \"Subject\": \"subject\",\n",
    "    \"Department\": \"dpt\",\n",
    "    \"Minimum Class Size\": \"min_class_size\",\n",
    "    \"Maximum Class Size\": \"max_class_size\"\n",
    "}\n",
    "df = df.rename(columns=cols)\n",
    "# drop school_name\n",
    "df = df.drop(columns=[\"school_name\"])\n",
    "df.head()\n",
    "df.to_csv(\"/opt/nycschools/nyc_class_size.csv\", index=False)"
   ]
  },
  {
   "cell_type": "code",
   "execution_count": 5,
   "metadata": {},
   "outputs": [
    {
     "name": "stdout",
     "output_type": "stream",
     "text": [
      "Index(['grade_level', 'program_type', 'department', 'subject',\n",
      "       'number_of_students', 'number_of_classes', 'average_class_size'],\n",
      "      dtype='object')\n"
     ]
    },
    {
     "data": {
      "text/html": [
       "<div>\n",
       "<style scoped>\n",
       "    .dataframe tbody tr th:only-of-type {\n",
       "        vertical-align: middle;\n",
       "    }\n",
       "\n",
       "    .dataframe tbody tr th {\n",
       "        vertical-align: top;\n",
       "    }\n",
       "\n",
       "    .dataframe thead th {\n",
       "        text-align: right;\n",
       "    }\n",
       "</style>\n",
       "<table border=\"1\" class=\"dataframe\">\n",
       "  <thead>\n",
       "    <tr style=\"text-align: right;\">\n",
       "      <th></th>\n",
       "      <th>grade_level</th>\n",
       "      <th>program_type</th>\n",
       "      <th>department</th>\n",
       "      <th>subject</th>\n",
       "      <th>number_of_students</th>\n",
       "      <th>number_of_classes</th>\n",
       "      <th>average_class_size</th>\n",
       "    </tr>\n",
       "  </thead>\n",
       "  <tbody>\n",
       "    <tr>\n",
       "      <th>0</th>\n",
       "      <td>HS Core</td>\n",
       "      <td>Gen Ed</td>\n",
       "      <td>English</td>\n",
       "      <td>HS English 09</td>\n",
       "      <td>48093</td>\n",
       "      <td>1897</td>\n",
       "      <td>25.4</td>\n",
       "    </tr>\n",
       "    <tr>\n",
       "      <th>1</th>\n",
       "      <td>HS Core</td>\n",
       "      <td>Gen Ed</td>\n",
       "      <td>English</td>\n",
       "      <td>HS English 10</td>\n",
       "      <td>46274</td>\n",
       "      <td>1762</td>\n",
       "      <td>26.3</td>\n",
       "    </tr>\n",
       "    <tr>\n",
       "      <th>2</th>\n",
       "      <td>HS Core</td>\n",
       "      <td>Gen Ed</td>\n",
       "      <td>English</td>\n",
       "      <td>HS English 11</td>\n",
       "      <td>45892</td>\n",
       "      <td>1780</td>\n",
       "      <td>25.8</td>\n",
       "    </tr>\n",
       "    <tr>\n",
       "      <th>3</th>\n",
       "      <td>HS Core</td>\n",
       "      <td>Gen Ed</td>\n",
       "      <td>English</td>\n",
       "      <td>HS English 12</td>\n",
       "      <td>44382</td>\n",
       "      <td>1735</td>\n",
       "      <td>25.6</td>\n",
       "    </tr>\n",
       "    <tr>\n",
       "      <th>4</th>\n",
       "      <td>HS Core</td>\n",
       "      <td>Gen Ed</td>\n",
       "      <td>English</td>\n",
       "      <td>HS English Other</td>\n",
       "      <td>75065</td>\n",
       "      <td>3458</td>\n",
       "      <td>21.7</td>\n",
       "    </tr>\n",
       "    <tr>\n",
       "      <th>...</th>\n",
       "      <td>...</td>\n",
       "      <td>...</td>\n",
       "      <td>...</td>\n",
       "      <td>...</td>\n",
       "      <td>...</td>\n",
       "      <td>...</td>\n",
       "      <td>...</td>\n",
       "    </tr>\n",
       "    <tr>\n",
       "      <th>95</th>\n",
       "      <td>MS Core</td>\n",
       "      <td>SC</td>\n",
       "      <td>Math</td>\n",
       "      <td>MS Math Other</td>\n",
       "      <td>598</td>\n",
       "      <td>60</td>\n",
       "      <td>10.0</td>\n",
       "    </tr>\n",
       "    <tr>\n",
       "      <th>96</th>\n",
       "      <td>MS Core</td>\n",
       "      <td>SC</td>\n",
       "      <td>Science</td>\n",
       "      <td>MS Science Core</td>\n",
       "      <td>10747</td>\n",
       "      <td>1095</td>\n",
       "      <td>9.8</td>\n",
       "    </tr>\n",
       "    <tr>\n",
       "      <th>97</th>\n",
       "      <td>MS Core</td>\n",
       "      <td>SC</td>\n",
       "      <td>Science</td>\n",
       "      <td>MS Science Other</td>\n",
       "      <td>210</td>\n",
       "      <td>23</td>\n",
       "      <td>9.1</td>\n",
       "    </tr>\n",
       "    <tr>\n",
       "      <th>98</th>\n",
       "      <td>MS Core</td>\n",
       "      <td>SC</td>\n",
       "      <td>Social Studies</td>\n",
       "      <td>MS Social Studies Core</td>\n",
       "      <td>10663</td>\n",
       "      <td>1079</td>\n",
       "      <td>9.9</td>\n",
       "    </tr>\n",
       "    <tr>\n",
       "      <th>99</th>\n",
       "      <td>MS Core</td>\n",
       "      <td>SC</td>\n",
       "      <td>Social Studies</td>\n",
       "      <td>MS Social Studies Other</td>\n",
       "      <td>122</td>\n",
       "      <td>13</td>\n",
       "      <td>9.4</td>\n",
       "    </tr>\n",
       "  </tbody>\n",
       "</table>\n",
       "<p>100 rows × 7 columns</p>\n",
       "</div>"
      ],
      "text/plain": [
       "   grade_level program_type      department                  subject  \\\n",
       "0      HS Core       Gen Ed         English            HS English 09   \n",
       "1      HS Core       Gen Ed         English            HS English 10   \n",
       "2      HS Core       Gen Ed         English            HS English 11   \n",
       "3      HS Core       Gen Ed         English            HS English 12   \n",
       "4      HS Core       Gen Ed         English         HS English Other   \n",
       "..         ...          ...             ...                      ...   \n",
       "95     MS Core           SC            Math            MS Math Other   \n",
       "96     MS Core           SC         Science          MS Science Core   \n",
       "97     MS Core           SC         Science         MS Science Other   \n",
       "98     MS Core           SC  Social Studies   MS Social Studies Core   \n",
       "99     MS Core           SC  Social Studies  MS Social Studies Other   \n",
       "\n",
       "    number_of_students  number_of_classes  average_class_size  \n",
       "0                48093               1897                25.4  \n",
       "1                46274               1762                26.3  \n",
       "2                45892               1780                25.8  \n",
       "3                44382               1735                25.6  \n",
       "4                75065               3458                21.7  \n",
       "..                 ...                ...                 ...  \n",
       "95                 598                 60                10.0  \n",
       "96               10747               1095                 9.8  \n",
       "97                 210                 23                 9.1  \n",
       "98               10663               1079                 9.9  \n",
       "99                 122                 13                 9.4  \n",
       "\n",
       "[100 rows x 7 columns]"
      ]
     },
     "execution_count": 5,
     "metadata": {},
     "output_type": "execute_result"
    }
   ],
   "source": [
    "df = pd.read_csv(\"https://data.cityofnewyork.us/resource/43qn-d6r8.csv?$limit=1000000\")\n",
    "print(df.columns)\n",
    "df"
   ]
  },
  {
   "cell_type": "code",
   "execution_count": 2,
   "metadata": {},
   "outputs": [
    {
     "data": {
      "text/plain": [
       "0       2020\n",
       "1       2020\n",
       "2       2020\n",
       "3       2020\n",
       "4       2020\n",
       "        ... \n",
       "2185    2020\n",
       "2186    2020\n",
       "2187    2020\n",
       "2188    2020\n",
       "2189    2020\n",
       "Name: fiscal_year, Length: 2190, dtype: int64"
      ]
     },
     "execution_count": 2,
     "metadata": {},
     "output_type": "execute_result"
    }
   ],
   "source": [
    "from nycschools import config, geo, dataloader, schools\n",
    "\n",
    "\n",
    "a = schools.load_school_demographics()\n",
    "b = geo.get_locations()\n",
    "c = b.merge(a, on=\"dbn\", how=\"inner\")\n",
    "# c.explore()\n",
    "# b.open_date.astype(\"datetime64[ns]\").dt.year\n",
    "b.fiscal_year\n"
   ]
  }
 ],
 "metadata": {
  "kernelspec": {
   "display_name": "school-data",
   "language": "python",
   "name": "python3"
  },
  "language_info": {
   "codemirror_mode": {
    "name": "ipython",
    "version": 3
   },
   "file_extension": ".py",
   "mimetype": "text/x-python",
   "name": "python",
   "nbconvert_exporter": "python",
   "pygments_lexer": "ipython3",
   "version": "3.10.6"
  },
  "vscode": {
   "interpreter": {
    "hash": "c853444e20c489e5b96d8e1a4533affead1d94f1ba40ff9ef08cffb9c8ee794e"
   }
  }
 },
 "nbformat": 4,
 "nbformat_minor": 2
}
