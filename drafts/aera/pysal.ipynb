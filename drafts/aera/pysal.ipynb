{
 "cells": [
  {
   "cell_type": "code",
   "execution_count": null,
   "metadata": {},
   "outputs": [],
   "source": [
    "import pandas as pd\n",
    "import numpy as np\n",
    "from segregation.multigroup import MultiDissim as D, MultiInfoTheory as M\n",
    "from segregation.batch import batch_compute_multigroup\n"
   ]
  },
  {
   "cell_type": "markdown",
   "metadata": {},
   "source": [
    "Even Distribution\n",
    "=================\n",
    "These examples show \"perfect integration\" on the dissimilarity and information theory indices\n",
    "because each tract (school) has the same population (students) in each group.\n",
    "\n",
    "The least segregation should be 0 for each index."
   ]
  },
  {
   "cell_type": "code",
   "execution_count": 2,
   "metadata": {},
   "outputs": [
    {
     "data": {
      "text/html": [
       "<div>\n",
       "<style scoped>\n",
       "    .dataframe tbody tr th:only-of-type {\n",
       "        vertical-align: middle;\n",
       "    }\n",
       "\n",
       "    .dataframe tbody tr th {\n",
       "        vertical-align: top;\n",
       "    }\n",
       "\n",
       "    .dataframe thead th {\n",
       "        text-align: right;\n",
       "    }\n",
       "</style>\n",
       "<table border=\"1\" class=\"dataframe\">\n",
       "  <thead>\n",
       "    <tr style=\"text-align: right;\">\n",
       "      <th></th>\n",
       "      <th>school</th>\n",
       "      <th>black</th>\n",
       "      <th>white</th>\n",
       "      <th>asian</th>\n",
       "      <th>hispanic</th>\n",
       "    </tr>\n",
       "  </thead>\n",
       "  <tbody>\n",
       "    <tr>\n",
       "      <th>0</th>\n",
       "      <td>a</td>\n",
       "      <td>50</td>\n",
       "      <td>50</td>\n",
       "      <td>50</td>\n",
       "      <td>50</td>\n",
       "    </tr>\n",
       "    <tr>\n",
       "      <th>1</th>\n",
       "      <td>b</td>\n",
       "      <td>50</td>\n",
       "      <td>50</td>\n",
       "      <td>50</td>\n",
       "      <td>50</td>\n",
       "    </tr>\n",
       "    <tr>\n",
       "      <th>2</th>\n",
       "      <td>c</td>\n",
       "      <td>50</td>\n",
       "      <td>50</td>\n",
       "      <td>50</td>\n",
       "      <td>50</td>\n",
       "    </tr>\n",
       "    <tr>\n",
       "      <th>3</th>\n",
       "      <td>d</td>\n",
       "      <td>50</td>\n",
       "      <td>50</td>\n",
       "      <td>50</td>\n",
       "      <td>50</td>\n",
       "    </tr>\n",
       "  </tbody>\n",
       "</table>\n",
       "</div>"
      ],
      "text/plain": [
       "  school  black  white  asian  hispanic\n",
       "0      a     50     50     50        50\n",
       "1      b     50     50     50        50\n",
       "2      c     50     50     50        50\n",
       "3      d     50     50     50        50"
      ]
     },
     "metadata": {},
     "output_type": "display_data"
    },
    {
     "data": {
      "text/plain": [
       "'With even distributions in the district and each tract, both D and M are 0: D: 0.0, M: 0.0'"
      ]
     },
     "execution_count": 2,
     "metadata": {},
     "output_type": "execute_result"
    }
   ],
   "source": [
    "# create a set of 4 schools each with 100 students in each group\n",
    "groups = [\"black\", \"white\", \"asian\", \"hispanic\"]\n",
    "schools = [\"a\", \"b\", \"c\", \"d\"]\n",
    "n = [50,50,50,50]\n",
    "\n",
    "df = pd.DataFrame(columns=[\"school\"] + groups)\n",
    "df[\"school\"] = schools\n",
    "df[groups] = n\n",
    "display(df)\n",
    "diss = D(df, groups=groups).statistic\n",
    "mi = M(df, groups=groups).statistic\n",
    "f\"With even distributions in the district and each tract, both D and M are 0: D: {diss}, M: {mi}\""
   ]
  },
  {
   "cell_type": "code",
   "execution_count": 3,
   "metadata": {},
   "outputs": [
    {
     "data": {
      "text/html": [
       "<div>\n",
       "<style scoped>\n",
       "    .dataframe tbody tr th:only-of-type {\n",
       "        vertical-align: middle;\n",
       "    }\n",
       "\n",
       "    .dataframe tbody tr th {\n",
       "        vertical-align: top;\n",
       "    }\n",
       "\n",
       "    .dataframe thead th {\n",
       "        text-align: right;\n",
       "    }\n",
       "</style>\n",
       "<table border=\"1\" class=\"dataframe\">\n",
       "  <thead>\n",
       "    <tr style=\"text-align: right;\">\n",
       "      <th></th>\n",
       "      <th>school</th>\n",
       "      <th>black</th>\n",
       "      <th>white</th>\n",
       "      <th>asian</th>\n",
       "      <th>hispanic</th>\n",
       "    </tr>\n",
       "  </thead>\n",
       "  <tbody>\n",
       "    <tr>\n",
       "      <th>0</th>\n",
       "      <td>a</td>\n",
       "      <td>10</td>\n",
       "      <td>80</td>\n",
       "      <td>5</td>\n",
       "      <td>5</td>\n",
       "    </tr>\n",
       "    <tr>\n",
       "      <th>1</th>\n",
       "      <td>b</td>\n",
       "      <td>10</td>\n",
       "      <td>80</td>\n",
       "      <td>5</td>\n",
       "      <td>5</td>\n",
       "    </tr>\n",
       "    <tr>\n",
       "      <th>2</th>\n",
       "      <td>c</td>\n",
       "      <td>10</td>\n",
       "      <td>80</td>\n",
       "      <td>5</td>\n",
       "      <td>5</td>\n",
       "    </tr>\n",
       "    <tr>\n",
       "      <th>3</th>\n",
       "      <td>d</td>\n",
       "      <td>10</td>\n",
       "      <td>80</td>\n",
       "      <td>5</td>\n",
       "      <td>5</td>\n",
       "    </tr>\n",
       "  </tbody>\n",
       "</table>\n",
       "</div>"
      ],
      "text/plain": [
       "  school  black  white  asian  hispanic\n",
       "0      a     10     80      5         5\n",
       "1      b     10     80      5         5\n",
       "2      c     10     80      5         5\n",
       "3      d     10     80      5         5"
      ]
     },
     "metadata": {},
     "output_type": "display_data"
    },
    {
     "data": {
      "text/plain": [
       "'With even distributions in each tract, both D and M are still 0: D: 0.0, M: 0.0'"
      ]
     },
     "execution_count": 3,
     "metadata": {},
     "output_type": "execute_result"
    }
   ],
   "source": [
    "# create a set of 4 schools where the district is mostly white, but groups are distributed evenly\n",
    "groups = [\"black\", \"white\", \"asian\", \"hispanic\"]\n",
    "schools = [\"a\", \"b\", \"c\", \"d\"]\n",
    "n = [10, 80, 5, 5]\n",
    "\n",
    "df = pd.DataFrame(columns=[\"school\"] + groups)\n",
    "df[\"school\"] = schools\n",
    "df[groups] = n\n",
    "display(df)\n",
    "diss = D(df, groups=groups).statistic\n",
    "mi = M(df, groups=groups).statistic\n",
    "f\"With even distributions in each tract, both D and M are still 0: D: {diss}, M: {mi}\""
   ]
  },
  {
   "cell_type": "markdown",
   "metadata": {},
   "source": [
    "Maximum Segregation\n",
    "===================\n",
    "\n",
    "Here, even though the district has even populations in each group\n",
    "the schools are perfectly segregated because each group is\n",
    "isolated in its own school.\n",
    "\n",
    "As tracts become segregated they get closer to 1. Here they are equal to one."
   ]
  },
  {
   "cell_type": "code",
   "execution_count": null,
   "metadata": {},
   "outputs": [
    {
     "data": {
      "text/html": [
       "<div>\n",
       "<style scoped>\n",
       "    .dataframe tbody tr th:only-of-type {\n",
       "        vertical-align: middle;\n",
       "    }\n",
       "\n",
       "    .dataframe tbody tr th {\n",
       "        vertical-align: top;\n",
       "    }\n",
       "\n",
       "    .dataframe thead th {\n",
       "        text-align: right;\n",
       "    }\n",
       "</style>\n",
       "<table border=\"1\" class=\"dataframe\">\n",
       "  <thead>\n",
       "    <tr style=\"text-align: right;\">\n",
       "      <th></th>\n",
       "      <th>school</th>\n",
       "      <th>black</th>\n",
       "      <th>white</th>\n",
       "      <th>asian</th>\n",
       "      <th>hispanic</th>\n",
       "    </tr>\n",
       "  </thead>\n",
       "  <tbody>\n",
       "    <tr>\n",
       "      <th>0</th>\n",
       "      <td>a</td>\n",
       "      <td>100</td>\n",
       "      <td>0</td>\n",
       "      <td>0</td>\n",
       "      <td>0</td>\n",
       "    </tr>\n",
       "    <tr>\n",
       "      <th>1</th>\n",
       "      <td>b</td>\n",
       "      <td>0</td>\n",
       "      <td>100</td>\n",
       "      <td>0</td>\n",
       "      <td>0</td>\n",
       "    </tr>\n",
       "    <tr>\n",
       "      <th>2</th>\n",
       "      <td>c</td>\n",
       "      <td>0</td>\n",
       "      <td>0</td>\n",
       "      <td>100</td>\n",
       "      <td>0</td>\n",
       "    </tr>\n",
       "    <tr>\n",
       "      <th>3</th>\n",
       "      <td>d</td>\n",
       "      <td>0</td>\n",
       "      <td>0</td>\n",
       "      <td>0</td>\n",
       "      <td>100</td>\n",
       "    </tr>\n",
       "  </tbody>\n",
       "</table>\n",
       "</div>"
      ],
      "text/plain": [
       "  school  black  white  asian  hispanic\n",
       "0      a    100      0      0         0\n",
       "1      b      0    100      0         0\n",
       "2      c      0      0    100         0\n",
       "3      d      0      0      0       100"
      ]
     },
     "metadata": {},
     "output_type": "display_data"
    },
    {
     "data": {
      "text/plain": [
       "'With each group alone in a school, with have maximum segregation (1): D: 1.0, M: 1.0'"
      ]
     },
     "execution_count": 9,
     "metadata": {},
     "output_type": "execute_result"
    }
   ],
   "source": [
    "# create a set of 4 schools where the district is mostly white, but groups are distributed evenly\n",
    "groups = [\"black\", \"white\", \"asian\", \"hispanic\"]\n",
    "schools = [\"a\", \"b\", \"c\", \"d\"]\n",
    "n = [10, 80, 5, 5]\n",
    "\n",
    "df = pd.DataFrame(columns=[\"school\"] + groups)\n",
    "df[\"school\"] = schools\n",
    "\n",
    "df.loc[df.school == \"a\", groups] = [100,0,0,0]\n",
    "df.loc[df.school == \"b\", groups] = [0,100,0,0]\n",
    "df.loc[df.school == \"c\", groups] = [0,0,100,0]\n",
    "df.loc[df.school == \"d\", groups] = [0,0,0,100]\n",
    "\n",
    "# make sure the groups are int or float, not object (to handle 0)\n",
    "df[groups] = df[groups].astype(int)\n",
    "display(df)\n",
    "diss = D(df, groups=groups).statistic\n",
    "mi = M(df, groups=groups).statistic\n",
    "\n",
    "f\"With each group alone in a school, we have maximum segregation (1): D: {diss}, M: {mi}\""
   ]
  },
  {
   "cell_type": "markdown",
   "metadata": {},
   "source": [
    "Random Distribution\n",
    "===================\n",
    "This code assigns random distributions. You can run it multiple times\n",
    "to see what \"real\" values might look like."
   ]
  },
  {
   "cell_type": "code",
   "execution_count": 53,
   "metadata": {},
   "outputs": [
    {
     "data": {
      "text/html": [
       "<div>\n",
       "<style scoped>\n",
       "    .dataframe tbody tr th:only-of-type {\n",
       "        vertical-align: middle;\n",
       "    }\n",
       "\n",
       "    .dataframe tbody tr th {\n",
       "        vertical-align: top;\n",
       "    }\n",
       "\n",
       "    .dataframe thead th {\n",
       "        text-align: right;\n",
       "    }\n",
       "</style>\n",
       "<table border=\"1\" class=\"dataframe\">\n",
       "  <thead>\n",
       "    <tr style=\"text-align: right;\">\n",
       "      <th></th>\n",
       "      <th>school</th>\n",
       "      <th>black</th>\n",
       "      <th>white</th>\n",
       "      <th>total</th>\n",
       "    </tr>\n",
       "  </thead>\n",
       "  <tbody>\n",
       "    <tr>\n",
       "      <th>0</th>\n",
       "      <td>a</td>\n",
       "      <td>88</td>\n",
       "      <td>12</td>\n",
       "      <td>100</td>\n",
       "    </tr>\n",
       "    <tr>\n",
       "      <th>1</th>\n",
       "      <td>b</td>\n",
       "      <td>84</td>\n",
       "      <td>16</td>\n",
       "      <td>100</td>\n",
       "    </tr>\n",
       "    <tr>\n",
       "      <th>2</th>\n",
       "      <td>c</td>\n",
       "      <td>28</td>\n",
       "      <td>72</td>\n",
       "      <td>100</td>\n",
       "    </tr>\n",
       "    <tr>\n",
       "      <th>3</th>\n",
       "      <td>d</td>\n",
       "      <td>96</td>\n",
       "      <td>4</td>\n",
       "      <td>100</td>\n",
       "    </tr>\n",
       "  </tbody>\n",
       "</table>\n",
       "</div>"
      ],
      "text/plain": [
       "  school  black  white total\n",
       "0      a     88     12   100\n",
       "1      b     84     16   100\n",
       "2      c     28     72   100\n",
       "3      d     96      4   100"
      ]
     },
     "metadata": {},
     "output_type": "display_data"
    },
    {
     "data": {
      "text/plain": [
       "'D: 0.5977130977130977, M: 0.3161707463099064'"
      ]
     },
     "execution_count": 53,
     "metadata": {},
     "output_type": "execute_result"
    }
   ],
   "source": [
    "# create a set of 4 schools where the district is mostly white, but groups are distributed evenly\n",
    "groups = [\"black\", \"white\", \"asian\", \"hispanic\"]\n",
    "# use 2 groups to make it easier to see\n",
    "groups = [\"black\", \"white\"]\n",
    "schools = [\"a\", \"b\", \"c\", \"d\"]\n",
    "df = pd.DataFrame(columns=[\"school\"] + groups)\n",
    "df[\"school\"] = schools\n",
    "\n",
    "\n",
    "def rand_n(total=100):\n",
    "    n = []\n",
    "    for _ in range(len(groups) - 1):\n",
    "        num = np.random.randint(0, total - sum(n) + 1)\n",
    "        n.append(num)\n",
    "    n.append(total - sum(n))\n",
    "    return n\n",
    "\n",
    "df.loc[df.school == \"a\", groups] = rand_n()\n",
    "df.loc[df.school == \"b\", groups] = rand_n()\n",
    "df.loc[df.school == \"c\", groups] = rand_n()\n",
    "df.loc[df.school == \"d\", groups] = rand_n()\n",
    "\n",
    "df[\"total\"] = df[groups].sum(axis=1)\n",
    "\n",
    "# make sure the groups are int or float, not object (to handle 0)\n",
    "df[groups] = df[groups].astype(int)\n",
    "display(df)\n",
    "diss = D(df, groups=groups).statistic\n",
    "mi = M(df, groups=groups).statistic\n",
    "\n",
    "f\"D: {diss}, M: {mi}\""
   ]
  }
 ],
 "metadata": {
  "kernelspec": {
   "display_name": "nyc",
   "language": "python",
   "name": "python3"
  },
  "language_info": {
   "codemirror_mode": {
    "name": "ipython",
    "version": 3
   },
   "file_extension": ".py",
   "mimetype": "text/x-python",
   "name": "python",
   "nbconvert_exporter": "python",
   "pygments_lexer": "ipython3",
   "version": "3.10.12"
  }
 },
 "nbformat": 4,
 "nbformat_minor": 2
}
