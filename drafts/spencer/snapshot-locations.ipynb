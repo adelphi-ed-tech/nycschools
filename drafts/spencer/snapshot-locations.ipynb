{
 "cells": [
  {
   "cell_type": "code",
   "execution_count": 5,
   "metadata": {},
   "outputs": [],
   "source": [
    "import pandas as pd\n",
    "import numpy as np\n",
    "import geopandas as gpd\n"
   ]
  },
  {
   "cell_type": "code",
   "execution_count": 6,
   "metadata": {},
   "outputs": [
    {
     "name": "stderr",
     "output_type": "stream",
     "text": [
      "/tmp/ipykernel_25737/1150746111.py:2: DtypeWarning: Columns (7,8,10,11,12,13,14,15,16,17,18,19,21,22,23,24,25,26,27,28,29,30,31,32,33,34,40,41,50,83,111,117,118,119,120,121,122,123,124,126,127,128,129,130,131,132,133,140,141,142,143,144,145,147,148,149,158,167,168,169,170,220,221,222,223,224,225,226,227,228,229,230,231,232,233,245,246,247,256,265,266,267,268,277,278,279,280,281,282,283,284,285,286,287,294,295,296,297,298,299,300,301,302,303,304,305,306,307,310,311,312,313,314,315,319,320,321,322,323,324,325,326,327,328,329,330,331,332,333,334,335,336,337,338,339,340,341,342,343,344,345,346,347,348,349,350,351,352,353,354,355,356,357,358,359,360,361,362,363,364,365,366,367,368,369,370,371,372,373,374,375,376,377,378,379,380,381,382,383,384,385,386,387,388,389,390,391,392,393,394,395,396,397,398,399,400,401,402,403,404,405,406,407,408,409,410,411,412,422,423,424,425,426,427,428,429,430,440,441,442,443,444,445,446,447,448,458,459,460,461,462,463,464,465,466,476,477,478,479,480,481,482,483,484,494,495,496,497,498,499,500,501,502,512,513,514,515,516,517,518,519,520,530,532,533,534,535,536,537,540,541,543,544,545,546,547,548,549,550,551,552,554,556,558,560,562,564,566,568,570,572,574,576,578,580,581,582,583,584,585,586,587,588,590,591,592,593,594,595,596,597,598,599,600,601,602,603,604,605,606,607,608,609,610,611,612,613,614,615,616,617,618,619,620,621,622,623,624,625,626,627,628,629,630,631,632,633,634,635,637,638,640,641,642,643,644,646,647,648,649,650,652,653,654,655,656,657,658,659,660,661,662,663,664,665,666,667,668,669,670,680,681,682,683,684,685,686,687,688,698,699,700,701,702,703,704,705,706,716,717,718,719,720,721,722,723,724,734,735,736,737,738,739,740,741,742,752,753,754,755,756,757,758,759,760,770,771,772,773,774,775,776,777,778,788,789,790,791,792,793,794,795,796,806,807,808,810,811,812,813,814,815,816,817,818,819,820,821,822,823,824,826,830,831,832,833,834,835,991,992,993,994,995,996,997,998) have mixed types. Specify dtype option on import or set low_memory=False.\n",
      "  ems = pd.read_csv(\"../snapshots/snapshot_ems.csv\")\n",
      "/tmp/ipykernel_25737/1150746111.py:3: DtypeWarning: Columns (14,22,23,44,46,66,67,68,69,70,71,72,73,74,75,76,78,79,80,81,82,83,84,85,86,159,201,202,203,204,228,229,230,231,232,233,278,279,280,281,282,283,284,299,300,301,302,303,304,305,306,307,337,338,339,340,352,353,382,383,384,385,386,387,388,389,390,391,392,393,394,396,398,399,400,401,402,403,404,405,406,407,408,409,410,411,412,413,414,415,416,417,418,419,420,421,422,423,424,425,426,428,430,431,432,433,434,444,446,448,449,450,451,452,462,464,466,467,468,469,470,480,482,484,485,486,487,488,498,500,502,503,504,505,506,516,530,531,532,533,534,535,536,537,538,539,541,542,544,545,547,548,549,550,551,553,554,555,556,557,558,559,560,562,563,564,565,566,567,568,569,571,572,573,574,576,577,579,580,581,582,583,585,586,587,588,589,590,591,592,593,594,595,596,597,598,599,600,601,606,607,608,625,626,643,644,661,662,679,680,697,698,711,714,715,716,717,732,733,734,746,747,748,749,750,751,753,754,775,776,777,778,779,780,781,782,783,784,785,786,787,788,789,790,791,793,797,798,799,800,801,802) have mixed types. Specify dtype option on import or set low_memory=False.\n",
      "  hs = pd.read_csv(\"../snapshots/snapshot_hs.csv\")\n"
     ]
    }
   ],
   "source": [
    "d75 = pd.read_csv(\"../snapshots/snapshot_d75.csv\")\n",
    "ems = pd.read_csv(\"../snapshots/snapshot_ems.csv\")\n",
    "hs = pd.read_csv(\"../snapshots/snapshot_hs.csv\")\n",
    "hst = pd.read_csv(\"../snapshots/snapshot_hst.csv\")"
   ]
  },
  {
   "cell_type": "code",
   "execution_count": 7,
   "metadata": {},
   "outputs": [],
   "source": [
    "# get the common columns\n",
    "common_cols = list(set(d75.columns) & set(ems.columns) & set(hs.columns) & set(hst.columns))\n",
    "common_cols.sort()\n",
    "\n",
    "# all columns\n",
    "all_cols = list(set(d75.columns) | set(ems.columns) | set(hs.columns) | set(hst.columns))\n",
    "# list(all_cols)\n"
   ]
  },
  {
   "cell_type": "code",
   "execution_count": 8,
   "metadata": {},
   "outputs": [],
   "source": [
    "\n",
    "t = common_cols\n",
    "pre = [\"city_\", \"p_\", \"rec_\", \"t_\", \"rr_\", \"rec_\", \"se_\", \"sf_\"]\n",
    "list(filter(lambda x: not any(x.startswith(p) for p in pre), t))\n",
    "pass"
   ]
  },
  {
   "cell_type": "code",
   "execution_count": 11,
   "metadata": {},
   "outputs": [],
   "source": [
    "core_cols = ['dbn',\n",
    "             'ay',\n",
    "             'abbr_school_type',\n",
    "             'address',\n",
    "             'attendance_rate',\n",
    "             'authorizer_website',\n",
    "             'co_located',\n",
    "             'ct_pp_city',\n",
    "             'dates_of_review',\n",
    "             'district',\n",
    "             'dual_lang',\n",
    "             'ell_n',\n",
    "             'ell_pct',\n",
    "             'ell_pct_raw',\n",
    "             'enrollment',\n",
    "             'es_pp_city',\n",
    "             'ethnicity_amerindian_n',\n",
    "             'ethnicity_amerindian_pct',\n",
    "             'ethnicity_amerindian_pct_raw',\n",
    "             'ethnicity_asian_n',\n",
    "             'ethnicity_asian_pct',\n",
    "             'ethnicity_asian_pct_raw',\n",
    "             'ethnicity_black_n',\n",
    "             'ethnicity_black_pct',\n",
    "             'ethnicity_black_pct_raw',\n",
    "             'ethnicity_hispanic_n',\n",
    "             'ethnicity_hispanic_pct',\n",
    "             'ethnicity_hispanic_pct_raw',\n",
    "             'ethnicity_pacific_n',\n",
    "             'ethnicity_pacific_pct',\n",
    "             'ethnicity_pacific_pct_raw',\n",
    "             'ethnicity_white_n',\n",
    "             'ethnicity_white_pct',\n",
    "             'ethnicity_white_pct_raw',\n",
    "             'formal_authorizer',\n",
    "             'gender_female_n',\n",
    "             'gender_female_pct',\n",
    "             'gender_female_pct_raw',\n",
    "             'gender_male_n',\n",
    "             'gender_male_pct',\n",
    "             'gender_male_pct_raw',\n",
    "             'gender_x_n',\n",
    "             'gender_x_pct',\n",
    "             'gender_x_pct_raw',\n",
    "             'grades_text',\n",
    "             'iep_n',\n",
    "             'iep_pct',\n",
    "             'iep_pct_raw',\n",
    "             'latitude',\n",
    "             'location_name_long',\n",
    "             'longitude',\n",
    "             'median_distance',\n",
    "             'principal_name',\n",
    "             'principal_years',\n",
    "             'state_program_designation',\n",
    "             'teacher_3yr_exp_pct',\n",
    "             'teacher_ethnicity_amerindian_pct',\n",
    "             'teacher_ethnicity_asian_pct',\n",
    "             'teacher_ethnicity_black_pct',\n",
    "             'teacher_ethnicity_hispanic_pct',\n",
    "             'teacher_ethnicity_pacific_pct',\n",
    "             'teacher_ethnicity_white_pct',\n",
    "             'tr_pp_city',\n",
    "             'url',\n",
    "             'x_coordinate',\n",
    "             'y_coordinate']"
   ]
  },
  {
   "cell_type": "code",
   "execution_count": 22,
   "metadata": {},
   "outputs": [],
   "source": [
    "d75 = d75[core_cols]\n",
    "ems = ems[core_cols]\n",
    "hs = hs[core_cols]\n",
    "hst = hst[core_cols]\n",
    "snap = pd.concat([d75, ems, hs, hst], axis=0, ignore_index=True)\n",
    "\n",
    "snap.columns = [c.replace(\"ethnicity_\",\"\") for c in snap.columns]\n",
    "drop = [\"tr_pp_city\", \"ct_pp_city\", \"es_pp_city\"]\n",
    "snap = snap.drop(columns=drop)\n",
    "snap.rename(columns={\"enrollment\": \"total_enrollment\"}, inplace=True)\n",
    "snap.to_csv(\"../../school-data/snapshot.csv\", index=False)"
   ]
  },
  {
   "cell_type": "code",
   "execution_count": null,
   "metadata": {},
   "outputs": [],
   "source": []
  }
 ],
 "metadata": {
  "kernelspec": {
   "display_name": "nycschools",
   "language": "python",
   "name": "python3"
  },
  "language_info": {
   "codemirror_mode": {
    "name": "ipython",
    "version": 3
   },
   "file_extension": ".py",
   "mimetype": "text/x-python",
   "name": "python",
   "nbconvert_exporter": "python",
   "pygments_lexer": "ipython3",
   "version": "3.10.12"
  }
 },
 "nbformat": 4,
 "nbformat_minor": 2
}
