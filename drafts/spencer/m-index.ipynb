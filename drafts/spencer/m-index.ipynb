{
 "cells": [
  {
   "cell_type": "code",
   "execution_count": 1,
   "metadata": {},
   "outputs": [],
   "source": [
    "import pandas as pd\n",
    "import matplotlib.pyplot as plt\n",
    "import numpy as np\n",
    "from functools import partial\n",
    "\n",
    "from IPython.display import Markdown as md, HTML\n",
    "from nycschools import schools, geo, ui, class_size\n"
   ]
  },
  {
   "cell_type": "code",
   "execution_count": 4,
   "metadata": {},
   "outputs": [
    {
     "data": {
      "text/plain": [
       "Index(['dbn', 'asian_n', 'black_n', 'hispanic_n', 'white_n'], dtype='object')"
      ]
     },
     "execution_count": 4,
     "metadata": {},
     "output_type": "execute_result"
    }
   ],
   "source": [
    "df = schools.load_school_demographics()\n",
    "data = df[df.ay == df.ay.max()]\n",
    "groups = [\"asian_n\", \"black_n\", \"hispanic_n\", \"white_n\"]\n",
    "data = data[[\"dbn\"] + groups]\n",
    "data.columns"
   ]
  },
  {
   "cell_type": "code",
   "execution_count": 5,
   "metadata": {},
   "outputs": [
    {
     "data": {
      "text/html": [
       "<div>\n",
       "<style scoped>\n",
       "    .dataframe tbody tr th:only-of-type {\n",
       "        vertical-align: middle;\n",
       "    }\n",
       "\n",
       "    .dataframe tbody tr th {\n",
       "        vertical-align: top;\n",
       "    }\n",
       "\n",
       "    .dataframe thead th {\n",
       "        text-align: right;\n",
       "    }\n",
       "</style>\n",
       "<table border=\"1\" class=\"dataframe\">\n",
       "  <thead>\n",
       "    <tr style=\"text-align: right;\">\n",
       "      <th></th>\n",
       "      <th>u</th>\n",
       "      <th>asian</th>\n",
       "      <th>black</th>\n",
       "      <th>hispanic</th>\n",
       "      <th>white</th>\n",
       "    </tr>\n",
       "  </thead>\n",
       "  <tbody>\n",
       "    <tr>\n",
       "      <th>4</th>\n",
       "      <td>01M015</td>\n",
       "      <td>26</td>\n",
       "      <td>53</td>\n",
       "      <td>102</td>\n",
       "      <td>11</td>\n",
       "    </tr>\n",
       "    <tr>\n",
       "      <th>9</th>\n",
       "      <td>01M019</td>\n",
       "      <td>13</td>\n",
       "      <td>41</td>\n",
       "      <td>130</td>\n",
       "      <td>17</td>\n",
       "    </tr>\n",
       "    <tr>\n",
       "      <th>14</th>\n",
       "      <td>01M020</td>\n",
       "      <td>102</td>\n",
       "      <td>55</td>\n",
       "      <td>215</td>\n",
       "      <td>30</td>\n",
       "    </tr>\n",
       "    <tr>\n",
       "      <th>19</th>\n",
       "      <td>01M034</td>\n",
       "      <td>7</td>\n",
       "      <td>104</td>\n",
       "      <td>152</td>\n",
       "      <td>8</td>\n",
       "    </tr>\n",
       "    <tr>\n",
       "      <th>24</th>\n",
       "      <td>01M063</td>\n",
       "      <td>6</td>\n",
       "      <td>40</td>\n",
       "      <td>132</td>\n",
       "      <td>19</td>\n",
       "    </tr>\n",
       "  </tbody>\n",
       "</table>\n",
       "</div>"
      ],
      "text/plain": [
       "         u  asian  black  hispanic  white\n",
       "4   01M015     26     53       102     11\n",
       "9   01M019     13     41       130     17\n",
       "14  01M020    102     55       215     30\n",
       "19  01M034      7    104       152      8\n",
       "24  01M063      6     40       132     19"
      ]
     },
     "execution_count": 5,
     "metadata": {},
     "output_type": "execute_result"
    }
   ],
   "source": [
    "# M index based on\n",
    "# https://elbersb.github.io/segregation/articles/segregation.html\n",
    "T = data.copy()\n",
    "T.columns = ['u', 'asian', 'black', 'hispanic', 'white']\n",
    "\n",
    "U = data.dbn # unites, i.e. schools in our data\n",
    "G = groups # we are only using the 4 ethnic groups and will assume they are distinct\n",
    "T.head()\n"
   ]
  },
  {
   "cell_type": "code",
   "execution_count": 13,
   "metadata": {},
   "outputs": [
    {
     "data": {
      "text/html": [
       "<div>\n",
       "<style scoped>\n",
       "    .dataframe tbody tr th:only-of-type {\n",
       "        vertical-align: middle;\n",
       "    }\n",
       "\n",
       "    .dataframe tbody tr th {\n",
       "        vertical-align: top;\n",
       "    }\n",
       "\n",
       "    .dataframe thead th {\n",
       "        text-align: right;\n",
       "    }\n",
       "</style>\n",
       "<table border=\"1\" class=\"dataframe\">\n",
       "  <thead>\n",
       "    <tr style=\"text-align: right;\">\n",
       "      <th></th>\n",
       "      <th>asian</th>\n",
       "      <th>black</th>\n",
       "      <th>hispanic</th>\n",
       "      <th>white</th>\n",
       "    </tr>\n",
       "    <tr>\n",
       "      <th>u</th>\n",
       "      <th></th>\n",
       "      <th></th>\n",
       "      <th></th>\n",
       "      <th></th>\n",
       "    </tr>\n",
       "  </thead>\n",
       "  <tbody>\n",
       "    <tr>\n",
       "      <th>01M015</th>\n",
       "      <td>0.009001</td>\n",
       "      <td>0.009001</td>\n",
       "      <td>0.009001</td>\n",
       "      <td>0.009001</td>\n",
       "    </tr>\n",
       "    <tr>\n",
       "      <th>01M019</th>\n",
       "      <td>0.011701</td>\n",
       "      <td>0.036904</td>\n",
       "      <td>0.117012</td>\n",
       "      <td>0.015302</td>\n",
       "    </tr>\n",
       "    <tr>\n",
       "      <th>01M020</th>\n",
       "      <td>0.091809</td>\n",
       "      <td>0.049505</td>\n",
       "      <td>0.193519</td>\n",
       "      <td>0.027003</td>\n",
       "    </tr>\n",
       "    <tr>\n",
       "      <th>01M034</th>\n",
       "      <td>0.006301</td>\n",
       "      <td>0.093609</td>\n",
       "      <td>0.136814</td>\n",
       "      <td>0.007201</td>\n",
       "    </tr>\n",
       "    <tr>\n",
       "      <th>01M063</th>\n",
       "      <td>0.005401</td>\n",
       "      <td>0.036004</td>\n",
       "      <td>0.118812</td>\n",
       "      <td>0.017102</td>\n",
       "    </tr>\n",
       "  </tbody>\n",
       "</table>\n",
       "</div>"
      ],
      "text/plain": [
       "           asian     black  hispanic     white\n",
       "u                                             \n",
       "01M015  0.009001  0.009001  0.009001  0.009001\n",
       "01M019  0.011701  0.036904  0.117012  0.015302\n",
       "01M020  0.091809  0.049505  0.193519  0.027003\n",
       "01M034  0.006301  0.093609  0.136814  0.007201\n",
       "01M063  0.005401  0.036004  0.118812  0.017102"
      ]
     },
     "metadata": {},
     "output_type": "display_data"
    },
    {
     "data": {
      "text/plain": [
       "u\n",
       "01M015    0.036004\n",
       "01M019    0.180918\n",
       "01M020    0.361836\n",
       "01M034    0.243924\n",
       "01M063    0.177318\n",
       "dtype: float64"
      ]
     },
     "metadata": {},
     "output_type": "display_data"
    },
    {
     "data": {
      "text/plain": [
       "asian       0.124212\n",
       "black       0.225023\n",
       "hispanic    0.575158\n",
       "white       0.075608\n",
       "dtype: float64"
      ]
     },
     "metadata": {},
     "output_type": "display_data"
    },
    {
     "data": {
      "text/plain": [
       "0.08210034929324432"
      ]
     },
     "execution_count": 13,
     "metadata": {},
     "output_type": "execute_result"
    }
   ],
   "source": [
    "import pandas as pd\n",
    "import numpy as np\n",
    "\n",
    "# Create the DataFrame\n",
    "data = {\n",
    "    'u': ['01M015', '01M019', '01M020', '01M034', '01M063'],\n",
    "    'asian': [10, 13, 102, 7, 6],\n",
    "    'black': [10, 41, 55, 104, 40],\n",
    "    'hispanic': [10, 130, 215, 152, 132],\n",
    "    'white': [10, 17, 30, 8, 19]\n",
    "}\n",
    "\n",
    "df = pd.DataFrame(data).set_index('u')\n",
    "\n",
    "# Calculate the joint probabilities p_ug\n",
    "total = df.values.sum()\n",
    "joint_probabilities = df / total # school-group pop / total pop\n",
    "marginal_u = df.sum(axis=1) / total # school pop / total pop\n",
    "marginal_g = df.sum(axis=0) / total # group pop / total pop\n",
    "display(joint_probabilities)\n",
    "display(marginal_u)\n",
    "display(marginal_g)\n",
    "\n",
    "\n",
    "# Initialize Mutual Information sum\n",
    "mutual_information = 0\n",
    "\n",
    "\n",
    "# Calculate the Mutual Information\n",
    "for school in df.index:\n",
    "    for group in df.columns:\n",
    "        p_ug = joint_probabilities.at[school, group]\n",
    "        p_u = marginal_u.at[school]\n",
    "        p_g = marginal_g.at[group]\n",
    "        if p_ug > 0:  # To avoid log(0)\n",
    "            mutual_information += p_ug * np.log(p_ug / (p_u * p_g))\n",
    "\n",
    "mutual_information"
   ]
  },
  {
   "cell_type": "code",
   "execution_count": null,
   "metadata": {},
   "outputs": [],
   "source": [
    "import pandas as pd\n",
    "import numpy as np\n",
    "\n",
    "# Create the DataFrame\n",
    "data = {\n",
    "    'u': ['01M015', '01M019', '01M020', '01M034', '01M063'],\n",
    "    'asian': [10, 13, 102, 7, 6],\n",
    "    'black': [10, 41, 55, 104, 40],\n",
    "    'hispanic': [10, 130, 215, 152, 132],\n",
    "    'white': [10, 17, 30, 8, 19]\n",
    "}\n",
    "\n",
    "df = pd.DataFrame(data).set_index('u')\n",
    "\n",
    "# Calculate the joint probabilities p_ug\n",
    "total = df.values.sum()\n",
    "df[\"p_ug\"] = df / total\n",
    "df[\"p_u\"] = df.sum(axis=1) / total  # school pop / total pop\n",
    "df[\"p_g\"] = df.sum(axis=0) / total  # group pop / total pop\n",
    "\n",
    "\n",
    "def calc_m(row):\n",
    "    for group in df.columns:\n",
    "        p_ug = joint_probabilities.at[school, group]\n",
    "        p_u = marginal_u.at[school]\n",
    "        p_g = marginal_g.at[group]\n",
    "        if p_ug > 0:  # To avoid log(0)\n",
    "            mutual_information += p_ug * np.log(p_ug / (p_u * p_g))\n",
    "\n",
    "mutual_information"
   ]
  }
 ],
 "metadata": {
  "kernelspec": {
   "display_name": "nycschools",
   "language": "python",
   "name": "python3"
  },
  "language_info": {
   "codemirror_mode": {
    "name": "ipython",
    "version": 3
   },
   "file_extension": ".py",
   "mimetype": "text/x-python",
   "name": "python",
   "nbconvert_exporter": "python",
   "pygments_lexer": "ipython3",
   "version": "3.10.12"
  }
 },
 "nbformat": 4,
 "nbformat_minor": 2
}
