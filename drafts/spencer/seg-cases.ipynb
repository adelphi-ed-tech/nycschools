{
 "cells": [
  {
   "cell_type": "code",
   "execution_count": 6,
   "metadata": {},
   "outputs": [],
   "source": [
    "import pandas as pd\n",
    "import numpy as np\n",
    "import matplotlib.pyplot as plt\n",
    "import plotly.express as px\n",
    "import plotly.graph_objects as go\n",
    "import seaborn as sns\n",
    "from nycschools import schools, geo, segregation as seg\n",
    "import warnings\n",
    "warnings.filterwarnings('ignore')"
   ]
  },
  {
   "cell_type": "code",
   "execution_count": 4,
   "metadata": {},
   "outputs": [
    {
     "data": {
      "text/html": [
       "<div>\n",
       "<style scoped>\n",
       "    .dataframe tbody tr th:only-of-type {\n",
       "        vertical-align: middle;\n",
       "    }\n",
       "\n",
       "    .dataframe tbody tr th {\n",
       "        vertical-align: top;\n",
       "    }\n",
       "\n",
       "    .dataframe thead th {\n",
       "        text-align: right;\n",
       "    }\n",
       "</style>\n",
       "<table border=\"1\" class=\"dataframe\">\n",
       "  <thead>\n",
       "    <tr style=\"text-align: right;\">\n",
       "      <th></th>\n",
       "      <th>dbn</th>\n",
       "      <th>ay</th>\n",
       "      <th>district</th>\n",
       "      <th>g</th>\n",
       "      <th>n</th>\n",
       "    </tr>\n",
       "  </thead>\n",
       "  <tbody>\n",
       "    <tr>\n",
       "      <th>0</th>\n",
       "      <td>01M015</td>\n",
       "      <td>2005</td>\n",
       "      <td>1</td>\n",
       "      <td>asian_n</td>\n",
       "      <td>10</td>\n",
       "    </tr>\n",
       "    <tr>\n",
       "      <th>1</th>\n",
       "      <td>01M015</td>\n",
       "      <td>2006</td>\n",
       "      <td>1</td>\n",
       "      <td>asian_n</td>\n",
       "      <td>18</td>\n",
       "    </tr>\n",
       "    <tr>\n",
       "      <th>2</th>\n",
       "      <td>01M015</td>\n",
       "      <td>2007</td>\n",
       "      <td>1</td>\n",
       "      <td>asian_n</td>\n",
       "      <td>16</td>\n",
       "    </tr>\n",
       "    <tr>\n",
       "      <th>3</th>\n",
       "      <td>01M015</td>\n",
       "      <td>2008</td>\n",
       "      <td>1</td>\n",
       "      <td>asian_n</td>\n",
       "      <td>16</td>\n",
       "    </tr>\n",
       "    <tr>\n",
       "      <th>4</th>\n",
       "      <td>01M015</td>\n",
       "      <td>2009</td>\n",
       "      <td>1</td>\n",
       "      <td>asian_n</td>\n",
       "      <td>16</td>\n",
       "    </tr>\n",
       "    <tr>\n",
       "      <th>...</th>\n",
       "      <td>...</td>\n",
       "      <td>...</td>\n",
       "      <td>...</td>\n",
       "      <td>...</td>\n",
       "      <td>...</td>\n",
       "    </tr>\n",
       "    <tr>\n",
       "      <th>198403</th>\n",
       "      <td>84X730</td>\n",
       "      <td>2018</td>\n",
       "      <td>84</td>\n",
       "      <td>missing_race_ethnicity_data_n</td>\n",
       "      <td>0</td>\n",
       "    </tr>\n",
       "    <tr>\n",
       "      <th>198404</th>\n",
       "      <td>84X730</td>\n",
       "      <td>2019</td>\n",
       "      <td>84</td>\n",
       "      <td>missing_race_ethnicity_data_n</td>\n",
       "      <td>0</td>\n",
       "    </tr>\n",
       "    <tr>\n",
       "      <th>198405</th>\n",
       "      <td>84X730</td>\n",
       "      <td>2020</td>\n",
       "      <td>84</td>\n",
       "      <td>missing_race_ethnicity_data_n</td>\n",
       "      <td>1</td>\n",
       "    </tr>\n",
       "    <tr>\n",
       "      <th>198406</th>\n",
       "      <td>84X730</td>\n",
       "      <td>2021</td>\n",
       "      <td>84</td>\n",
       "      <td>missing_race_ethnicity_data_n</td>\n",
       "      <td>2</td>\n",
       "    </tr>\n",
       "    <tr>\n",
       "      <th>198407</th>\n",
       "      <td>84X730</td>\n",
       "      <td>2022</td>\n",
       "      <td>84</td>\n",
       "      <td>missing_race_ethnicity_data_n</td>\n",
       "      <td>2</td>\n",
       "    </tr>\n",
       "  </tbody>\n",
       "</table>\n",
       "<p>198408 rows × 5 columns</p>\n",
       "</div>"
      ],
      "text/plain": [
       "           dbn    ay  district                              g   n\n",
       "0       01M015  2005         1                        asian_n  10\n",
       "1       01M015  2006         1                        asian_n  18\n",
       "2       01M015  2007         1                        asian_n  16\n",
       "3       01M015  2008         1                        asian_n  16\n",
       "4       01M015  2009         1                        asian_n  16\n",
       "...        ...   ...       ...                            ...  ..\n",
       "198403  84X730  2018        84  missing_race_ethnicity_data_n   0\n",
       "198404  84X730  2019        84  missing_race_ethnicity_data_n   0\n",
       "198405  84X730  2020        84  missing_race_ethnicity_data_n   1\n",
       "198406  84X730  2021        84  missing_race_ethnicity_data_n   2\n",
       "198407  84X730  2022        84  missing_race_ethnicity_data_n   2\n",
       "\n",
       "[198408 rows x 5 columns]"
      ]
     },
     "execution_count": 4,
     "metadata": {},
     "output_type": "execute_result"
    }
   ],
   "source": [
    "# get long data for all schools, all years\n",
    "demos = schools.load_school_demographics()\n",
    "groups = [ 'asian_n', 'black_n', 'hispanic_n', 'multi_racial_n', 'native_american_n', 'white_n', 'missing_race_ethnicity_data_n', ]\n",
    "index = ['dbn', 'ay', 'district']\n",
    "data = demos[index + groups]\n",
    "data = pd.melt(demos, id_vars=index, value_vars=groups, var_name='g', value_name='n')\n",
    "data\n"
   ]
  },
  {
   "cell_type": "code",
   "execution_count": 7,
   "metadata": {},
   "outputs": [
    {
     "data": {
      "text/html": [
       "<div>\n",
       "<style scoped>\n",
       "    .dataframe tbody tr th:only-of-type {\n",
       "        vertical-align: middle;\n",
       "    }\n",
       "\n",
       "    .dataframe tbody tr th {\n",
       "        vertical-align: top;\n",
       "    }\n",
       "\n",
       "    .dataframe thead th {\n",
       "        text-align: right;\n",
       "    }\n",
       "</style>\n",
       "<table border=\"1\" class=\"dataframe\">\n",
       "  <thead>\n",
       "    <tr style=\"text-align: right;\">\n",
       "      <th></th>\n",
       "      <th>dbn</th>\n",
       "      <th>white_n</th>\n",
       "      <th>cumulative_white_students</th>\n",
       "      <th>cumulative_share_white_students</th>\n",
       "      <th>cumulative_share_schools</th>\n",
       "      <th>label</th>\n",
       "    </tr>\n",
       "  </thead>\n",
       "  <tbody>\n",
       "    <tr>\n",
       "      <th>0</th>\n",
       "      <td>10X159</td>\n",
       "      <td>0</td>\n",
       "      <td>0</td>\n",
       "      <td>0.000000</td>\n",
       "      <td>0.000529</td>\n",
       "      <td>0.05% of schools, 0.00% white students</td>\n",
       "    </tr>\n",
       "    <tr>\n",
       "      <th>1</th>\n",
       "      <td>09X170</td>\n",
       "      <td>0</td>\n",
       "      <td>0</td>\n",
       "      <td>0.000000</td>\n",
       "      <td>0.001058</td>\n",
       "      <td>0.11% of schools, 0.00% white students</td>\n",
       "    </tr>\n",
       "    <tr>\n",
       "      <th>2</th>\n",
       "      <td>09X088</td>\n",
       "      <td>0</td>\n",
       "      <td>0</td>\n",
       "      <td>0.000000</td>\n",
       "      <td>0.001587</td>\n",
       "      <td>0.16% of schools, 0.00% white students</td>\n",
       "    </tr>\n",
       "    <tr>\n",
       "      <th>3</th>\n",
       "      <td>09X004</td>\n",
       "      <td>0</td>\n",
       "      <td>0</td>\n",
       "      <td>0.000000</td>\n",
       "      <td>0.002116</td>\n",
       "      <td>0.21% of schools, 0.00% white students</td>\n",
       "    </tr>\n",
       "    <tr>\n",
       "      <th>4</th>\n",
       "      <td>84K710</td>\n",
       "      <td>0</td>\n",
       "      <td>0</td>\n",
       "      <td>0.000000</td>\n",
       "      <td>0.002646</td>\n",
       "      <td>0.26% of schools, 0.00% white students</td>\n",
       "    </tr>\n",
       "    <tr>\n",
       "      <th>...</th>\n",
       "      <td>...</td>\n",
       "      <td>...</td>\n",
       "      <td>...</td>\n",
       "      <td>...</td>\n",
       "      <td>...</td>\n",
       "      <td>...</td>\n",
       "    </tr>\n",
       "    <tr>\n",
       "      <th>1885</th>\n",
       "      <td>20K490</td>\n",
       "      <td>1307</td>\n",
       "      <td>130670</td>\n",
       "      <td>0.949106</td>\n",
       "      <td>0.997884</td>\n",
       "      <td>99.79% of schools, 94.91% white students</td>\n",
       "    </tr>\n",
       "    <tr>\n",
       "      <th>1886</th>\n",
       "      <td>13K430</td>\n",
       "      <td>1344</td>\n",
       "      <td>132014</td>\n",
       "      <td>0.958867</td>\n",
       "      <td>0.998413</td>\n",
       "      <td>99.84% of schools, 95.89% white students</td>\n",
       "    </tr>\n",
       "    <tr>\n",
       "      <th>1887</th>\n",
       "      <td>31R440</td>\n",
       "      <td>1380</td>\n",
       "      <td>133394</td>\n",
       "      <td>0.968891</td>\n",
       "      <td>0.998942</td>\n",
       "      <td>99.89% of schools, 96.89% white students</td>\n",
       "    </tr>\n",
       "    <tr>\n",
       "      <th>1888</th>\n",
       "      <td>22K425</td>\n",
       "      <td>1760</td>\n",
       "      <td>135154</td>\n",
       "      <td>0.981674</td>\n",
       "      <td>0.999471</td>\n",
       "      <td>99.95% of schools, 98.17% white students</td>\n",
       "    </tr>\n",
       "    <tr>\n",
       "      <th>1889</th>\n",
       "      <td>31R455</td>\n",
       "      <td>2523</td>\n",
       "      <td>137677</td>\n",
       "      <td>1.000000</td>\n",
       "      <td>1.000000</td>\n",
       "      <td>100.00% of schools, 100.00% white students</td>\n",
       "    </tr>\n",
       "  </tbody>\n",
       "</table>\n",
       "<p>1890 rows × 6 columns</p>\n",
       "</div>"
      ],
      "text/plain": [
       "         dbn  white_n  cumulative_white_students  \\\n",
       "0     10X159        0                          0   \n",
       "1     09X170        0                          0   \n",
       "2     09X088        0                          0   \n",
       "3     09X004        0                          0   \n",
       "4     84K710        0                          0   \n",
       "...      ...      ...                        ...   \n",
       "1885  20K490     1307                     130670   \n",
       "1886  13K430     1344                     132014   \n",
       "1887  31R440     1380                     133394   \n",
       "1888  22K425     1760                     135154   \n",
       "1889  31R455     2523                     137677   \n",
       "\n",
       "      cumulative_share_white_students  cumulative_share_schools  \\\n",
       "0                            0.000000                  0.000529   \n",
       "1                            0.000000                  0.001058   \n",
       "2                            0.000000                  0.001587   \n",
       "3                            0.000000                  0.002116   \n",
       "4                            0.000000                  0.002646   \n",
       "...                               ...                       ...   \n",
       "1885                         0.949106                  0.997884   \n",
       "1886                         0.958867                  0.998413   \n",
       "1887                         0.968891                  0.998942   \n",
       "1888                         0.981674                  0.999471   \n",
       "1889                         1.000000                  1.000000   \n",
       "\n",
       "                                           label  \n",
       "0         0.05% of schools, 0.00% white students  \n",
       "1         0.11% of schools, 0.00% white students  \n",
       "2         0.16% of schools, 0.00% white students  \n",
       "3         0.21% of schools, 0.00% white students  \n",
       "4         0.26% of schools, 0.00% white students  \n",
       "...                                          ...  \n",
       "1885    99.79% of schools, 94.91% white students  \n",
       "1886    99.84% of schools, 95.89% white students  \n",
       "1887    99.89% of schools, 96.89% white students  \n",
       "1888    99.95% of schools, 98.17% white students  \n",
       "1889  100.00% of schools, 100.00% white students  \n",
       "\n",
       "[1890 rows x 6 columns]"
      ]
     },
     "metadata": {},
     "output_type": "display_data"
    },
    {
     "data": {
      "application/vnd.plotly.v1+json": {
       "config": {
        "plotlyServerURL": "https://plot.ly"
       },
       "data": [
        {
         "fill": "tozeroy",
         "mode": "lines",
         "name": "Lorenz Curve",
         "text": [
          "0.05% of schools, 0.00% white students",
          "0.11% of schools, 0.00% white students",
          "0.16% of schools, 0.00% white students",
          "0.21% of schools, 0.00% white students",
          "0.26% of schools, 0.00% white students",
          "0.32% of schools, 0.00% white students",
          "0.37% of schools, 0.00% white students",
          "0.42% of schools, 0.00% white students",
          "0.48% of schools, 0.00% white students",
          "0.53% of schools, 0.00% white students",
          "0.58% of schools, 0.00% white students",
          "0.63% of schools, 0.00% white students",
          "0.69% of schools, 0.00% white students",
          "0.74% of schools, 0.00% white students",
          "0.79% of schools, 0.00% white students",
          "0.85% of schools, 0.00% white students",
          "0.90% of schools, 0.00% white students",
          "0.95% of schools, 0.00% white students",
          "1.01% of schools, 0.00% white students",
          "1.06% of schools, 0.00% white students",
          "1.11% of schools, 0.00% white students",
          "1.16% of schools, 0.00% white students",
          "1.22% of schools, 0.00% white students",
          "1.27% of schools, 0.00% white students",
          "1.32% of schools, 0.00% white students",
          "1.38% of schools, 0.00% white students",
          "1.43% of schools, 0.00% white students",
          "1.48% of schools, 0.00% white students",
          "1.53% of schools, 0.00% white students",
          "1.59% of schools, 0.00% white students",
          "1.64% of schools, 0.00% white students",
          "1.69% of schools, 0.00% white students",
          "1.75% of schools, 0.00% white students",
          "1.80% of schools, 0.00% white students",
          "1.85% of schools, 0.00% white students",
          "1.90% of schools, 0.00% white students",
          "1.96% of schools, 0.00% white students",
          "2.01% of schools, 0.00% white students",
          "2.06% of schools, 0.00% white students",
          "2.12% of schools, 0.00% white students",
          "2.17% of schools, 0.00% white students",
          "2.22% of schools, 0.00% white students",
          "2.28% of schools, 0.00% white students",
          "2.33% of schools, 0.00% white students",
          "2.38% of schools, 0.00% white students",
          "2.43% of schools, 0.00% white students",
          "2.49% of schools, 0.00% white students",
          "2.54% of schools, 0.00% white students",
          "2.59% of schools, 0.00% white students",
          "2.65% of schools, 0.00% white students",
          "2.70% of schools, 0.00% white students",
          "2.75% of schools, 0.00% white students",
          "2.80% of schools, 0.00% white students",
          "2.86% of schools, 0.00% white students",
          "2.91% of schools, 0.00% white students",
          "2.96% of schools, 0.00% white students",
          "3.02% of schools, 0.01% white students",
          "3.07% of schools, 0.01% white students",
          "3.12% of schools, 0.01% white students",
          "3.17% of schools, 0.01% white students",
          "3.23% of schools, 0.01% white students",
          "3.28% of schools, 0.01% white students",
          "3.33% of schools, 0.01% white students",
          "3.39% of schools, 0.01% white students",
          "3.44% of schools, 0.01% white students",
          "3.49% of schools, 0.01% white students",
          "3.54% of schools, 0.01% white students",
          "3.60% of schools, 0.01% white students",
          "3.65% of schools, 0.01% white students",
          "3.70% of schools, 0.01% white students",
          "3.76% of schools, 0.02% white students",
          "3.81% of schools, 0.02% white students",
          "3.86% of schools, 0.02% white students",
          "3.92% of schools, 0.02% white students",
          "3.97% of schools, 0.02% white students",
          "4.02% of schools, 0.02% white students",
          "4.07% of schools, 0.02% white students",
          "4.13% of schools, 0.02% white students",
          "4.18% of schools, 0.02% white students",
          "4.23% of schools, 0.02% white students",
          "4.29% of schools, 0.02% white students",
          "4.34% of schools, 0.02% white students",
          "4.39% of schools, 0.02% white students",
          "4.44% of schools, 0.02% white students",
          "4.50% of schools, 0.03% white students",
          "4.55% of schools, 0.03% white students",
          "4.60% of schools, 0.03% white students",
          "4.66% of schools, 0.03% white students",
          "4.71% of schools, 0.03% white students",
          "4.76% of schools, 0.03% white students",
          "4.81% of schools, 0.03% white students",
          "4.87% of schools, 0.03% white students",
          "4.92% of schools, 0.03% white students",
          "4.97% of schools, 0.03% white students",
          "5.03% of schools, 0.03% white students",
          "5.08% of schools, 0.03% white students",
          "5.13% of schools, 0.03% white students",
          "5.19% of schools, 0.03% white students",
          "5.24% of schools, 0.04% white students",
          "5.29% of schools, 0.04% white students",
          "5.34% of schools, 0.04% white students",
          "5.40% of schools, 0.04% white students",
          "5.45% of schools, 0.04% white students",
          "5.50% of schools, 0.04% white students",
          "5.56% of schools, 0.04% white students",
          "5.61% of schools, 0.04% white students",
          "5.66% of schools, 0.04% white students",
          "5.71% of schools, 0.04% white students",
          "5.77% of schools, 0.04% white students",
          "5.82% of schools, 0.04% white students",
          "5.87% of schools, 0.04% white students",
          "5.93% of schools, 0.05% white students",
          "5.98% of schools, 0.05% white students",
          "6.03% of schools, 0.05% white students",
          "6.08% of schools, 0.05% white students",
          "6.14% of schools, 0.05% white students",
          "6.19% of schools, 0.05% white students",
          "6.24% of schools, 0.05% white students",
          "6.30% of schools, 0.05% white students",
          "6.35% of schools, 0.05% white students",
          "6.40% of schools, 0.05% white students",
          "6.46% of schools, 0.06% white students",
          "6.51% of schools, 0.06% white students",
          "6.56% of schools, 0.06% white students",
          "6.61% of schools, 0.06% white students",
          "6.67% of schools, 0.06% white students",
          "6.72% of schools, 0.06% white students",
          "6.77% of schools, 0.06% white students",
          "6.83% of schools, 0.07% white students",
          "6.88% of schools, 0.07% white students",
          "6.93% of schools, 0.07% white students",
          "6.98% of schools, 0.07% white students",
          "7.04% of schools, 0.07% white students",
          "7.09% of schools, 0.07% white students",
          "7.14% of schools, 0.07% white students",
          "7.20% of schools, 0.08% white students",
          "7.25% of schools, 0.08% white students",
          "7.30% of schools, 0.08% white students",
          "7.35% of schools, 0.08% white students",
          "7.41% of schools, 0.08% white students",
          "7.46% of schools, 0.08% white students",
          "7.51% of schools, 0.08% white students",
          "7.57% of schools, 0.09% white students",
          "7.62% of schools, 0.09% white students",
          "7.67% of schools, 0.09% white students",
          "7.72% of schools, 0.09% white students",
          "7.78% of schools, 0.09% white students",
          "7.83% of schools, 0.09% white students",
          "7.88% of schools, 0.09% white students",
          "7.94% of schools, 0.10% white students",
          "7.99% of schools, 0.10% white students",
          "8.04% of schools, 0.10% white students",
          "8.10% of schools, 0.10% white students",
          "8.15% of schools, 0.10% white students",
          "8.20% of schools, 0.10% white students",
          "8.25% of schools, 0.10% white students",
          "8.31% of schools, 0.11% white students",
          "8.36% of schools, 0.11% white students",
          "8.41% of schools, 0.11% white students",
          "8.47% of schools, 0.11% white students",
          "8.52% of schools, 0.11% white students",
          "8.57% of schools, 0.11% white students",
          "8.62% of schools, 0.11% white students",
          "8.68% of schools, 0.12% white students",
          "8.73% of schools, 0.12% white students",
          "8.78% of schools, 0.12% white students",
          "8.84% of schools, 0.12% white students",
          "8.89% of schools, 0.12% white students",
          "8.94% of schools, 0.12% white students",
          "8.99% of schools, 0.12% white students",
          "9.05% of schools, 0.13% white students",
          "9.10% of schools, 0.13% white students",
          "9.15% of schools, 0.13% white students",
          "9.21% of schools, 0.13% white students",
          "9.26% of schools, 0.13% white students",
          "9.31% of schools, 0.13% white students",
          "9.37% of schools, 0.14% white students",
          "9.42% of schools, 0.14% white students",
          "9.47% of schools, 0.14% white students",
          "9.52% of schools, 0.14% white students",
          "9.58% of schools, 0.14% white students",
          "9.63% of schools, 0.14% white students",
          "9.68% of schools, 0.14% white students",
          "9.74% of schools, 0.15% white students",
          "9.79% of schools, 0.15% white students",
          "9.84% of schools, 0.15% white students",
          "9.89% of schools, 0.15% white students",
          "9.95% of schools, 0.15% white students",
          "10.00% of schools, 0.15% white students",
          "10.05% of schools, 0.15% white students",
          "10.11% of schools, 0.16% white students",
          "10.16% of schools, 0.16% white students",
          "10.21% of schools, 0.16% white students",
          "10.26% of schools, 0.16% white students",
          "10.32% of schools, 0.16% white students",
          "10.37% of schools, 0.16% white students",
          "10.42% of schools, 0.16% white students",
          "10.48% of schools, 0.17% white students",
          "10.53% of schools, 0.17% white students",
          "10.58% of schools, 0.17% white students",
          "10.63% of schools, 0.17% white students",
          "10.69% of schools, 0.17% white students",
          "10.74% of schools, 0.17% white students",
          "10.79% of schools, 0.17% white students",
          "10.85% of schools, 0.18% white students",
          "10.90% of schools, 0.18% white students",
          "10.95% of schools, 0.18% white students",
          "11.01% of schools, 0.18% white students",
          "11.06% of schools, 0.18% white students",
          "11.11% of schools, 0.18% white students",
          "11.16% of schools, 0.18% white students",
          "11.22% of schools, 0.19% white students",
          "11.27% of schools, 0.19% white students",
          "11.32% of schools, 0.19% white students",
          "11.38% of schools, 0.19% white students",
          "11.43% of schools, 0.19% white students",
          "11.48% of schools, 0.19% white students",
          "11.53% of schools, 0.20% white students",
          "11.59% of schools, 0.20% white students",
          "11.64% of schools, 0.20% white students",
          "11.69% of schools, 0.20% white students",
          "11.75% of schools, 0.20% white students",
          "11.80% of schools, 0.21% white students",
          "11.85% of schools, 0.21% white students",
          "11.90% of schools, 0.21% white students",
          "11.96% of schools, 0.21% white students",
          "12.01% of schools, 0.22% white students",
          "12.06% of schools, 0.22% white students",
          "12.12% of schools, 0.22% white students",
          "12.17% of schools, 0.22% white students",
          "12.22% of schools, 0.22% white students",
          "12.28% of schools, 0.23% white students",
          "12.33% of schools, 0.23% white students",
          "12.38% of schools, 0.23% white students",
          "12.43% of schools, 0.23% white students",
          "12.49% of schools, 0.24% white students",
          "12.54% of schools, 0.24% white students",
          "12.59% of schools, 0.24% white students",
          "12.65% of schools, 0.24% white students",
          "12.70% of schools, 0.24% white students",
          "12.75% of schools, 0.25% white students",
          "12.80% of schools, 0.25% white students",
          "12.86% of schools, 0.25% white students",
          "12.91% of schools, 0.25% white students",
          "12.96% of schools, 0.25% white students",
          "13.02% of schools, 0.26% white students",
          "13.07% of schools, 0.26% white students",
          "13.12% of schools, 0.26% white students",
          "13.17% of schools, 0.26% white students",
          "13.23% of schools, 0.27% white students",
          "13.28% of schools, 0.27% white students",
          "13.33% of schools, 0.27% white students",
          "13.39% of schools, 0.27% white students",
          "13.44% of schools, 0.27% white students",
          "13.49% of schools, 0.28% white students",
          "13.54% of schools, 0.28% white students",
          "13.60% of schools, 0.28% white students",
          "13.65% of schools, 0.28% white students",
          "13.70% of schools, 0.29% white students",
          "13.76% of schools, 0.29% white students",
          "13.81% of schools, 0.29% white students",
          "13.86% of schools, 0.29% white students",
          "13.92% of schools, 0.29% white students",
          "13.97% of schools, 0.30% white students",
          "14.02% of schools, 0.30% white students",
          "14.07% of schools, 0.30% white students",
          "14.13% of schools, 0.30% white students",
          "14.18% of schools, 0.31% white students",
          "14.23% of schools, 0.31% white students",
          "14.29% of schools, 0.31% white students",
          "14.34% of schools, 0.31% white students",
          "14.39% of schools, 0.31% white students",
          "14.44% of schools, 0.32% white students",
          "14.50% of schools, 0.32% white students",
          "14.55% of schools, 0.32% white students",
          "14.60% of schools, 0.32% white students",
          "14.66% of schools, 0.32% white students",
          "14.71% of schools, 0.33% white students",
          "14.76% of schools, 0.33% white students",
          "14.81% of schools, 0.33% white students",
          "14.87% of schools, 0.33% white students",
          "14.92% of schools, 0.34% white students",
          "14.97% of schools, 0.34% white students",
          "15.03% of schools, 0.34% white students",
          "15.08% of schools, 0.34% white students",
          "15.13% of schools, 0.34% white students",
          "15.19% of schools, 0.35% white students",
          "15.24% of schools, 0.35% white students",
          "15.29% of schools, 0.35% white students",
          "15.34% of schools, 0.35% white students",
          "15.40% of schools, 0.36% white students",
          "15.45% of schools, 0.36% white students",
          "15.50% of schools, 0.36% white students",
          "15.56% of schools, 0.36% white students",
          "15.61% of schools, 0.36% white students",
          "15.66% of schools, 0.37% white students",
          "15.71% of schools, 0.37% white students",
          "15.77% of schools, 0.37% white students",
          "15.82% of schools, 0.37% white students",
          "15.87% of schools, 0.37% white students",
          "15.93% of schools, 0.38% white students",
          "15.98% of schools, 0.38% white students",
          "16.03% of schools, 0.38% white students",
          "16.08% of schools, 0.38% white students",
          "16.14% of schools, 0.39% white students",
          "16.19% of schools, 0.39% white students",
          "16.24% of schools, 0.39% white students",
          "16.30% of schools, 0.39% white students",
          "16.35% of schools, 0.39% white students",
          "16.40% of schools, 0.40% white students",
          "16.46% of schools, 0.40% white students",
          "16.51% of schools, 0.40% white students",
          "16.56% of schools, 0.40% white students",
          "16.61% of schools, 0.41% white students",
          "16.67% of schools, 0.41% white students",
          "16.72% of schools, 0.41% white students",
          "16.77% of schools, 0.41% white students",
          "16.83% of schools, 0.41% white students",
          "16.88% of schools, 0.42% white students",
          "16.93% of schools, 0.42% white students",
          "16.98% of schools, 0.42% white students",
          "17.04% of schools, 0.42% white students",
          "17.09% of schools, 0.42% white students",
          "17.14% of schools, 0.43% white students",
          "17.20% of schools, 0.43% white students",
          "17.25% of schools, 0.43% white students",
          "17.30% of schools, 0.44% white students",
          "17.35% of schools, 0.44% white students",
          "17.41% of schools, 0.44% white students",
          "17.46% of schools, 0.44% white students",
          "17.51% of schools, 0.45% white students",
          "17.57% of schools, 0.45% white students",
          "17.62% of schools, 0.45% white students",
          "17.67% of schools, 0.46% white students",
          "17.72% of schools, 0.46% white students",
          "17.78% of schools, 0.46% white students",
          "17.83% of schools, 0.46% white students",
          "17.88% of schools, 0.47% white students",
          "17.94% of schools, 0.47% white students",
          "17.99% of schools, 0.47% white students",
          "18.04% of schools, 0.48% white students",
          "18.10% of schools, 0.48% white students",
          "18.15% of schools, 0.48% white students",
          "18.20% of schools, 0.48% white students",
          "18.25% of schools, 0.49% white students",
          "18.31% of schools, 0.49% white students",
          "18.36% of schools, 0.49% white students",
          "18.41% of schools, 0.50% white students",
          "18.47% of schools, 0.50% white students",
          "18.52% of schools, 0.50% white students",
          "18.57% of schools, 0.50% white students",
          "18.62% of schools, 0.51% white students",
          "18.68% of schools, 0.51% white students",
          "18.73% of schools, 0.51% white students",
          "18.78% of schools, 0.52% white students",
          "18.84% of schools, 0.52% white students",
          "18.89% of schools, 0.52% white students",
          "18.94% of schools, 0.53% white students",
          "18.99% of schools, 0.53% white students",
          "19.05% of schools, 0.53% white students",
          "19.10% of schools, 0.53% white students",
          "19.15% of schools, 0.54% white students",
          "19.21% of schools, 0.54% white students",
          "19.26% of schools, 0.54% white students",
          "19.31% of schools, 0.55% white students",
          "19.37% of schools, 0.55% white students",
          "19.42% of schools, 0.55% white students",
          "19.47% of schools, 0.55% white students",
          "19.52% of schools, 0.56% white students",
          "19.58% of schools, 0.56% white students",
          "19.63% of schools, 0.56% white students",
          "19.68% of schools, 0.57% white students",
          "19.74% of schools, 0.57% white students",
          "19.79% of schools, 0.57% white students",
          "19.84% of schools, 0.57% white students",
          "19.89% of schools, 0.58% white students",
          "19.95% of schools, 0.58% white students",
          "20.00% of schools, 0.58% white students",
          "20.05% of schools, 0.59% white students",
          "20.11% of schools, 0.59% white students",
          "20.16% of schools, 0.59% white students",
          "20.21% of schools, 0.59% white students",
          "20.26% of schools, 0.60% white students",
          "20.32% of schools, 0.60% white students",
          "20.37% of schools, 0.60% white students",
          "20.42% of schools, 0.61% white students",
          "20.48% of schools, 0.61% white students",
          "20.53% of schools, 0.61% white students",
          "20.58% of schools, 0.62% white students",
          "20.63% of schools, 0.62% white students",
          "20.69% of schools, 0.62% white students",
          "20.74% of schools, 0.62% white students",
          "20.79% of schools, 0.63% white students",
          "20.85% of schools, 0.63% white students",
          "20.90% of schools, 0.63% white students",
          "20.95% of schools, 0.64% white students",
          "21.01% of schools, 0.64% white students",
          "21.06% of schools, 0.64% white students",
          "21.11% of schools, 0.64% white students",
          "21.16% of schools, 0.65% white students",
          "21.22% of schools, 0.65% white students",
          "21.27% of schools, 0.65% white students",
          "21.32% of schools, 0.66% white students",
          "21.38% of schools, 0.66% white students",
          "21.43% of schools, 0.66% white students",
          "21.48% of schools, 0.66% white students",
          "21.53% of schools, 0.67% white students",
          "21.59% of schools, 0.67% white students",
          "21.64% of schools, 0.67% white students",
          "21.69% of schools, 0.68% white students",
          "21.75% of schools, 0.68% white students",
          "21.80% of schools, 0.68% white students",
          "21.85% of schools, 0.69% white students",
          "21.90% of schools, 0.69% white students",
          "21.96% of schools, 0.69% white students",
          "22.01% of schools, 0.70% white students",
          "22.06% of schools, 0.70% white students",
          "22.12% of schools, 0.70% white students",
          "22.17% of schools, 0.71% white students",
          "22.22% of schools, 0.71% white students",
          "22.28% of schools, 0.71% white students",
          "22.33% of schools, 0.72% white students",
          "22.38% of schools, 0.72% white students",
          "22.43% of schools, 0.73% white students",
          "22.49% of schools, 0.73% white students",
          "22.54% of schools, 0.73% white students",
          "22.59% of schools, 0.74% white students",
          "22.65% of schools, 0.74% white students",
          "22.70% of schools, 0.74% white students",
          "22.75% of schools, 0.75% white students",
          "22.80% of schools, 0.75% white students",
          "22.86% of schools, 0.75% white students",
          "22.91% of schools, 0.76% white students",
          "22.96% of schools, 0.76% white students",
          "23.02% of schools, 0.77% white students",
          "23.07% of schools, 0.77% white students",
          "23.12% of schools, 0.77% white students",
          "23.17% of schools, 0.78% white students",
          "23.23% of schools, 0.78% white students",
          "23.28% of schools, 0.78% white students",
          "23.33% of schools, 0.79% white students",
          "23.39% of schools, 0.79% white students",
          "23.44% of schools, 0.79% white students",
          "23.49% of schools, 0.80% white students",
          "23.54% of schools, 0.80% white students",
          "23.60% of schools, 0.81% white students",
          "23.65% of schools, 0.81% white students",
          "23.70% of schools, 0.81% white students",
          "23.76% of schools, 0.82% white students",
          "23.81% of schools, 0.82% white students",
          "23.86% of schools, 0.82% white students",
          "23.92% of schools, 0.83% white students",
          "23.97% of schools, 0.83% white students",
          "24.02% of schools, 0.83% white students",
          "24.07% of schools, 0.84% white students",
          "24.13% of schools, 0.84% white students",
          "24.18% of schools, 0.85% white students",
          "24.23% of schools, 0.85% white students",
          "24.29% of schools, 0.85% white students",
          "24.34% of schools, 0.86% white students",
          "24.39% of schools, 0.86% white students",
          "24.44% of schools, 0.86% white students",
          "24.50% of schools, 0.87% white students",
          "24.55% of schools, 0.87% white students",
          "24.60% of schools, 0.87% white students",
          "24.66% of schools, 0.88% white students",
          "24.71% of schools, 0.88% white students",
          "24.76% of schools, 0.89% white students",
          "24.81% of schools, 0.89% white students",
          "24.87% of schools, 0.89% white students",
          "24.92% of schools, 0.90% white students",
          "24.97% of schools, 0.90% white students",
          "25.03% of schools, 0.90% white students",
          "25.08% of schools, 0.91% white students",
          "25.13% of schools, 0.91% white students",
          "25.19% of schools, 0.91% white students",
          "25.24% of schools, 0.92% white students",
          "25.29% of schools, 0.92% white students",
          "25.34% of schools, 0.93% white students",
          "25.40% of schools, 0.93% white students",
          "25.45% of schools, 0.93% white students",
          "25.50% of schools, 0.94% white students",
          "25.56% of schools, 0.94% white students",
          "25.61% of schools, 0.94% white students",
          "25.66% of schools, 0.95% white students",
          "25.71% of schools, 0.95% white students",
          "25.77% of schools, 0.95% white students",
          "25.82% of schools, 0.96% white students",
          "25.87% of schools, 0.96% white students",
          "25.93% of schools, 0.97% white students",
          "25.98% of schools, 0.97% white students",
          "26.03% of schools, 0.97% white students",
          "26.08% of schools, 0.98% white students",
          "26.14% of schools, 0.98% white students",
          "26.19% of schools, 0.98% white students",
          "26.24% of schools, 0.99% white students",
          "26.30% of schools, 0.99% white students",
          "26.35% of schools, 1.00% white students",
          "26.40% of schools, 1.00% white students",
          "26.46% of schools, 1.01% white students",
          "26.51% of schools, 1.01% white students",
          "26.56% of schools, 1.01% white students",
          "26.61% of schools, 1.02% white students",
          "26.67% of schools, 1.02% white students",
          "26.72% of schools, 1.03% white students",
          "26.77% of schools, 1.03% white students",
          "26.83% of schools, 1.04% white students",
          "26.88% of schools, 1.04% white students",
          "26.93% of schools, 1.05% white students",
          "26.98% of schools, 1.05% white students",
          "27.04% of schools, 1.05% white students",
          "27.09% of schools, 1.06% white students",
          "27.14% of schools, 1.06% white students",
          "27.20% of schools, 1.07% white students",
          "27.25% of schools, 1.07% white students",
          "27.30% of schools, 1.08% white students",
          "27.35% of schools, 1.08% white students",
          "27.41% of schools, 1.08% white students",
          "27.46% of schools, 1.09% white students",
          "27.51% of schools, 1.09% white students",
          "27.57% of schools, 1.10% white students",
          "27.62% of schools, 1.10% white students",
          "27.67% of schools, 1.11% white students",
          "27.72% of schools, 1.11% white students",
          "27.78% of schools, 1.11% white students",
          "27.83% of schools, 1.12% white students",
          "27.88% of schools, 1.12% white students",
          "27.94% of schools, 1.13% white students",
          "27.99% of schools, 1.13% white students",
          "28.04% of schools, 1.14% white students",
          "28.10% of schools, 1.14% white students",
          "28.15% of schools, 1.15% white students",
          "28.20% of schools, 1.15% white students",
          "28.25% of schools, 1.15% white students",
          "28.31% of schools, 1.16% white students",
          "28.36% of schools, 1.16% white students",
          "28.41% of schools, 1.17% white students",
          "28.47% of schools, 1.17% white students",
          "28.52% of schools, 1.18% white students",
          "28.57% of schools, 1.18% white students",
          "28.62% of schools, 1.18% white students",
          "28.68% of schools, 1.19% white students",
          "28.73% of schools, 1.19% white students",
          "28.78% of schools, 1.20% white students",
          "28.84% of schools, 1.20% white students",
          "28.89% of schools, 1.21% white students",
          "28.94% of schools, 1.21% white students",
          "28.99% of schools, 1.22% white students",
          "29.05% of schools, 1.22% white students",
          "29.10% of schools, 1.22% white students",
          "29.15% of schools, 1.23% white students",
          "29.21% of schools, 1.23% white students",
          "29.26% of schools, 1.24% white students",
          "29.31% of schools, 1.24% white students",
          "29.37% of schools, 1.25% white students",
          "29.42% of schools, 1.25% white students",
          "29.47% of schools, 1.25% white students",
          "29.52% of schools, 1.26% white students",
          "29.58% of schools, 1.26% white students",
          "29.63% of schools, 1.27% white students",
          "29.68% of schools, 1.27% white students",
          "29.74% of schools, 1.28% white students",
          "29.79% of schools, 1.28% white students",
          "29.84% of schools, 1.28% white students",
          "29.89% of schools, 1.29% white students",
          "29.95% of schools, 1.29% white students",
          "30.00% of schools, 1.30% white students",
          "30.05% of schools, 1.30% white students",
          "30.11% of schools, 1.31% white students",
          "30.16% of schools, 1.31% white students",
          "30.21% of schools, 1.32% white students",
          "30.26% of schools, 1.32% white students",
          "30.32% of schools, 1.33% white students",
          "30.37% of schools, 1.33% white students",
          "30.42% of schools, 1.34% white students",
          "30.48% of schools, 1.34% white students",
          "30.53% of schools, 1.35% white students",
          "30.58% of schools, 1.35% white students",
          "30.63% of schools, 1.36% white students",
          "30.69% of schools, 1.36% white students",
          "30.74% of schools, 1.37% white students",
          "30.79% of schools, 1.37% white students",
          "30.85% of schools, 1.38% white students",
          "30.90% of schools, 1.38% white students",
          "30.95% of schools, 1.39% white students",
          "31.01% of schools, 1.39% white students",
          "31.06% of schools, 1.40% white students",
          "31.11% of schools, 1.40% white students",
          "31.16% of schools, 1.41% white students",
          "31.22% of schools, 1.41% white students",
          "31.27% of schools, 1.42% white students",
          "31.32% of schools, 1.42% white students",
          "31.38% of schools, 1.43% white students",
          "31.43% of schools, 1.43% white students",
          "31.48% of schools, 1.44% white students",
          "31.53% of schools, 1.44% white students",
          "31.59% of schools, 1.45% white students",
          "31.64% of schools, 1.45% white students",
          "31.69% of schools, 1.46% white students",
          "31.75% of schools, 1.46% white students",
          "31.80% of schools, 1.47% white students",
          "31.85% of schools, 1.47% white students",
          "31.90% of schools, 1.48% white students",
          "31.96% of schools, 1.48% white students",
          "32.01% of schools, 1.49% white students",
          "32.06% of schools, 1.49% white students",
          "32.12% of schools, 1.50% white students",
          "32.17% of schools, 1.50% white students",
          "32.22% of schools, 1.51% white students",
          "32.28% of schools, 1.51% white students",
          "32.33% of schools, 1.52% white students",
          "32.38% of schools, 1.52% white students",
          "32.43% of schools, 1.53% white students",
          "32.49% of schools, 1.53% white students",
          "32.54% of schools, 1.54% white students",
          "32.59% of schools, 1.54% white students",
          "32.65% of schools, 1.55% white students",
          "32.70% of schools, 1.56% white students",
          "32.75% of schools, 1.56% white students",
          "32.80% of schools, 1.57% white students",
          "32.86% of schools, 1.57% white students",
          "32.91% of schools, 1.58% white students",
          "32.96% of schools, 1.58% white students",
          "33.02% of schools, 1.59% white students",
          "33.07% of schools, 1.59% white students",
          "33.12% of schools, 1.60% white students",
          "33.17% of schools, 1.60% white students",
          "33.23% of schools, 1.61% white students",
          "33.28% of schools, 1.61% white students",
          "33.33% of schools, 1.62% white students",
          "33.39% of schools, 1.62% white students",
          "33.44% of schools, 1.63% white students",
          "33.49% of schools, 1.63% white students",
          "33.54% of schools, 1.64% white students",
          "33.60% of schools, 1.64% white students",
          "33.65% of schools, 1.65% white students",
          "33.70% of schools, 1.65% white students",
          "33.76% of schools, 1.66% white students",
          "33.81% of schools, 1.66% white students",
          "33.86% of schools, 1.67% white students",
          "33.92% of schools, 1.67% white students",
          "33.97% of schools, 1.68% white students",
          "34.02% of schools, 1.68% white students",
          "34.07% of schools, 1.69% white students",
          "34.13% of schools, 1.70% white students",
          "34.18% of schools, 1.70% white students",
          "34.23% of schools, 1.71% white students",
          "34.29% of schools, 1.71% white students",
          "34.34% of schools, 1.72% white students",
          "34.39% of schools, 1.72% white students",
          "34.44% of schools, 1.73% white students",
          "34.50% of schools, 1.74% white students",
          "34.55% of schools, 1.74% white students",
          "34.60% of schools, 1.75% white students",
          "34.66% of schools, 1.75% white students",
          "34.71% of schools, 1.76% white students",
          "34.76% of schools, 1.77% white students",
          "34.81% of schools, 1.77% white students",
          "34.87% of schools, 1.78% white students",
          "34.92% of schools, 1.78% white students",
          "34.97% of schools, 1.79% white students",
          "35.03% of schools, 1.79% white students",
          "35.08% of schools, 1.80% white students",
          "35.13% of schools, 1.81% white students",
          "35.19% of schools, 1.81% white students",
          "35.24% of schools, 1.82% white students",
          "35.29% of schools, 1.82% white students",
          "35.34% of schools, 1.83% white students",
          "35.40% of schools, 1.83% white students",
          "35.45% of schools, 1.84% white students",
          "35.50% of schools, 1.85% white students",
          "35.56% of schools, 1.85% white students",
          "35.61% of schools, 1.86% white students",
          "35.66% of schools, 1.86% white students",
          "35.71% of schools, 1.87% white students",
          "35.77% of schools, 1.88% white students",
          "35.82% of schools, 1.88% white students",
          "35.87% of schools, 1.89% white students",
          "35.93% of schools, 1.89% white students",
          "35.98% of schools, 1.90% white students",
          "36.03% of schools, 1.90% white students",
          "36.08% of schools, 1.91% white students",
          "36.14% of schools, 1.92% white students",
          "36.19% of schools, 1.92% white students",
          "36.24% of schools, 1.93% white students",
          "36.30% of schools, 1.93% white students",
          "36.35% of schools, 1.94% white students",
          "36.40% of schools, 1.95% white students",
          "36.46% of schools, 1.95% white students",
          "36.51% of schools, 1.96% white students",
          "36.56% of schools, 1.96% white students",
          "36.61% of schools, 1.97% white students",
          "36.67% of schools, 1.97% white students",
          "36.72% of schools, 1.98% white students",
          "36.77% of schools, 1.99% white students",
          "36.83% of schools, 1.99% white students",
          "36.88% of schools, 2.00% white students",
          "36.93% of schools, 2.00% white students",
          "36.98% of schools, 2.01% white students",
          "37.04% of schools, 2.01% white students",
          "37.09% of schools, 2.02% white students",
          "37.14% of schools, 2.03% white students",
          "37.20% of schools, 2.03% white students",
          "37.25% of schools, 2.04% white students",
          "37.30% of schools, 2.04% white students",
          "37.35% of schools, 2.05% white students",
          "37.41% of schools, 2.06% white students",
          "37.46% of schools, 2.06% white students",
          "37.51% of schools, 2.07% white students",
          "37.57% of schools, 2.07% white students",
          "37.62% of schools, 2.08% white students",
          "37.67% of schools, 2.08% white students",
          "37.72% of schools, 2.09% white students",
          "37.78% of schools, 2.10% white students",
          "37.83% of schools, 2.10% white students",
          "37.88% of schools, 2.11% white students",
          "37.94% of schools, 2.12% white students",
          "37.99% of schools, 2.12% white students",
          "38.04% of schools, 2.13% white students",
          "38.10% of schools, 2.14% white students",
          "38.15% of schools, 2.14% white students",
          "38.20% of schools, 2.15% white students",
          "38.25% of schools, 2.16% white students",
          "38.31% of schools, 2.16% white students",
          "38.36% of schools, 2.17% white students",
          "38.41% of schools, 2.18% white students",
          "38.47% of schools, 2.18% white students",
          "38.52% of schools, 2.19% white students",
          "38.57% of schools, 2.20% white students",
          "38.62% of schools, 2.20% white students",
          "38.68% of schools, 2.21% white students",
          "38.73% of schools, 2.22% white students",
          "38.78% of schools, 2.22% white students",
          "38.84% of schools, 2.23% white students",
          "38.89% of schools, 2.23% white students",
          "38.94% of schools, 2.24% white students",
          "38.99% of schools, 2.25% white students",
          "39.05% of schools, 2.25% white students",
          "39.10% of schools, 2.26% white students",
          "39.15% of schools, 2.27% white students",
          "39.21% of schools, 2.27% white students",
          "39.26% of schools, 2.28% white students",
          "39.31% of schools, 2.29% white students",
          "39.37% of schools, 2.29% white students",
          "39.42% of schools, 2.30% white students",
          "39.47% of schools, 2.31% white students",
          "39.52% of schools, 2.31% white students",
          "39.58% of schools, 2.32% white students",
          "39.63% of schools, 2.33% white students",
          "39.68% of schools, 2.33% white students",
          "39.74% of schools, 2.34% white students",
          "39.79% of schools, 2.35% white students",
          "39.84% of schools, 2.35% white students",
          "39.89% of schools, 2.36% white students",
          "39.95% of schools, 2.37% white students",
          "40.00% of schools, 2.37% white students",
          "40.05% of schools, 2.38% white students",
          "40.11% of schools, 2.39% white students",
          "40.16% of schools, 2.39% white students",
          "40.21% of schools, 2.40% white students",
          "40.26% of schools, 2.40% white students",
          "40.32% of schools, 2.41% white students",
          "40.37% of schools, 2.42% white students",
          "40.42% of schools, 2.42% white students",
          "40.48% of schools, 2.43% white students",
          "40.53% of schools, 2.44% white students",
          "40.58% of schools, 2.44% white students",
          "40.63% of schools, 2.45% white students",
          "40.69% of schools, 2.46% white students",
          "40.74% of schools, 2.46% white students",
          "40.79% of schools, 2.47% white students",
          "40.85% of schools, 2.48% white students",
          "40.90% of schools, 2.48% white students",
          "40.95% of schools, 2.49% white students",
          "41.01% of schools, 2.50% white students",
          "41.06% of schools, 2.50% white students",
          "41.11% of schools, 2.51% white students",
          "41.16% of schools, 2.52% white students",
          "41.22% of schools, 2.53% white students",
          "41.27% of schools, 2.53% white students",
          "41.32% of schools, 2.54% white students",
          "41.38% of schools, 2.55% white students",
          "41.43% of schools, 2.55% white students",
          "41.48% of schools, 2.56% white students",
          "41.53% of schools, 2.57% white students",
          "41.59% of schools, 2.58% white students",
          "41.64% of schools, 2.58% white students",
          "41.69% of schools, 2.59% white students",
          "41.75% of schools, 2.60% white students",
          "41.80% of schools, 2.61% white students",
          "41.85% of schools, 2.61% white students",
          "41.90% of schools, 2.62% white students",
          "41.96% of schools, 2.63% white students",
          "42.01% of schools, 2.63% white students",
          "42.06% of schools, 2.64% white students",
          "42.12% of schools, 2.65% white students",
          "42.17% of schools, 2.66% white students",
          "42.22% of schools, 2.66% white students",
          "42.28% of schools, 2.67% white students",
          "42.33% of schools, 2.68% white students",
          "42.38% of schools, 2.69% white students",
          "42.43% of schools, 2.69% white students",
          "42.49% of schools, 2.70% white students",
          "42.54% of schools, 2.71% white students",
          "42.59% of schools, 2.71% white students",
          "42.65% of schools, 2.72% white students",
          "42.70% of schools, 2.73% white students",
          "42.75% of schools, 2.74% white students",
          "42.80% of schools, 2.74% white students",
          "42.86% of schools, 2.75% white students",
          "42.91% of schools, 2.76% white students",
          "42.96% of schools, 2.77% white students",
          "43.02% of schools, 2.77% white students",
          "43.07% of schools, 2.78% white students",
          "43.12% of schools, 2.79% white students",
          "43.17% of schools, 2.79% white students",
          "43.23% of schools, 2.80% white students",
          "43.28% of schools, 2.81% white students",
          "43.33% of schools, 2.82% white students",
          "43.39% of schools, 2.82% white students",
          "43.44% of schools, 2.83% white students",
          "43.49% of schools, 2.84% white students",
          "43.54% of schools, 2.85% white students",
          "43.60% of schools, 2.85% white students",
          "43.65% of schools, 2.86% white students",
          "43.70% of schools, 2.87% white students",
          "43.76% of schools, 2.88% white students",
          "43.81% of schools, 2.89% white students",
          "43.86% of schools, 2.89% white students",
          "43.92% of schools, 2.90% white students",
          "43.97% of schools, 2.91% white students",
          "44.02% of schools, 2.92% white students",
          "44.07% of schools, 2.93% white students",
          "44.13% of schools, 2.93% white students",
          "44.18% of schools, 2.94% white students",
          "44.23% of schools, 2.95% white students",
          "44.29% of schools, 2.96% white students",
          "44.34% of schools, 2.97% white students",
          "44.39% of schools, 2.97% white students",
          "44.44% of schools, 2.98% white students",
          "44.50% of schools, 2.99% white students",
          "44.55% of schools, 3.00% white students",
          "44.60% of schools, 3.01% white students",
          "44.66% of schools, 3.01% white students",
          "44.71% of schools, 3.02% white students",
          "44.76% of schools, 3.03% white students",
          "44.81% of schools, 3.04% white students",
          "44.87% of schools, 3.05% white students",
          "44.92% of schools, 3.05% white students",
          "44.97% of schools, 3.06% white students",
          "45.03% of schools, 3.07% white students",
          "45.08% of schools, 3.08% white students",
          "45.13% of schools, 3.09% white students",
          "45.19% of schools, 3.09% white students",
          "45.24% of schools, 3.10% white students",
          "45.29% of schools, 3.11% white students",
          "45.34% of schools, 3.12% white students",
          "45.40% of schools, 3.13% white students",
          "45.45% of schools, 3.13% white students",
          "45.50% of schools, 3.14% white students",
          "45.56% of schools, 3.15% white students",
          "45.61% of schools, 3.16% white students",
          "45.66% of schools, 3.17% white students",
          "45.71% of schools, 3.17% white students",
          "45.77% of schools, 3.18% white students",
          "45.82% of schools, 3.19% white students",
          "45.87% of schools, 3.20% white students",
          "45.93% of schools, 3.21% white students",
          "45.98% of schools, 3.22% white students",
          "46.03% of schools, 3.23% white students",
          "46.08% of schools, 3.24% white students",
          "46.14% of schools, 3.24% white students",
          "46.19% of schools, 3.25% white students",
          "46.24% of schools, 3.26% white students",
          "46.30% of schools, 3.27% white students",
          "46.35% of schools, 3.28% white students",
          "46.40% of schools, 3.29% white students",
          "46.46% of schools, 3.30% white students",
          "46.51% of schools, 3.30% white students",
          "46.56% of schools, 3.31% white students",
          "46.61% of schools, 3.32% white students",
          "46.67% of schools, 3.33% white students",
          "46.72% of schools, 3.34% white students",
          "46.77% of schools, 3.35% white students",
          "46.83% of schools, 3.36% white students",
          "46.88% of schools, 3.37% white students",
          "46.93% of schools, 3.37% white students",
          "46.98% of schools, 3.38% white students",
          "47.04% of schools, 3.39% white students",
          "47.09% of schools, 3.40% white students",
          "47.14% of schools, 3.41% white students",
          "47.20% of schools, 3.42% white students",
          "47.25% of schools, 3.43% white students",
          "47.30% of schools, 3.44% white students",
          "47.35% of schools, 3.44% white students",
          "47.41% of schools, 3.45% white students",
          "47.46% of schools, 3.46% white students",
          "47.51% of schools, 3.47% white students",
          "47.57% of schools, 3.48% white students",
          "47.62% of schools, 3.49% white students",
          "47.67% of schools, 3.50% white students",
          "47.72% of schools, 3.51% white students",
          "47.78% of schools, 3.51% white students",
          "47.83% of schools, 3.52% white students",
          "47.88% of schools, 3.53% white students",
          "47.94% of schools, 3.54% white students",
          "47.99% of schools, 3.55% white students",
          "48.04% of schools, 3.56% white students",
          "48.10% of schools, 3.57% white students",
          "48.15% of schools, 3.58% white students",
          "48.20% of schools, 3.58% white students",
          "48.25% of schools, 3.59% white students",
          "48.31% of schools, 3.60% white students",
          "48.36% of schools, 3.61% white students",
          "48.41% of schools, 3.62% white students",
          "48.47% of schools, 3.63% white students",
          "48.52% of schools, 3.64% white students",
          "48.57% of schools, 3.64% white students",
          "48.62% of schools, 3.65% white students",
          "48.68% of schools, 3.66% white students",
          "48.73% of schools, 3.67% white students",
          "48.78% of schools, 3.68% white students",
          "48.84% of schools, 3.69% white students",
          "48.89% of schools, 3.70% white students",
          "48.94% of schools, 3.71% white students",
          "48.99% of schools, 3.72% white students",
          "49.05% of schools, 3.73% white students",
          "49.10% of schools, 3.74% white students",
          "49.15% of schools, 3.75% white students",
          "49.21% of schools, 3.76% white students",
          "49.26% of schools, 3.77% white students",
          "49.31% of schools, 3.78% white students",
          "49.37% of schools, 3.78% white students",
          "49.42% of schools, 3.79% white students",
          "49.47% of schools, 3.80% white students",
          "49.52% of schools, 3.81% white students",
          "49.58% of schools, 3.82% white students",
          "49.63% of schools, 3.83% white students",
          "49.68% of schools, 3.84% white students",
          "49.74% of schools, 3.85% white students",
          "49.79% of schools, 3.86% white students",
          "49.84% of schools, 3.87% white students",
          "49.89% of schools, 3.88% white students",
          "49.95% of schools, 3.89% white students",
          "50.00% of schools, 3.90% white students",
          "50.05% of schools, 3.91% white students",
          "50.11% of schools, 3.92% white students",
          "50.16% of schools, 3.93% white students",
          "50.21% of schools, 3.94% white students",
          "50.26% of schools, 3.95% white students",
          "50.32% of schools, 3.95% white students",
          "50.37% of schools, 3.96% white students",
          "50.42% of schools, 3.97% white students",
          "50.48% of schools, 3.98% white students",
          "50.53% of schools, 3.99% white students",
          "50.58% of schools, 4.01% white students",
          "50.63% of schools, 4.02% white students",
          "50.69% of schools, 4.03% white students",
          "50.74% of schools, 4.04% white students",
          "50.79% of schools, 4.05% white students",
          "50.85% of schools, 4.06% white students",
          "50.90% of schools, 4.07% white students",
          "50.95% of schools, 4.08% white students",
          "51.01% of schools, 4.09% white students",
          "51.06% of schools, 4.10% white students",
          "51.11% of schools, 4.11% white students",
          "51.16% of schools, 4.12% white students",
          "51.22% of schools, 4.13% white students",
          "51.27% of schools, 4.14% white students",
          "51.32% of schools, 4.15% white students",
          "51.38% of schools, 4.16% white students",
          "51.43% of schools, 4.17% white students",
          "51.48% of schools, 4.18% white students",
          "51.53% of schools, 4.19% white students",
          "51.59% of schools, 4.20% white students",
          "51.64% of schools, 4.21% white students",
          "51.69% of schools, 4.22% white students",
          "51.75% of schools, 4.23% white students",
          "51.80% of schools, 4.24% white students",
          "51.85% of schools, 4.25% white students",
          "51.90% of schools, 4.26% white students",
          "51.96% of schools, 4.27% white students",
          "52.01% of schools, 4.28% white students",
          "52.06% of schools, 4.30% white students",
          "52.12% of schools, 4.31% white students",
          "52.17% of schools, 4.32% white students",
          "52.22% of schools, 4.33% white students",
          "52.28% of schools, 4.34% white students",
          "52.33% of schools, 4.35% white students",
          "52.38% of schools, 4.36% white students",
          "52.43% of schools, 4.37% white students",
          "52.49% of schools, 4.38% white students",
          "52.54% of schools, 4.39% white students",
          "52.59% of schools, 4.40% white students",
          "52.65% of schools, 4.42% white students",
          "52.70% of schools, 4.43% white students",
          "52.75% of schools, 4.44% white students",
          "52.80% of schools, 4.45% white students",
          "52.86% of schools, 4.46% white students",
          "52.91% of schools, 4.47% white students",
          "52.96% of schools, 4.48% white students",
          "53.02% of schools, 4.50% white students",
          "53.07% of schools, 4.51% white students",
          "53.12% of schools, 4.52% white students",
          "53.17% of schools, 4.53% white students",
          "53.23% of schools, 4.54% white students",
          "53.28% of schools, 4.55% white students",
          "53.33% of schools, 4.57% white students",
          "53.39% of schools, 4.58% white students",
          "53.44% of schools, 4.59% white students",
          "53.49% of schools, 4.60% white students",
          "53.54% of schools, 4.61% white students",
          "53.60% of schools, 4.62% white students",
          "53.65% of schools, 4.63% white students",
          "53.70% of schools, 4.65% white students",
          "53.76% of schools, 4.66% white students",
          "53.81% of schools, 4.67% white students",
          "53.86% of schools, 4.68% white students",
          "53.92% of schools, 4.69% white students",
          "53.97% of schools, 4.70% white students",
          "54.02% of schools, 4.72% white students",
          "54.07% of schools, 4.73% white students",
          "54.13% of schools, 4.74% white students",
          "54.18% of schools, 4.75% white students",
          "54.23% of schools, 4.76% white students",
          "54.29% of schools, 4.78% white students",
          "54.34% of schools, 4.79% white students",
          "54.39% of schools, 4.80% white students",
          "54.44% of schools, 4.81% white students",
          "54.50% of schools, 4.83% white students",
          "54.55% of schools, 4.84% white students",
          "54.60% of schools, 4.85% white students",
          "54.66% of schools, 4.86% white students",
          "54.71% of schools, 4.88% white students",
          "54.76% of schools, 4.89% white students",
          "54.81% of schools, 4.90% white students",
          "54.87% of schools, 4.91% white students",
          "54.92% of schools, 4.93% white students",
          "54.97% of schools, 4.94% white students",
          "55.03% of schools, 4.95% white students",
          "55.08% of schools, 4.96% white students",
          "55.13% of schools, 4.97% white students",
          "55.19% of schools, 4.99% white students",
          "55.24% of schools, 5.00% white students",
          "55.29% of schools, 5.01% white students",
          "55.34% of schools, 5.03% white students",
          "55.40% of schools, 5.04% white students",
          "55.45% of schools, 5.05% white students",
          "55.50% of schools, 5.06% white students",
          "55.56% of schools, 5.08% white students",
          "55.61% of schools, 5.09% white students",
          "55.66% of schools, 5.10% white students",
          "55.71% of schools, 5.12% white students",
          "55.77% of schools, 5.13% white students",
          "55.82% of schools, 5.14% white students",
          "55.87% of schools, 5.16% white students",
          "55.93% of schools, 5.17% white students",
          "55.98% of schools, 5.18% white students",
          "56.03% of schools, 5.20% white students",
          "56.08% of schools, 5.21% white students",
          "56.14% of schools, 5.22% white students",
          "56.19% of schools, 5.23% white students",
          "56.24% of schools, 5.25% white students",
          "56.30% of schools, 5.26% white students",
          "56.35% of schools, 5.27% white students",
          "56.40% of schools, 5.29% white students",
          "56.46% of schools, 5.30% white students",
          "56.51% of schools, 5.31% white students",
          "56.56% of schools, 5.33% white students",
          "56.61% of schools, 5.34% white students",
          "56.67% of schools, 5.35% white students",
          "56.72% of schools, 5.37% white students",
          "56.77% of schools, 5.38% white students",
          "56.83% of schools, 5.40% white students",
          "56.88% of schools, 5.41% white students",
          "56.93% of schools, 5.42% white students",
          "56.98% of schools, 5.44% white students",
          "57.04% of schools, 5.45% white students",
          "57.09% of schools, 5.46% white students",
          "57.14% of schools, 5.48% white students",
          "57.20% of schools, 5.49% white students",
          "57.25% of schools, 5.51% white students",
          "57.30% of schools, 5.52% white students",
          "57.35% of schools, 5.53% white students",
          "57.41% of schools, 5.55% white students",
          "57.46% of schools, 5.56% white students",
          "57.51% of schools, 5.57% white students",
          "57.57% of schools, 5.59% white students",
          "57.62% of schools, 5.60% white students",
          "57.67% of schools, 5.62% white students",
          "57.72% of schools, 5.63% white students",
          "57.78% of schools, 5.65% white students",
          "57.83% of schools, 5.66% white students",
          "57.88% of schools, 5.67% white students",
          "57.94% of schools, 5.69% white students",
          "57.99% of schools, 5.70% white students",
          "58.04% of schools, 5.72% white students",
          "58.10% of schools, 5.73% white students",
          "58.15% of schools, 5.75% white students",
          "58.20% of schools, 5.76% white students",
          "58.25% of schools, 5.78% white students",
          "58.31% of schools, 5.79% white students",
          "58.36% of schools, 5.81% white students",
          "58.41% of schools, 5.82% white students",
          "58.47% of schools, 5.83% white students",
          "58.52% of schools, 5.85% white students",
          "58.57% of schools, 5.86% white students",
          "58.62% of schools, 5.88% white students",
          "58.68% of schools, 5.89% white students",
          "58.73% of schools, 5.91% white students",
          "58.78% of schools, 5.93% white students",
          "58.84% of schools, 5.94% white students",
          "58.89% of schools, 5.96% white students",
          "58.94% of schools, 5.97% white students",
          "58.99% of schools, 5.99% white students",
          "59.05% of schools, 6.00% white students",
          "59.10% of schools, 6.02% white students",
          "59.15% of schools, 6.03% white students",
          "59.21% of schools, 6.05% white students",
          "59.26% of schools, 6.06% white students",
          "59.31% of schools, 6.08% white students",
          "59.37% of schools, 6.09% white students",
          "59.42% of schools, 6.11% white students",
          "59.47% of schools, 6.12% white students",
          "59.52% of schools, 6.14% white students",
          "59.58% of schools, 6.16% white students",
          "59.63% of schools, 6.17% white students",
          "59.68% of schools, 6.19% white students",
          "59.74% of schools, 6.20% white students",
          "59.79% of schools, 6.22% white students",
          "59.84% of schools, 6.24% white students",
          "59.89% of schools, 6.25% white students",
          "59.95% of schools, 6.27% white students",
          "60.00% of schools, 6.28% white students",
          "60.05% of schools, 6.30% white students",
          "60.11% of schools, 6.32% white students",
          "60.16% of schools, 6.33% white students",
          "60.21% of schools, 6.35% white students",
          "60.26% of schools, 6.37% white students",
          "60.32% of schools, 6.38% white students",
          "60.37% of schools, 6.40% white students",
          "60.42% of schools, 6.42% white students",
          "60.48% of schools, 6.43% white students",
          "60.53% of schools, 6.45% white students",
          "60.58% of schools, 6.47% white students",
          "60.63% of schools, 6.48% white students",
          "60.69% of schools, 6.50% white students",
          "60.74% of schools, 6.52% white students",
          "60.79% of schools, 6.54% white students",
          "60.85% of schools, 6.55% white students",
          "60.90% of schools, 6.57% white students",
          "60.95% of schools, 6.59% white students",
          "61.01% of schools, 6.61% white students",
          "61.06% of schools, 6.62% white students",
          "61.11% of schools, 6.64% white students",
          "61.16% of schools, 6.66% white students",
          "61.22% of schools, 6.68% white students",
          "61.27% of schools, 6.69% white students",
          "61.32% of schools, 6.71% white students",
          "61.38% of schools, 6.73% white students",
          "61.43% of schools, 6.75% white students",
          "61.48% of schools, 6.77% white students",
          "61.53% of schools, 6.78% white students",
          "61.59% of schools, 6.80% white students",
          "61.64% of schools, 6.82% white students",
          "61.69% of schools, 6.84% white students",
          "61.75% of schools, 6.86% white students",
          "61.80% of schools, 6.88% white students",
          "61.85% of schools, 6.89% white students",
          "61.90% of schools, 6.91% white students",
          "61.96% of schools, 6.93% white students",
          "62.01% of schools, 6.95% white students",
          "62.06% of schools, 6.97% white students",
          "62.12% of schools, 6.99% white students",
          "62.17% of schools, 7.00% white students",
          "62.22% of schools, 7.02% white students",
          "62.28% of schools, 7.04% white students",
          "62.33% of schools, 7.06% white students",
          "62.38% of schools, 7.08% white students",
          "62.43% of schools, 7.10% white students",
          "62.49% of schools, 7.12% white students",
          "62.54% of schools, 7.14% white students",
          "62.59% of schools, 7.16% white students",
          "62.65% of schools, 7.18% white students",
          "62.70% of schools, 7.20% white students",
          "62.75% of schools, 7.22% white students",
          "62.80% of schools, 7.24% white students",
          "62.86% of schools, 7.25% white students",
          "62.91% of schools, 7.27% white students",
          "62.96% of schools, 7.29% white students",
          "63.02% of schools, 7.31% white students",
          "63.07% of schools, 7.33% white students",
          "63.12% of schools, 7.35% white students",
          "63.17% of schools, 7.37% white students",
          "63.23% of schools, 7.39% white students",
          "63.28% of schools, 7.41% white students",
          "63.33% of schools, 7.43% white students",
          "63.39% of schools, 7.45% white students",
          "63.44% of schools, 7.47% white students",
          "63.49% of schools, 7.49% white students",
          "63.54% of schools, 7.51% white students",
          "63.60% of schools, 7.54% white students",
          "63.65% of schools, 7.56% white students",
          "63.70% of schools, 7.58% white students",
          "63.76% of schools, 7.60% white students",
          "63.81% of schools, 7.62% white students",
          "63.86% of schools, 7.64% white students",
          "63.92% of schools, 7.66% white students",
          "63.97% of schools, 7.68% white students",
          "64.02% of schools, 7.70% white students",
          "64.07% of schools, 7.72% white students",
          "64.13% of schools, 7.74% white students",
          "64.18% of schools, 7.76% white students",
          "64.23% of schools, 7.79% white students",
          "64.29% of schools, 7.81% white students",
          "64.34% of schools, 7.83% white students",
          "64.39% of schools, 7.85% white students",
          "64.44% of schools, 7.87% white students",
          "64.50% of schools, 7.90% white students",
          "64.55% of schools, 7.92% white students",
          "64.60% of schools, 7.94% white students",
          "64.66% of schools, 7.96% white students",
          "64.71% of schools, 7.99% white students",
          "64.76% of schools, 8.01% white students",
          "64.81% of schools, 8.03% white students",
          "64.87% of schools, 8.06% white students",
          "64.92% of schools, 8.08% white students",
          "64.97% of schools, 8.10% white students",
          "65.03% of schools, 8.12% white students",
          "65.08% of schools, 8.15% white students",
          "65.13% of schools, 8.17% white students",
          "65.19% of schools, 8.20% white students",
          "65.24% of schools, 8.22% white students",
          "65.29% of schools, 8.24% white students",
          "65.34% of schools, 8.27% white students",
          "65.40% of schools, 8.29% white students",
          "65.45% of schools, 8.32% white students",
          "65.50% of schools, 8.34% white students",
          "65.56% of schools, 8.37% white students",
          "65.61% of schools, 8.39% white students",
          "65.66% of schools, 8.41% white students",
          "65.71% of schools, 8.44% white students",
          "65.77% of schools, 8.46% white students",
          "65.82% of schools, 8.49% white students",
          "65.87% of schools, 8.51% white students",
          "65.93% of schools, 8.54% white students",
          "65.98% of schools, 8.56% white students",
          "66.03% of schools, 8.59% white students",
          "66.08% of schools, 8.62% white students",
          "66.14% of schools, 8.64% white students",
          "66.19% of schools, 8.67% white students",
          "66.24% of schools, 8.69% white students",
          "66.30% of schools, 8.72% white students",
          "66.35% of schools, 8.74% white students",
          "66.40% of schools, 8.77% white students",
          "66.46% of schools, 8.79% white students",
          "66.51% of schools, 8.82% white students",
          "66.56% of schools, 8.85% white students",
          "66.61% of schools, 8.87% white students",
          "66.67% of schools, 8.90% white students",
          "66.72% of schools, 8.93% white students",
          "66.77% of schools, 8.95% white students",
          "66.83% of schools, 8.98% white students",
          "66.88% of schools, 9.01% white students",
          "66.93% of schools, 9.03% white students",
          "66.98% of schools, 9.06% white students",
          "67.04% of schools, 9.09% white students",
          "67.09% of schools, 9.11% white students",
          "67.14% of schools, 9.14% white students",
          "67.20% of schools, 9.17% white students",
          "67.25% of schools, 9.19% white students",
          "67.30% of schools, 9.22% white students",
          "67.35% of schools, 9.25% white students",
          "67.41% of schools, 9.28% white students",
          "67.46% of schools, 9.31% white students",
          "67.51% of schools, 9.33% white students",
          "67.57% of schools, 9.36% white students",
          "67.62% of schools, 9.39% white students",
          "67.67% of schools, 9.42% white students",
          "67.72% of schools, 9.44% white students",
          "67.78% of schools, 9.47% white students",
          "67.83% of schools, 9.50% white students",
          "67.88% of schools, 9.53% white students",
          "67.94% of schools, 9.56% white students",
          "67.99% of schools, 9.58% white students",
          "68.04% of schools, 9.61% white students",
          "68.10% of schools, 9.64% white students",
          "68.15% of schools, 9.67% white students",
          "68.20% of schools, 9.70% white students",
          "68.25% of schools, 9.73% white students",
          "68.31% of schools, 9.76% white students",
          "68.36% of schools, 9.79% white students",
          "68.41% of schools, 9.82% white students",
          "68.47% of schools, 9.84% white students",
          "68.52% of schools, 9.87% white students",
          "68.57% of schools, 9.90% white students",
          "68.62% of schools, 9.93% white students",
          "68.68% of schools, 9.96% white students",
          "68.73% of schools, 9.99% white students",
          "68.78% of schools, 10.02% white students",
          "68.84% of schools, 10.05% white students",
          "68.89% of schools, 10.08% white students",
          "68.94% of schools, 10.11% white students",
          "68.99% of schools, 10.15% white students",
          "69.05% of schools, 10.18% white students",
          "69.10% of schools, 10.21% white students",
          "69.15% of schools, 10.24% white students",
          "69.21% of schools, 10.27% white students",
          "69.26% of schools, 10.30% white students",
          "69.31% of schools, 10.33% white students",
          "69.37% of schools, 10.36% white students",
          "69.42% of schools, 10.39% white students",
          "69.47% of schools, 10.42% white students",
          "69.52% of schools, 10.45% white students",
          "69.58% of schools, 10.49% white students",
          "69.63% of schools, 10.52% white students",
          "69.68% of schools, 10.55% white students",
          "69.74% of schools, 10.58% white students",
          "69.79% of schools, 10.61% white students",
          "69.84% of schools, 10.65% white students",
          "69.89% of schools, 10.68% white students",
          "69.95% of schools, 10.71% white students",
          "70.00% of schools, 10.75% white students",
          "70.05% of schools, 10.78% white students",
          "70.11% of schools, 10.81% white students",
          "70.16% of schools, 10.84% white students",
          "70.21% of schools, 10.88% white students",
          "70.26% of schools, 10.91% white students",
          "70.32% of schools, 10.94% white students",
          "70.37% of schools, 10.98% white students",
          "70.42% of schools, 11.01% white students",
          "70.48% of schools, 11.04% white students",
          "70.53% of schools, 11.08% white students",
          "70.58% of schools, 11.11% white students",
          "70.63% of schools, 11.15% white students",
          "70.69% of schools, 11.18% white students",
          "70.74% of schools, 11.22% white students",
          "70.79% of schools, 11.25% white students",
          "70.85% of schools, 11.28% white students",
          "70.90% of schools, 11.32% white students",
          "70.95% of schools, 11.35% white students",
          "71.01% of schools, 11.39% white students",
          "71.06% of schools, 11.42% white students",
          "71.11% of schools, 11.46% white students",
          "71.16% of schools, 11.49% white students",
          "71.22% of schools, 11.53% white students",
          "71.27% of schools, 11.56% white students",
          "71.32% of schools, 11.60% white students",
          "71.38% of schools, 11.63% white students",
          "71.43% of schools, 11.67% white students",
          "71.48% of schools, 11.71% white students",
          "71.53% of schools, 11.74% white students",
          "71.59% of schools, 11.78% white students",
          "71.64% of schools, 11.81% white students",
          "71.69% of schools, 11.85% white students",
          "71.75% of schools, 11.89% white students",
          "71.80% of schools, 11.92% white students",
          "71.85% of schools, 11.96% white students",
          "71.90% of schools, 12.00% white students",
          "71.96% of schools, 12.03% white students",
          "72.01% of schools, 12.07% white students",
          "72.06% of schools, 12.11% white students",
          "72.12% of schools, 12.14% white students",
          "72.17% of schools, 12.18% white students",
          "72.22% of schools, 12.22% white students",
          "72.28% of schools, 12.26% white students",
          "72.33% of schools, 12.30% white students",
          "72.38% of schools, 12.33% white students",
          "72.43% of schools, 12.37% white students",
          "72.49% of schools, 12.41% white students",
          "72.54% of schools, 12.45% white students",
          "72.59% of schools, 12.49% white students",
          "72.65% of schools, 12.53% white students",
          "72.70% of schools, 12.57% white students",
          "72.75% of schools, 12.61% white students",
          "72.80% of schools, 12.65% white students",
          "72.86% of schools, 12.69% white students",
          "72.91% of schools, 12.73% white students",
          "72.96% of schools, 12.77% white students",
          "73.02% of schools, 12.81% white students",
          "73.07% of schools, 12.85% white students",
          "73.12% of schools, 12.89% white students",
          "73.17% of schools, 12.93% white students",
          "73.23% of schools, 12.97% white students",
          "73.28% of schools, 13.01% white students",
          "73.33% of schools, 13.06% white students",
          "73.39% of schools, 13.10% white students",
          "73.44% of schools, 13.14% white students",
          "73.49% of schools, 13.18% white students",
          "73.54% of schools, 13.22% white students",
          "73.60% of schools, 13.26% white students",
          "73.65% of schools, 13.30% white students",
          "73.70% of schools, 13.35% white students",
          "73.76% of schools, 13.39% white students",
          "73.81% of schools, 13.43% white students",
          "73.86% of schools, 13.47% white students",
          "73.92% of schools, 13.51% white students",
          "73.97% of schools, 13.56% white students",
          "74.02% of schools, 13.60% white students",
          "74.07% of schools, 13.64% white students",
          "74.13% of schools, 13.69% white students",
          "74.18% of schools, 13.73% white students",
          "74.23% of schools, 13.77% white students",
          "74.29% of schools, 13.82% white students",
          "74.34% of schools, 13.86% white students",
          "74.39% of schools, 13.90% white students",
          "74.44% of schools, 13.95% white students",
          "74.50% of schools, 13.99% white students",
          "74.55% of schools, 14.04% white students",
          "74.60% of schools, 14.08% white students",
          "74.66% of schools, 14.13% white students",
          "74.71% of schools, 14.17% white students",
          "74.76% of schools, 14.22% white students",
          "74.81% of schools, 14.27% white students",
          "74.87% of schools, 14.31% white students",
          "74.92% of schools, 14.36% white students",
          "74.97% of schools, 14.40% white students",
          "75.03% of schools, 14.45% white students",
          "75.08% of schools, 14.50% white students",
          "75.13% of schools, 14.54% white students",
          "75.19% of schools, 14.59% white students",
          "75.24% of schools, 14.64% white students",
          "75.29% of schools, 14.69% white students",
          "75.34% of schools, 14.74% white students",
          "75.40% of schools, 14.79% white students",
          "75.45% of schools, 14.84% white students",
          "75.50% of schools, 14.89% white students",
          "75.56% of schools, 14.94% white students",
          "75.61% of schools, 14.99% white students",
          "75.66% of schools, 15.04% white students",
          "75.71% of schools, 15.09% white students",
          "75.77% of schools, 15.14% white students",
          "75.82% of schools, 15.19% white students",
          "75.87% of schools, 15.24% white students",
          "75.93% of schools, 15.29% white students",
          "75.98% of schools, 15.35% white students",
          "76.03% of schools, 15.40% white students",
          "76.08% of schools, 15.45% white students",
          "76.14% of schools, 15.50% white students",
          "76.19% of schools, 15.56% white students",
          "76.24% of schools, 15.61% white students",
          "76.30% of schools, 15.66% white students",
          "76.35% of schools, 15.72% white students",
          "76.40% of schools, 15.77% white students",
          "76.46% of schools, 15.82% white students",
          "76.51% of schools, 15.88% white students",
          "76.56% of schools, 15.93% white students",
          "76.61% of schools, 15.99% white students",
          "76.67% of schools, 16.04% white students",
          "76.72% of schools, 16.10% white students",
          "76.77% of schools, 16.16% white students",
          "76.83% of schools, 16.21% white students",
          "76.88% of schools, 16.27% white students",
          "76.93% of schools, 16.33% white students",
          "76.98% of schools, 16.38% white students",
          "77.04% of schools, 16.44% white students",
          "77.09% of schools, 16.50% white students",
          "77.14% of schools, 16.56% white students",
          "77.20% of schools, 16.62% white students",
          "77.25% of schools, 16.68% white students",
          "77.30% of schools, 16.74% white students",
          "77.35% of schools, 16.79% white students",
          "77.41% of schools, 16.85% white students",
          "77.46% of schools, 16.91% white students",
          "77.51% of schools, 16.97% white students",
          "77.57% of schools, 17.03% white students",
          "77.62% of schools, 17.09% white students",
          "77.67% of schools, 17.15% white students",
          "77.72% of schools, 17.21% white students",
          "77.78% of schools, 17.27% white students",
          "77.83% of schools, 17.33% white students",
          "77.88% of schools, 17.39% white students",
          "77.94% of schools, 17.45% white students",
          "77.99% of schools, 17.51% white students",
          "78.04% of schools, 17.58% white students",
          "78.10% of schools, 17.64% white students",
          "78.15% of schools, 17.70% white students",
          "78.20% of schools, 17.76% white students",
          "78.25% of schools, 17.83% white students",
          "78.31% of schools, 17.89% white students",
          "78.36% of schools, 17.95% white students",
          "78.41% of schools, 18.02% white students",
          "78.47% of schools, 18.08% white students",
          "78.52% of schools, 18.14% white students",
          "78.57% of schools, 18.21% white students",
          "78.62% of schools, 18.27% white students",
          "78.68% of schools, 18.34% white students",
          "78.73% of schools, 18.40% white students",
          "78.78% of schools, 18.47% white students",
          "78.84% of schools, 18.53% white students",
          "78.89% of schools, 18.60% white students",
          "78.94% of schools, 18.67% white students",
          "78.99% of schools, 18.73% white students",
          "79.05% of schools, 18.80% white students",
          "79.10% of schools, 18.87% white students",
          "79.15% of schools, 18.94% white students",
          "79.21% of schools, 19.01% white students",
          "79.26% of schools, 19.08% white students",
          "79.31% of schools, 19.15% white students",
          "79.37% of schools, 19.22% white students",
          "79.42% of schools, 19.29% white students",
          "79.47% of schools, 19.36% white students",
          "79.52% of schools, 19.43% white students",
          "79.58% of schools, 19.50% white students",
          "79.63% of schools, 19.58% white students",
          "79.68% of schools, 19.65% white students",
          "79.74% of schools, 19.72% white students",
          "79.79% of schools, 19.79% white students",
          "79.84% of schools, 19.87% white students",
          "79.89% of schools, 19.94% white students",
          "79.95% of schools, 20.01% white students",
          "80.00% of schools, 20.08% white students",
          "80.05% of schools, 20.16% white students",
          "80.11% of schools, 20.23% white students",
          "80.16% of schools, 20.31% white students",
          "80.21% of schools, 20.38% white students",
          "80.26% of schools, 20.46% white students",
          "80.32% of schools, 20.53% white students",
          "80.37% of schools, 20.61% white students",
          "80.42% of schools, 20.69% white students",
          "80.48% of schools, 20.77% white students",
          "80.53% of schools, 20.84% white students",
          "80.58% of schools, 20.92% white students",
          "80.63% of schools, 21.00% white students",
          "80.69% of schools, 21.08% white students",
          "80.74% of schools, 21.16% white students",
          "80.79% of schools, 21.24% white students",
          "80.85% of schools, 21.32% white students",
          "80.90% of schools, 21.40% white students",
          "80.95% of schools, 21.48% white students",
          "81.01% of schools, 21.56% white students",
          "81.06% of schools, 21.65% white students",
          "81.11% of schools, 21.73% white students",
          "81.16% of schools, 21.81% white students",
          "81.22% of schools, 21.89% white students",
          "81.27% of schools, 21.98% white students",
          "81.32% of schools, 22.06% white students",
          "81.38% of schools, 22.14% white students",
          "81.43% of schools, 22.23% white students",
          "81.48% of schools, 22.31% white students",
          "81.53% of schools, 22.40% white students",
          "81.59% of schools, 22.49% white students",
          "81.64% of schools, 22.57% white students",
          "81.69% of schools, 22.66% white students",
          "81.75% of schools, 22.75% white students",
          "81.80% of schools, 22.83% white students",
          "81.85% of schools, 22.92% white students",
          "81.90% of schools, 23.01% white students",
          "81.96% of schools, 23.10% white students",
          "82.01% of schools, 23.19% white students",
          "82.06% of schools, 23.28% white students",
          "82.12% of schools, 23.37% white students",
          "82.17% of schools, 23.46% white students",
          "82.22% of schools, 23.55% white students",
          "82.28% of schools, 23.64% white students",
          "82.33% of schools, 23.74% white students",
          "82.38% of schools, 23.83% white students",
          "82.43% of schools, 23.92% white students",
          "82.49% of schools, 24.02% white students",
          "82.54% of schools, 24.12% white students",
          "82.59% of schools, 24.22% white students",
          "82.65% of schools, 24.31% white students",
          "82.70% of schools, 24.41% white students",
          "82.75% of schools, 24.51% white students",
          "82.80% of schools, 24.61% white students",
          "82.86% of schools, 24.71% white students",
          "82.91% of schools, 24.81% white students",
          "82.96% of schools, 24.91% white students",
          "83.02% of schools, 25.01% white students",
          "83.07% of schools, 25.11% white students",
          "83.12% of schools, 25.21% white students",
          "83.17% of schools, 25.31% white students",
          "83.23% of schools, 25.41% white students",
          "83.28% of schools, 25.51% white students",
          "83.33% of schools, 25.62% white students",
          "83.39% of schools, 25.72% white students",
          "83.44% of schools, 25.82% white students",
          "83.49% of schools, 25.93% white students",
          "83.54% of schools, 26.03% white students",
          "83.60% of schools, 26.13% white students",
          "83.65% of schools, 26.24% white students",
          "83.70% of schools, 26.34% white students",
          "83.76% of schools, 26.44% white students",
          "83.81% of schools, 26.55% white students",
          "83.86% of schools, 26.66% white students",
          "83.92% of schools, 26.76% white students",
          "83.97% of schools, 26.87% white students",
          "84.02% of schools, 26.97% white students",
          "84.07% of schools, 27.08% white students",
          "84.13% of schools, 27.19% white students",
          "84.18% of schools, 27.30% white students",
          "84.23% of schools, 27.40% white students",
          "84.29% of schools, 27.51% white students",
          "84.34% of schools, 27.62% white students",
          "84.39% of schools, 27.73% white students",
          "84.44% of schools, 27.84% white students",
          "84.50% of schools, 27.95% white students",
          "84.55% of schools, 28.06% white students",
          "84.60% of schools, 28.17% white students",
          "84.66% of schools, 28.28% white students",
          "84.71% of schools, 28.40% white students",
          "84.76% of schools, 28.51% white students",
          "84.81% of schools, 28.62% white students",
          "84.87% of schools, 28.74% white students",
          "84.92% of schools, 28.86% white students",
          "84.97% of schools, 28.97% white students",
          "85.03% of schools, 29.09% white students",
          "85.08% of schools, 29.21% white students",
          "85.13% of schools, 29.32% white students",
          "85.19% of schools, 29.44% white students",
          "85.24% of schools, 29.56% white students",
          "85.29% of schools, 29.68% white students",
          "85.34% of schools, 29.80% white students",
          "85.40% of schools, 29.91% white students",
          "85.45% of schools, 30.03% white students",
          "85.50% of schools, 30.15% white students",
          "85.56% of schools, 30.27% white students",
          "85.61% of schools, 30.40% white students",
          "85.66% of schools, 30.52% white students",
          "85.71% of schools, 30.64% white students",
          "85.77% of schools, 30.76% white students",
          "85.82% of schools, 30.89% white students",
          "85.87% of schools, 31.01% white students",
          "85.93% of schools, 31.13% white students",
          "85.98% of schools, 31.26% white students",
          "86.03% of schools, 31.39% white students",
          "86.08% of schools, 31.51% white students",
          "86.14% of schools, 31.64% white students",
          "86.19% of schools, 31.77% white students",
          "86.24% of schools, 31.89% white students",
          "86.30% of schools, 32.02% white students",
          "86.35% of schools, 32.15% white students",
          "86.40% of schools, 32.28% white students",
          "86.46% of schools, 32.41% white students",
          "86.51% of schools, 32.53% white students",
          "86.56% of schools, 32.66% white students",
          "86.61% of schools, 32.79% white students",
          "86.67% of schools, 32.92% white students",
          "86.72% of schools, 33.05% white students",
          "86.77% of schools, 33.18% white students",
          "86.83% of schools, 33.31% white students",
          "86.88% of schools, 33.45% white students",
          "86.93% of schools, 33.58% white students",
          "86.98% of schools, 33.71% white students",
          "87.04% of schools, 33.84% white students",
          "87.09% of schools, 33.98% white students",
          "87.14% of schools, 34.11% white students",
          "87.20% of schools, 34.25% white students",
          "87.25% of schools, 34.38% white students",
          "87.30% of schools, 34.52% white students",
          "87.35% of schools, 34.65% white students",
          "87.41% of schools, 34.79% white students",
          "87.46% of schools, 34.93% white students",
          "87.51% of schools, 35.07% white students",
          "87.57% of schools, 35.20% white students",
          "87.62% of schools, 35.34% white students",
          "87.67% of schools, 35.48% white students",
          "87.72% of schools, 35.62% white students",
          "87.78% of schools, 35.76% white students",
          "87.83% of schools, 35.91% white students",
          "87.88% of schools, 36.05% white students",
          "87.94% of schools, 36.19% white students",
          "87.99% of schools, 36.33% white students",
          "88.04% of schools, 36.48% white students",
          "88.10% of schools, 36.62% white students",
          "88.15% of schools, 36.76% white students",
          "88.20% of schools, 36.91% white students",
          "88.25% of schools, 37.05% white students",
          "88.31% of schools, 37.20% white students",
          "88.36% of schools, 37.34% white students",
          "88.41% of schools, 37.49% white students",
          "88.47% of schools, 37.63% white students",
          "88.52% of schools, 37.78% white students",
          "88.57% of schools, 37.93% white students",
          "88.62% of schools, 38.08% white students",
          "88.68% of schools, 38.23% white students",
          "88.73% of schools, 38.38% white students",
          "88.78% of schools, 38.53% white students",
          "88.84% of schools, 38.68% white students",
          "88.89% of schools, 38.83% white students",
          "88.94% of schools, 38.99% white students",
          "88.99% of schools, 39.14% white students",
          "89.05% of schools, 39.29% white students",
          "89.10% of schools, 39.45% white students",
          "89.15% of schools, 39.60% white students",
          "89.21% of schools, 39.76% white students",
          "89.26% of schools, 39.91% white students",
          "89.31% of schools, 40.07% white students",
          "89.37% of schools, 40.22% white students",
          "89.42% of schools, 40.38% white students",
          "89.47% of schools, 40.53% white students",
          "89.52% of schools, 40.69% white students",
          "89.58% of schools, 40.84% white students",
          "89.63% of schools, 41.00% white students",
          "89.68% of schools, 41.16% white students",
          "89.74% of schools, 41.32% white students",
          "89.79% of schools, 41.48% white students",
          "89.84% of schools, 41.64% white students",
          "89.89% of schools, 41.80% white students",
          "89.95% of schools, 41.96% white students",
          "90.00% of schools, 42.12% white students",
          "90.05% of schools, 42.28% white students",
          "90.11% of schools, 42.45% white students",
          "90.16% of schools, 42.61% white students",
          "90.21% of schools, 42.77% white students",
          "90.26% of schools, 42.94% white students",
          "90.32% of schools, 43.10% white students",
          "90.37% of schools, 43.27% white students",
          "90.42% of schools, 43.44% white students",
          "90.48% of schools, 43.61% white students",
          "90.53% of schools, 43.78% white students",
          "90.58% of schools, 43.95% white students",
          "90.63% of schools, 44.12% white students",
          "90.69% of schools, 44.29% white students",
          "90.74% of schools, 44.47% white students",
          "90.79% of schools, 44.64% white students",
          "90.85% of schools, 44.81% white students",
          "90.90% of schools, 44.99% white students",
          "90.95% of schools, 45.16% white students",
          "91.01% of schools, 45.33% white students",
          "91.06% of schools, 45.51% white students",
          "91.11% of schools, 45.68% white students",
          "91.16% of schools, 45.86% white students",
          "91.22% of schools, 46.03% white students",
          "91.27% of schools, 46.21% white students",
          "91.32% of schools, 46.39% white students",
          "91.38% of schools, 46.57% white students",
          "91.43% of schools, 46.75% white students",
          "91.48% of schools, 46.93% white students",
          "91.53% of schools, 47.11% white students",
          "91.59% of schools, 47.30% white students",
          "91.64% of schools, 47.48% white students",
          "91.69% of schools, 47.67% white students",
          "91.75% of schools, 47.86% white students",
          "91.80% of schools, 48.05% white students",
          "91.85% of schools, 48.23% white students",
          "91.90% of schools, 48.42% white students",
          "91.96% of schools, 48.62% white students",
          "92.01% of schools, 48.81% white students",
          "92.06% of schools, 49.00% white students",
          "92.12% of schools, 49.19% white students",
          "92.17% of schools, 49.39% white students",
          "92.22% of schools, 49.58% white students",
          "92.28% of schools, 49.78% white students",
          "92.33% of schools, 49.98% white students",
          "92.38% of schools, 50.18% white students",
          "92.43% of schools, 50.38% white students",
          "92.49% of schools, 50.58% white students",
          "92.54% of schools, 50.78% white students",
          "92.59% of schools, 50.98% white students",
          "92.65% of schools, 51.18% white students",
          "92.70% of schools, 51.39% white students",
          "92.75% of schools, 51.59% white students",
          "92.80% of schools, 51.80% white students",
          "92.86% of schools, 52.01% white students",
          "92.91% of schools, 52.21% white students",
          "92.96% of schools, 52.42% white students",
          "93.02% of schools, 52.63% white students",
          "93.07% of schools, 52.84% white students",
          "93.12% of schools, 53.05% white students",
          "93.17% of schools, 53.26% white students",
          "93.23% of schools, 53.47% white students",
          "93.28% of schools, 53.68% white students",
          "93.33% of schools, 53.89% white students",
          "93.39% of schools, 54.11% white students",
          "93.44% of schools, 54.32% white students",
          "93.49% of schools, 54.53% white students",
          "93.54% of schools, 54.75% white students",
          "93.60% of schools, 54.97% white students",
          "93.65% of schools, 55.19% white students",
          "93.70% of schools, 55.41% white students",
          "93.76% of schools, 55.63% white students",
          "93.81% of schools, 55.85% white students",
          "93.86% of schools, 56.07% white students",
          "93.92% of schools, 56.30% white students",
          "93.97% of schools, 56.52% white students",
          "94.02% of schools, 56.75% white students",
          "94.07% of schools, 56.98% white students",
          "94.13% of schools, 57.20% white students",
          "94.18% of schools, 57.43% white students",
          "94.23% of schools, 57.66% white students",
          "94.29% of schools, 57.89% white students",
          "94.34% of schools, 58.12% white students",
          "94.39% of schools, 58.35% white students",
          "94.44% of schools, 58.58% white students",
          "94.50% of schools, 58.81% white students",
          "94.55% of schools, 59.04% white students",
          "94.60% of schools, 59.27% white students",
          "94.66% of schools, 59.51% white students",
          "94.71% of schools, 59.74% white students",
          "94.76% of schools, 59.98% white students",
          "94.81% of schools, 60.22% white students",
          "94.87% of schools, 60.46% white students",
          "94.92% of schools, 60.70% white students",
          "94.97% of schools, 60.94% white students",
          "95.03% of schools, 61.18% white students",
          "95.08% of schools, 61.43% white students",
          "95.13% of schools, 61.67% white students",
          "95.19% of schools, 61.92% white students",
          "95.24% of schools, 62.17% white students",
          "95.29% of schools, 62.42% white students",
          "95.34% of schools, 62.67% white students",
          "95.40% of schools, 62.92% white students",
          "95.45% of schools, 63.18% white students",
          "95.50% of schools, 63.43% white students",
          "95.56% of schools, 63.69% white students",
          "95.61% of schools, 63.95% white students",
          "95.66% of schools, 64.21% white students",
          "95.71% of schools, 64.48% white students",
          "95.77% of schools, 64.75% white students",
          "95.82% of schools, 65.02% white students",
          "95.87% of schools, 65.29% white students",
          "95.93% of schools, 65.56% white students",
          "95.98% of schools, 65.83% white students",
          "96.03% of schools, 66.11% white students",
          "96.08% of schools, 66.38% white students",
          "96.14% of schools, 66.66% white students",
          "96.19% of schools, 66.94% white students",
          "96.24% of schools, 67.23% white students",
          "96.30% of schools, 67.52% white students",
          "96.35% of schools, 67.81% white students",
          "96.40% of schools, 68.10% white students",
          "96.46% of schools, 68.39% white students",
          "96.51% of schools, 68.69% white students",
          "96.56% of schools, 68.99% white students",
          "96.61% of schools, 69.28% white students",
          "96.67% of schools, 69.58% white students",
          "96.72% of schools, 69.88% white students",
          "96.77% of schools, 70.19% white students",
          "96.83% of schools, 70.49% white students",
          "96.88% of schools, 70.80% white students",
          "96.93% of schools, 71.10% white students",
          "96.98% of schools, 71.41% white students",
          "97.04% of schools, 71.72% white students",
          "97.09% of schools, 72.04% white students",
          "97.14% of schools, 72.35% white students",
          "97.20% of schools, 72.67% white students",
          "97.25% of schools, 72.99% white students",
          "97.30% of schools, 73.32% white students",
          "97.35% of schools, 73.64% white students",
          "97.41% of schools, 73.97% white students",
          "97.46% of schools, 74.30% white students",
          "97.51% of schools, 74.64% white students",
          "97.57% of schools, 74.98% white students",
          "97.62% of schools, 75.32% white students",
          "97.67% of schools, 75.67% white students",
          "97.72% of schools, 76.03% white students",
          "97.78% of schools, 76.38% white students",
          "97.83% of schools, 76.73% white students",
          "97.88% of schools, 77.10% white students",
          "97.94% of schools, 77.47% white students",
          "97.99% of schools, 77.84% white students",
          "98.04% of schools, 78.20% white students",
          "98.10% of schools, 78.57% white students",
          "98.15% of schools, 78.95% white students",
          "98.20% of schools, 79.33% white students",
          "98.25% of schools, 79.71% white students",
          "98.31% of schools, 80.09% white students",
          "98.36% of schools, 80.48% white students",
          "98.41% of schools, 80.88% white students",
          "98.47% of schools, 81.28% white students",
          "98.52% of schools, 81.68% white students",
          "98.57% of schools, 82.09% white students",
          "98.62% of schools, 82.50% white students",
          "98.68% of schools, 82.91% white students",
          "98.73% of schools, 83.35% white students",
          "98.78% of schools, 83.78% white students",
          "98.84% of schools, 84.22% white students",
          "98.89% of schools, 84.67% white students",
          "98.94% of schools, 85.12% white students",
          "98.99% of schools, 85.58% white students",
          "99.05% of schools, 86.06% white students",
          "99.10% of schools, 86.54% white students",
          "99.15% of schools, 87.02% white students",
          "99.21% of schools, 87.57% white students",
          "99.26% of schools, 88.13% white students",
          "99.31% of schools, 88.71% white students",
          "99.37% of schools, 89.30% white students",
          "99.42% of schools, 89.91% white students",
          "99.47% of schools, 90.52% white students",
          "99.52% of schools, 91.15% white students",
          "99.58% of schools, 91.77% white students",
          "99.63% of schools, 92.43% white students",
          "99.68% of schools, 93.19% white students",
          "99.74% of schools, 93.96% white students",
          "99.79% of schools, 94.91% white students",
          "99.84% of schools, 95.89% white students",
          "99.89% of schools, 96.89% white students",
          "99.95% of schools, 98.17% white students",
          "100.00% of schools, 100.00% white students"
         ],
         "type": "scatter",
         "x": [
          0.0005291005291005291,
          0.0010582010582010583,
          0.0015873015873015873,
          0.0021164021164021165,
          0.0026455026455026454,
          0.0031746031746031746,
          0.003703703703703704,
          0.004232804232804233,
          0.004761904761904762,
          0.005291005291005291,
          0.00582010582010582,
          0.006349206349206349,
          0.0068783068783068784,
          0.007407407407407408,
          0.007936507936507936,
          0.008465608465608466,
          0.008994708994708995,
          0.009523809523809525,
          0.010052910052910053,
          0.010582010582010581,
          0.011111111111111112,
          0.01164021164021164,
          0.01216931216931217,
          0.012698412698412698,
          0.013227513227513227,
          0.013756613756613757,
          0.014285714285714285,
          0.014814814814814815,
          0.015343915343915344,
          0.015873015873015872,
          0.0164021164021164,
          0.016931216931216932,
          0.01746031746031746,
          0.01798941798941799,
          0.018518518518518517,
          0.01904761904761905,
          0.019576719576719578,
          0.020105820105820106,
          0.020634920634920634,
          0.021164021164021163,
          0.021693121693121695,
          0.022222222222222223,
          0.02275132275132275,
          0.02328042328042328,
          0.023809523809523808,
          0.02433862433862434,
          0.02486772486772487,
          0.025396825396825397,
          0.025925925925925925,
          0.026455026455026454,
          0.026984126984126985,
          0.027513227513227514,
          0.028042328042328042,
          0.02857142857142857,
          0.0291005291005291,
          0.02962962962962963,
          0.03015873015873016,
          0.030687830687830688,
          0.031216931216931216,
          0.031746031746031744,
          0.032275132275132276,
          0.0328042328042328,
          0.03333333333333333,
          0.033862433862433865,
          0.03439153439153439,
          0.03492063492063492,
          0.035449735449735446,
          0.03597883597883598,
          0.03650793650793651,
          0.037037037037037035,
          0.03756613756613757,
          0.0380952380952381,
          0.038624338624338624,
          0.039153439153439155,
          0.03968253968253968,
          0.04021164021164021,
          0.040740740740740744,
          0.04126984126984127,
          0.0417989417989418,
          0.042328042328042326,
          0.04285714285714286,
          0.04338624338624339,
          0.043915343915343914,
          0.044444444444444446,
          0.04497354497354497,
          0.0455026455026455,
          0.046031746031746035,
          0.04656084656084656,
          0.04708994708994709,
          0.047619047619047616,
          0.04814814814814815,
          0.04867724867724868,
          0.049206349206349205,
          0.04973544973544974,
          0.05026455026455026,
          0.050793650793650794,
          0.051322751322751325,
          0.05185185185185185,
          0.05238095238095238,
          0.05291005291005291,
          0.05343915343915344,
          0.05396825396825397,
          0.054497354497354496,
          0.05502645502645503,
          0.05555555555555555,
          0.056084656084656084,
          0.056613756613756616,
          0.05714285714285714,
          0.05767195767195767,
          0.0582010582010582,
          0.05873015873015873,
          0.05925925925925926,
          0.059788359788359786,
          0.06031746031746032,
          0.06084656084656084,
          0.061375661375661375,
          0.06190476190476191,
          0.06243386243386243,
          0.06296296296296296,
          0.06349206349206349,
          0.06402116402116402,
          0.06455026455026455,
          0.06507936507936508,
          0.0656084656084656,
          0.06613756613756613,
          0.06666666666666667,
          0.0671957671957672,
          0.06772486772486773,
          0.06825396825396825,
          0.06878306878306878,
          0.06931216931216931,
          0.06984126984126984,
          0.07037037037037037,
          0.07089947089947089,
          0.07142857142857142,
          0.07195767195767196,
          0.07248677248677249,
          0.07301587301587302,
          0.07354497354497354,
          0.07407407407407407,
          0.0746031746031746,
          0.07513227513227513,
          0.07566137566137567,
          0.0761904761904762,
          0.07671957671957672,
          0.07724867724867725,
          0.07777777777777778,
          0.07830687830687831,
          0.07883597883597884,
          0.07936507936507936,
          0.07989417989417989,
          0.08042328042328042,
          0.08095238095238096,
          0.08148148148148149,
          0.082010582010582,
          0.08253968253968254,
          0.08306878306878307,
          0.0835978835978836,
          0.08412698412698413,
          0.08465608465608465,
          0.08518518518518518,
          0.08571428571428572,
          0.08624338624338625,
          0.08677248677248678,
          0.0873015873015873,
          0.08783068783068783,
          0.08835978835978836,
          0.08888888888888889,
          0.08941798941798942,
          0.08994708994708994,
          0.09047619047619047,
          0.091005291005291,
          0.09153439153439154,
          0.09206349206349207,
          0.09259259259259259,
          0.09312169312169312,
          0.09365079365079365,
          0.09417989417989418,
          0.09470899470899471,
          0.09523809523809523,
          0.09576719576719576,
          0.0962962962962963,
          0.09682539682539683,
          0.09735449735449736,
          0.09788359788359788,
          0.09841269841269841,
          0.09894179894179894,
          0.09947089947089947,
          0.1,
          0.10052910052910052,
          0.10105820105820106,
          0.10158730158730159,
          0.10211640211640212,
          0.10264550264550265,
          0.10317460317460317,
          0.1037037037037037,
          0.10423280423280423,
          0.10476190476190476,
          0.1052910052910053,
          0.10582010582010581,
          0.10634920634920635,
          0.10687830687830688,
          0.10740740740740741,
          0.10793650793650794,
          0.10846560846560846,
          0.10899470899470899,
          0.10952380952380952,
          0.11005291005291006,
          0.11058201058201059,
          0.1111111111111111,
          0.11164021164021164,
          0.11216931216931217,
          0.1126984126984127,
          0.11322751322751323,
          0.11375661375661375,
          0.11428571428571428,
          0.11481481481481481,
          0.11534391534391535,
          0.11587301587301588,
          0.1164021164021164,
          0.11693121693121693,
          0.11746031746031746,
          0.11798941798941799,
          0.11851851851851852,
          0.11904761904761904,
          0.11957671957671957,
          0.1201058201058201,
          0.12063492063492064,
          0.12116402116402117,
          0.12169312169312169,
          0.12222222222222222,
          0.12275132275132275,
          0.12328042328042328,
          0.12380952380952381,
          0.12433862433862433,
          0.12486772486772486,
          0.1253968253968254,
          0.1259259259259259,
          0.12645502645502646,
          0.12698412698412698,
          0.12751322751322752,
          0.12804232804232804,
          0.12857142857142856,
          0.1291005291005291,
          0.12962962962962962,
          0.13015873015873017,
          0.1306878306878307,
          0.1312169312169312,
          0.13174603174603175,
          0.13227513227513227,
          0.1328042328042328,
          0.13333333333333333,
          0.13386243386243385,
          0.1343915343915344,
          0.1349206349206349,
          0.13544973544973546,
          0.13597883597883598,
          0.1365079365079365,
          0.13703703703703704,
          0.13756613756613756,
          0.1380952380952381,
          0.13862433862433862,
          0.13915343915343914,
          0.13968253968253969,
          0.1402116402116402,
          0.14074074074074075,
          0.14126984126984127,
          0.14179894179894179,
          0.14232804232804233,
          0.14285714285714285,
          0.1433862433862434,
          0.1439153439153439,
          0.14444444444444443,
          0.14497354497354498,
          0.1455026455026455,
          0.14603174603174604,
          0.14656084656084656,
          0.14708994708994708,
          0.14761904761904762,
          0.14814814814814814,
          0.14867724867724869,
          0.1492063492063492,
          0.14973544973544972,
          0.15026455026455027,
          0.15079365079365079,
          0.15132275132275133,
          0.15185185185185185,
          0.1523809523809524,
          0.1529100529100529,
          0.15343915343915343,
          0.15396825396825398,
          0.1544973544973545,
          0.15502645502645504,
          0.15555555555555556,
          0.15608465608465608,
          0.15661375661375662,
          0.15714285714285714,
          0.15767195767195769,
          0.1582010582010582,
          0.15873015873015872,
          0.15925925925925927,
          0.15978835978835979,
          0.16031746031746033,
          0.16084656084656085,
          0.16137566137566137,
          0.1619047619047619,
          0.16243386243386243,
          0.16296296296296298,
          0.1634920634920635,
          0.164021164021164,
          0.16455026455026456,
          0.16507936507936508,
          0.16560846560846562,
          0.16613756613756614,
          0.16666666666666666,
          0.1671957671957672,
          0.16772486772486772,
          0.16825396825396827,
          0.16878306878306878,
          0.1693121693121693,
          0.16984126984126985,
          0.17037037037037037,
          0.1708994708994709,
          0.17142857142857143,
          0.17195767195767195,
          0.1724867724867725,
          0.173015873015873,
          0.17354497354497356,
          0.17407407407407408,
          0.1746031746031746,
          0.17513227513227514,
          0.17566137566137566,
          0.1761904761904762,
          0.17671957671957672,
          0.17724867724867724,
          0.17777777777777778,
          0.1783068783068783,
          0.17883597883597885,
          0.17936507936507937,
          0.17989417989417988,
          0.18042328042328043,
          0.18095238095238095,
          0.1814814814814815,
          0.182010582010582,
          0.18253968253968253,
          0.18306878306878308,
          0.1835978835978836,
          0.18412698412698414,
          0.18465608465608466,
          0.18518518518518517,
          0.18571428571428572,
          0.18624338624338624,
          0.18677248677248678,
          0.1873015873015873,
          0.18783068783068782,
          0.18835978835978837,
          0.18888888888888888,
          0.18941798941798943,
          0.18994708994708995,
          0.19047619047619047,
          0.191005291005291,
          0.19153439153439153,
          0.19206349206349208,
          0.1925925925925926,
          0.1931216931216931,
          0.19365079365079366,
          0.19417989417989417,
          0.19470899470899472,
          0.19523809523809524,
          0.19576719576719576,
          0.1962962962962963,
          0.19682539682539682,
          0.19735449735449737,
          0.19788359788359788,
          0.1984126984126984,
          0.19894179894179895,
          0.19947089947089947,
          0.2,
          0.20052910052910053,
          0.20105820105820105,
          0.2015873015873016,
          0.2021164021164021,
          0.20264550264550266,
          0.20317460317460317,
          0.2037037037037037,
          0.20423280423280424,
          0.20476190476190476,
          0.2052910052910053,
          0.20582010582010582,
          0.20634920634920634,
          0.20687830687830688,
          0.2074074074074074,
          0.20793650793650795,
          0.20846560846560847,
          0.20899470899470898,
          0.20952380952380953,
          0.21005291005291005,
          0.2105820105820106,
          0.2111111111111111,
          0.21164021164021163,
          0.21216931216931217,
          0.2126984126984127,
          0.21322751322751324,
          0.21375661375661376,
          0.21428571428571427,
          0.21481481481481482,
          0.21534391534391534,
          0.21587301587301588,
          0.2164021164021164,
          0.21693121693121692,
          0.21746031746031746,
          0.21798941798941798,
          0.21851851851851853,
          0.21904761904761905,
          0.21957671957671956,
          0.2201058201058201,
          0.22063492063492063,
          0.22116402116402117,
          0.2216931216931217,
          0.2222222222222222,
          0.22275132275132276,
          0.22328042328042327,
          0.22380952380952382,
          0.22433862433862434,
          0.22486772486772486,
          0.2253968253968254,
          0.22592592592592592,
          0.22645502645502646,
          0.22698412698412698,
          0.2275132275132275,
          0.22804232804232805,
          0.22857142857142856,
          0.2291005291005291,
          0.22962962962962963,
          0.23015873015873015,
          0.2306878306878307,
          0.2312169312169312,
          0.23174603174603176,
          0.23227513227513227,
          0.2328042328042328,
          0.23333333333333334,
          0.23386243386243386,
          0.2343915343915344,
          0.23492063492063492,
          0.23544973544973544,
          0.23597883597883598,
          0.2365079365079365,
          0.23703703703703705,
          0.23756613756613756,
          0.23809523809523808,
          0.23862433862433863,
          0.23915343915343915,
          0.2396825396825397,
          0.2402116402116402,
          0.24074074074074073,
          0.24126984126984127,
          0.2417989417989418,
          0.24232804232804234,
          0.24285714285714285,
          0.24338624338624337,
          0.24391534391534392,
          0.24444444444444444,
          0.24497354497354498,
          0.2455026455026455,
          0.24603174603174602,
          0.24656084656084656,
          0.24708994708994708,
          0.24761904761904763,
          0.24814814814814815,
          0.24867724867724866,
          0.2492063492063492,
          0.24973544973544973,
          0.25026455026455025,
          0.2507936507936508,
          0.25132275132275134,
          0.2518518518518518,
          0.2523809523809524,
          0.2529100529100529,
          0.25343915343915346,
          0.25396825396825395,
          0.2544973544973545,
          0.25502645502645505,
          0.25555555555555554,
          0.2560846560846561,
          0.2566137566137566,
          0.2571428571428571,
          0.25767195767195766,
          0.2582010582010582,
          0.25873015873015875,
          0.25925925925925924,
          0.2597883597883598,
          0.26031746031746034,
          0.2608465608465608,
          0.2613756613756614,
          0.2619047619047619,
          0.2624338624338624,
          0.26296296296296295,
          0.2634920634920635,
          0.26402116402116405,
          0.26455026455026454,
          0.2650793650793651,
          0.2656084656084656,
          0.2661375661375661,
          0.26666666666666666,
          0.2671957671957672,
          0.2677248677248677,
          0.26825396825396824,
          0.2687830687830688,
          0.26931216931216934,
          0.2698412698412698,
          0.27037037037037037,
          0.2708994708994709,
          0.2714285714285714,
          0.27195767195767195,
          0.2724867724867725,
          0.273015873015873,
          0.27354497354497354,
          0.2740740740740741,
          0.2746031746031746,
          0.2751322751322751,
          0.27566137566137566,
          0.2761904761904762,
          0.2767195767195767,
          0.27724867724867724,
          0.2777777777777778,
          0.2783068783068783,
          0.2788359788359788,
          0.27936507936507937,
          0.2798941798941799,
          0.2804232804232804,
          0.28095238095238095,
          0.2814814814814815,
          0.282010582010582,
          0.28253968253968254,
          0.2830687830687831,
          0.28359788359788357,
          0.2841269841269841,
          0.28465608465608466,
          0.2851851851851852,
          0.2857142857142857,
          0.28624338624338624,
          0.2867724867724868,
          0.2873015873015873,
          0.2878306878306878,
          0.28835978835978837,
          0.28888888888888886,
          0.2894179894179894,
          0.28994708994708995,
          0.2904761904761905,
          0.291005291005291,
          0.29153439153439153,
          0.2920634920634921,
          0.29259259259259257,
          0.2931216931216931,
          0.29365079365079366,
          0.29417989417989415,
          0.2947089947089947,
          0.29523809523809524,
          0.2957671957671958,
          0.2962962962962963,
          0.2968253968253968,
          0.29735449735449737,
          0.29788359788359786,
          0.2984126984126984,
          0.29894179894179895,
          0.29947089947089944,
          0.3,
          0.30052910052910053,
          0.3010582010582011,
          0.30158730158730157,
          0.3021164021164021,
          0.30264550264550266,
          0.30317460317460315,
          0.3037037037037037,
          0.30423280423280424,
          0.3047619047619048,
          0.3052910052910053,
          0.3058201058201058,
          0.30634920634920637,
          0.30687830687830686,
          0.3074074074074074,
          0.30793650793650795,
          0.30846560846560844,
          0.308994708994709,
          0.30952380952380953,
          0.3100529100529101,
          0.31058201058201057,
          0.3111111111111111,
          0.31164021164021166,
          0.31216931216931215,
          0.3126984126984127,
          0.31322751322751324,
          0.31375661375661373,
          0.3142857142857143,
          0.3148148148148148,
          0.31534391534391537,
          0.31587301587301586,
          0.3164021164021164,
          0.31693121693121695,
          0.31746031746031744,
          0.317989417989418,
          0.31851851851851853,
          0.319047619047619,
          0.31957671957671957,
          0.3201058201058201,
          0.32063492063492066,
          0.32116402116402115,
          0.3216931216931217,
          0.32222222222222224,
          0.32275132275132273,
          0.3232804232804233,
          0.3238095238095238,
          0.3243386243386243,
          0.32486772486772486,
          0.3253968253968254,
          0.32592592592592595,
          0.32645502645502644,
          0.326984126984127,
          0.32751322751322753,
          0.328042328042328,
          0.32857142857142857,
          0.3291005291005291,
          0.3296296296296296,
          0.33015873015873015,
          0.3306878306878307,
          0.33121693121693124,
          0.33174603174603173,
          0.3322751322751323,
          0.3328042328042328,
          0.3333333333333333,
          0.33386243386243386,
          0.3343915343915344,
          0.3349206349206349,
          0.33544973544973544,
          0.335978835978836,
          0.33650793650793653,
          0.337037037037037,
          0.33756613756613757,
          0.3380952380952381,
          0.3386243386243386,
          0.33915343915343915,
          0.3396825396825397,
          0.3402116402116402,
          0.34074074074074073,
          0.3412698412698413,
          0.3417989417989418,
          0.3423280423280423,
          0.34285714285714286,
          0.3433862433862434,
          0.3439153439153439,
          0.34444444444444444,
          0.344973544973545,
          0.3455026455026455,
          0.346031746031746,
          0.34656084656084657,
          0.3470899470899471,
          0.3476190476190476,
          0.34814814814814815,
          0.3486772486772487,
          0.3492063492063492,
          0.34973544973544973,
          0.3502645502645503,
          0.35079365079365077,
          0.3513227513227513,
          0.35185185185185186,
          0.3523809523809524,
          0.3529100529100529,
          0.35343915343915344,
          0.353968253968254,
          0.3544973544973545,
          0.355026455026455,
          0.35555555555555557,
          0.35608465608465606,
          0.3566137566137566,
          0.35714285714285715,
          0.3576719576719577,
          0.3582010582010582,
          0.35873015873015873,
          0.3592592592592593,
          0.35978835978835977,
          0.3603174603174603,
          0.36084656084656086,
          0.36137566137566135,
          0.3619047619047619,
          0.36243386243386244,
          0.362962962962963,
          0.3634920634920635,
          0.364021164021164,
          0.36455026455026457,
          0.36507936507936506,
          0.3656084656084656,
          0.36613756613756615,
          0.36666666666666664,
          0.3671957671957672,
          0.36772486772486773,
          0.3682539682539683,
          0.36878306878306877,
          0.3693121693121693,
          0.36984126984126986,
          0.37037037037037035,
          0.3708994708994709,
          0.37142857142857144,
          0.37195767195767193,
          0.3724867724867725,
          0.373015873015873,
          0.37354497354497357,
          0.37407407407407406,
          0.3746031746031746,
          0.37513227513227515,
          0.37566137566137564,
          0.3761904761904762,
          0.37671957671957673,
          0.3772486772486772,
          0.37777777777777777,
          0.3783068783068783,
          0.37883597883597886,
          0.37936507936507935,
          0.3798941798941799,
          0.38042328042328044,
          0.38095238095238093,
          0.3814814814814815,
          0.382010582010582,
          0.3825396825396825,
          0.38306878306878306,
          0.3835978835978836,
          0.38412698412698415,
          0.38465608465608464,
          0.3851851851851852,
          0.38571428571428573,
          0.3862433862433862,
          0.38677248677248677,
          0.3873015873015873,
          0.3878306878306878,
          0.38835978835978835,
          0.3888888888888889,
          0.38941798941798944,
          0.38994708994708993,
          0.3904761904761905,
          0.391005291005291,
          0.3915343915343915,
          0.39206349206349206,
          0.3925925925925926,
          0.3931216931216931,
          0.39365079365079364,
          0.3941798941798942,
          0.39470899470899473,
          0.3952380952380952,
          0.39576719576719577,
          0.3962962962962963,
          0.3968253968253968,
          0.39735449735449735,
          0.3978835978835979,
          0.3984126984126984,
          0.39894179894179893,
          0.3994708994708995,
          0.4,
          0.4005291005291005,
          0.40105820105820106,
          0.4015873015873016,
          0.4021164021164021,
          0.40264550264550264,
          0.4031746031746032,
          0.40370370370370373,
          0.4042328042328042,
          0.40476190476190477,
          0.4052910052910053,
          0.4058201058201058,
          0.40634920634920635,
          0.4068783068783069,
          0.4074074074074074,
          0.40793650793650793,
          0.4084656084656085,
          0.408994708994709,
          0.4095238095238095,
          0.41005291005291006,
          0.4105820105820106,
          0.4111111111111111,
          0.41164021164021164,
          0.4121693121693122,
          0.4126984126984127,
          0.4132275132275132,
          0.41375661375661377,
          0.4142857142857143,
          0.4148148148148148,
          0.41534391534391535,
          0.4158730158730159,
          0.4164021164021164,
          0.41693121693121693,
          0.4174603174603175,
          0.41798941798941797,
          0.4185185185185185,
          0.41904761904761906,
          0.4195767195767196,
          0.4201058201058201,
          0.42063492063492064,
          0.4211640211640212,
          0.4216931216931217,
          0.4222222222222222,
          0.42275132275132277,
          0.42328042328042326,
          0.4238095238095238,
          0.42433862433862435,
          0.4248677248677249,
          0.4253968253968254,
          0.42592592592592593,
          0.4264550264550265,
          0.42698412698412697,
          0.4275132275132275,
          0.42804232804232806,
          0.42857142857142855,
          0.4291005291005291,
          0.42962962962962964,
          0.4301587301587302,
          0.4306878306878307,
          0.4312169312169312,
          0.43174603174603177,
          0.43227513227513226,
          0.4328042328042328,
          0.43333333333333335,
          0.43386243386243384,
          0.4343915343915344,
          0.43492063492063493,
          0.4354497354497355,
          0.43597883597883597,
          0.4365079365079365,
          0.43703703703703706,
          0.43756613756613755,
          0.4380952380952381,
          0.43862433862433864,
          0.43915343915343913,
          0.4396825396825397,
          0.4402116402116402,
          0.44074074074074077,
          0.44126984126984126,
          0.4417989417989418,
          0.44232804232804235,
          0.44285714285714284,
          0.4433862433862434,
          0.44391534391534393,
          0.4444444444444444,
          0.44497354497354497,
          0.4455026455026455,
          0.44603174603174606,
          0.44656084656084655,
          0.4470899470899471,
          0.44761904761904764,
          0.44814814814814813,
          0.4486772486772487,
          0.4492063492063492,
          0.4497354497354497,
          0.45026455026455026,
          0.4507936507936508,
          0.45132275132275135,
          0.45185185185185184,
          0.4523809523809524,
          0.45291005291005293,
          0.4534391534391534,
          0.45396825396825397,
          0.4544973544973545,
          0.455026455026455,
          0.45555555555555555,
          0.4560846560846561,
          0.45661375661375664,
          0.45714285714285713,
          0.4576719576719577,
          0.4582010582010582,
          0.4587301587301587,
          0.45925925925925926,
          0.4597883597883598,
          0.4603174603174603,
          0.46084656084656084,
          0.4613756613756614,
          0.46190476190476193,
          0.4624338624338624,
          0.46296296296296297,
          0.4634920634920635,
          0.464021164021164,
          0.46455026455026455,
          0.4650793650793651,
          0.4656084656084656,
          0.46613756613756613,
          0.4666666666666667,
          0.4671957671957672,
          0.4677248677248677,
          0.46825396825396826,
          0.4687830687830688,
          0.4693121693121693,
          0.46984126984126984,
          0.4703703703703704,
          0.4708994708994709,
          0.4714285714285714,
          0.47195767195767196,
          0.4724867724867725,
          0.473015873015873,
          0.47354497354497355,
          0.4740740740740741,
          0.4746031746031746,
          0.47513227513227513,
          0.4756613756613757,
          0.47619047619047616,
          0.4767195767195767,
          0.47724867724867726,
          0.4777777777777778,
          0.4783068783068783,
          0.47883597883597884,
          0.4793650793650794,
          0.4798941798941799,
          0.4804232804232804,
          0.48095238095238096,
          0.48148148148148145,
          0.482010582010582,
          0.48253968253968255,
          0.4830687830687831,
          0.4835978835978836,
          0.48412698412698413,
          0.4846560846560847,
          0.48518518518518516,
          0.4857142857142857,
          0.48624338624338626,
          0.48677248677248675,
          0.4873015873015873,
          0.48783068783068784,
          0.4883597883597884,
          0.4888888888888889,
          0.4894179894179894,
          0.48994708994708996,
          0.49047619047619045,
          0.491005291005291,
          0.49153439153439155,
          0.49206349206349204,
          0.4925925925925926,
          0.4931216931216931,
          0.4936507936507937,
          0.49417989417989416,
          0.4947089947089947,
          0.49523809523809526,
          0.49576719576719575,
          0.4962962962962963,
          0.49682539682539684,
          0.4973544973544973,
          0.4978835978835979,
          0.4984126984126984,
          0.49894179894179896,
          0.49947089947089945,
          0.5,
          0.5005291005291005,
          0.5010582010582011,
          0.5015873015873016,
          0.5021164021164021,
          0.5026455026455027,
          0.5031746031746032,
          0.5037037037037037,
          0.5042328042328043,
          0.5047619047619047,
          0.5052910052910053,
          0.5058201058201058,
          0.5063492063492063,
          0.5068783068783069,
          0.5074074074074074,
          0.5079365079365079,
          0.5084656084656085,
          0.508994708994709,
          0.5095238095238095,
          0.5100529100529101,
          0.5105820105820106,
          0.5111111111111111,
          0.5116402116402117,
          0.5121693121693122,
          0.5126984126984127,
          0.5132275132275133,
          0.5137566137566137,
          0.5142857142857142,
          0.5148148148148148,
          0.5153439153439153,
          0.5158730158730159,
          0.5164021164021164,
          0.5169312169312169,
          0.5174603174603175,
          0.517989417989418,
          0.5185185185185185,
          0.5190476190476191,
          0.5195767195767196,
          0.5201058201058201,
          0.5206349206349207,
          0.5211640211640212,
          0.5216931216931217,
          0.5222222222222223,
          0.5227513227513227,
          0.5232804232804232,
          0.5238095238095238,
          0.5243386243386243,
          0.5248677248677248,
          0.5253968253968254,
          0.5259259259259259,
          0.5264550264550265,
          0.526984126984127,
          0.5275132275132275,
          0.5280423280423281,
          0.5285714285714286,
          0.5291005291005291,
          0.5296296296296297,
          0.5301587301587302,
          0.5306878306878307,
          0.5312169312169313,
          0.5317460317460317,
          0.5322751322751322,
          0.5328042328042328,
          0.5333333333333333,
          0.5338624338624338,
          0.5343915343915344,
          0.5349206349206349,
          0.5354497354497354,
          0.535978835978836,
          0.5365079365079365,
          0.5370370370370371,
          0.5375661375661376,
          0.5380952380952381,
          0.5386243386243387,
          0.5391534391534392,
          0.5396825396825397,
          0.5402116402116403,
          0.5407407407407407,
          0.5412698412698412,
          0.5417989417989418,
          0.5423280423280423,
          0.5428571428571428,
          0.5433862433862434,
          0.5439153439153439,
          0.5444444444444444,
          0.544973544973545,
          0.5455026455026455,
          0.546031746031746,
          0.5465608465608466,
          0.5470899470899471,
          0.5476190476190477,
          0.5481481481481482,
          0.5486772486772487,
          0.5492063492063493,
          0.5497354497354497,
          0.5502645502645502,
          0.5507936507936508,
          0.5513227513227513,
          0.5518518518518518,
          0.5523809523809524,
          0.5529100529100529,
          0.5534391534391534,
          0.553968253968254,
          0.5544973544973545,
          0.555026455026455,
          0.5555555555555556,
          0.5560846560846561,
          0.5566137566137566,
          0.5571428571428572,
          0.5576719576719577,
          0.5582010582010583,
          0.5587301587301587,
          0.5592592592592592,
          0.5597883597883598,
          0.5603174603174603,
          0.5608465608465608,
          0.5613756613756614,
          0.5619047619047619,
          0.5624338624338624,
          0.562962962962963,
          0.5634920634920635,
          0.564021164021164,
          0.5645502645502646,
          0.5650793650793651,
          0.5656084656084656,
          0.5661375661375662,
          0.5666666666666667,
          0.5671957671957671,
          0.5677248677248677,
          0.5682539682539682,
          0.5687830687830688,
          0.5693121693121693,
          0.5698412698412698,
          0.5703703703703704,
          0.5708994708994709,
          0.5714285714285714,
          0.571957671957672,
          0.5724867724867725,
          0.573015873015873,
          0.5735449735449736,
          0.5740740740740741,
          0.5746031746031746,
          0.5751322751322752,
          0.5756613756613757,
          0.5761904761904761,
          0.5767195767195767,
          0.5772486772486772,
          0.5777777777777777,
          0.5783068783068783,
          0.5788359788359788,
          0.5793650793650794,
          0.5798941798941799,
          0.5804232804232804,
          0.580952380952381,
          0.5814814814814815,
          0.582010582010582,
          0.5825396825396826,
          0.5830687830687831,
          0.5835978835978836,
          0.5841269841269842,
          0.5846560846560847,
          0.5851851851851851,
          0.5857142857142857,
          0.5862433862433862,
          0.5867724867724867,
          0.5873015873015873,
          0.5878306878306878,
          0.5883597883597883,
          0.5888888888888889,
          0.5894179894179894,
          0.58994708994709,
          0.5904761904761905,
          0.591005291005291,
          0.5915343915343916,
          0.5920634920634921,
          0.5925925925925926,
          0.5931216931216932,
          0.5936507936507937,
          0.5941798941798941,
          0.5947089947089947,
          0.5952380952380952,
          0.5957671957671957,
          0.5962962962962963,
          0.5968253968253968,
          0.5973544973544973,
          0.5978835978835979,
          0.5984126984126984,
          0.5989417989417989,
          0.5994708994708995,
          0.6,
          0.6005291005291006,
          0.6010582010582011,
          0.6015873015873016,
          0.6021164021164022,
          0.6026455026455027,
          0.6031746031746031,
          0.6037037037037037,
          0.6042328042328042,
          0.6047619047619047,
          0.6052910052910053,
          0.6058201058201058,
          0.6063492063492063,
          0.6068783068783069,
          0.6074074074074074,
          0.6079365079365079,
          0.6084656084656085,
          0.608994708994709,
          0.6095238095238096,
          0.6100529100529101,
          0.6105820105820106,
          0.6111111111111112,
          0.6116402116402117,
          0.6121693121693121,
          0.6126984126984127,
          0.6132275132275132,
          0.6137566137566137,
          0.6142857142857143,
          0.6148148148148148,
          0.6153439153439153,
          0.6158730158730159,
          0.6164021164021164,
          0.6169312169312169,
          0.6174603174603175,
          0.617989417989418,
          0.6185185185185185,
          0.6190476190476191,
          0.6195767195767196,
          0.6201058201058202,
          0.6206349206349207,
          0.6211640211640211,
          0.6216931216931217,
          0.6222222222222222,
          0.6227513227513227,
          0.6232804232804233,
          0.6238095238095238,
          0.6243386243386243,
          0.6248677248677249,
          0.6253968253968254,
          0.6259259259259259,
          0.6264550264550265,
          0.626984126984127,
          0.6275132275132275,
          0.6280423280423281,
          0.6285714285714286,
          0.629100529100529,
          0.6296296296296297,
          0.6301587301587301,
          0.6306878306878307,
          0.6312169312169312,
          0.6317460317460317,
          0.6322751322751323,
          0.6328042328042328,
          0.6333333333333333,
          0.6338624338624339,
          0.6343915343915344,
          0.6349206349206349,
          0.6354497354497355,
          0.635978835978836,
          0.6365079365079365,
          0.6370370370370371,
          0.6375661375661376,
          0.638095238095238,
          0.6386243386243386,
          0.6391534391534391,
          0.6396825396825396,
          0.6402116402116402,
          0.6407407407407407,
          0.6412698412698413,
          0.6417989417989418,
          0.6423280423280423,
          0.6428571428571429,
          0.6433862433862434,
          0.6439153439153439,
          0.6444444444444445,
          0.644973544973545,
          0.6455026455026455,
          0.6460317460317461,
          0.6465608465608466,
          0.647089947089947,
          0.6476190476190476,
          0.6481481481481481,
          0.6486772486772486,
          0.6492063492063492,
          0.6497354497354497,
          0.6502645502645502,
          0.6507936507936508,
          0.6513227513227513,
          0.6518518518518519,
          0.6523809523809524,
          0.6529100529100529,
          0.6534391534391535,
          0.653968253968254,
          0.6544973544973545,
          0.6550264550264551,
          0.6555555555555556,
          0.656084656084656,
          0.6566137566137566,
          0.6571428571428571,
          0.6576719576719576,
          0.6582010582010582,
          0.6587301587301587,
          0.6592592592592592,
          0.6597883597883598,
          0.6603174603174603,
          0.6608465608465608,
          0.6613756613756614,
          0.6619047619047619,
          0.6624338624338625,
          0.662962962962963,
          0.6634920634920635,
          0.6640211640211641,
          0.6645502645502646,
          0.665079365079365,
          0.6656084656084656,
          0.6661375661375661,
          0.6666666666666666,
          0.6671957671957672,
          0.6677248677248677,
          0.6682539682539682,
          0.6687830687830688,
          0.6693121693121693,
          0.6698412698412698,
          0.6703703703703704,
          0.6708994708994709,
          0.6714285714285714,
          0.671957671957672,
          0.6724867724867725,
          0.6730158730158731,
          0.6735449735449736,
          0.674074074074074,
          0.6746031746031746,
          0.6751322751322751,
          0.6756613756613756,
          0.6761904761904762,
          0.6767195767195767,
          0.6772486772486772,
          0.6777777777777778,
          0.6783068783068783,
          0.6788359788359788,
          0.6793650793650794,
          0.6798941798941799,
          0.6804232804232804,
          0.680952380952381,
          0.6814814814814815,
          0.682010582010582,
          0.6825396825396826,
          0.683068783068783,
          0.6835978835978836,
          0.6841269841269841,
          0.6846560846560846,
          0.6851851851851852,
          0.6857142857142857,
          0.6862433862433862,
          0.6867724867724868,
          0.6873015873015873,
          0.6878306878306878,
          0.6883597883597884,
          0.6888888888888889,
          0.6894179894179894,
          0.68994708994709,
          0.6904761904761905,
          0.691005291005291,
          0.6915343915343916,
          0.692063492063492,
          0.6925925925925925,
          0.6931216931216931,
          0.6936507936507936,
          0.6941798941798942,
          0.6947089947089947,
          0.6952380952380952,
          0.6957671957671958,
          0.6962962962962963,
          0.6968253968253968,
          0.6973544973544974,
          0.6978835978835979,
          0.6984126984126984,
          0.698941798941799,
          0.6994708994708995,
          0.7,
          0.7005291005291006,
          0.701058201058201,
          0.7015873015873015,
          0.7021164021164021,
          0.7026455026455026,
          0.7031746031746032,
          0.7037037037037037,
          0.7042328042328042,
          0.7047619047619048,
          0.7052910052910053,
          0.7058201058201058,
          0.7063492063492064,
          0.7068783068783069,
          0.7074074074074074,
          0.707936507936508,
          0.7084656084656085,
          0.708994708994709,
          0.7095238095238096,
          0.71005291005291,
          0.7105820105820105,
          0.7111111111111111,
          0.7116402116402116,
          0.7121693121693121,
          0.7126984126984127,
          0.7132275132275132,
          0.7137566137566138,
          0.7142857142857143,
          0.7148148148148148,
          0.7153439153439154,
          0.7158730158730159,
          0.7164021164021164,
          0.716931216931217,
          0.7174603174603175,
          0.717989417989418,
          0.7185185185185186,
          0.719047619047619,
          0.7195767195767195,
          0.7201058201058201,
          0.7206349206349206,
          0.7211640211640211,
          0.7216931216931217,
          0.7222222222222222,
          0.7227513227513227,
          0.7232804232804233,
          0.7238095238095238,
          0.7243386243386244,
          0.7248677248677249,
          0.7253968253968254,
          0.725925925925926,
          0.7264550264550265,
          0.726984126984127,
          0.7275132275132276,
          0.728042328042328,
          0.7285714285714285,
          0.7291005291005291,
          0.7296296296296296,
          0.7301587301587301,
          0.7306878306878307,
          0.7312169312169312,
          0.7317460317460317,
          0.7322751322751323,
          0.7328042328042328,
          0.7333333333333333,
          0.7338624338624339,
          0.7343915343915344,
          0.734920634920635,
          0.7354497354497355,
          0.735978835978836,
          0.7365079365079366,
          0.737037037037037,
          0.7375661375661375,
          0.7380952380952381,
          0.7386243386243386,
          0.7391534391534391,
          0.7396825396825397,
          0.7402116402116402,
          0.7407407407407407,
          0.7412698412698413,
          0.7417989417989418,
          0.7423280423280423,
          0.7428571428571429,
          0.7433862433862434,
          0.7439153439153439,
          0.7444444444444445,
          0.744973544973545,
          0.7455026455026456,
          0.746031746031746,
          0.7465608465608465,
          0.7470899470899471,
          0.7476190476190476,
          0.7481481481481481,
          0.7486772486772487,
          0.7492063492063492,
          0.7497354497354497,
          0.7502645502645503,
          0.7507936507936508,
          0.7513227513227513,
          0.7518518518518519,
          0.7523809523809524,
          0.7529100529100529,
          0.7534391534391535,
          0.753968253968254,
          0.7544973544973544,
          0.755026455026455,
          0.7555555555555555,
          0.7560846560846561,
          0.7566137566137566,
          0.7571428571428571,
          0.7576719576719577,
          0.7582010582010582,
          0.7587301587301587,
          0.7592592592592593,
          0.7597883597883598,
          0.7603174603174603,
          0.7608465608465609,
          0.7613756613756614,
          0.7619047619047619,
          0.7624338624338625,
          0.762962962962963,
          0.7634920634920634,
          0.764021164021164,
          0.7645502645502645,
          0.765079365079365,
          0.7656084656084656,
          0.7661375661375661,
          0.7666666666666667,
          0.7671957671957672,
          0.7677248677248677,
          0.7682539682539683,
          0.7687830687830688,
          0.7693121693121693,
          0.7698412698412699,
          0.7703703703703704,
          0.7708994708994709,
          0.7714285714285715,
          0.771957671957672,
          0.7724867724867724,
          0.773015873015873,
          0.7735449735449735,
          0.774074074074074,
          0.7746031746031746,
          0.7751322751322751,
          0.7756613756613756,
          0.7761904761904762,
          0.7767195767195767,
          0.7772486772486773,
          0.7777777777777778,
          0.7783068783068783,
          0.7788359788359789,
          0.7793650793650794,
          0.7798941798941799,
          0.7804232804232805,
          0.780952380952381,
          0.7814814814814814,
          0.782010582010582,
          0.7825396825396825,
          0.783068783068783,
          0.7835978835978836,
          0.7841269841269841,
          0.7846560846560846,
          0.7851851851851852,
          0.7857142857142857,
          0.7862433862433862,
          0.7867724867724868,
          0.7873015873015873,
          0.7878306878306879,
          0.7883597883597884,
          0.7888888888888889,
          0.7894179894179895,
          0.78994708994709,
          0.7904761904761904,
          0.791005291005291,
          0.7915343915343915,
          0.792063492063492,
          0.7925925925925926,
          0.7931216931216931,
          0.7936507936507936,
          0.7941798941798942,
          0.7947089947089947,
          0.7952380952380952,
          0.7957671957671958,
          0.7962962962962963,
          0.7968253968253968,
          0.7973544973544974,
          0.7978835978835979,
          0.7984126984126985,
          0.798941798941799,
          0.7994708994708994,
          0.8,
          0.8005291005291005,
          0.801058201058201,
          0.8015873015873016,
          0.8021164021164021,
          0.8026455026455026,
          0.8031746031746032,
          0.8037037037037037,
          0.8042328042328042,
          0.8047619047619048,
          0.8052910052910053,
          0.8058201058201058,
          0.8063492063492064,
          0.8068783068783069,
          0.8074074074074075,
          0.807936507936508,
          0.8084656084656084,
          0.808994708994709,
          0.8095238095238095,
          0.81005291005291,
          0.8105820105820106,
          0.8111111111111111,
          0.8116402116402116,
          0.8121693121693122,
          0.8126984126984127,
          0.8132275132275132,
          0.8137566137566138,
          0.8142857142857143,
          0.8148148148148148,
          0.8153439153439154,
          0.8158730158730159,
          0.8164021164021164,
          0.816931216931217,
          0.8174603174603174,
          0.817989417989418,
          0.8185185185185185,
          0.819047619047619,
          0.8195767195767196,
          0.8201058201058201,
          0.8206349206349206,
          0.8211640211640212,
          0.8216931216931217,
          0.8222222222222222,
          0.8227513227513228,
          0.8232804232804233,
          0.8238095238095238,
          0.8243386243386244,
          0.8248677248677249,
          0.8253968253968254,
          0.825925925925926,
          0.8264550264550264,
          0.8269841269841269,
          0.8275132275132275,
          0.828042328042328,
          0.8285714285714286,
          0.8291005291005291,
          0.8296296296296296,
          0.8301587301587302,
          0.8306878306878307,
          0.8312169312169312,
          0.8317460317460318,
          0.8322751322751323,
          0.8328042328042328,
          0.8333333333333334,
          0.8338624338624339,
          0.8343915343915344,
          0.834920634920635,
          0.8354497354497354,
          0.8359788359788359,
          0.8365079365079365,
          0.837037037037037,
          0.8375661375661375,
          0.8380952380952381,
          0.8386243386243386,
          0.8391534391534392,
          0.8396825396825397,
          0.8402116402116402,
          0.8407407407407408,
          0.8412698412698413,
          0.8417989417989418,
          0.8423280423280424,
          0.8428571428571429,
          0.8433862433862434,
          0.843915343915344,
          0.8444444444444444,
          0.8449735449735449,
          0.8455026455026455,
          0.846031746031746,
          0.8465608465608465,
          0.8470899470899471,
          0.8476190476190476,
          0.8481481481481481,
          0.8486772486772487,
          0.8492063492063492,
          0.8497354497354498,
          0.8502645502645503,
          0.8507936507936508,
          0.8513227513227514,
          0.8518518518518519,
          0.8523809523809524,
          0.852910052910053,
          0.8534391534391534,
          0.8539682539682539,
          0.8544973544973545,
          0.855026455026455,
          0.8555555555555555,
          0.8560846560846561,
          0.8566137566137566,
          0.8571428571428571,
          0.8576719576719577,
          0.8582010582010582,
          0.8587301587301587,
          0.8592592592592593,
          0.8597883597883598,
          0.8603174603174604,
          0.8608465608465609,
          0.8613756613756614,
          0.861904761904762,
          0.8624338624338624,
          0.8629629629629629,
          0.8634920634920635,
          0.864021164021164,
          0.8645502645502645,
          0.8650793650793651,
          0.8656084656084656,
          0.8661375661375661,
          0.8666666666666667,
          0.8671957671957672,
          0.8677248677248677,
          0.8682539682539683,
          0.8687830687830688,
          0.8693121693121693,
          0.8698412698412699,
          0.8703703703703703,
          0.870899470899471,
          0.8714285714285714,
          0.8719576719576719,
          0.8724867724867725,
          0.873015873015873,
          0.8735449735449735,
          0.8740740740740741,
          0.8746031746031746,
          0.8751322751322751,
          0.8756613756613757,
          0.8761904761904762,
          0.8767195767195767,
          0.8772486772486773,
          0.8777777777777778,
          0.8783068783068783,
          0.8788359788359789,
          0.8793650793650793,
          0.8798941798941798,
          0.8804232804232804,
          0.8809523809523809,
          0.8814814814814815,
          0.882010582010582,
          0.8825396825396825,
          0.8830687830687831,
          0.8835978835978836,
          0.8841269841269841,
          0.8846560846560847,
          0.8851851851851852,
          0.8857142857142857,
          0.8862433862433863,
          0.8867724867724868,
          0.8873015873015873,
          0.8878306878306879,
          0.8883597883597883,
          0.8888888888888888,
          0.8894179894179894,
          0.8899470899470899,
          0.8904761904761904,
          0.891005291005291,
          0.8915343915343915,
          0.8920634920634921,
          0.8925925925925926,
          0.8931216931216931,
          0.8936507936507937,
          0.8941798941798942,
          0.8947089947089947,
          0.8952380952380953,
          0.8957671957671958,
          0.8962962962962963,
          0.8968253968253969,
          0.8973544973544973,
          0.8978835978835978,
          0.8984126984126984,
          0.8989417989417989,
          0.8994708994708994,
          0.9,
          0.9005291005291005,
          0.9010582010582011,
          0.9015873015873016,
          0.9021164021164021,
          0.9026455026455027,
          0.9031746031746032,
          0.9037037037037037,
          0.9042328042328043,
          0.9047619047619048,
          0.9052910052910053,
          0.9058201058201059,
          0.9063492063492063,
          0.9068783068783068,
          0.9074074074074074,
          0.9079365079365079,
          0.9084656084656084,
          0.908994708994709,
          0.9095238095238095,
          0.91005291005291,
          0.9105820105820106,
          0.9111111111111111,
          0.9116402116402117,
          0.9121693121693122,
          0.9126984126984127,
          0.9132275132275133,
          0.9137566137566138,
          0.9142857142857143,
          0.9148148148148149,
          0.9153439153439153,
          0.9158730158730158,
          0.9164021164021164,
          0.9169312169312169,
          0.9174603174603174,
          0.917989417989418,
          0.9185185185185185,
          0.919047619047619,
          0.9195767195767196,
          0.9201058201058201,
          0.9206349206349206,
          0.9211640211640212,
          0.9216931216931217,
          0.9222222222222223,
          0.9227513227513228,
          0.9232804232804233,
          0.9238095238095239,
          0.9243386243386243,
          0.9248677248677248,
          0.9253968253968254,
          0.9259259259259259,
          0.9264550264550264,
          0.926984126984127,
          0.9275132275132275,
          0.928042328042328,
          0.9285714285714286,
          0.9291005291005291,
          0.9296296296296296,
          0.9301587301587302,
          0.9306878306878307,
          0.9312169312169312,
          0.9317460317460318,
          0.9322751322751323,
          0.9328042328042329,
          0.9333333333333333,
          0.9338624338624338,
          0.9343915343915344,
          0.9349206349206349,
          0.9354497354497354,
          0.935978835978836,
          0.9365079365079365,
          0.937037037037037,
          0.9375661375661376,
          0.9380952380952381,
          0.9386243386243386,
          0.9391534391534392,
          0.9396825396825397,
          0.9402116402116402,
          0.9407407407407408,
          0.9412698412698413,
          0.9417989417989417,
          0.9423280423280423,
          0.9428571428571428,
          0.9433862433862434,
          0.9439153439153439,
          0.9444444444444444,
          0.944973544973545,
          0.9455026455026455,
          0.946031746031746,
          0.9465608465608466,
          0.9470899470899471,
          0.9476190476190476,
          0.9481481481481482,
          0.9486772486772487,
          0.9492063492063492,
          0.9497354497354498,
          0.9502645502645503,
          0.9507936507936507,
          0.9513227513227513,
          0.9518518518518518,
          0.9523809523809523,
          0.9529100529100529,
          0.9534391534391534,
          0.953968253968254,
          0.9544973544973545,
          0.955026455026455,
          0.9555555555555556,
          0.9560846560846561,
          0.9566137566137566,
          0.9571428571428572,
          0.9576719576719577,
          0.9582010582010582,
          0.9587301587301588,
          0.9592592592592593,
          0.9597883597883597,
          0.9603174603174603,
          0.9608465608465608,
          0.9613756613756613,
          0.9619047619047619,
          0.9624338624338624,
          0.9629629629629629,
          0.9634920634920635,
          0.964021164021164,
          0.9645502645502646,
          0.9650793650793651,
          0.9656084656084656,
          0.9661375661375662,
          0.9666666666666667,
          0.9671957671957672,
          0.9677248677248678,
          0.9682539682539683,
          0.9687830687830687,
          0.9693121693121693,
          0.9698412698412698,
          0.9703703703703703,
          0.9708994708994709,
          0.9714285714285714,
          0.9719576719576719,
          0.9724867724867725,
          0.973015873015873,
          0.9735449735449735,
          0.9740740740740741,
          0.9746031746031746,
          0.9751322751322752,
          0.9756613756613757,
          0.9761904761904762,
          0.9767195767195768,
          0.9772486772486773,
          0.9777777777777777,
          0.9783068783068783,
          0.9788359788359788,
          0.9793650793650793,
          0.9798941798941799,
          0.9804232804232804,
          0.9809523809523809,
          0.9814814814814815,
          0.982010582010582,
          0.9825396825396825,
          0.9830687830687831,
          0.9835978835978836,
          0.9841269841269841,
          0.9846560846560847,
          0.9851851851851852,
          0.9857142857142858,
          0.9862433862433863,
          0.9867724867724867,
          0.9873015873015873,
          0.9878306878306878,
          0.9883597883597883,
          0.9888888888888889,
          0.9894179894179894,
          0.9899470899470899,
          0.9904761904761905,
          0.991005291005291,
          0.9915343915343915,
          0.9920634920634921,
          0.9925925925925926,
          0.9931216931216931,
          0.9936507936507937,
          0.9941798941798942,
          0.9947089947089947,
          0.9952380952380953,
          0.9957671957671957,
          0.9962962962962963,
          0.9968253968253968,
          0.9973544973544973,
          0.9978835978835979,
          0.9984126984126984,
          0.9989417989417989,
          0.9994708994708995,
          1
         ],
         "y": [
          0,
          0,
          0,
          0,
          0,
          0,
          0,
          0,
          0,
          0,
          0,
          0,
          0,
          0,
          0,
          0,
          0,
          0,
          0,
          0,
          0,
          0,
          0,
          0,
          0,
          0,
          0,
          0,
          0,
          0,
          0,
          0,
          0,
          0,
          0,
          0,
          0,
          0,
          0,
          0,
          0,
          0,
          0,
          0,
          0,
          0,
          0,
          0,
          0,
          0,
          0.000007263377325188666,
          0.000014526754650377332,
          0.000021790131975565997,
          0.000029053509300754664,
          0.000036316886625943334,
          0.000043580263951131994,
          0.00005084364127632066,
          0.00005810701860150933,
          0.000065370395926698,
          0.00007263377325188667,
          0.00007989715057707533,
          0.00008716052790226399,
          0.00009442390522745266,
          0.00010168728255264132,
          0.00010895065987783,
          0.00011621403720301866,
          0.00012347741452820732,
          0.000130740791853396,
          0.00013800416917858466,
          0.00014526754650377334,
          0.00015253092382896198,
          0.00015979430115415066,
          0.00016705767847933933,
          0.00017432105580452798,
          0.00018158443312971665,
          0.00018884781045490532,
          0.000196111187780094,
          0.00020337456510528264,
          0.00021063794243047132,
          0.00021790131975566,
          0.00022516469708084867,
          0.0002324280744060373,
          0.00023969145173122599,
          0.00024695482905641463,
          0.00025421820638160333,
          0.000261481583706792,
          0.0002687449610319806,
          0.0002760083383571693,
          0.000283271715682358,
          0.0002905350930075467,
          0.0002977984703327353,
          0.00030506184765792397,
          0.00031232522498311267,
          0.0003195886023083013,
          0.00032685197963348996,
          0.00033411535695867866,
          0.0003413787342838673,
          0.00034864211160905595,
          0.00035590548893424466,
          0.0003631688662594333,
          0.000370432243584622,
          0.00037769562090981065,
          0.0003849589982349993,
          0.000392222375560188,
          0.00039948575288537664,
          0.0004067491302105653,
          0.000414012507535754,
          0.00042127588486094264,
          0.0004285392621861313,
          0.00043580263951132,
          0.00044306601683650863,
          0.00045032939416169733,
          0.000457592771486886,
          0.0004648561488120746,
          0.0004721195261372633,
          0.00047938290346245197,
          0.0004866462807876406,
          0.0004939096581128293,
          0.0005084364127632067,
          0.000522963167413584,
          0.0005374899220639613,
          0.0005520166767143387,
          0.000566543431364716,
          0.0005810701860150933,
          0.0005955969406654706,
          0.0006101236953158479,
          0.0006246504499662253,
          0.0006391772046166026,
          0.0006537039592669799,
          0.0006682307139173573,
          0.0006827574685677346,
          0.0006972842232181119,
          0.0007118109778684893,
          0.0007263377325188666,
          0.000740864487169244,
          0.0007553912418196213,
          0.0007699179964699986,
          0.000784444751120376,
          0.0007989715057707533,
          0.0008134982604211306,
          0.000828025015071508,
          0.0008425517697218853,
          0.0008570785243722626,
          0.00087160527902264,
          0.0008861320336730173,
          0.0009006587883233947,
          0.000915185542973772,
          0.0009297122976241492,
          0.0009442390522745267,
          0.0009587658069249039,
          0.0009732925615752812,
          0.0009878193162256585,
          0.001002346070876036,
          0.0010168728255264133,
          0.0010313995801767906,
          0.001045926334827168,
          0.0010604530894775452,
          0.0010749798441279225,
          0.0010895065987783,
          0.0011040333534286773,
          0.0011185601080790546,
          0.001133086862729432,
          0.0011476136173798092,
          0.0011621403720301867,
          0.001176667126680564,
          0.0011911938813309413,
          0.0012057206359813186,
          0.0012202473906316959,
          0.0012347741452820732,
          0.0012493008999324507,
          0.001263827654582828,
          0.0012783544092332053,
          0.0012928811638835826,
          0.0013074079185339598,
          0.0013219346731843374,
          0.0013364614278347146,
          0.001350988182485092,
          0.0013655149371354692,
          0.0013800416917858465,
          0.0013945684464362238,
          0.0014090952010866013,
          0.0014236219557369786,
          0.001438148710387356,
          0.0014526754650377332,
          0.0014672022196881105,
          0.001481728974338488,
          0.0014962557289888653,
          0.0015107824836392426,
          0.0015253092382896199,
          0.0015398359929399972,
          0.0015543627475903745,
          0.001568889502240752,
          0.0015834162568911293,
          0.0015979430115415066,
          0.0016124697661918839,
          0.0016269965208422612,
          0.0016415232754926387,
          0.001656050030143016,
          0.0016705767847933933,
          0.0016851035394437705,
          0.0016996302940941478,
          0.0017141570487445251,
          0.0017286838033949026,
          0.00174321055804528,
          0.0017577373126956572,
          0.0017722640673460345,
          0.0017867908219964118,
          0.0018013175766467893,
          0.0018158443312971666,
          0.001830371085947544,
          0.0018448978405979212,
          0.0018594245952482985,
          0.0018739513498986758,
          0.0018884781045490533,
          0.0019030048591994306,
          0.0019175316138498079,
          0.0019393217458253738,
          0.0019611118778009398,
          0.001982902009776506,
          0.002004692141752072,
          0.002026482273727638,
          0.002048272405703204,
          0.0020700625376787697,
          0.002091852669654336,
          0.002113642801629902,
          0.0021354329336054677,
          0.002157223065581034,
          0.0021790131975566,
          0.0022008033295321658,
          0.002222593461507732,
          0.002244383593483298,
          0.002266173725458864,
          0.00228796385743443,
          0.0023097539894099957,
          0.002331544121385562,
          0.002353334253361128,
          0.0023751243853366937,
          0.00239691451731226,
          0.002418704649287826,
          0.0024404947812633917,
          0.002462284913238958,
          0.002484075045214524,
          0.0025058651771900898,
          0.002527655309165656,
          0.0025494454411412217,
          0.002571235573116788,
          0.002593025705092354,
          0.0026148158370679197,
          0.002636605969043486,
          0.002658396101019052,
          0.0026801862329946177,
          0.002701976364970184,
          0.00272376649694575,
          0.0027455566289213158,
          0.002767346760896882,
          0.0027891368928724476,
          0.002810927024848014,
          0.00283271715682358,
          0.0028545072887991457,
          0.002876297420774712,
          0.002898087552750278,
          0.0029198776847258437,
          0.00294166781670141,
          0.002963457948676976,
          0.0029852480806525417,
          0.003007038212628108,
          0.0030288283446036736,
          0.0030506184765792398,
          0.003072408608554806,
          0.0030941987405303717,
          0.003115988872505938,
          0.003137779004481504,
          0.0031595691364570697,
          0.003181359268432636,
          0.003203149400408202,
          0.0032249395323837677,
          0.003246729664359334,
          0.0032685197963348996,
          0.0032903099283104658,
          0.003312100060286032,
          0.0033338901922615976,
          0.003355680324237164,
          0.00337747045621273,
          0.0033992605881882957,
          0.003421050720163862,
          0.003442840852139428,
          0.0034646309841149937,
          0.00348642111609056,
          0.0035082112480661256,
          0.0035300013800416918,
          0.003551791512017258,
          0.0035735816439928236,
          0.00359537177596839,
          0.003617161907943956,
          0.0036389520399195217,
          0.003660742171895088,
          0.003682532303870654,
          0.0037043224358462197,
          0.003726112567821786,
          0.0037479026997973516,
          0.0037696928317729177,
          0.003791482963748484,
          0.0038132730957240496,
          0.0038350632276996158,
          0.003856853359675182,
          0.0038786434916507477,
          0.003900433623626314,
          0.0039222237556018795,
          0.003944013887577446,
          0.003965804019553012,
          0.003987594151528578,
          0.004009384283504144,
          0.00403117441547971,
          0.004052964547455276,
          0.004074754679430841,
          0.004096544811406408,
          0.004118334943381974,
          0.004140125075357539,
          0.004161915207333106,
          0.004183705339308672,
          0.004205495471284237,
          0.004227285603259804,
          0.00424907573523537,
          0.004270865867210935,
          0.004292655999186502,
          0.004321709508487257,
          0.004350763017788011,
          0.004379816527088766,
          0.00440887003638952,
          0.004437923545690275,
          0.0044669770549910295,
          0.004496030564291784,
          0.004525084073592539,
          0.004554137582893293,
          0.004583191092194049,
          0.004612244601494803,
          0.004641298110795558,
          0.0046703516200963125,
          0.004699405129397067,
          0.004728458638697822,
          0.004757512147998576,
          0.004786565657299331,
          0.0048156191666000854,
          0.00484467267590084,
          0.004873726185201595,
          0.00490277969450235,
          0.004931833203803105,
          0.004960886713103859,
          0.004989940222404614,
          0.005018993731705368,
          0.005048047241006123,
          0.005077100750306878,
          0.005106154259607632,
          0.005135207768908387,
          0.005164261278209141,
          0.005193314787509896,
          0.005222368296810651,
          0.005251421806111406,
          0.0052804753154121606,
          0.005309528824712915,
          0.00533858233401367,
          0.005367635843314424,
          0.005396689352615179,
          0.0054257428619159335,
          0.005454796371216688,
          0.005483849880517443,
          0.005512903389818197,
          0.005541956899118953,
          0.005571010408419707,
          0.005600063917720462,
          0.0056291174270212165,
          0.005658170936321971,
          0.005687224445622726,
          0.00571627795492348,
          0.005745331464224235,
          0.005774384973524989,
          0.005803438482825744,
          0.0058324919921264986,
          0.005861545501427254,
          0.005890599010728009,
          0.005919652520028763,
          0.005948706029329518,
          0.005977759538630272,
          0.006006813047931027,
          0.0060358665572317815,
          0.006064920066532536,
          0.006093973575833291,
          0.006123027085134045,
          0.0061520805944348,
          0.006181134103735555,
          0.00621018761303631,
          0.0062392411223370645,
          0.006268294631637819,
          0.006297348140938574,
          0.006326401650239328,
          0.006355455159540083,
          0.006384508668840837,
          0.006413562178141592,
          0.006442615687442347,
          0.006471669196743101,
          0.006500722706043857,
          0.006529776215344611,
          0.006558829724645366,
          0.00658788323394612,
          0.006616936743246875,
          0.00664599025254763,
          0.006675043761848384,
          0.006704097271149139,
          0.006733150780449893,
          0.006762204289750648,
          0.0067912577990514025,
          0.006820311308352158,
          0.0068566281949781005,
          0.006892945081604044,
          0.006929261968229987,
          0.006965578854855931,
          0.007001895741481874,
          0.007038212628107818,
          0.007074529514733761,
          0.007110846401359704,
          0.007147163287985647,
          0.007183480174611591,
          0.007219797061237534,
          0.007256113947863478,
          0.007292430834489421,
          0.0073287477211153645,
          0.007365064607741308,
          0.0074013814943672505,
          0.007437698380993194,
          0.0074740152676191374,
          0.007510332154245081,
          0.007546649040871024,
          0.007582965927496968,
          0.007619282814122911,
          0.007655599700748854,
          0.007691916587374797,
          0.007728233474000741,
          0.007764550360626684,
          0.007800867247252628,
          0.00783718413387857,
          0.007873501020504515,
          0.007909817907130457,
          0.007946134793756401,
          0.007982451680382344,
          0.008018768567008288,
          0.008055085453634231,
          0.008091402340260173,
          0.008127719226886118,
          0.00816403611351206,
          0.008200353000138005,
          0.008236669886763947,
          0.008272986773389892,
          0.008309303660015834,
          0.008345620546641777,
          0.008381937433267721,
          0.008418254319893664,
          0.008454571206519608,
          0.00849088809314555,
          0.008527204979771495,
          0.008563521866397437,
          0.00859983875302338,
          0.008636155639649324,
          0.008672472526275267,
          0.008708789412901211,
          0.008745106299527154,
          0.008781423186153098,
          0.00881774007277904,
          0.008854056959404983,
          0.008890373846030928,
          0.00892669073265687,
          0.008963007619282815,
          0.008999324505908757,
          0.009035641392534701,
          0.009071958279160644,
          0.009108275165786587,
          0.009144592052412531,
          0.009180908939038473,
          0.009217225825664418,
          0.00925354271229036,
          0.009289859598916305,
          0.009326176485542247,
          0.009362493372168192,
          0.009398810258794134,
          0.009435127145420077,
          0.009471444032046021,
          0.009507760918671964,
          0.009544077805297908,
          0.00958039469192385,
          0.009616711578549795,
          0.009653028465175737,
          0.00968934535180168,
          0.009725662238427624,
          0.009761979125053567,
          0.009798296011679511,
          0.009841876275630643,
          0.009885456539581774,
          0.009929036803532907,
          0.009972617067484039,
          0.01001619733143517,
          0.010059777595386303,
          0.010103357859337435,
          0.010146938123288566,
          0.0101905183872397,
          0.010234098651190831,
          0.010277678915141962,
          0.010321259179093096,
          0.010364839443044227,
          0.010408419706995358,
          0.01045199997094649,
          0.010495580234897623,
          0.010539160498848755,
          0.010582740762799886,
          0.01062632102675102,
          0.01066990129070215,
          0.010713481554653282,
          0.010757061818604415,
          0.010800642082555547,
          0.010844222346506678,
          0.010887802610457811,
          0.010931382874408943,
          0.010974963138360074,
          0.011018543402311207,
          0.011062123666262339,
          0.01110570393021347,
          0.011149284194164603,
          0.011192864458115735,
          0.011236444722066866,
          0.011280024986018,
          0.011323605249969131,
          0.011367185513920262,
          0.011410765777871394,
          0.011454346041822527,
          0.011497926305773658,
          0.01154150656972479,
          0.011585086833675923,
          0.011628667097627055,
          0.011672247361578186,
          0.01171582762552932,
          0.01175940788948045,
          0.011802988153431582,
          0.011846568417382715,
          0.011890148681333847,
          0.011933728945284978,
          0.011977309209236111,
          0.012020889473187243,
          0.012064469737138374,
          0.012108050001089507,
          0.012151630265040639,
          0.01219521052899177,
          0.012238790792942903,
          0.012282371056894035,
          0.012325951320845166,
          0.012369531584796298,
          0.012413111848747431,
          0.012456692112698562,
          0.012500272376649694,
          0.012543852640600827,
          0.012587432904551958,
          0.01263101316850309,
          0.012674593432454223,
          0.012718173696405355,
          0.012761753960356486,
          0.01280533422430762,
          0.01284891448825875,
          0.012892494752209882,
          0.012936075016161015,
          0.012979655280112147,
          0.013023235544063278,
          0.013066815808014411,
          0.013110396071965543,
          0.013161239713241863,
          0.013212083354518183,
          0.013262926995794504,
          0.013313770637070826,
          0.013364614278347146,
          0.013415457919623466,
          0.013466301560899787,
          0.013517145202176109,
          0.013567988843452429,
          0.01361883248472875,
          0.01366967612600507,
          0.01372051976728139,
          0.013771363408557712,
          0.013822207049834032,
          0.013873050691110353,
          0.013923894332386673,
          0.013974737973662993,
          0.014025581614939315,
          0.014076425256215636,
          0.014127268897491956,
          0.014178112538768276,
          0.014228956180044596,
          0.014279799821320919,
          0.014330643462597239,
          0.01438148710387356,
          0.01443233074514988,
          0.0144831743864262,
          0.014534018027702522,
          0.014584861668978842,
          0.014635705310255162,
          0.014686548951531483,
          0.014737392592807803,
          0.014788236234084125,
          0.014839079875360445,
          0.014889923516636766,
          0.014940767157913086,
          0.014991610799189406,
          0.015042454440465728,
          0.015093298081742049,
          0.015144141723018369,
          0.01519498536429469,
          0.01524582900557101,
          0.015296672646847332,
          0.015347516288123652,
          0.015398359929399972,
          0.015449203570676293,
          0.015500047211952613,
          0.015550890853228935,
          0.015601734494505255,
          0.015652578135781577,
          0.015703421777057896,
          0.015754265418334218,
          0.015805109059610536,
          0.01585595270088686,
          0.01590679634216318,
          0.0159576399834395,
          0.01600848362471582,
          0.01605932726599214,
          0.016110170907268462,
          0.016161014548544784,
          0.016211858189821102,
          0.016262701831097424,
          0.016313545472373743,
          0.016364389113650065,
          0.016415232754926387,
          0.016466076396202706,
          0.016516920037479028,
          0.016567763678755346,
          0.01661860732003167,
          0.01666945096130799,
          0.01672029460258431,
          0.01677840162118582,
          0.016836508639787327,
          0.016894615658388838,
          0.016952722676990346,
          0.017010829695591857,
          0.017068936714193364,
          0.017127043732794875,
          0.017185150751396386,
          0.017243257769997893,
          0.017301364788599404,
          0.01735947180720091,
          0.017417578825802423,
          0.01747568584440393,
          0.01753379286300544,
          0.01759189988160695,
          0.01765000690020846,
          0.017708113918809967,
          0.017766220937411478,
          0.01782432795601299,
          0.017882434974614496,
          0.017940541993216007,
          0.017998649011817514,
          0.018056756030419025,
          0.018114863049020533,
          0.018172970067622043,
          0.01823107708622355,
          0.018289184104825062,
          0.01834729112342657,
          0.01840539814202808,
          0.01846350516062959,
          0.0185216121792311,
          0.01857971919783261,
          0.018637826216434117,
          0.018695933235035628,
          0.018754040253637135,
          0.018812147272238646,
          0.018870254290840154,
          0.018928361309441664,
          0.018986468328043172,
          0.019044575346644683,
          0.019102682365246194,
          0.0191607893838477,
          0.019218896402449212,
          0.01927700342105072,
          0.01933511043965223,
          0.019393217458253738,
          0.01945132447685525,
          0.019509431495456756,
          0.019567538514058267,
          0.019625645532659775,
          0.019683752551261285,
          0.019741859569862796,
          0.019799966588464304,
          0.019858073607065815,
          0.019916180625667322,
          0.019974287644268833,
          0.02003239466287034,
          0.02009050168147185,
          0.02014860870007336,
          0.02020671571867487,
          0.020264822737276377,
          0.020322929755877888,
          0.0203810367744794,
          0.020439143793080906,
          0.020497250811682417,
          0.020555357830283925,
          0.020613464848885436,
          0.020671571867486943,
          0.020729678886088454,
          0.02078778590468996,
          0.020845892923291472,
          0.02091126331921817,
          0.02097663371514487,
          0.021042004111071565,
          0.021107374506998264,
          0.02117274490292496,
          0.02123811529885166,
          0.021303485694778357,
          0.021368856090705057,
          0.021434226486631753,
          0.021499596882558453,
          0.02156496727848515,
          0.02163033767441185,
          0.021695708070338545,
          0.021761078466265245,
          0.02182644886219194,
          0.02189181925811864,
          0.021957189654045337,
          0.022022560049972037,
          0.022087930445898733,
          0.022153300841825433,
          0.02221867123775213,
          0.02228404163367883,
          0.022349412029605525,
          0.022414782425532225,
          0.02248015282145892,
          0.02254552321738562,
          0.022610893613312318,
          0.022676264009239017,
          0.022741634405165714,
          0.022807004801092413,
          0.02287237519701911,
          0.02293774559294581,
          0.023003115988872506,
          0.023068486384799206,
          0.023133856780725902,
          0.0231992271766526,
          0.023264597572579298,
          0.023329967968505994,
          0.023395338364432694,
          0.02346070876035939,
          0.02352607915628609,
          0.023591449552212786,
          0.023656819948139486,
          0.023722190344066182,
          0.023787560739992882,
          0.02385293113591958,
          0.02391830153184628,
          0.023983671927772975,
          0.024049042323699674,
          0.02411441271962637,
          0.02417978311555307,
          0.024245153511479767,
          0.024310523907406466,
          0.024375894303333163,
          0.024441264699259863,
          0.02450663509518656,
          0.02457200549111326,
          0.024637375887039955,
          0.024702746282966655,
          0.02476811667889335,
          0.02483348707482005,
          0.024898857470746747,
          0.024964227866673447,
          0.025036861639925332,
          0.02510949541317722,
          0.025182129186429106,
          0.02525476295968099,
          0.02532739673293288,
          0.025400030506184765,
          0.025472664279436653,
          0.02554529805268854,
          0.025617931825940427,
          0.025690565599192312,
          0.025763199372444198,
          0.025835833145696086,
          0.02590846691894797,
          0.02598110069219986,
          0.026053734465451745,
          0.026126368238703634,
          0.02619900201195552,
          0.026271635785207404,
          0.026344269558459293,
          0.026416903331711178,
          0.026489537104963067,
          0.02656217087821495,
          0.02663480465146684,
          0.026707438424718725,
          0.02678007219797061,
          0.0268527059712225,
          0.026925339744474384,
          0.026997973517726273,
          0.027070607290978158,
          0.027143241064230047,
          0.027215874837481932,
          0.02728850861073382,
          0.027361142383985706,
          0.02743377615723759,
          0.02750640993048948,
          0.027579043703741365,
          0.027651677476993253,
          0.02772431125024514,
          0.027796945023497027,
          0.027869578796748912,
          0.027942212570000798,
          0.028014846343252686,
          0.02808748011650457,
          0.02816011388975646,
          0.028232747663008345,
          0.028305381436260234,
          0.028385278586837308,
          0.028465175737414382,
          0.02854507288799146,
          0.028624970038568533,
          0.028704867189145607,
          0.028784764339722685,
          0.02886466149029976,
          0.028944558640876836,
          0.02902445579145391,
          0.029104352942030984,
          0.029184250092608062,
          0.029264147243185136,
          0.02934404439376221,
          0.029423941544339288,
          0.02950383869491636,
          0.02958373584549344,
          0.029663632996070513,
          0.029743530146647587,
          0.029823427297224665,
          0.02990332444780174,
          0.029983221598378813,
          0.03006311874895589,
          0.030143015899532964,
          0.03022291305011004,
          0.030302810200687116,
          0.03038270735126419,
          0.030462604501841267,
          0.03054250165241834,
          0.030622398802995415,
          0.030702295953572493,
          0.030782193104149567,
          0.030862090254726644,
          0.03094198740530372,
          0.031021884555880792,
          0.03110178170645787,
          0.031181678857034944,
          0.03126157600761202,
          0.031341473158189095,
          0.03142137030876617,
          0.03150126745934324,
          0.03158116460992032,
          0.0316610617604974,
          0.03174095891107447,
          0.03182811943897674,
          0.031915279966879,
          0.032002440494781265,
          0.032089601022683524,
          0.03217676155058579,
          0.03226392207848806,
          0.032351082606390316,
          0.03243824313429258,
          0.03252540366219485,
          0.03261256419009711,
          0.032699724717999375,
          0.03278688524590164,
          0.0328740457738039,
          0.03296120630170617,
          0.03304836682960843,
          0.03313552735751069,
          0.03322268788541296,
          0.033309848413315225,
          0.033397008941217485,
          0.03348416946911975,
          0.03357132999702202,
          0.03365849052492428,
          0.03374565105282654,
          0.03383281158072881,
          0.03391997210863107,
          0.034007132636533335,
          0.0340942931644356,
          0.03418145369233786,
          0.03426861422024013,
          0.034355774748142394,
          0.03444293527604465,
          0.03453009580394692,
          0.034617256331849186,
          0.034704416859751445,
          0.03479157738765371,
          0.03487873791555598,
          0.03496589844345824,
          0.035053058971360504,
          0.03514021949926277,
          0.03522738002716503,
          0.035314540555067296,
          0.03540170108296956,
          0.03548886161087182,
          0.03557602213877409,
          0.035663182666676355,
          0.035750343194578614,
          0.03583750372248088,
          0.03592466425038314,
          0.036011824778285406,
          0.03609898530618767,
          0.03618614583408993,
          0.0362733063619922,
          0.036360466889894465,
          0.036447627417796724,
          0.03653478794569899,
          0.03662194847360126,
          0.03671637237882871,
          0.03681079628405616,
          0.03690522018928361,
          0.036999644094511064,
          0.037094067999738516,
          0.037188491904965974,
          0.037282915810193426,
          0.03737733971542088,
          0.03747176362064833,
          0.03756618752587578,
          0.03766061143110323,
          0.037755035336330685,
          0.03784945924155814,
          0.037943883146785595,
          0.03803830705201305,
          0.0381327309572405,
          0.03822715486246795,
          0.0383215787676954,
          0.038416002672922854,
          0.038510426578150306,
          0.03860485048337776,
          0.038699274388605216,
          0.03879369829383267,
          0.03888812219906012,
          0.03898254610428757,
          0.03907697000951502,
          0.039171393914742475,
          0.03926581781996993,
          0.039360241725197385,
          0.03945466563042484,
          0.03954908953565229,
          0.03964351344087974,
          0.039745200723432385,
          0.03984688800598502,
          0.039948575288537666,
          0.0400502625710903,
          0.04015194985364295,
          0.04025363713619559,
          0.04035532441874823,
          0.04045701170130087,
          0.04055869898385351,
          0.040660386266406154,
          0.0407620735489588,
          0.040863760831511435,
          0.04096544811406408,
          0.041067135396616716,
          0.04116882267916936,
          0.041270509961722004,
          0.04137219724427464,
          0.041473884526827286,
          0.04157557180937992,
          0.04167725909193257,
          0.04177894637448521,
          0.04188063365703785,
          0.04198232093959049,
          0.04208400822214313,
          0.04219295888202096,
          0.042301909541898795,
          0.042410860201776625,
          0.042519810861654454,
          0.042628761521532284,
          0.04273771218141011,
          0.04284666284128794,
          0.04295561350116577,
          0.0430645641610436,
          0.04317351482092143,
          0.04328246548079926,
          0.04339141614067709,
          0.04350036680055492,
          0.04360931746043275,
          0.04371826812031058,
          0.043827218780188415,
          0.043936169440066244,
          0.044045120099944074,
          0.0441540707598219,
          0.04426302141969973,
          0.04437197207957756,
          0.04448818611678058,
          0.0446044001539836,
          0.04472061419118662,
          0.044836828228389636,
          0.04495304226559266,
          0.04506925630279567,
          0.045185470339998694,
          0.04530168437720171,
          0.04541789841440473,
          0.045534112451607746,
          0.04565032648881077,
          0.04576654052601378,
          0.045882754563216804,
          0.045998968600419826,
          0.04611518263762284,
          0.04623139667482586,
          0.04634761071202888,
          0.0464638247492319,
          0.046580038786434914,
          0.046696252823637936,
          0.04681246686084095,
          0.04692868089804397,
          0.04704489493524699,
          0.04716110897245001,
          0.04727732300965303,
          0.04740080042418124,
          0.047524277838709446,
          0.04764775525323765,
          0.04777123266776586,
          0.04789471008229407,
          0.048018187496822275,
          0.04814166491135048,
          0.04826514232587869,
          0.048388619740406896,
          0.048512097154935103,
          0.04863557456946331,
          0.04875905198399152,
          0.048882529398519725,
          0.04900600681304793,
          0.04912948422757614,
          0.04925296164210435,
          0.049376439056632554,
          0.04949991647116076,
          0.04962339388568897,
          0.049746871300217176,
          0.04987034871474538,
          0.04999382612927359,
          0.05012456692112698,
          0.05025530771298038,
          0.050386048504833775,
          0.050516789296687174,
          0.05064753008854057,
          0.050778270880393966,
          0.05090901167224736,
          0.05103975246410076,
          0.05117049325595415,
          0.05130123404780755,
          0.05143197483966094,
          0.05156271563151434,
          0.051693456423367735,
          0.051824197215221135,
          0.05195493800707453,
          0.05208567879892793,
          0.05221641959078132,
          0.05234716038263472,
          0.05247790117448811,
          0.05260864196634151,
          0.052739382758194904,
          0.052870123550048304,
          0.053000864341901696,
          0.053131605133755096,
          0.05326234592560849,
          0.05340035009478707,
          0.05353835426396566,
          0.05367635843314424,
          0.05381436260232283,
          0.05395236677150141,
          0.05409037094068,
          0.05422837510985858,
          0.05436637927903717,
          0.05450438344821575,
          0.05464238761739434,
          0.05478039178657292,
          0.05491839595575151,
          0.05505640012493009,
          0.05519440429410868,
          0.05533240846328726,
          0.05547041263246585,
          0.055608416801644425,
          0.05574642097082301,
          0.055884425140001595,
          0.05602242930918018,
          0.05616769685568396,
          0.05631296440218773,
          0.056458231948691505,
          0.056603499495195275,
          0.05674876704169905,
          0.05689403458820282,
          0.05703930213470659,
          0.05718456968121037,
          0.05732983722771414,
          0.05747510477421792,
          0.05762037232072169,
          0.057765639867225466,
          0.057910907413729236,
          0.058056174960233006,
          0.058201442506736784,
          0.058346710053240554,
          0.05849197759974433,
          0.058644508523573294,
          0.058797039447402256,
          0.05894957037123121,
          0.059102101295060175,
          0.05925463221888914,
          0.0594071631427181,
          0.05955969406654706,
          0.059712224990376025,
          0.05986475591420499,
          0.06001728683803395,
          0.060169817761862913,
          0.060322348685691876,
          0.06047487960952083,
          0.060627410533349795,
          0.06077994145717876,
          0.06093247238100772,
          0.06108500330483668,
          0.06124479760599083,
          0.061404591907144986,
          0.061564386208299134,
          0.06172418050945329,
          0.06188397481060744,
          0.062043769111761585,
          0.06220356341291574,
          0.06236335771406989,
          0.06252315201522404,
          0.06268294631637819,
          0.06284274061753234,
          0.06300253491868649,
          0.06316232921984063,
          0.06332938689831998,
          0.06349644457679932,
          0.06366350225527866,
          0.063830559933758,
          0.06399761761223734,
          0.06416467529071668,
          0.06433173296919602,
          0.06449879064767536,
          0.06467311170347989,
          0.06484743275928441,
          0.06502175381508894,
          0.06519607487089346,
          0.065370395926698,
          0.06554471698250253,
          0.06571903803830705,
          0.06589335909411158,
          0.06606768014991611,
          0.06624200120572063,
          0.06641632226152516,
          0.0665906433173297,
          0.06676496437313421,
          0.06693928542893875,
          0.06712086986206846,
          0.06730245429519818,
          0.0674840387283279,
          0.06766562316145762,
          0.06784720759458733,
          0.06802879202771704,
          0.06821037646084677,
          0.06839196089397648,
          0.0685735453271062,
          0.06875512976023591,
          0.06893671419336563,
          0.06911829862649535,
          0.06929988305962506,
          0.06948146749275479,
          0.06967031530320969,
          0.0698591631136646,
          0.0700480109241195,
          0.0702368587345744,
          0.0704257065450293,
          0.07061455435548421,
          0.07080340216593912,
          0.07099224997639403,
          0.07118109778684893,
          0.07136994559730384,
          0.07156605678508393,
          0.07176216797286403,
          0.07195827916064412,
          0.0721543903484242,
          0.0723505015362043,
          0.0725466127239844,
          0.07274272391176449,
          0.07293883509954459,
          0.07313494628732468,
          0.07333105747510478,
          0.07352716866288486,
          0.07372327985066496,
          0.07392665441577025,
          0.07413002898087553,
          0.07433340354598081,
          0.0745367781110861,
          0.07474015267619137,
          0.07494352724129666,
          0.07514690180640195,
          0.07535027637150722,
          0.07555365093661251,
          0.07575702550171778,
          0.07596040006682307,
          0.07617103800925354,
          0.07638167595168402,
          0.07659231389411449,
          0.07680295183654495,
          0.07701358977897543,
          0.0772242277214059,
          0.07743486566383637,
          0.07764550360626685,
          0.0778634049260225,
          0.07808130624577816,
          0.07829920756553382,
          0.07851710888528948,
          0.07873501020504514,
          0.07896017490212599,
          0.07918533959920684,
          0.07941050429628768,
          0.07963566899336853,
          0.07986083369044938,
          0.08008599838753024,
          0.08031842646193627,
          0.08055085453634231,
          0.08078328261074835,
          0.08101571068515438,
          0.08124813875956043,
          0.08148056683396646,
          0.0817129949083725,
          0.08195268636010372,
          0.08219237781183494,
          0.08243206926356618,
          0.0826717607152974,
          0.08291145216702862,
          0.08315840699608504,
          0.08340536182514145,
          0.08365231665419787,
          0.08389927148325428,
          0.0841462263123107,
          0.08439318114136711,
          0.08464013597042352,
          0.08488709079947994,
          0.08513404562853635,
          0.08538826383491796,
          0.08564248204129957,
          0.08589670024768117,
          0.08615091845406277,
          0.08640513666044437,
          0.08665935486682598,
          0.08691357307320759,
          0.08716779127958918,
          0.08742200948597079,
          0.0876762276923524,
          0.08793770927605918,
          0.08819919085976598,
          0.08846067244347276,
          0.08872215402717956,
          0.08898363561088635,
          0.08925238057191832,
          0.08952112553295032,
          0.0897898704939823,
          0.09005861545501427,
          0.09032736041604625,
          0.09059610537707824,
          0.09086485033811022,
          0.0911335952991422,
          0.09140234026017417,
          0.09167108522120615,
          0.09194709355956332,
          0.09222310189792049,
          0.09249911023627766,
          0.09277511857463483,
          0.093051126912992,
          0.09332713525134917,
          0.09360314358970634,
          0.09387915192806351,
          0.09415516026642068,
          0.09443116860477785,
          0.09471444032046021,
          0.09499771203614256,
          0.09528098375182492,
          0.09556425546750728,
          0.09584752718318965,
          0.096130798898872,
          0.09641407061455436,
          0.0967046057075619,
          0.09699514080056945,
          0.09728567589357699,
          0.09757621098658455,
          0.09786674607959209,
          0.09815728117259964,
          0.09844781626560718,
          0.09874561473593992,
          0.09904341320627265,
          0.09934121167660538,
          0.09963901014693813,
          0.09993680861727086,
          0.1002346070876036,
          0.10053966893526152,
          0.10084473078291945,
          0.10114979263057737,
          0.1014548544782353,
          0.10175991632589321,
          0.10206497817355113,
          0.10237004002120906,
          0.10267510186886698,
          0.1029874270938501,
          0.1032997523188332,
          0.10361207754381632,
          0.10392440276879944,
          0.10423672799378254,
          0.10454905321876566,
          0.10486137844374878,
          0.10518096704605708,
          0.10550055564836537,
          0.10582014425067368,
          0.10614699623030717,
          0.10647384820994066,
          0.10680070018957415,
          0.10712755216920763,
          0.10745440414884112,
          0.10778125612847461,
          0.10810810810810811,
          0.10844222346506678,
          0.10877633882202546,
          0.10911045417898414,
          0.10944456953594282,
          0.1097786848929015,
          0.11011280024986018,
          0.11044691560681885,
          0.11078829434110272,
          0.1111296730753866,
          0.11147105180967046,
          0.11181243054395433,
          0.11215380927823819,
          0.11249518801252206,
          0.11284383012413111,
          0.11319247223574018,
          0.11354111434734923,
          0.11388975645895828,
          0.11423839857056735,
          0.1145870406821764,
          0.11493568279378545,
          0.11528432490539452,
          0.11563296701700357,
          0.11598887250593781,
          0.11634477799487206,
          0.1167006834838063,
          0.11705658897274054,
          0.11741249446167479,
          0.11776839995060903,
          0.11813156881686847,
          0.1184947376831279,
          0.11885790654938734,
          0.11922107541564676,
          0.1195842442819062,
          0.11995467652549083,
          0.12032510876907544,
          0.12069554101266007,
          0.12106597325624469,
          0.12144366887715449,
          0.12182136449806431,
          0.12219906011897412,
          0.12257675573988393,
          0.12296171473811893,
          0.12334667373635393,
          0.12373163273458893,
          0.12411659173282392,
          0.12450881410838412,
          0.12490103648394431,
          0.1253005222368297,
          0.12570000798971506,
          0.12609949374260043,
          0.1264989794954858,
          0.1268984652483712,
          0.12729795100125657,
          0.12770470013146712,
          0.1281114492616777,
          0.12851819839188827,
          0.12892494752209882,
          0.1293316966523094,
          0.12973844578251995,
          0.13014519491273052,
          0.1305519440429411,
          0.13095869317315165,
          0.13136544230336222,
          0.13177945481089798,
          0.1322007306957589,
          0.13262200658061984,
          0.1330432824654808,
          0.13346455835034174,
          0.13388583423520267,
          0.13430711012006363,
          0.13472838600492457,
          0.1351496618897855,
          0.13557820115197164,
          0.13600674041415778,
          0.13643527967634392,
          0.13686381893853003,
          0.13729962157804135,
          0.13773542421755267,
          0.138171226857064,
          0.13860702949657533,
          0.13904283213608665,
          0.13948589815292314,
          0.13992896416975967,
          0.14037929356392134,
          0.14082962295808304,
          0.14127995235224475,
          0.14173754512373163,
          0.1421951378952185,
          0.14265273066670542,
          0.1431103234381923,
          0.14357517958700436,
          0.14404003573581645,
          0.1445048918846285,
          0.14497701141076577,
          0.14544913093690304,
          0.1459212504630403,
          0.14640789674382795,
          0.14689454302461558,
          0.14738118930540323,
          0.14787509896351606,
          0.14836900862162888,
          0.1488629182797417,
          0.14936409131517972,
          0.14986526435061776,
          0.15036643738605576,
          0.15087487379881898,
          0.15139057358890737,
          0.15190627337899576,
          0.15242197316908415,
          0.15294493633649775,
          0.15346789950391132,
          0.15399086267132492,
          0.1545138258387385,
          0.15504405238347727,
          0.15557427892821604,
          0.15610450547295482,
          0.1566347320176936,
          0.15716495856243237,
          0.15770244848449633,
          0.15823993840656028,
          0.15878469170594944,
          0.15932944500533858,
          0.15987419830472774,
          0.16043347835876726,
          0.16099275841280677,
          0.1615593018441715,
          0.16212584527553622,
          0.16269965208422613,
          0.16327345889291603,
          0.16384726570160593,
          0.16442107251029583,
          0.16500214269631094,
          0.1655904762596512,
          0.1661788098229915,
          0.16676714338633178,
          0.16735547694967207,
          0.16794381051301235,
          0.1685321440763526,
          0.16912774101701808,
          0.16972333795768357,
          0.17031893489834904,
          0.1709145318390145,
          0.17151739215700518,
          0.17212025247499582,
          0.1727231127929865,
          0.17332597311097714,
          0.1739288334289678,
          0.17453895712428366,
          0.17514908081959948,
          0.17576646789224054,
          0.17638385496488157,
          0.1770085054148478,
          0.177633155864814,
          0.17825780631478025,
          0.17888245676474648,
          0.1795143705920379,
          0.1801535477966545,
          0.18079272500127108,
          0.1814319022058877,
          0.1820710794105043,
          0.1827175199924461,
          0.1833639605743879,
          0.18401766453365487,
          0.18467136849292184,
          0.185332335829514,
          0.18599330316610618,
          0.18666153388002354,
          0.18732976459394088,
          0.18800525868518345,
          0.18869527953107637,
          0.1893853003769693,
          0.19007532122286222,
          0.19077260544608032,
          0.19147715304662363,
          0.19218896402449212,
          0.1929007750023606,
          0.1936125859802291,
          0.19432439695809758,
          0.19504347131329125,
          0.19576254566848494,
          0.1964816200236786,
          0.19720069437887228,
          0.19792703211139115,
          0.19865336984391002,
          0.1993797075764289,
          0.20011330868627294,
          0.200846909796117,
          0.20158051090596105,
          0.2023213753931303,
          0.20306950325762474,
          0.20381763112211917,
          0.20458028574126397,
          0.2053429403604088,
          0.2061128583568788,
          0.20688277635334879,
          0.20765269434981878,
          0.20842261234628878,
          0.20919979372008396,
          0.20997697509387916,
          0.21076141984499952,
          0.2115603913507703,
          0.21236662623386623,
          0.21318012449428736,
          0.21400088613203366,
          0.21482164776978,
          0.21564240940752633,
          0.21646317104527263,
          0.21728393268301896,
          0.21811195769809047,
          0.21893998271316198,
          0.21976800772823346,
          0.22060329612063018,
          0.22143858451302686,
          0.22228839966007394,
          0.223138214807121,
          0.2239952933314933,
          0.22485963523319072,
          0.22572397713488818,
          0.2265955824139108,
          0.22746718769293345,
          0.2283460563492813,
          0.2292249250056291,
          0.23011105703930212,
          0.23099718907297515,
          0.23188332110664817,
          0.23277671651764636,
          0.23368463868329495,
          0.23459256084894353,
          0.23550774639191732,
          0.23643019531221626,
          0.23735264423251523,
          0.23828235653013938,
          0.23924838571438947,
          0.24022167827596475,
          0.24119497083754005,
          0.24216826339911532,
          0.2431488193380158,
          0.24412937527691625,
          0.24510993121581673,
          0.2460977505320424,
          0.24708556984826804,
          0.2480733891644937,
          0.24906847185804457,
          0.2500635545515954,
          0.2510659006224714,
          0.25207551007067264,
          0.2530851195188739,
          0.2541019923444003,
          0.2551261285472519,
          0.2561575281274287,
          0.2571889277076055,
          0.25822032728778227,
          0.25925172686795905,
          0.26028312644813584,
          0.2613217894056378,
          0.2623604523631398,
          0.2633991153206418,
          0.26444504165546895,
          0.2654982313676213,
          0.26655868445709885,
          0.2676191375465764,
          0.26867959063605396,
          0.2697400437255315,
          0.2708150235696594,
          0.27189000341378733,
          0.27296498325791524,
          0.27404722647936836,
          0.27512946970082147,
          0.2762189762995998,
          0.27730848289837806,
          0.2784052528744816,
          0.27950928622791027,
          0.28061331958133895,
          0.2817246163120928,
          0.28284317642017187,
          0.2839689999055761,
          0.2851020867683055,
          0.2862497003856853,
          0.2874045773803903,
          0.28856671775242054,
          0.2897288581244507,
          0.29089099849648087,
          0.2920604022458363,
          0.29322980599519166,
          0.2944064731218722,
          0.29559040362587796,
          0.2967743341298837,
          0.29795826463388947,
          0.2991421951378952,
          0.30034065239655133,
          0.30153910965520747,
          0.3027448302911888,
          0.3039505509271701,
          0.3051635349404766,
          0.3063910457084335,
          0.3076185564763904,
          0.3088533306216725,
          0.31009536814427974,
          0.311337405666887,
          0.3125939699441446,
          0.31385053422140224,
          0.31511436187598507,
          0.3163854529078931,
          0.31765654393980114,
          0.3189348983490343,
          0.32021325275826756,
          0.32149160716750075,
          0.32276996157673393,
          0.3240555793632923,
          0.3253411971498507,
          0.3266268149364091,
          0.32791243272296755,
          0.3292125772641763,
          0.33051998518271025,
          0.3318273931012442,
          0.33314206439710337,
          0.3344567356929625,
          0.3357714069888217,
          0.337093341662006,
          0.3384225397125155,
          0.33976626451767544,
          0.3411099893228353,
          0.3424609775053204,
          0.34381196568780553,
          0.34517748062494097,
          0.34654299556207646,
          0.3479085104992119,
          0.3492812888136726,
          0.35065406712813324,
          0.3520413721972443,
          0.3534286772663553,
          0.35482324571279156,
          0.3562323409138781,
          0.35764143611496474,
          0.3590577946933765,
          0.36047415327178833,
          0.36190503860485046,
          0.36333592393791264,
          0.3647668092709748,
          0.366197694604037,
          0.36763584331442434,
          0.36907399202481167,
          0.37051940411252426,
          0.3719648162002368,
          0.3734174916652745,
          0.37487743050763744,
          0.37634463272732555,
          0.37782636170166406,
          0.3793153540533277,
          0.3808116097823166,
          0.38230786551130547,
          0.38380412124029434,
          0.38530764034660836,
          0.3868256862075728,
          0.38834373206853723,
          0.38986177792950166,
          0.39139435054511645,
          0.3929269231607313,
          0.3944667591536713,
          0.39601385852393645,
          0.39756095789420165,
          0.39910805726446685,
          0.400655156634732,
          0.4022022560049972,
          0.40376388212991277,
          0.4053255082548283,
          0.4068871343797439,
          0.40844876050465945,
          0.4100176500069002,
          0.41160106626379134,
          0.41318448252068246,
          0.414782425532224,
          0.4163876319210907,
          0.41799283830995737,
          0.41960530807614926,
          0.42121777784234116,
          0.4228375109858582,
          0.42446450750670045,
          0.4260915040275427,
          0.427718500548385,
          0.4293672872012028,
          0.4310378639859962,
          0.4327157041481148,
          0.43440080768755857,
          0.4361004379816527,
          0.43780733165307206,
          0.43951422532449136,
          0.4412283823732359,
          0.4429425394219804,
          0.4446639598480501,
          0.44638538027411984,
          0.44811406407751475,
          0.44985001125823487,
          0.45158595843895494,
          0.45332190561967506,
          0.45506511617772033,
          0.4568083267357656,
          0.4585588006711361,
          0.4603165379838317,
          0.46208153867385254,
          0.46387559287317415,
          0.46566964707249575,
          0.46746370127181736,
          0.4692795456031145,
          0.47111718006638725,
          0.47297660466163555,
          0.47484329263420905,
          0.47670998060678255,
          0.4785839319566812,
          0.4804578833065799,
          0.48234636141112897,
          0.4842421028930032,
          0.4861523711295278,
          0.48806990274337764,
          0.4899946977345526,
          0.4919267561030528,
          0.49387334122620336,
          0.4958344531040043,
          0.4977955649818052,
          0.49977846699158174,
          0.5017686323786834,
          0.5037660611431103,
          0.5057634899075372,
          0.5077754454266145,
          0.509801927700342,
          0.5118429367287202,
          0.5138912091344233,
          0.5159467449174517,
          0.5180022807004802,
          0.5200650798608337,
          0.5221351423985124,
          0.5242052049361913,
          0.5262825308511951,
          0.5283743835208495,
          0.5304734995678291,
          0.5325798789921338,
          0.5346862584164385,
          0.5367999012180684,
          0.5389280707743487,
          0.5410562403306289,
          0.5431844098869092,
          0.5453488963298154,
          0.5475206461500468,
          0.5496996593476035,
          0.5518859359224852,
          0.5540794758746922,
          0.5562730158268991,
          0.5584810825337565,
          0.5607254661272398,
          0.5629771130980483,
          0.5652287600688568,
          0.5674949337943157,
          0.5697683708970998,
          0.5720418079998838,
          0.574322508479993,
          0.5766032089601023,
          0.5788839094402115,
          0.581171873297646,
          0.5834671005324056,
          0.5857695911444903,
          0.5880720817565752,
          0.5903818357459851,
          0.5926988531127203,
          0.5950594507434067,
          0.5974273117514182,
          0.5997951727594297,
          0.6021848238994167,
          0.604581738416729,
          0.6069786529340413,
          0.6093973575833291,
          0.6118305889872673,
          0.6142638203912055,
          0.6167261053044445,
          0.619210180349659,
          0.6216942553948736,
          0.6241855938174132,
          0.6266841956172782,
          0.6292118509264438,
          0.6317540329902598,
          0.6343252685633766,
          0.6368965041364933,
          0.6394822664642605,
          0.642118872433304,
          0.644777268534323,
          0.6474501913899925,
          0.6501521677549627,
          0.6528759342519085,
          0.6556069641261794,
          0.6583379940004503,
          0.6610762872520465,
          0.6638218438809678,
          0.6665964540191899,
          0.6694291711760134,
          0.6722691517101622,
          0.6751599758855873,
          0.6780871169476383,
          0.6810142580096894,
          0.6839486624490656,
          0.686890330265767,
          0.6898610515917691,
          0.6928462996724217,
          0.6958388111303994,
          0.6988385859657024,
          0.7018601509329808,
          0.7049180327868853,
          0.7079759146407897,
          0.7110410598720193,
          0.7141207318578993,
          0.7172076672211045,
          0.7203744997348868,
          0.7235485956259942,
          0.726737218271752,
          0.7299258409175098,
          0.7331507804498936,
          0.7363975101142529,
          0.7396515031559374,
          0.7430144468574998,
          0.7464064440683629,
          0.749798441279226,
          0.7532412821313654,
          0.7567204398701308,
          0.7602577046274976,
          0.7637949693848646,
          0.7673467608968818,
          0.7710002396914517,
          0.774668245240672,
          0.7783580409218679,
          0.7820478366030637,
          0.7857448956615847,
          0.7895000617387072,
          0.7932915447024558,
          0.7970975544208546,
          0.8009035641392535,
          0.8048257878948554,
          0.8087843285370832,
          0.8127791860659369,
          0.8168030971040915,
          0.8208851151608475,
          0.8249743965949287,
          0.8291217850476115,
          0.8334652846880742,
          0.8378305744605127,
          0.8422467078742274,
          0.8466773680425924,
          0.8512169788708354,
          0.8558364868496553,
          0.8605939989976539,
          0.8653660379003029,
          0.8702252373308541,
          0.8757236139660219,
          0.8813382046383927,
          0.8871489064985437,
          0.8930395055092717,
          0.8990608453118532,
          0.9052347160382634,
          0.9114666937832754,
          0.9177204616602628,
          0.9242938181395586,
          0.9318985741990311,
          0.9396122809183814,
          0.949105515082403,
          0.9588674942074565,
          0.9688909549162169,
          0.981674499008549,
          1
         ]
        },
        {
         "line": {
          "dash": "dash"
         },
         "mode": "lines",
         "name": "Line of Equality",
         "type": "scatter",
         "x": [
          0,
          1
         ],
         "y": [
          0,
          1
         ]
        }
       ],
       "layout": {
        "showlegend": true,
        "template": {
         "data": {
          "bar": [
           {
            "error_x": {
             "color": "#2a3f5f"
            },
            "error_y": {
             "color": "#2a3f5f"
            },
            "marker": {
             "line": {
              "color": "#E5ECF6",
              "width": 0.5
             },
             "pattern": {
              "fillmode": "overlay",
              "size": 10,
              "solidity": 0.2
             }
            },
            "type": "bar"
           }
          ],
          "barpolar": [
           {
            "marker": {
             "line": {
              "color": "#E5ECF6",
              "width": 0.5
             },
             "pattern": {
              "fillmode": "overlay",
              "size": 10,
              "solidity": 0.2
             }
            },
            "type": "barpolar"
           }
          ],
          "carpet": [
           {
            "aaxis": {
             "endlinecolor": "#2a3f5f",
             "gridcolor": "white",
             "linecolor": "white",
             "minorgridcolor": "white",
             "startlinecolor": "#2a3f5f"
            },
            "baxis": {
             "endlinecolor": "#2a3f5f",
             "gridcolor": "white",
             "linecolor": "white",
             "minorgridcolor": "white",
             "startlinecolor": "#2a3f5f"
            },
            "type": "carpet"
           }
          ],
          "choropleth": [
           {
            "colorbar": {
             "outlinewidth": 0,
             "ticks": ""
            },
            "type": "choropleth"
           }
          ],
          "contour": [
           {
            "colorbar": {
             "outlinewidth": 0,
             "ticks": ""
            },
            "colorscale": [
             [
              0,
              "#0d0887"
             ],
             [
              0.1111111111111111,
              "#46039f"
             ],
             [
              0.2222222222222222,
              "#7201a8"
             ],
             [
              0.3333333333333333,
              "#9c179e"
             ],
             [
              0.4444444444444444,
              "#bd3786"
             ],
             [
              0.5555555555555556,
              "#d8576b"
             ],
             [
              0.6666666666666666,
              "#ed7953"
             ],
             [
              0.7777777777777778,
              "#fb9f3a"
             ],
             [
              0.8888888888888888,
              "#fdca26"
             ],
             [
              1,
              "#f0f921"
             ]
            ],
            "type": "contour"
           }
          ],
          "contourcarpet": [
           {
            "colorbar": {
             "outlinewidth": 0,
             "ticks": ""
            },
            "type": "contourcarpet"
           }
          ],
          "heatmap": [
           {
            "colorbar": {
             "outlinewidth": 0,
             "ticks": ""
            },
            "colorscale": [
             [
              0,
              "#0d0887"
             ],
             [
              0.1111111111111111,
              "#46039f"
             ],
             [
              0.2222222222222222,
              "#7201a8"
             ],
             [
              0.3333333333333333,
              "#9c179e"
             ],
             [
              0.4444444444444444,
              "#bd3786"
             ],
             [
              0.5555555555555556,
              "#d8576b"
             ],
             [
              0.6666666666666666,
              "#ed7953"
             ],
             [
              0.7777777777777778,
              "#fb9f3a"
             ],
             [
              0.8888888888888888,
              "#fdca26"
             ],
             [
              1,
              "#f0f921"
             ]
            ],
            "type": "heatmap"
           }
          ],
          "heatmapgl": [
           {
            "colorbar": {
             "outlinewidth": 0,
             "ticks": ""
            },
            "colorscale": [
             [
              0,
              "#0d0887"
             ],
             [
              0.1111111111111111,
              "#46039f"
             ],
             [
              0.2222222222222222,
              "#7201a8"
             ],
             [
              0.3333333333333333,
              "#9c179e"
             ],
             [
              0.4444444444444444,
              "#bd3786"
             ],
             [
              0.5555555555555556,
              "#d8576b"
             ],
             [
              0.6666666666666666,
              "#ed7953"
             ],
             [
              0.7777777777777778,
              "#fb9f3a"
             ],
             [
              0.8888888888888888,
              "#fdca26"
             ],
             [
              1,
              "#f0f921"
             ]
            ],
            "type": "heatmapgl"
           }
          ],
          "histogram": [
           {
            "marker": {
             "pattern": {
              "fillmode": "overlay",
              "size": 10,
              "solidity": 0.2
             }
            },
            "type": "histogram"
           }
          ],
          "histogram2d": [
           {
            "colorbar": {
             "outlinewidth": 0,
             "ticks": ""
            },
            "colorscale": [
             [
              0,
              "#0d0887"
             ],
             [
              0.1111111111111111,
              "#46039f"
             ],
             [
              0.2222222222222222,
              "#7201a8"
             ],
             [
              0.3333333333333333,
              "#9c179e"
             ],
             [
              0.4444444444444444,
              "#bd3786"
             ],
             [
              0.5555555555555556,
              "#d8576b"
             ],
             [
              0.6666666666666666,
              "#ed7953"
             ],
             [
              0.7777777777777778,
              "#fb9f3a"
             ],
             [
              0.8888888888888888,
              "#fdca26"
             ],
             [
              1,
              "#f0f921"
             ]
            ],
            "type": "histogram2d"
           }
          ],
          "histogram2dcontour": [
           {
            "colorbar": {
             "outlinewidth": 0,
             "ticks": ""
            },
            "colorscale": [
             [
              0,
              "#0d0887"
             ],
             [
              0.1111111111111111,
              "#46039f"
             ],
             [
              0.2222222222222222,
              "#7201a8"
             ],
             [
              0.3333333333333333,
              "#9c179e"
             ],
             [
              0.4444444444444444,
              "#bd3786"
             ],
             [
              0.5555555555555556,
              "#d8576b"
             ],
             [
              0.6666666666666666,
              "#ed7953"
             ],
             [
              0.7777777777777778,
              "#fb9f3a"
             ],
             [
              0.8888888888888888,
              "#fdca26"
             ],
             [
              1,
              "#f0f921"
             ]
            ],
            "type": "histogram2dcontour"
           }
          ],
          "mesh3d": [
           {
            "colorbar": {
             "outlinewidth": 0,
             "ticks": ""
            },
            "type": "mesh3d"
           }
          ],
          "parcoords": [
           {
            "line": {
             "colorbar": {
              "outlinewidth": 0,
              "ticks": ""
             }
            },
            "type": "parcoords"
           }
          ],
          "pie": [
           {
            "automargin": true,
            "type": "pie"
           }
          ],
          "scatter": [
           {
            "fillpattern": {
             "fillmode": "overlay",
             "size": 10,
             "solidity": 0.2
            },
            "type": "scatter"
           }
          ],
          "scatter3d": [
           {
            "line": {
             "colorbar": {
              "outlinewidth": 0,
              "ticks": ""
             }
            },
            "marker": {
             "colorbar": {
              "outlinewidth": 0,
              "ticks": ""
             }
            },
            "type": "scatter3d"
           }
          ],
          "scattercarpet": [
           {
            "marker": {
             "colorbar": {
              "outlinewidth": 0,
              "ticks": ""
             }
            },
            "type": "scattercarpet"
           }
          ],
          "scattergeo": [
           {
            "marker": {
             "colorbar": {
              "outlinewidth": 0,
              "ticks": ""
             }
            },
            "type": "scattergeo"
           }
          ],
          "scattergl": [
           {
            "marker": {
             "colorbar": {
              "outlinewidth": 0,
              "ticks": ""
             }
            },
            "type": "scattergl"
           }
          ],
          "scattermapbox": [
           {
            "marker": {
             "colorbar": {
              "outlinewidth": 0,
              "ticks": ""
             }
            },
            "type": "scattermapbox"
           }
          ],
          "scatterpolar": [
           {
            "marker": {
             "colorbar": {
              "outlinewidth": 0,
              "ticks": ""
             }
            },
            "type": "scatterpolar"
           }
          ],
          "scatterpolargl": [
           {
            "marker": {
             "colorbar": {
              "outlinewidth": 0,
              "ticks": ""
             }
            },
            "type": "scatterpolargl"
           }
          ],
          "scatterternary": [
           {
            "marker": {
             "colorbar": {
              "outlinewidth": 0,
              "ticks": ""
             }
            },
            "type": "scatterternary"
           }
          ],
          "surface": [
           {
            "colorbar": {
             "outlinewidth": 0,
             "ticks": ""
            },
            "colorscale": [
             [
              0,
              "#0d0887"
             ],
             [
              0.1111111111111111,
              "#46039f"
             ],
             [
              0.2222222222222222,
              "#7201a8"
             ],
             [
              0.3333333333333333,
              "#9c179e"
             ],
             [
              0.4444444444444444,
              "#bd3786"
             ],
             [
              0.5555555555555556,
              "#d8576b"
             ],
             [
              0.6666666666666666,
              "#ed7953"
             ],
             [
              0.7777777777777778,
              "#fb9f3a"
             ],
             [
              0.8888888888888888,
              "#fdca26"
             ],
             [
              1,
              "#f0f921"
             ]
            ],
            "type": "surface"
           }
          ],
          "table": [
           {
            "cells": {
             "fill": {
              "color": "#EBF0F8"
             },
             "line": {
              "color": "white"
             }
            },
            "header": {
             "fill": {
              "color": "#C8D4E3"
             },
             "line": {
              "color": "white"
             }
            },
            "type": "table"
           }
          ]
         },
         "layout": {
          "annotationdefaults": {
           "arrowcolor": "#2a3f5f",
           "arrowhead": 0,
           "arrowwidth": 1
          },
          "autotypenumbers": "strict",
          "coloraxis": {
           "colorbar": {
            "outlinewidth": 0,
            "ticks": ""
           }
          },
          "colorscale": {
           "diverging": [
            [
             0,
             "#8e0152"
            ],
            [
             0.1,
             "#c51b7d"
            ],
            [
             0.2,
             "#de77ae"
            ],
            [
             0.3,
             "#f1b6da"
            ],
            [
             0.4,
             "#fde0ef"
            ],
            [
             0.5,
             "#f7f7f7"
            ],
            [
             0.6,
             "#e6f5d0"
            ],
            [
             0.7,
             "#b8e186"
            ],
            [
             0.8,
             "#7fbc41"
            ],
            [
             0.9,
             "#4d9221"
            ],
            [
             1,
             "#276419"
            ]
           ],
           "sequential": [
            [
             0,
             "#0d0887"
            ],
            [
             0.1111111111111111,
             "#46039f"
            ],
            [
             0.2222222222222222,
             "#7201a8"
            ],
            [
             0.3333333333333333,
             "#9c179e"
            ],
            [
             0.4444444444444444,
             "#bd3786"
            ],
            [
             0.5555555555555556,
             "#d8576b"
            ],
            [
             0.6666666666666666,
             "#ed7953"
            ],
            [
             0.7777777777777778,
             "#fb9f3a"
            ],
            [
             0.8888888888888888,
             "#fdca26"
            ],
            [
             1,
             "#f0f921"
            ]
           ],
           "sequentialminus": [
            [
             0,
             "#0d0887"
            ],
            [
             0.1111111111111111,
             "#46039f"
            ],
            [
             0.2222222222222222,
             "#7201a8"
            ],
            [
             0.3333333333333333,
             "#9c179e"
            ],
            [
             0.4444444444444444,
             "#bd3786"
            ],
            [
             0.5555555555555556,
             "#d8576b"
            ],
            [
             0.6666666666666666,
             "#ed7953"
            ],
            [
             0.7777777777777778,
             "#fb9f3a"
            ],
            [
             0.8888888888888888,
             "#fdca26"
            ],
            [
             1,
             "#f0f921"
            ]
           ]
          },
          "colorway": [
           "#636efa",
           "#EF553B",
           "#00cc96",
           "#ab63fa",
           "#FFA15A",
           "#19d3f3",
           "#FF6692",
           "#B6E880",
           "#FF97FF",
           "#FECB52"
          ],
          "font": {
           "color": "#2a3f5f"
          },
          "geo": {
           "bgcolor": "white",
           "lakecolor": "white",
           "landcolor": "#E5ECF6",
           "showlakes": true,
           "showland": true,
           "subunitcolor": "white"
          },
          "hoverlabel": {
           "align": "left"
          },
          "hovermode": "closest",
          "mapbox": {
           "style": "light"
          },
          "paper_bgcolor": "white",
          "plot_bgcolor": "#E5ECF6",
          "polar": {
           "angularaxis": {
            "gridcolor": "white",
            "linecolor": "white",
            "ticks": ""
           },
           "bgcolor": "#E5ECF6",
           "radialaxis": {
            "gridcolor": "white",
            "linecolor": "white",
            "ticks": ""
           }
          },
          "scene": {
           "xaxis": {
            "backgroundcolor": "#E5ECF6",
            "gridcolor": "white",
            "gridwidth": 2,
            "linecolor": "white",
            "showbackground": true,
            "ticks": "",
            "zerolinecolor": "white"
           },
           "yaxis": {
            "backgroundcolor": "#E5ECF6",
            "gridcolor": "white",
            "gridwidth": 2,
            "linecolor": "white",
            "showbackground": true,
            "ticks": "",
            "zerolinecolor": "white"
           },
           "zaxis": {
            "backgroundcolor": "#E5ECF6",
            "gridcolor": "white",
            "gridwidth": 2,
            "linecolor": "white",
            "showbackground": true,
            "ticks": "",
            "zerolinecolor": "white"
           }
          },
          "shapedefaults": {
           "line": {
            "color": "#2a3f5f"
           }
          },
          "ternary": {
           "aaxis": {
            "gridcolor": "white",
            "linecolor": "white",
            "ticks": ""
           },
           "baxis": {
            "gridcolor": "white",
            "linecolor": "white",
            "ticks": ""
           },
           "bgcolor": "#E5ECF6",
           "caxis": {
            "gridcolor": "white",
            "linecolor": "white",
            "ticks": ""
           }
          },
          "title": {
           "x": 0.05
          },
          "xaxis": {
           "automargin": true,
           "gridcolor": "white",
           "linecolor": "white",
           "ticks": "",
           "title": {
            "standoff": 15
           },
           "zerolinecolor": "white",
           "zerolinewidth": 2
          },
          "yaxis": {
           "automargin": true,
           "gridcolor": "white",
           "linecolor": "white",
           "ticks": "",
           "title": {
            "standoff": 15
           },
           "zerolinecolor": "white",
           "zerolinewidth": 2
          }
         }
        },
        "title": {
         "text": "Lorenz Curve of White Students Distribution Across NYC Schools"
        },
        "xaxis": {
         "tickformat": ".0%",
         "title": {
          "text": "Cumulative Share of Schools"
         }
        },
        "yaxis": {
         "tickformat": ".0%",
         "title": {
          "text": "Cumulative Share of White Students"
         }
        }
       }
      }
     },
     "metadata": {},
     "output_type": "display_data"
    }
   ],
   "source": [
    "lorenz = demos[demos.ay == demos.ay.max()][[\"dbn\", \"white_n\"]].sort_values(by='white_n').reset_index(drop=True)\n",
    "\n",
    "lorenz['cumulative_white_students'] = lorenz['white_n'].cumsum()\n",
    "lorenz['cumulative_share_white_students'] = lorenz['cumulative_white_students'] / lorenz['white_n'].sum()\n",
    "lorenz['cumulative_share_schools'] = (lorenz.index + 1) / len(lorenz)\n",
    "\n",
    "\n",
    "lorenz[\"label\"] = text = lorenz.apply(lambda row: f\"{row['cumulative_share_schools']*100:.2f}% of schools, { row['cumulative_share_white_students']*100:.2f}% white students\", axis=1)\n",
    "\n",
    "display(lorenz)\n",
    "\n",
    "\n",
    "\n",
    "fig = go.Figure()\n",
    "fig.add_trace(go.Scatter(x=lorenz['cumulative_share_schools'], y=lorenz['cumulative_share_white_students'],\n",
    "                         mode='lines', name='Lorenz Curve', text=lorenz[\"label\"],\n",
    "                         fill='tozeroy'))\n",
    "\n",
    "# line of equality\n",
    "fig.add_trace(go.Scatter(x=[0, 1], y=[0, 1], mode='lines', name='Line of Equality', line=dict(dash='dash')))\n",
    "\n",
    "fig.update_layout(title='Lorenz Curve of White Students Distribution Across NYC Schools',\n",
    "                  xaxis_title='Cumulative Share of Schools',\n",
    "                  yaxis_title='Cumulative Share of White Students',\n",
    "                  xaxis=dict(tickformat=\".0%\"), \n",
    "                  yaxis=dict(tickformat=\".0%\"), \n",
    "                  showlegend=True)\n",
    "\n",
    "fig.show()"
   ]
  },
  {
   "cell_type": "code",
   "execution_count": 8,
   "metadata": {},
   "outputs": [
    {
     "data": {
      "text/plain": [
       "(0.4077531081698128, 0.17255912753825645)"
      ]
     },
     "execution_count": 8,
     "metadata": {},
     "output_type": "execute_result"
    }
   ],
   "source": [
    "def calc_M(district):\n",
    "    \"\"\"Calculate a district's mutual information index for each academic year\"\"\"\n",
    "    x = data[data.district == district].copy()\n",
    "    x.rename(columns={'dbn': 'u'}, inplace=True)\n",
    "\n",
    "    x = x[x.n > 0]\n",
    "    t = [[year] + list(seg.mutual_information(x[x.ay == year])) for year in x.ay.unique()]\n",
    "    result = pd.DataFrame(columns=['ay', 'M', 'H'], data=t)\n",
    "    result = result[[\"ay\",\"M\"]]\n",
    "    result[\"district\"] = district\n",
    "    result = result.sort_values(by='ay')\n",
    "\n",
    "    return result\n",
    "\n",
    "\n",
    "m_data = pd.concat([calc_M(district) for district in data.district.unique()])\n",
    "all_schools = data.rename(columns={'dbn': 'u'})\n",
    "all_schools = all_schools[all_schools.n > 0]\n",
    "all_schools = all_schools[all_schools.ay == 2022]\n",
    "M, H = seg.mutual_information(all_schools)\n",
    "M, m_data[m_data.ay == 2022].M.mean()"
   ]
  },
  {
   "cell_type": "code",
   "execution_count": 9,
   "metadata": {},
   "outputs": [
    {
     "data": {
      "application/vnd.plotly.v1+json": {
       "config": {
        "plotlyServerURL": "https://plot.ly"
       },
       "data": [
        {
         "hoverinfo": "name+y+x",
         "hovertemplate": "district=13<br>Academic Year=%{x}<br>M Index=%{y}<extra></extra>",
         "legendgroup": "13",
         "line": {
          "color": "#636efa",
          "dash": "solid"
         },
         "marker": {
          "symbol": "circle"
         },
         "mode": "markers+lines",
         "name": "13",
         "orientation": "v",
         "showlegend": true,
         "type": "scatter",
         "x": [
          2005,
          2006,
          2007,
          2008,
          2009,
          2010,
          2011,
          2013,
          2014,
          2015,
          2016,
          2017,
          2018,
          2019,
          2020,
          2021,
          2022
         ],
         "xaxis": "x",
         "y": [
          0.27448912842992007,
          0.2801907607366923,
          0.2921621372114921,
          0.30116230250784937,
          0.316280883778002,
          0.32645952852950355,
          0.3302718099925873,
          0.34507395092427534,
          0.3490935727035151,
          0.35226883604560794,
          0.37433745512555083,
          0.3535297527435073,
          0.3686017474480219,
          0.3738152173090261,
          0.3692001077616523,
          0.3683810195820983,
          0.3659911279287199
         ],
         "yaxis": "y"
        },
        {
         "hoverinfo": "name+y+x",
         "hovertemplate": "district=14<br>Academic Year=%{x}<br>M Index=%{y}<extra></extra>",
         "legendgroup": "14",
         "line": {
          "color": "#EF553B",
          "dash": "solid"
         },
         "marker": {
          "symbol": "circle"
         },
         "mode": "markers+lines",
         "name": "14",
         "orientation": "v",
         "showlegend": true,
         "type": "scatter",
         "x": [
          2005,
          2006,
          2007,
          2008,
          2009,
          2010,
          2011,
          2013,
          2014,
          2015,
          2016,
          2017,
          2018,
          2019,
          2020,
          2021,
          2022
         ],
         "xaxis": "x",
         "y": [
          0.19272247591198968,
          0.19713958677103477,
          0.1976623996986494,
          0.2094353189358103,
          0.2085813572136243,
          0.20933582071342038,
          0.21120784614613294,
          0.21355961982465776,
          0.21443485621616626,
          0.21382263820144046,
          0.23477749346550264,
          0.22923154326264555,
          0.24087546823710992,
          0.24468065474934048,
          0.24204247220189315,
          0.23490223395542703,
          0.24220991151894544
         ],
         "yaxis": "y"
        },
        {
         "hoverinfo": "name+y+x",
         "hovertemplate": "district=15<br>Academic Year=%{x}<br>M Index=%{y}<extra></extra>",
         "legendgroup": "15",
         "line": {
          "color": "#00cc96",
          "dash": "solid"
         },
         "marker": {
          "symbol": "circle"
         },
         "mode": "markers+lines",
         "name": "15",
         "orientation": "v",
         "showlegend": true,
         "type": "scatter",
         "x": [
          2005,
          2006,
          2007,
          2008,
          2009,
          2010,
          2011,
          2013,
          2014,
          2015,
          2016,
          2017,
          2018,
          2019,
          2020,
          2021,
          2022
         ],
         "xaxis": "x",
         "y": [
          0.2865549872195155,
          0.29208176713868333,
          0.300295788960358,
          0.31097563699846464,
          0.32904482017291714,
          0.3375663686699192,
          0.3446829714032859,
          0.3657326830787514,
          0.37639117802141436,
          0.37856629814638165,
          0.39247259931358003,
          0.37389592522115545,
          0.3842999621830102,
          0.359836381917956,
          0.34609397792252566,
          0.3269872428525331,
          0.32671196320141294
         ],
         "yaxis": "y"
        },
        {
         "hoverinfo": "name+y+x",
         "hovertemplate": "district=16<br>Academic Year=%{x}<br>M Index=%{y}<extra></extra>",
         "legendgroup": "16",
         "line": {
          "color": "#ab63fa",
          "dash": "solid"
         },
         "marker": {
          "symbol": "circle"
         },
         "mode": "markers+lines",
         "name": "16",
         "orientation": "v",
         "showlegend": true,
         "type": "scatter",
         "x": [
          2005,
          2006,
          2007,
          2008,
          2009,
          2010,
          2011,
          2013,
          2014,
          2015,
          2016,
          2017,
          2018,
          2019,
          2020,
          2021,
          2022
         ],
         "xaxis": "x",
         "y": [
          0.020719159049112635,
          0.02052080290679273,
          0.021997398583726326,
          0.023029870619601676,
          0.024725173534607018,
          0.02862150523753662,
          0.027384571827107174,
          0.02795329447464269,
          0.035920353044714526,
          0.04336961214239158,
          0.050054013016492586,
          0.03972501936982636,
          0.0442977725299489,
          0.04586710598104127,
          0.056557050471347306,
          0.05282432367097337,
          0.07474415443428639
         ],
         "yaxis": "y"
        },
        {
         "hoverinfo": "name+y+x",
         "hovertemplate": "district=17<br>Academic Year=%{x}<br>M Index=%{y}<extra></extra>",
         "legendgroup": "17",
         "line": {
          "color": "#FFA15A",
          "dash": "solid"
         },
         "marker": {
          "symbol": "circle"
         },
         "mode": "markers+lines",
         "name": "17",
         "orientation": "v",
         "showlegend": true,
         "type": "scatter",
         "x": [
          2005,
          2006,
          2007,
          2008,
          2009,
          2010,
          2011,
          2013,
          2014,
          2015,
          2016,
          2017,
          2018,
          2019,
          2020,
          2021,
          2022
         ],
         "xaxis": "x",
         "y": [
          0.03407335406547882,
          0.036974754864933575,
          0.041879331506245274,
          0.04573743833518965,
          0.04818625378479872,
          0.08020845094836873,
          0.05264270348379819,
          0.07304893641224657,
          0.0691272712523325,
          0.07132900300357692,
          0.08148498715863856,
          0.0724108981133744,
          0.07719907106977489,
          0.0774984215211,
          0.07138383420466451,
          0.07593512288530288,
          0.0960435454579889
         ],
         "yaxis": "y"
        },
        {
         "hoverinfo": "name+y+x",
         "hovertemplate": "district=18<br>Academic Year=%{x}<br>M Index=%{y}<extra></extra>",
         "legendgroup": "18",
         "line": {
          "color": "#19d3f3",
          "dash": "solid"
         },
         "marker": {
          "symbol": "circle"
         },
         "mode": "markers+lines",
         "name": "18",
         "orientation": "v",
         "showlegend": true,
         "type": "scatter",
         "x": [
          2005,
          2006,
          2007,
          2008,
          2009,
          2010,
          2011,
          2013,
          2014,
          2015,
          2016,
          2017,
          2018,
          2019,
          2020,
          2021,
          2022
         ],
         "xaxis": "x",
         "y": [
          0.015060545042281154,
          0.016270489132571394,
          0.01773756367663486,
          0.017734894170119773,
          0.016740407325454065,
          0.017943572172338176,
          0.01667185514880504,
          0.01743439709277188,
          0.020052778375308767,
          0.02153840558629657,
          0.030144066626113387,
          0.02048627511605342,
          0.027023698395964364,
          0.026031497421144488,
          0.03280073152565775,
          0.03521917650259216,
          0.05066793632013687
         ],
         "yaxis": "y"
        },
        {
         "hoverinfo": "name+y+x",
         "hovertemplate": "district=19<br>Academic Year=%{x}<br>M Index=%{y}<extra></extra>",
         "legendgroup": "19",
         "line": {
          "color": "#FF6692",
          "dash": "solid"
         },
         "marker": {
          "symbol": "circle"
         },
         "mode": "markers+lines",
         "name": "19",
         "orientation": "v",
         "showlegend": true,
         "type": "scatter",
         "x": [
          2005,
          2006,
          2007,
          2008,
          2009,
          2010,
          2011,
          2013,
          2014,
          2015,
          2016,
          2017,
          2018,
          2019,
          2020,
          2021,
          2022
         ],
         "xaxis": "x",
         "y": [
          0.13148341736036562,
          0.1399627742323469,
          0.14625944967095422,
          0.15377855658318051,
          0.1659417534627024,
          0.16991660328768898,
          0.1803934825557288,
          0.1892246728203912,
          0.19377305526902983,
          0.1878545168158691,
          0.194719093829251,
          0.19606261766230898,
          0.20343703540632338,
          0.20664300838135988,
          0.21882389168998873,
          0.22398888656233348,
          0.2369114275749577
         ],
         "yaxis": "y"
        },
        {
         "hoverinfo": "name+y+x",
         "hovertemplate": "district=20<br>Academic Year=%{x}<br>M Index=%{y}<extra></extra>",
         "legendgroup": "20",
         "line": {
          "color": "#B6E880",
          "dash": "solid"
         },
         "marker": {
          "symbol": "circle"
         },
         "mode": "markers+lines",
         "name": "20",
         "orientation": "v",
         "showlegend": true,
         "type": "scatter",
         "x": [
          2005,
          2006,
          2007,
          2008,
          2009,
          2010,
          2011,
          2013,
          2014,
          2015,
          2016,
          2017,
          2018,
          2019,
          2020,
          2021,
          2022
         ],
         "xaxis": "x",
         "y": [
          0.14517468966415575,
          0.13977688455977272,
          0.14497316907700591,
          0.14725865169761437,
          0.150103175758443,
          0.15141549736164,
          0.15810161673584294,
          0.161810302526797,
          0.15814790543980822,
          0.15686979645189256,
          0.15308027447685837,
          0.14337682980605854,
          0.1447050800150518,
          0.14118715051461703,
          0.13367474921899514,
          0.13109302511165247,
          0.139332248931836
         ],
         "yaxis": "y"
        },
        {
         "hoverinfo": "name+y+x",
         "hovertemplate": "district=21<br>Academic Year=%{x}<br>M Index=%{y}<extra></extra>",
         "legendgroup": "21",
         "line": {
          "color": "#FF97FF",
          "dash": "solid"
         },
         "marker": {
          "symbol": "circle"
         },
         "mode": "markers+lines",
         "name": "21",
         "orientation": "v",
         "showlegend": true,
         "type": "scatter",
         "x": [
          2005,
          2006,
          2007,
          2008,
          2009,
          2010,
          2011,
          2013,
          2014,
          2015,
          2016,
          2017,
          2018,
          2019,
          2020,
          2021,
          2022
         ],
         "xaxis": "x",
         "y": [
          0.16145095687596112,
          0.16525277059335236,
          0.1722321441082686,
          0.17847624238810433,
          0.17856719135415816,
          0.17779994359914603,
          0.17839293150559515,
          0.16822959311260322,
          0.17152406407587173,
          0.17656367021708952,
          0.1856154222953057,
          0.17489548682331088,
          0.17752101502036444,
          0.17234064810723543,
          0.16797626465592624,
          0.15830081798879767,
          0.15953092241466602
         ],
         "yaxis": "y"
        },
        {
         "hoverinfo": "name+y+x",
         "hovertemplate": "district=22<br>Academic Year=%{x}<br>M Index=%{y}<extra></extra>",
         "legendgroup": "22",
         "line": {
          "color": "#FECB52",
          "dash": "solid"
         },
         "marker": {
          "symbol": "circle"
         },
         "mode": "markers+lines",
         "name": "22",
         "orientation": "v",
         "showlegend": true,
         "type": "scatter",
         "x": [
          2005,
          2006,
          2007,
          2008,
          2009,
          2010,
          2011,
          2013,
          2014,
          2015,
          2016,
          2017,
          2018,
          2019,
          2020,
          2021,
          2022
         ],
         "xaxis": "x",
         "y": [
          0.21403687755300912,
          0.22241903717547898,
          0.2325931462031504,
          0.24184315626687303,
          0.24211351414298948,
          0.25309403150427656,
          0.2512031757257164,
          0.25511509336762866,
          0.24687861927611215,
          0.23891673549759185,
          0.23155611191197997,
          0.2224461600559496,
          0.2255459226325629,
          0.22308886569419437,
          0.20988939472657275,
          0.2042494301162069,
          0.20205480651529995
         ],
         "yaxis": "y"
        },
        {
         "hoverinfo": "name+y+x",
         "hovertemplate": "district=23<br>Academic Year=%{x}<br>M Index=%{y}<extra></extra>",
         "legendgroup": "23",
         "line": {
          "color": "#636efa",
          "dash": "solid"
         },
         "marker": {
          "symbol": "circle"
         },
         "mode": "markers+lines",
         "name": "23",
         "orientation": "v",
         "showlegend": true,
         "type": "scatter",
         "x": [
          2005,
          2006,
          2007,
          2008,
          2009,
          2010,
          2011,
          2013,
          2014,
          2015,
          2016,
          2017,
          2018,
          2019,
          2020,
          2021,
          2022
         ],
         "xaxis": "x",
         "y": [
          0.02690568477625338,
          0.029453750055630484,
          0.02954420272838707,
          0.02833142257826842,
          0.02654839177676578,
          0.026688813862857087,
          0.02535722696493009,
          0.03337052407947982,
          0.03689148428892488,
          0.03718180707380665,
          0.043475409594812414,
          0.036004610900479996,
          0.0430694472294446,
          0.04006159853121448,
          0.04055411837573548,
          0.045157210259762055,
          0.05415046162616968
         ],
         "yaxis": "y"
        },
        {
         "hoverinfo": "name+y+x",
         "hovertemplate": "district=32<br>Academic Year=%{x}<br>M Index=%{y}<extra></extra>",
         "legendgroup": "32",
         "line": {
          "color": "#EF553B",
          "dash": "solid"
         },
         "marker": {
          "symbol": "circle"
         },
         "mode": "markers+lines",
         "name": "32",
         "orientation": "v",
         "showlegend": true,
         "type": "scatter",
         "x": [
          2005,
          2006,
          2007,
          2008,
          2009,
          2010,
          2011,
          2013,
          2014,
          2015,
          2016,
          2017,
          2018,
          2019,
          2020,
          2021,
          2022
         ],
         "xaxis": "x",
         "y": [
          0.10500063749823109,
          0.10723186531397592,
          0.11246746028633382,
          0.1160792009684353,
          0.11295406886508748,
          0.10649865070337519,
          0.0976615656111825,
          0.09994771785452337,
          0.09674088814612958,
          0.09483158343539681,
          0.0878817899913817,
          0.08263887494425559,
          0.08724819457116476,
          0.07701892513680308,
          0.07737556429202712,
          0.0722242988171809,
          0.08079187072346958
         ],
         "yaxis": "y"
        }
       ],
       "layout": {
        "hovermode": "closest",
        "legend": {
         "font": {
          "size": 12
         },
         "title": {
          "font": {
           "size": 16
          },
          "text": "District"
         },
         "tracegroupgap": 0,
         "x": 0.01,
         "xanchor": "left",
         "y": 0.99,
         "yanchor": "top"
        },
        "plot_bgcolor": "white",
        "template": {
         "data": {
          "bar": [
           {
            "error_x": {
             "color": "#2a3f5f"
            },
            "error_y": {
             "color": "#2a3f5f"
            },
            "marker": {
             "line": {
              "color": "#E5ECF6",
              "width": 0.5
             },
             "pattern": {
              "fillmode": "overlay",
              "size": 10,
              "solidity": 0.2
             }
            },
            "type": "bar"
           }
          ],
          "barpolar": [
           {
            "marker": {
             "line": {
              "color": "#E5ECF6",
              "width": 0.5
             },
             "pattern": {
              "fillmode": "overlay",
              "size": 10,
              "solidity": 0.2
             }
            },
            "type": "barpolar"
           }
          ],
          "carpet": [
           {
            "aaxis": {
             "endlinecolor": "#2a3f5f",
             "gridcolor": "white",
             "linecolor": "white",
             "minorgridcolor": "white",
             "startlinecolor": "#2a3f5f"
            },
            "baxis": {
             "endlinecolor": "#2a3f5f",
             "gridcolor": "white",
             "linecolor": "white",
             "minorgridcolor": "white",
             "startlinecolor": "#2a3f5f"
            },
            "type": "carpet"
           }
          ],
          "choropleth": [
           {
            "colorbar": {
             "outlinewidth": 0,
             "ticks": ""
            },
            "type": "choropleth"
           }
          ],
          "contour": [
           {
            "colorbar": {
             "outlinewidth": 0,
             "ticks": ""
            },
            "colorscale": [
             [
              0,
              "#0d0887"
             ],
             [
              0.1111111111111111,
              "#46039f"
             ],
             [
              0.2222222222222222,
              "#7201a8"
             ],
             [
              0.3333333333333333,
              "#9c179e"
             ],
             [
              0.4444444444444444,
              "#bd3786"
             ],
             [
              0.5555555555555556,
              "#d8576b"
             ],
             [
              0.6666666666666666,
              "#ed7953"
             ],
             [
              0.7777777777777778,
              "#fb9f3a"
             ],
             [
              0.8888888888888888,
              "#fdca26"
             ],
             [
              1,
              "#f0f921"
             ]
            ],
            "type": "contour"
           }
          ],
          "contourcarpet": [
           {
            "colorbar": {
             "outlinewidth": 0,
             "ticks": ""
            },
            "type": "contourcarpet"
           }
          ],
          "heatmap": [
           {
            "colorbar": {
             "outlinewidth": 0,
             "ticks": ""
            },
            "colorscale": [
             [
              0,
              "#0d0887"
             ],
             [
              0.1111111111111111,
              "#46039f"
             ],
             [
              0.2222222222222222,
              "#7201a8"
             ],
             [
              0.3333333333333333,
              "#9c179e"
             ],
             [
              0.4444444444444444,
              "#bd3786"
             ],
             [
              0.5555555555555556,
              "#d8576b"
             ],
             [
              0.6666666666666666,
              "#ed7953"
             ],
             [
              0.7777777777777778,
              "#fb9f3a"
             ],
             [
              0.8888888888888888,
              "#fdca26"
             ],
             [
              1,
              "#f0f921"
             ]
            ],
            "type": "heatmap"
           }
          ],
          "heatmapgl": [
           {
            "colorbar": {
             "outlinewidth": 0,
             "ticks": ""
            },
            "colorscale": [
             [
              0,
              "#0d0887"
             ],
             [
              0.1111111111111111,
              "#46039f"
             ],
             [
              0.2222222222222222,
              "#7201a8"
             ],
             [
              0.3333333333333333,
              "#9c179e"
             ],
             [
              0.4444444444444444,
              "#bd3786"
             ],
             [
              0.5555555555555556,
              "#d8576b"
             ],
             [
              0.6666666666666666,
              "#ed7953"
             ],
             [
              0.7777777777777778,
              "#fb9f3a"
             ],
             [
              0.8888888888888888,
              "#fdca26"
             ],
             [
              1,
              "#f0f921"
             ]
            ],
            "type": "heatmapgl"
           }
          ],
          "histogram": [
           {
            "marker": {
             "pattern": {
              "fillmode": "overlay",
              "size": 10,
              "solidity": 0.2
             }
            },
            "type": "histogram"
           }
          ],
          "histogram2d": [
           {
            "colorbar": {
             "outlinewidth": 0,
             "ticks": ""
            },
            "colorscale": [
             [
              0,
              "#0d0887"
             ],
             [
              0.1111111111111111,
              "#46039f"
             ],
             [
              0.2222222222222222,
              "#7201a8"
             ],
             [
              0.3333333333333333,
              "#9c179e"
             ],
             [
              0.4444444444444444,
              "#bd3786"
             ],
             [
              0.5555555555555556,
              "#d8576b"
             ],
             [
              0.6666666666666666,
              "#ed7953"
             ],
             [
              0.7777777777777778,
              "#fb9f3a"
             ],
             [
              0.8888888888888888,
              "#fdca26"
             ],
             [
              1,
              "#f0f921"
             ]
            ],
            "type": "histogram2d"
           }
          ],
          "histogram2dcontour": [
           {
            "colorbar": {
             "outlinewidth": 0,
             "ticks": ""
            },
            "colorscale": [
             [
              0,
              "#0d0887"
             ],
             [
              0.1111111111111111,
              "#46039f"
             ],
             [
              0.2222222222222222,
              "#7201a8"
             ],
             [
              0.3333333333333333,
              "#9c179e"
             ],
             [
              0.4444444444444444,
              "#bd3786"
             ],
             [
              0.5555555555555556,
              "#d8576b"
             ],
             [
              0.6666666666666666,
              "#ed7953"
             ],
             [
              0.7777777777777778,
              "#fb9f3a"
             ],
             [
              0.8888888888888888,
              "#fdca26"
             ],
             [
              1,
              "#f0f921"
             ]
            ],
            "type": "histogram2dcontour"
           }
          ],
          "mesh3d": [
           {
            "colorbar": {
             "outlinewidth": 0,
             "ticks": ""
            },
            "type": "mesh3d"
           }
          ],
          "parcoords": [
           {
            "line": {
             "colorbar": {
              "outlinewidth": 0,
              "ticks": ""
             }
            },
            "type": "parcoords"
           }
          ],
          "pie": [
           {
            "automargin": true,
            "type": "pie"
           }
          ],
          "scatter": [
           {
            "fillpattern": {
             "fillmode": "overlay",
             "size": 10,
             "solidity": 0.2
            },
            "type": "scatter"
           }
          ],
          "scatter3d": [
           {
            "line": {
             "colorbar": {
              "outlinewidth": 0,
              "ticks": ""
             }
            },
            "marker": {
             "colorbar": {
              "outlinewidth": 0,
              "ticks": ""
             }
            },
            "type": "scatter3d"
           }
          ],
          "scattercarpet": [
           {
            "marker": {
             "colorbar": {
              "outlinewidth": 0,
              "ticks": ""
             }
            },
            "type": "scattercarpet"
           }
          ],
          "scattergeo": [
           {
            "marker": {
             "colorbar": {
              "outlinewidth": 0,
              "ticks": ""
             }
            },
            "type": "scattergeo"
           }
          ],
          "scattergl": [
           {
            "marker": {
             "colorbar": {
              "outlinewidth": 0,
              "ticks": ""
             }
            },
            "type": "scattergl"
           }
          ],
          "scattermapbox": [
           {
            "marker": {
             "colorbar": {
              "outlinewidth": 0,
              "ticks": ""
             }
            },
            "type": "scattermapbox"
           }
          ],
          "scatterpolar": [
           {
            "marker": {
             "colorbar": {
              "outlinewidth": 0,
              "ticks": ""
             }
            },
            "type": "scatterpolar"
           }
          ],
          "scatterpolargl": [
           {
            "marker": {
             "colorbar": {
              "outlinewidth": 0,
              "ticks": ""
             }
            },
            "type": "scatterpolargl"
           }
          ],
          "scatterternary": [
           {
            "marker": {
             "colorbar": {
              "outlinewidth": 0,
              "ticks": ""
             }
            },
            "type": "scatterternary"
           }
          ],
          "surface": [
           {
            "colorbar": {
             "outlinewidth": 0,
             "ticks": ""
            },
            "colorscale": [
             [
              0,
              "#0d0887"
             ],
             [
              0.1111111111111111,
              "#46039f"
             ],
             [
              0.2222222222222222,
              "#7201a8"
             ],
             [
              0.3333333333333333,
              "#9c179e"
             ],
             [
              0.4444444444444444,
              "#bd3786"
             ],
             [
              0.5555555555555556,
              "#d8576b"
             ],
             [
              0.6666666666666666,
              "#ed7953"
             ],
             [
              0.7777777777777778,
              "#fb9f3a"
             ],
             [
              0.8888888888888888,
              "#fdca26"
             ],
             [
              1,
              "#f0f921"
             ]
            ],
            "type": "surface"
           }
          ],
          "table": [
           {
            "cells": {
             "fill": {
              "color": "#EBF0F8"
             },
             "line": {
              "color": "white"
             }
            },
            "header": {
             "fill": {
              "color": "#C8D4E3"
             },
             "line": {
              "color": "white"
             }
            },
            "type": "table"
           }
          ]
         },
         "layout": {
          "annotationdefaults": {
           "arrowcolor": "#2a3f5f",
           "arrowhead": 0,
           "arrowwidth": 1
          },
          "autotypenumbers": "strict",
          "coloraxis": {
           "colorbar": {
            "outlinewidth": 0,
            "ticks": ""
           }
          },
          "colorscale": {
           "diverging": [
            [
             0,
             "#8e0152"
            ],
            [
             0.1,
             "#c51b7d"
            ],
            [
             0.2,
             "#de77ae"
            ],
            [
             0.3,
             "#f1b6da"
            ],
            [
             0.4,
             "#fde0ef"
            ],
            [
             0.5,
             "#f7f7f7"
            ],
            [
             0.6,
             "#e6f5d0"
            ],
            [
             0.7,
             "#b8e186"
            ],
            [
             0.8,
             "#7fbc41"
            ],
            [
             0.9,
             "#4d9221"
            ],
            [
             1,
             "#276419"
            ]
           ],
           "sequential": [
            [
             0,
             "#0d0887"
            ],
            [
             0.1111111111111111,
             "#46039f"
            ],
            [
             0.2222222222222222,
             "#7201a8"
            ],
            [
             0.3333333333333333,
             "#9c179e"
            ],
            [
             0.4444444444444444,
             "#bd3786"
            ],
            [
             0.5555555555555556,
             "#d8576b"
            ],
            [
             0.6666666666666666,
             "#ed7953"
            ],
            [
             0.7777777777777778,
             "#fb9f3a"
            ],
            [
             0.8888888888888888,
             "#fdca26"
            ],
            [
             1,
             "#f0f921"
            ]
           ],
           "sequentialminus": [
            [
             0,
             "#0d0887"
            ],
            [
             0.1111111111111111,
             "#46039f"
            ],
            [
             0.2222222222222222,
             "#7201a8"
            ],
            [
             0.3333333333333333,
             "#9c179e"
            ],
            [
             0.4444444444444444,
             "#bd3786"
            ],
            [
             0.5555555555555556,
             "#d8576b"
            ],
            [
             0.6666666666666666,
             "#ed7953"
            ],
            [
             0.7777777777777778,
             "#fb9f3a"
            ],
            [
             0.8888888888888888,
             "#fdca26"
            ],
            [
             1,
             "#f0f921"
            ]
           ]
          },
          "colorway": [
           "#636efa",
           "#EF553B",
           "#00cc96",
           "#ab63fa",
           "#FFA15A",
           "#19d3f3",
           "#FF6692",
           "#B6E880",
           "#FF97FF",
           "#FECB52"
          ],
          "font": {
           "color": "#2a3f5f"
          },
          "geo": {
           "bgcolor": "white",
           "lakecolor": "white",
           "landcolor": "#E5ECF6",
           "showlakes": true,
           "showland": true,
           "subunitcolor": "white"
          },
          "hoverlabel": {
           "align": "left"
          },
          "hovermode": "closest",
          "mapbox": {
           "style": "light"
          },
          "paper_bgcolor": "white",
          "plot_bgcolor": "#E5ECF6",
          "polar": {
           "angularaxis": {
            "gridcolor": "white",
            "linecolor": "white",
            "ticks": ""
           },
           "bgcolor": "#E5ECF6",
           "radialaxis": {
            "gridcolor": "white",
            "linecolor": "white",
            "ticks": ""
           }
          },
          "scene": {
           "xaxis": {
            "backgroundcolor": "#E5ECF6",
            "gridcolor": "white",
            "gridwidth": 2,
            "linecolor": "white",
            "showbackground": true,
            "ticks": "",
            "zerolinecolor": "white"
           },
           "yaxis": {
            "backgroundcolor": "#E5ECF6",
            "gridcolor": "white",
            "gridwidth": 2,
            "linecolor": "white",
            "showbackground": true,
            "ticks": "",
            "zerolinecolor": "white"
           },
           "zaxis": {
            "backgroundcolor": "#E5ECF6",
            "gridcolor": "white",
            "gridwidth": 2,
            "linecolor": "white",
            "showbackground": true,
            "ticks": "",
            "zerolinecolor": "white"
           }
          },
          "shapedefaults": {
           "line": {
            "color": "#2a3f5f"
           }
          },
          "ternary": {
           "aaxis": {
            "gridcolor": "white",
            "linecolor": "white",
            "ticks": ""
           },
           "baxis": {
            "gridcolor": "white",
            "linecolor": "white",
            "ticks": ""
           },
           "bgcolor": "#E5ECF6",
           "caxis": {
            "gridcolor": "white",
            "linecolor": "white",
            "ticks": ""
           }
          },
          "title": {
           "x": 0.05
          },
          "xaxis": {
           "automargin": true,
           "gridcolor": "white",
           "linecolor": "white",
           "ticks": "",
           "title": {
            "standoff": 15
           },
           "zerolinecolor": "white",
           "zerolinewidth": 2
          },
          "yaxis": {
           "automargin": true,
           "gridcolor": "white",
           "linecolor": "white",
           "ticks": "",
           "title": {
            "standoff": 15
           },
           "zerolinecolor": "white",
           "zerolinewidth": 2
          }
         }
        },
        "title": {
         "text": "Thiel's M Index, Brooklyn Schools"
        },
        "xaxis": {
         "anchor": "y",
         "domain": [
          0,
          1
         ],
         "title": {
          "text": "Academic Year"
         }
        },
        "yaxis": {
         "anchor": "x",
         "domain": [
          0,
          1
         ],
         "title": {
          "text": "M Index"
         }
        }
       }
      }
     },
     "metadata": {},
     "output_type": "display_data"
    }
   ],
   "source": [
    "bk = demos[demos.boro == 'Brooklyn'][\"district\"].unique()\n",
    "bk = sorted([x for x in bk if x <33])\n",
    "\n",
    "graph_data = m_data[m_data.district.isin(bk)]\n",
    "graph_data.sort_values(by=[\"district\", \"ay\"], inplace=True)\n",
    "\n",
    "\n",
    "fig = px.line(graph_data, x='ay', y='M', color='district', markers=True,\n",
    "              labels={\n",
    "                  \"ay\": \"Academic Year\",\n",
    "                  \"M\": \"M Index\"\n",
    "              },\n",
    "              title=\"Thiel's M Index, Brooklyn Schools\")\n",
    "\n",
    "fig.update_traces(mode=\"markers+lines\", hoverinfo=\"name+y+x\")\n",
    "\n",
    "fig.update_layout(\n",
    "    hovermode=\"closest\",\n",
    "    plot_bgcolor=\"white\",\n",
    "    legend_title_text='District',\n",
    "    xaxis=dict(title='Academic Year'),\n",
    "    yaxis=dict(title='M Index'),\n",
    "    legend=dict(\n",
    "        title_font_size=16,\n",
    "        font_size=12,\n",
    "        yanchor=\"top\",\n",
    "        y=0.99,\n",
    "        xanchor=\"left\",\n",
    "        x=0.01\n",
    "    )\n",
    ")\n",
    "\n",
    "fig.show()"
   ]
  },
  {
   "cell_type": "code",
   "execution_count": 10,
   "metadata": {},
   "outputs": [
    {
     "data": {
      "application/vnd.plotly.v1+json": {
       "config": {
        "plotlyServerURL": "https://plot.ly"
       },
       "data": [
        {
         "alignmentgroup": "True",
         "customdata": [
          [
           0.27448912842992007,
           "2005",
           "<br><b>Neighborhoods:</b><br>Prospect Heights<br>Brooklyn Heights<br>Fort Greene<br>Clinton Hill<br>Downtown<br>Navy Yard<br>Vinegar Hill<br>Dumbo"
          ],
          [
           0.19272247591198968,
           "2005",
           "<br><b>Neighborhoods:</b><br>Greenpoint<br>Williamsburg<br>East Williamsburg<br>North Side<br>South Side"
          ],
          [
           0.2865549872195155,
           "2005",
           "<br><b>Neighborhoods:</b><br>Sunset Park<br>Kensington<br>Windsor Terrace<br>Cobble Hill<br>Carroll Gardens<br>Red Hook<br>Gowanus<br>Park Slope<br>Boerum Hill"
          ],
          [
           0.020719159049112635,
           "2005",
           "<br><b>Neighborhoods:</b><br>Bedford Stuyvesant<br>Weeksville"
          ],
          [
           0.03407335406547882,
           "2005",
           "<br><b>Neighborhoods:</b><br>Crown Heights<br>Prospect Lefferts Gardens<br>Wingate"
          ],
          [
           0.015060545042281154,
           "2005",
           "<br><b>Neighborhoods:</b><br>East Flatbush<br>Canarsie<br>Rugby<br>Remsen Village<br>Paerdegat Basin"
          ],
          [
           0.13148341736036562,
           "2005",
           "<br><b>Neighborhoods:</b><br>Cypress Hills<br>East New York<br>Starrett City<br>City Line<br>Spring Creek<br>New Lots<br>Highland Park"
          ],
          [
           0.14517468966415575,
           "2005",
           "<br><b>Neighborhoods:</b><br>Bay Ridge<br>Bensonhurst<br>Bath Beach<br>Borough Park<br>Dyker Heights<br>Fort Hamilton"
          ],
          [
           0.16145095687596112,
           "2005",
           "<br><b>Neighborhoods:</b><br>Gravesend<br>Brighton Beach<br>Manhattan Terrace<br>Coney Island<br>Sea Gate<br>Ocean Parkway<br>Homecrest"
          ],
          [
           0.21403687755300912,
           "2005",
           "<br><b>Neighborhoods:</b><br>Sheepshead Bay<br>Flatbush<br>Flatlands<br>Manhattan Beach<br>Gerritsen Beach<br>Marine Park<br>Bergen Beach<br>Midwood<br>Prospect Park South<br>Georgetown<br>Ditmas Park<br>Mill Basin<br>Madison"
          ],
          [
           0.02690568477625338,
           "2005",
           "<br><b>Neighborhoods:</b><br>Brownsville<br>Ocean Hill<br>Broadway Junction"
          ],
          [
           0.10500063749823109,
           "2005",
           "<br><b>Neighborhoods:</b><br>Bushwick"
          ]
         ],
         "hovertemplate": "District: %{x}<br>AY: %{customdata[1]}<br>Percentage: %{y:.2f}%<br>M Index: %{customdata[0]:.2f}%{customdata[2]}",
         "legendgroup": "2005",
         "marker": {
          "color": "#636efa",
          "pattern": {
           "shape": ""
          }
         },
         "name": "2005",
         "offsetgroup": "2005",
         "orientation": "v",
         "showlegend": true,
         "text": [
          "M 0.27<br> Black/Latinx 91%",
          "M 0.19<br> Black/Latinx 89%",
          "M 0.29<br> Black/Latinx 73%",
          "M 0.02<br> Black/Latinx 96%",
          "M 0.03<br> Black/Latinx 95%",
          "M 0.02<br> Black/Latinx 97%",
          "M 0.13<br> Black/Latinx 94%",
          "M 0.15<br> Black/Latinx 30%",
          "M 0.16<br> Black/Latinx 43%",
          "M 0.21<br> Black/Latinx 62%",
          "M 0.03<br> Black/Latinx 98%",
          "M 0.11<br> Black/Latinx 96%"
         ],
         "textposition": "auto",
         "type": "bar",
         "x": [
          "13",
          "14",
          "15",
          "16",
          "17",
          "18",
          "19",
          "20",
          "21",
          "22",
          "23",
          "32"
         ],
         "xaxis": "x",
         "y": [
          90.6195540538269,
          88.73585110430736,
          73.1127376901356,
          96.24758244665205,
          95.18101845466585,
          96.7626560497233,
          93.95937264319274,
          29.89701440108353,
          43.20606786543141,
          62.387389641509586,
          97.61838585233784,
          96.37815776846999
         ],
         "yaxis": "y"
        },
        {
         "alignmentgroup": "True",
         "customdata": [
          [
           0.3659911279287199,
           "2022",
           "<br><b>Neighborhoods:</b><br>Prospect Heights<br>Brooklyn Heights<br>Fort Greene<br>Clinton Hill<br>Downtown<br>Navy Yard<br>Vinegar Hill<br>Dumbo"
          ],
          [
           0.24220991151894544,
           "2022",
           "<br><b>Neighborhoods:</b><br>Greenpoint<br>Williamsburg<br>East Williamsburg<br>North Side<br>South Side"
          ],
          [
           0.32671196320141294,
           "2022",
           "<br><b>Neighborhoods:</b><br>Sunset Park<br>Kensington<br>Windsor Terrace<br>Cobble Hill<br>Carroll Gardens<br>Red Hook<br>Gowanus<br>Park Slope<br>Boerum Hill"
          ],
          [
           0.07474415443428639,
           "2022",
           "<br><b>Neighborhoods:</b><br>Bedford Stuyvesant<br>Weeksville"
          ],
          [
           0.0960435454579889,
           "2022",
           "<br><b>Neighborhoods:</b><br>Crown Heights<br>Prospect Lefferts Gardens<br>Wingate"
          ],
          [
           0.05066793632013687,
           "2022",
           "<br><b>Neighborhoods:</b><br>East Flatbush<br>Canarsie<br>Rugby<br>Remsen Village<br>Paerdegat Basin"
          ],
          [
           0.2369114275749577,
           "2022",
           "<br><b>Neighborhoods:</b><br>Cypress Hills<br>East New York<br>Starrett City<br>City Line<br>Spring Creek<br>New Lots<br>Highland Park"
          ],
          [
           0.139332248931836,
           "2022",
           "<br><b>Neighborhoods:</b><br>Bay Ridge<br>Bensonhurst<br>Bath Beach<br>Borough Park<br>Dyker Heights<br>Fort Hamilton"
          ],
          [
           0.15953092241466602,
           "2022",
           "<br><b>Neighborhoods:</b><br>Gravesend<br>Brighton Beach<br>Manhattan Terrace<br>Coney Island<br>Sea Gate<br>Ocean Parkway<br>Homecrest"
          ],
          [
           0.20205480651529995,
           "2022",
           "<br><b>Neighborhoods:</b><br>Sheepshead Bay<br>Flatbush<br>Flatlands<br>Manhattan Beach<br>Gerritsen Beach<br>Marine Park<br>Bergen Beach<br>Midwood<br>Prospect Park South<br>Georgetown<br>Ditmas Park<br>Mill Basin<br>Madison"
          ],
          [
           0.05415046162616968,
           "2022",
           "<br><b>Neighborhoods:</b><br>Brownsville<br>Ocean Hill<br>Broadway Junction"
          ],
          [
           0.08079187072346958,
           "2022",
           "<br><b>Neighborhoods:</b><br>Bushwick"
          ]
         ],
         "hovertemplate": "District: %{x}<br>AY: %{customdata[1]}<br>Percentage: %{y:.2f}%<br>M Index: %{customdata[0]:.2f}%{customdata[2]}",
         "legendgroup": "2022",
         "marker": {
          "color": "#EF553B",
          "pattern": {
           "shape": ""
          }
         },
         "name": "2022",
         "offsetgroup": "2022",
         "orientation": "v",
         "showlegend": true,
         "text": [
          "M 0.37<br> Black/Latinx 75%",
          "M 0.24<br> Black/Latinx 79%",
          "M 0.33<br> Black/Latinx 53%",
          "M 0.07<br> Black/Latinx 90%",
          "M 0.10<br> Black/Latinx 89%",
          "M 0.05<br> Black/Latinx 90%",
          "M 0.24<br> Black/Latinx 87%",
          "M 0.14<br> Black/Latinx 32%",
          "M 0.16<br> Black/Latinx 43%",
          "M 0.20<br> Black/Latinx 50%",
          "M 0.05<br> Black/Latinx 94%",
          "M 0.08<br> Black/Latinx 93%"
         ],
         "textposition": "auto",
         "type": "bar",
         "x": [
          "13",
          "14",
          "15",
          "16",
          "17",
          "18",
          "19",
          "20",
          "21",
          "22",
          "23",
          "32"
         ],
         "xaxis": "x",
         "y": [
          75.25846327659151,
          79.06109207624034,
          53.23726409332308,
          89.7530656325923,
          88.66796426960344,
          89.73895896392588,
          87.32267533303623,
          32.09765065029952,
          42.57619284927092,
          49.571952426639,
          94.13550607543011,
          92.88270197390734
         ],
         "yaxis": "y"
        }
       ],
       "layout": {
        "barmode": "group",
        "legend": {
         "title": {
          "text": "Academic Year"
         },
         "tracegroupgap": 0
        },
        "template": {
         "data": {
          "bar": [
           {
            "error_x": {
             "color": "#2a3f5f"
            },
            "error_y": {
             "color": "#2a3f5f"
            },
            "marker": {
             "line": {
              "color": "#E5ECF6",
              "width": 0.5
             },
             "pattern": {
              "fillmode": "overlay",
              "size": 10,
              "solidity": 0.2
             }
            },
            "type": "bar"
           }
          ],
          "barpolar": [
           {
            "marker": {
             "line": {
              "color": "#E5ECF6",
              "width": 0.5
             },
             "pattern": {
              "fillmode": "overlay",
              "size": 10,
              "solidity": 0.2
             }
            },
            "type": "barpolar"
           }
          ],
          "carpet": [
           {
            "aaxis": {
             "endlinecolor": "#2a3f5f",
             "gridcolor": "white",
             "linecolor": "white",
             "minorgridcolor": "white",
             "startlinecolor": "#2a3f5f"
            },
            "baxis": {
             "endlinecolor": "#2a3f5f",
             "gridcolor": "white",
             "linecolor": "white",
             "minorgridcolor": "white",
             "startlinecolor": "#2a3f5f"
            },
            "type": "carpet"
           }
          ],
          "choropleth": [
           {
            "colorbar": {
             "outlinewidth": 0,
             "ticks": ""
            },
            "type": "choropleth"
           }
          ],
          "contour": [
           {
            "colorbar": {
             "outlinewidth": 0,
             "ticks": ""
            },
            "colorscale": [
             [
              0,
              "#0d0887"
             ],
             [
              0.1111111111111111,
              "#46039f"
             ],
             [
              0.2222222222222222,
              "#7201a8"
             ],
             [
              0.3333333333333333,
              "#9c179e"
             ],
             [
              0.4444444444444444,
              "#bd3786"
             ],
             [
              0.5555555555555556,
              "#d8576b"
             ],
             [
              0.6666666666666666,
              "#ed7953"
             ],
             [
              0.7777777777777778,
              "#fb9f3a"
             ],
             [
              0.8888888888888888,
              "#fdca26"
             ],
             [
              1,
              "#f0f921"
             ]
            ],
            "type": "contour"
           }
          ],
          "contourcarpet": [
           {
            "colorbar": {
             "outlinewidth": 0,
             "ticks": ""
            },
            "type": "contourcarpet"
           }
          ],
          "heatmap": [
           {
            "colorbar": {
             "outlinewidth": 0,
             "ticks": ""
            },
            "colorscale": [
             [
              0,
              "#0d0887"
             ],
             [
              0.1111111111111111,
              "#46039f"
             ],
             [
              0.2222222222222222,
              "#7201a8"
             ],
             [
              0.3333333333333333,
              "#9c179e"
             ],
             [
              0.4444444444444444,
              "#bd3786"
             ],
             [
              0.5555555555555556,
              "#d8576b"
             ],
             [
              0.6666666666666666,
              "#ed7953"
             ],
             [
              0.7777777777777778,
              "#fb9f3a"
             ],
             [
              0.8888888888888888,
              "#fdca26"
             ],
             [
              1,
              "#f0f921"
             ]
            ],
            "type": "heatmap"
           }
          ],
          "heatmapgl": [
           {
            "colorbar": {
             "outlinewidth": 0,
             "ticks": ""
            },
            "colorscale": [
             [
              0,
              "#0d0887"
             ],
             [
              0.1111111111111111,
              "#46039f"
             ],
             [
              0.2222222222222222,
              "#7201a8"
             ],
             [
              0.3333333333333333,
              "#9c179e"
             ],
             [
              0.4444444444444444,
              "#bd3786"
             ],
             [
              0.5555555555555556,
              "#d8576b"
             ],
             [
              0.6666666666666666,
              "#ed7953"
             ],
             [
              0.7777777777777778,
              "#fb9f3a"
             ],
             [
              0.8888888888888888,
              "#fdca26"
             ],
             [
              1,
              "#f0f921"
             ]
            ],
            "type": "heatmapgl"
           }
          ],
          "histogram": [
           {
            "marker": {
             "pattern": {
              "fillmode": "overlay",
              "size": 10,
              "solidity": 0.2
             }
            },
            "type": "histogram"
           }
          ],
          "histogram2d": [
           {
            "colorbar": {
             "outlinewidth": 0,
             "ticks": ""
            },
            "colorscale": [
             [
              0,
              "#0d0887"
             ],
             [
              0.1111111111111111,
              "#46039f"
             ],
             [
              0.2222222222222222,
              "#7201a8"
             ],
             [
              0.3333333333333333,
              "#9c179e"
             ],
             [
              0.4444444444444444,
              "#bd3786"
             ],
             [
              0.5555555555555556,
              "#d8576b"
             ],
             [
              0.6666666666666666,
              "#ed7953"
             ],
             [
              0.7777777777777778,
              "#fb9f3a"
             ],
             [
              0.8888888888888888,
              "#fdca26"
             ],
             [
              1,
              "#f0f921"
             ]
            ],
            "type": "histogram2d"
           }
          ],
          "histogram2dcontour": [
           {
            "colorbar": {
             "outlinewidth": 0,
             "ticks": ""
            },
            "colorscale": [
             [
              0,
              "#0d0887"
             ],
             [
              0.1111111111111111,
              "#46039f"
             ],
             [
              0.2222222222222222,
              "#7201a8"
             ],
             [
              0.3333333333333333,
              "#9c179e"
             ],
             [
              0.4444444444444444,
              "#bd3786"
             ],
             [
              0.5555555555555556,
              "#d8576b"
             ],
             [
              0.6666666666666666,
              "#ed7953"
             ],
             [
              0.7777777777777778,
              "#fb9f3a"
             ],
             [
              0.8888888888888888,
              "#fdca26"
             ],
             [
              1,
              "#f0f921"
             ]
            ],
            "type": "histogram2dcontour"
           }
          ],
          "mesh3d": [
           {
            "colorbar": {
             "outlinewidth": 0,
             "ticks": ""
            },
            "type": "mesh3d"
           }
          ],
          "parcoords": [
           {
            "line": {
             "colorbar": {
              "outlinewidth": 0,
              "ticks": ""
             }
            },
            "type": "parcoords"
           }
          ],
          "pie": [
           {
            "automargin": true,
            "type": "pie"
           }
          ],
          "scatter": [
           {
            "fillpattern": {
             "fillmode": "overlay",
             "size": 10,
             "solidity": 0.2
            },
            "type": "scatter"
           }
          ],
          "scatter3d": [
           {
            "line": {
             "colorbar": {
              "outlinewidth": 0,
              "ticks": ""
             }
            },
            "marker": {
             "colorbar": {
              "outlinewidth": 0,
              "ticks": ""
             }
            },
            "type": "scatter3d"
           }
          ],
          "scattercarpet": [
           {
            "marker": {
             "colorbar": {
              "outlinewidth": 0,
              "ticks": ""
             }
            },
            "type": "scattercarpet"
           }
          ],
          "scattergeo": [
           {
            "marker": {
             "colorbar": {
              "outlinewidth": 0,
              "ticks": ""
             }
            },
            "type": "scattergeo"
           }
          ],
          "scattergl": [
           {
            "marker": {
             "colorbar": {
              "outlinewidth": 0,
              "ticks": ""
             }
            },
            "type": "scattergl"
           }
          ],
          "scattermapbox": [
           {
            "marker": {
             "colorbar": {
              "outlinewidth": 0,
              "ticks": ""
             }
            },
            "type": "scattermapbox"
           }
          ],
          "scatterpolar": [
           {
            "marker": {
             "colorbar": {
              "outlinewidth": 0,
              "ticks": ""
             }
            },
            "type": "scatterpolar"
           }
          ],
          "scatterpolargl": [
           {
            "marker": {
             "colorbar": {
              "outlinewidth": 0,
              "ticks": ""
             }
            },
            "type": "scatterpolargl"
           }
          ],
          "scatterternary": [
           {
            "marker": {
             "colorbar": {
              "outlinewidth": 0,
              "ticks": ""
             }
            },
            "type": "scatterternary"
           }
          ],
          "surface": [
           {
            "colorbar": {
             "outlinewidth": 0,
             "ticks": ""
            },
            "colorscale": [
             [
              0,
              "#0d0887"
             ],
             [
              0.1111111111111111,
              "#46039f"
             ],
             [
              0.2222222222222222,
              "#7201a8"
             ],
             [
              0.3333333333333333,
              "#9c179e"
             ],
             [
              0.4444444444444444,
              "#bd3786"
             ],
             [
              0.5555555555555556,
              "#d8576b"
             ],
             [
              0.6666666666666666,
              "#ed7953"
             ],
             [
              0.7777777777777778,
              "#fb9f3a"
             ],
             [
              0.8888888888888888,
              "#fdca26"
             ],
             [
              1,
              "#f0f921"
             ]
            ],
            "type": "surface"
           }
          ],
          "table": [
           {
            "cells": {
             "fill": {
              "color": "#EBF0F8"
             },
             "line": {
              "color": "white"
             }
            },
            "header": {
             "fill": {
              "color": "#C8D4E3"
             },
             "line": {
              "color": "white"
             }
            },
            "type": "table"
           }
          ]
         },
         "layout": {
          "annotationdefaults": {
           "arrowcolor": "#2a3f5f",
           "arrowhead": 0,
           "arrowwidth": 1
          },
          "autotypenumbers": "strict",
          "coloraxis": {
           "colorbar": {
            "outlinewidth": 0,
            "ticks": ""
           }
          },
          "colorscale": {
           "diverging": [
            [
             0,
             "#8e0152"
            ],
            [
             0.1,
             "#c51b7d"
            ],
            [
             0.2,
             "#de77ae"
            ],
            [
             0.3,
             "#f1b6da"
            ],
            [
             0.4,
             "#fde0ef"
            ],
            [
             0.5,
             "#f7f7f7"
            ],
            [
             0.6,
             "#e6f5d0"
            ],
            [
             0.7,
             "#b8e186"
            ],
            [
             0.8,
             "#7fbc41"
            ],
            [
             0.9,
             "#4d9221"
            ],
            [
             1,
             "#276419"
            ]
           ],
           "sequential": [
            [
             0,
             "#0d0887"
            ],
            [
             0.1111111111111111,
             "#46039f"
            ],
            [
             0.2222222222222222,
             "#7201a8"
            ],
            [
             0.3333333333333333,
             "#9c179e"
            ],
            [
             0.4444444444444444,
             "#bd3786"
            ],
            [
             0.5555555555555556,
             "#d8576b"
            ],
            [
             0.6666666666666666,
             "#ed7953"
            ],
            [
             0.7777777777777778,
             "#fb9f3a"
            ],
            [
             0.8888888888888888,
             "#fdca26"
            ],
            [
             1,
             "#f0f921"
            ]
           ],
           "sequentialminus": [
            [
             0,
             "#0d0887"
            ],
            [
             0.1111111111111111,
             "#46039f"
            ],
            [
             0.2222222222222222,
             "#7201a8"
            ],
            [
             0.3333333333333333,
             "#9c179e"
            ],
            [
             0.4444444444444444,
             "#bd3786"
            ],
            [
             0.5555555555555556,
             "#d8576b"
            ],
            [
             0.6666666666666666,
             "#ed7953"
            ],
            [
             0.7777777777777778,
             "#fb9f3a"
            ],
            [
             0.8888888888888888,
             "#fdca26"
            ],
            [
             1,
             "#f0f921"
            ]
           ]
          },
          "colorway": [
           "#636efa",
           "#EF553B",
           "#00cc96",
           "#ab63fa",
           "#FFA15A",
           "#19d3f3",
           "#FF6692",
           "#B6E880",
           "#FF97FF",
           "#FECB52"
          ],
          "font": {
           "color": "#2a3f5f"
          },
          "geo": {
           "bgcolor": "white",
           "lakecolor": "white",
           "landcolor": "#E5ECF6",
           "showlakes": true,
           "showland": true,
           "subunitcolor": "white"
          },
          "hoverlabel": {
           "align": "left"
          },
          "hovermode": "closest",
          "mapbox": {
           "style": "light"
          },
          "paper_bgcolor": "white",
          "plot_bgcolor": "#E5ECF6",
          "polar": {
           "angularaxis": {
            "gridcolor": "white",
            "linecolor": "white",
            "ticks": ""
           },
           "bgcolor": "#E5ECF6",
           "radialaxis": {
            "gridcolor": "white",
            "linecolor": "white",
            "ticks": ""
           }
          },
          "scene": {
           "xaxis": {
            "backgroundcolor": "#E5ECF6",
            "gridcolor": "white",
            "gridwidth": 2,
            "linecolor": "white",
            "showbackground": true,
            "ticks": "",
            "zerolinecolor": "white"
           },
           "yaxis": {
            "backgroundcolor": "#E5ECF6",
            "gridcolor": "white",
            "gridwidth": 2,
            "linecolor": "white",
            "showbackground": true,
            "ticks": "",
            "zerolinecolor": "white"
           },
           "zaxis": {
            "backgroundcolor": "#E5ECF6",
            "gridcolor": "white",
            "gridwidth": 2,
            "linecolor": "white",
            "showbackground": true,
            "ticks": "",
            "zerolinecolor": "white"
           }
          },
          "shapedefaults": {
           "line": {
            "color": "#2a3f5f"
           }
          },
          "ternary": {
           "aaxis": {
            "gridcolor": "white",
            "linecolor": "white",
            "ticks": ""
           },
           "baxis": {
            "gridcolor": "white",
            "linecolor": "white",
            "ticks": ""
           },
           "bgcolor": "#E5ECF6",
           "caxis": {
            "gridcolor": "white",
            "linecolor": "white",
            "ticks": ""
           }
          },
          "title": {
           "x": 0.05
          },
          "xaxis": {
           "automargin": true,
           "gridcolor": "white",
           "linecolor": "white",
           "ticks": "",
           "title": {
            "standoff": 15
           },
           "zerolinecolor": "white",
           "zerolinewidth": 2
          },
          "yaxis": {
           "automargin": true,
           "gridcolor": "white",
           "linecolor": "white",
           "ticks": "",
           "title": {
            "standoff": 15
           },
           "zerolinecolor": "white",
           "zerolinewidth": 2
          }
         }
        },
        "title": {
         "text": "Percentage of Black and Hispanic Students in Brooklyn School Districts (2005, 2022)"
        },
        "xaxis": {
         "anchor": "y",
         "domain": [
          0,
          1
         ],
         "title": {
          "text": "District"
         }
        },
        "yaxis": {
         "anchor": "x",
         "domain": [
          0,
          1
         ],
         "title": {
          "text": "Precent Black/Hispanic"
         }
        }
       }
      }
     },
     "metadata": {},
     "output_type": "display_data"
    }
   ],
   "source": [
    "demos[\"black_hispanic_n\"] = demos[\"black_n\"] + demos[\"hispanic_n\"]\n",
    "demos[\"black_hispanic_pct\"] = demos[\"black_hispanic_n\"] / \\\n",
    "    demos[\"total_enrollment\"]\n",
    "hoods = geo.load_district_neighborhoods()\n",
    "\n",
    "bar_data = demos[(demos.district.isin(bk)) & (demos.ay.isin([2005, 2022]))]\n",
    "bar_data = bar_data[[\"district\", \"ay\", \"black_hispanic_pct\"]]\n",
    "bar_data = bar_data.groupby([\"district\", \"ay\"]).mean().reset_index()\n",
    "\n",
    "bar_data['black_hispanic_pct'] *= 100\n",
    "bar_data = bar_data.merge(m_data, on=[\"district\", \"ay\"], how=\"inner\")\n",
    "bar_data = bar_data.merge(hoods, on=[\"district\"], how=\"inner\")\n",
    "bar_data.neighborhood = bar_data.neighborhood.apply(\n",
    "    lambda x: \"<br><b>Neighborhoods:</b><br>\" + \"<br>\".join(x.split(\", \")))\n",
    "\n",
    "bar_data.district = bar_data.district.astype(str)\n",
    "bar_data.ay = bar_data.ay.astype(str)\n",
    "bar_data['M_label'] = bar_data.apply(\n",
    "    lambda x: f'M {x.M:.2f}<br> Black/Latinx {x.black_hispanic_pct:.0f}%', axis=1)\n",
    "\n",
    "fig = px.bar(bar_data, x='district', y='black_hispanic_pct', color='ay', barmode='group',\n",
    "             labels={'district': 'District',\n",
    "                     'black_hispanic_pct': '% Black/Hispanic', 'ay': 'Academic Year'},\n",
    "             title='Percentage of Black and Hispanic Students in Brooklyn School Districts (2005, 2022)',\n",
    "             text='M_label',\n",
    "             hover_data=[\"M\", \"ay\", \"neighborhood\"])\n",
    "\n",
    "\n",
    "fig.update_traces(\n",
    "    hovertemplate='District: %{x}<br>AY: %{customdata[1]}<br>Percentage: %{y:.2f}%<br>M Index: %{customdata[0]:.2f}%{customdata[2]}')\n",
    "\n",
    "fig.update_layout(barmode='group',\n",
    "                  xaxis_title=\"District\",\n",
    "                  yaxis_title=\"Precent Black/Hispanic\")\n",
    "\n",
    "fig.show()"
   ]
  },
  {
   "cell_type": "code",
   "execution_count": 11,
   "metadata": {},
   "outputs": [
    {
     "data": {
      "application/vnd.plotly.v1+json": {
       "config": {
        "plotlyServerURL": "https://plot.ly"
       },
       "data": [
        {
         "mode": "lines+markers",
         "name": "% Black/Hispanic",
         "type": "scatter",
         "x": [
          "1",
          "2",
          "3",
          "4",
          "5",
          "6",
          "7",
          "8",
          "9",
          "10",
          "11",
          "12",
          "13",
          "14",
          "15",
          "16",
          "17",
          "18",
          "19",
          "20",
          "21",
          "22",
          "23",
          "24",
          "25",
          "26",
          "27",
          "28",
          "29",
          "30",
          "31",
          "32"
         ],
         "y": [
          0.6913507258800795,
          0.5251845519059666,
          0.6311985896056074,
          0.8438198723347277,
          0.874345281863037,
          0.8993037161321714,
          0.9472428550563827,
          0.8567358005781981,
          0.955399233753453,
          0.8936333644292822,
          0.8140411756791305,
          0.9373895735344321,
          0.7525846327659151,
          0.7906109207624034,
          0.5323726409332308,
          0.897530656325923,
          0.8866796426960344,
          0.8973895896392589,
          0.8732267533303623,
          0.3209765065029952,
          0.42576192849270916,
          0.49571952426639004,
          0.9413550607543011,
          0.7010396559201576,
          0.40857690871602675,
          0.2737799414139524,
          0.6621982592631371,
          0.5205243574085243,
          0.7839155346682101,
          0.5912007163618012,
          0.464701596931808,
          0.9288270197390734
         ]
        },
        {
         "mode": "lines+markers",
         "name": "M Index",
         "type": "scatter",
         "x": [
          "1",
          "2",
          "3",
          "4",
          "5",
          "6",
          "7",
          "8",
          "9",
          "10",
          "11",
          "12",
          "13",
          "14",
          "15",
          "16",
          "17",
          "18",
          "19",
          "20",
          "21",
          "22",
          "23",
          "24",
          "25",
          "26",
          "27",
          "28",
          "29",
          "30",
          "31",
          "32"
         ],
         "y": [
          0.25752376485362427,
          0.32735757032178375,
          0.24336103843635842,
          0.1342833329841035,
          0.18184423397837723,
          0.13190470296766085,
          0.043934279723759254,
          0.10698788667118819,
          0.05597533145679137,
          0.2032097052388971,
          0.19196060670494525,
          0.05886756641472955,
          0.3659911279287199,
          0.24220991151894544,
          0.32671196320141294,
          0.07474415443428639,
          0.0960435454579889,
          0.05066793632013687,
          0.2369114275749577,
          0.139332248931836,
          0.15953092241466602,
          0.20205480651529995,
          0.05415046162616968,
          0.1987014229731171,
          0.17993292479548134,
          0.11113212135567478,
          0.27927099638019637,
          0.2515760535964809,
          0.2209957393806014,
          0.19952600745855298,
          0.2116260049369206,
          0.08079187072346958
         ]
        }
       ],
       "layout": {
        "template": {
         "data": {
          "bar": [
           {
            "error_x": {
             "color": "#2a3f5f"
            },
            "error_y": {
             "color": "#2a3f5f"
            },
            "marker": {
             "line": {
              "color": "#E5ECF6",
              "width": 0.5
             },
             "pattern": {
              "fillmode": "overlay",
              "size": 10,
              "solidity": 0.2
             }
            },
            "type": "bar"
           }
          ],
          "barpolar": [
           {
            "marker": {
             "line": {
              "color": "#E5ECF6",
              "width": 0.5
             },
             "pattern": {
              "fillmode": "overlay",
              "size": 10,
              "solidity": 0.2
             }
            },
            "type": "barpolar"
           }
          ],
          "carpet": [
           {
            "aaxis": {
             "endlinecolor": "#2a3f5f",
             "gridcolor": "white",
             "linecolor": "white",
             "minorgridcolor": "white",
             "startlinecolor": "#2a3f5f"
            },
            "baxis": {
             "endlinecolor": "#2a3f5f",
             "gridcolor": "white",
             "linecolor": "white",
             "minorgridcolor": "white",
             "startlinecolor": "#2a3f5f"
            },
            "type": "carpet"
           }
          ],
          "choropleth": [
           {
            "colorbar": {
             "outlinewidth": 0,
             "ticks": ""
            },
            "type": "choropleth"
           }
          ],
          "contour": [
           {
            "colorbar": {
             "outlinewidth": 0,
             "ticks": ""
            },
            "colorscale": [
             [
              0,
              "#0d0887"
             ],
             [
              0.1111111111111111,
              "#46039f"
             ],
             [
              0.2222222222222222,
              "#7201a8"
             ],
             [
              0.3333333333333333,
              "#9c179e"
             ],
             [
              0.4444444444444444,
              "#bd3786"
             ],
             [
              0.5555555555555556,
              "#d8576b"
             ],
             [
              0.6666666666666666,
              "#ed7953"
             ],
             [
              0.7777777777777778,
              "#fb9f3a"
             ],
             [
              0.8888888888888888,
              "#fdca26"
             ],
             [
              1,
              "#f0f921"
             ]
            ],
            "type": "contour"
           }
          ],
          "contourcarpet": [
           {
            "colorbar": {
             "outlinewidth": 0,
             "ticks": ""
            },
            "type": "contourcarpet"
           }
          ],
          "heatmap": [
           {
            "colorbar": {
             "outlinewidth": 0,
             "ticks": ""
            },
            "colorscale": [
             [
              0,
              "#0d0887"
             ],
             [
              0.1111111111111111,
              "#46039f"
             ],
             [
              0.2222222222222222,
              "#7201a8"
             ],
             [
              0.3333333333333333,
              "#9c179e"
             ],
             [
              0.4444444444444444,
              "#bd3786"
             ],
             [
              0.5555555555555556,
              "#d8576b"
             ],
             [
              0.6666666666666666,
              "#ed7953"
             ],
             [
              0.7777777777777778,
              "#fb9f3a"
             ],
             [
              0.8888888888888888,
              "#fdca26"
             ],
             [
              1,
              "#f0f921"
             ]
            ],
            "type": "heatmap"
           }
          ],
          "heatmapgl": [
           {
            "colorbar": {
             "outlinewidth": 0,
             "ticks": ""
            },
            "colorscale": [
             [
              0,
              "#0d0887"
             ],
             [
              0.1111111111111111,
              "#46039f"
             ],
             [
              0.2222222222222222,
              "#7201a8"
             ],
             [
              0.3333333333333333,
              "#9c179e"
             ],
             [
              0.4444444444444444,
              "#bd3786"
             ],
             [
              0.5555555555555556,
              "#d8576b"
             ],
             [
              0.6666666666666666,
              "#ed7953"
             ],
             [
              0.7777777777777778,
              "#fb9f3a"
             ],
             [
              0.8888888888888888,
              "#fdca26"
             ],
             [
              1,
              "#f0f921"
             ]
            ],
            "type": "heatmapgl"
           }
          ],
          "histogram": [
           {
            "marker": {
             "pattern": {
              "fillmode": "overlay",
              "size": 10,
              "solidity": 0.2
             }
            },
            "type": "histogram"
           }
          ],
          "histogram2d": [
           {
            "colorbar": {
             "outlinewidth": 0,
             "ticks": ""
            },
            "colorscale": [
             [
              0,
              "#0d0887"
             ],
             [
              0.1111111111111111,
              "#46039f"
             ],
             [
              0.2222222222222222,
              "#7201a8"
             ],
             [
              0.3333333333333333,
              "#9c179e"
             ],
             [
              0.4444444444444444,
              "#bd3786"
             ],
             [
              0.5555555555555556,
              "#d8576b"
             ],
             [
              0.6666666666666666,
              "#ed7953"
             ],
             [
              0.7777777777777778,
              "#fb9f3a"
             ],
             [
              0.8888888888888888,
              "#fdca26"
             ],
             [
              1,
              "#f0f921"
             ]
            ],
            "type": "histogram2d"
           }
          ],
          "histogram2dcontour": [
           {
            "colorbar": {
             "outlinewidth": 0,
             "ticks": ""
            },
            "colorscale": [
             [
              0,
              "#0d0887"
             ],
             [
              0.1111111111111111,
              "#46039f"
             ],
             [
              0.2222222222222222,
              "#7201a8"
             ],
             [
              0.3333333333333333,
              "#9c179e"
             ],
             [
              0.4444444444444444,
              "#bd3786"
             ],
             [
              0.5555555555555556,
              "#d8576b"
             ],
             [
              0.6666666666666666,
              "#ed7953"
             ],
             [
              0.7777777777777778,
              "#fb9f3a"
             ],
             [
              0.8888888888888888,
              "#fdca26"
             ],
             [
              1,
              "#f0f921"
             ]
            ],
            "type": "histogram2dcontour"
           }
          ],
          "mesh3d": [
           {
            "colorbar": {
             "outlinewidth": 0,
             "ticks": ""
            },
            "type": "mesh3d"
           }
          ],
          "parcoords": [
           {
            "line": {
             "colorbar": {
              "outlinewidth": 0,
              "ticks": ""
             }
            },
            "type": "parcoords"
           }
          ],
          "pie": [
           {
            "automargin": true,
            "type": "pie"
           }
          ],
          "scatter": [
           {
            "fillpattern": {
             "fillmode": "overlay",
             "size": 10,
             "solidity": 0.2
            },
            "type": "scatter"
           }
          ],
          "scatter3d": [
           {
            "line": {
             "colorbar": {
              "outlinewidth": 0,
              "ticks": ""
             }
            },
            "marker": {
             "colorbar": {
              "outlinewidth": 0,
              "ticks": ""
             }
            },
            "type": "scatter3d"
           }
          ],
          "scattercarpet": [
           {
            "marker": {
             "colorbar": {
              "outlinewidth": 0,
              "ticks": ""
             }
            },
            "type": "scattercarpet"
           }
          ],
          "scattergeo": [
           {
            "marker": {
             "colorbar": {
              "outlinewidth": 0,
              "ticks": ""
             }
            },
            "type": "scattergeo"
           }
          ],
          "scattergl": [
           {
            "marker": {
             "colorbar": {
              "outlinewidth": 0,
              "ticks": ""
             }
            },
            "type": "scattergl"
           }
          ],
          "scattermapbox": [
           {
            "marker": {
             "colorbar": {
              "outlinewidth": 0,
              "ticks": ""
             }
            },
            "type": "scattermapbox"
           }
          ],
          "scatterpolar": [
           {
            "marker": {
             "colorbar": {
              "outlinewidth": 0,
              "ticks": ""
             }
            },
            "type": "scatterpolar"
           }
          ],
          "scatterpolargl": [
           {
            "marker": {
             "colorbar": {
              "outlinewidth": 0,
              "ticks": ""
             }
            },
            "type": "scatterpolargl"
           }
          ],
          "scatterternary": [
           {
            "marker": {
             "colorbar": {
              "outlinewidth": 0,
              "ticks": ""
             }
            },
            "type": "scatterternary"
           }
          ],
          "surface": [
           {
            "colorbar": {
             "outlinewidth": 0,
             "ticks": ""
            },
            "colorscale": [
             [
              0,
              "#0d0887"
             ],
             [
              0.1111111111111111,
              "#46039f"
             ],
             [
              0.2222222222222222,
              "#7201a8"
             ],
             [
              0.3333333333333333,
              "#9c179e"
             ],
             [
              0.4444444444444444,
              "#bd3786"
             ],
             [
              0.5555555555555556,
              "#d8576b"
             ],
             [
              0.6666666666666666,
              "#ed7953"
             ],
             [
              0.7777777777777778,
              "#fb9f3a"
             ],
             [
              0.8888888888888888,
              "#fdca26"
             ],
             [
              1,
              "#f0f921"
             ]
            ],
            "type": "surface"
           }
          ],
          "table": [
           {
            "cells": {
             "fill": {
              "color": "#EBF0F8"
             },
             "line": {
              "color": "white"
             }
            },
            "header": {
             "fill": {
              "color": "#C8D4E3"
             },
             "line": {
              "color": "white"
             }
            },
            "type": "table"
           }
          ]
         },
         "layout": {
          "annotationdefaults": {
           "arrowcolor": "#2a3f5f",
           "arrowhead": 0,
           "arrowwidth": 1
          },
          "autotypenumbers": "strict",
          "coloraxis": {
           "colorbar": {
            "outlinewidth": 0,
            "ticks": ""
           }
          },
          "colorscale": {
           "diverging": [
            [
             0,
             "#8e0152"
            ],
            [
             0.1,
             "#c51b7d"
            ],
            [
             0.2,
             "#de77ae"
            ],
            [
             0.3,
             "#f1b6da"
            ],
            [
             0.4,
             "#fde0ef"
            ],
            [
             0.5,
             "#f7f7f7"
            ],
            [
             0.6,
             "#e6f5d0"
            ],
            [
             0.7,
             "#b8e186"
            ],
            [
             0.8,
             "#7fbc41"
            ],
            [
             0.9,
             "#4d9221"
            ],
            [
             1,
             "#276419"
            ]
           ],
           "sequential": [
            [
             0,
             "#0d0887"
            ],
            [
             0.1111111111111111,
             "#46039f"
            ],
            [
             0.2222222222222222,
             "#7201a8"
            ],
            [
             0.3333333333333333,
             "#9c179e"
            ],
            [
             0.4444444444444444,
             "#bd3786"
            ],
            [
             0.5555555555555556,
             "#d8576b"
            ],
            [
             0.6666666666666666,
             "#ed7953"
            ],
            [
             0.7777777777777778,
             "#fb9f3a"
            ],
            [
             0.8888888888888888,
             "#fdca26"
            ],
            [
             1,
             "#f0f921"
            ]
           ],
           "sequentialminus": [
            [
             0,
             "#0d0887"
            ],
            [
             0.1111111111111111,
             "#46039f"
            ],
            [
             0.2222222222222222,
             "#7201a8"
            ],
            [
             0.3333333333333333,
             "#9c179e"
            ],
            [
             0.4444444444444444,
             "#bd3786"
            ],
            [
             0.5555555555555556,
             "#d8576b"
            ],
            [
             0.6666666666666666,
             "#ed7953"
            ],
            [
             0.7777777777777778,
             "#fb9f3a"
            ],
            [
             0.8888888888888888,
             "#fdca26"
            ],
            [
             1,
             "#f0f921"
            ]
           ]
          },
          "colorway": [
           "#636efa",
           "#EF553B",
           "#00cc96",
           "#ab63fa",
           "#FFA15A",
           "#19d3f3",
           "#FF6692",
           "#B6E880",
           "#FF97FF",
           "#FECB52"
          ],
          "font": {
           "color": "#2a3f5f"
          },
          "geo": {
           "bgcolor": "white",
           "lakecolor": "white",
           "landcolor": "#E5ECF6",
           "showlakes": true,
           "showland": true,
           "subunitcolor": "white"
          },
          "hoverlabel": {
           "align": "left"
          },
          "hovermode": "closest",
          "mapbox": {
           "style": "light"
          },
          "paper_bgcolor": "white",
          "plot_bgcolor": "#E5ECF6",
          "polar": {
           "angularaxis": {
            "gridcolor": "white",
            "linecolor": "white",
            "ticks": ""
           },
           "bgcolor": "#E5ECF6",
           "radialaxis": {
            "gridcolor": "white",
            "linecolor": "white",
            "ticks": ""
           }
          },
          "scene": {
           "xaxis": {
            "backgroundcolor": "#E5ECF6",
            "gridcolor": "white",
            "gridwidth": 2,
            "linecolor": "white",
            "showbackground": true,
            "ticks": "",
            "zerolinecolor": "white"
           },
           "yaxis": {
            "backgroundcolor": "#E5ECF6",
            "gridcolor": "white",
            "gridwidth": 2,
            "linecolor": "white",
            "showbackground": true,
            "ticks": "",
            "zerolinecolor": "white"
           },
           "zaxis": {
            "backgroundcolor": "#E5ECF6",
            "gridcolor": "white",
            "gridwidth": 2,
            "linecolor": "white",
            "showbackground": true,
            "ticks": "",
            "zerolinecolor": "white"
           }
          },
          "shapedefaults": {
           "line": {
            "color": "#2a3f5f"
           }
          },
          "ternary": {
           "aaxis": {
            "gridcolor": "white",
            "linecolor": "white",
            "ticks": ""
           },
           "baxis": {
            "gridcolor": "white",
            "linecolor": "white",
            "ticks": ""
           },
           "bgcolor": "#E5ECF6",
           "caxis": {
            "gridcolor": "white",
            "linecolor": "white",
            "ticks": ""
           }
          },
          "title": {
           "x": 0.05
          },
          "xaxis": {
           "automargin": true,
           "gridcolor": "white",
           "linecolor": "white",
           "ticks": "",
           "title": {
            "standoff": 15
           },
           "zerolinecolor": "white",
           "zerolinewidth": 2
          },
          "yaxis": {
           "automargin": true,
           "gridcolor": "white",
           "linecolor": "white",
           "ticks": "",
           "title": {
            "standoff": 15
           },
           "zerolinecolor": "white",
           "zerolinewidth": 2
          }
         }
        },
        "title": {
         "text": "Correlation of % Black/Hispanic and M Index"
        },
        "xaxis": {
         "title": {
          "text": "District"
         }
        },
        "yaxis": {
         "range": [
          0,
          1
         ],
         "title": {
          "text": ""
         }
        }
       }
      }
     },
     "metadata": {},
     "output_type": "display_data"
    },
    {
     "data": {
      "text/html": [
       "<div>\n",
       "<style scoped>\n",
       "    .dataframe tbody tr th:only-of-type {\n",
       "        vertical-align: middle;\n",
       "    }\n",
       "\n",
       "    .dataframe tbody tr th {\n",
       "        vertical-align: top;\n",
       "    }\n",
       "\n",
       "    .dataframe thead th {\n",
       "        text-align: right;\n",
       "    }\n",
       "</style>\n",
       "<table border=\"1\" class=\"dataframe\">\n",
       "  <thead>\n",
       "    <tr style=\"text-align: right;\">\n",
       "      <th></th>\n",
       "      <th>black_hispanic_pct</th>\n",
       "      <th>M</th>\n",
       "    </tr>\n",
       "  </thead>\n",
       "  <tbody>\n",
       "    <tr>\n",
       "      <th>black_hispanic_pct</th>\n",
       "      <td>1.000000</td>\n",
       "      <td>-0.420742</td>\n",
       "    </tr>\n",
       "    <tr>\n",
       "      <th>M</th>\n",
       "      <td>-0.420742</td>\n",
       "      <td>1.000000</td>\n",
       "    </tr>\n",
       "  </tbody>\n",
       "</table>\n",
       "</div>"
      ],
      "text/plain": [
       "                    black_hispanic_pct         M\n",
       "black_hispanic_pct            1.000000 -0.420742\n",
       "M                            -0.420742  1.000000"
      ]
     },
     "execution_count": 11,
     "metadata": {},
     "output_type": "execute_result"
    }
   ],
   "source": [
    "import plotly.graph_objects as go\n",
    "\n",
    "corr_data = demos[demos.ay == demos.ay.max()].copy()\n",
    "corr_data = corr_data[[\"district\", \"ay\", \"black_hispanic_pct\"]].groupby(\"district\").mean().reset_index()\n",
    "corr_data = corr_data.merge(m_data, on=[\"district\", \"ay\"], how=\"inner\")\n",
    "corr_data.drop(columns=[\"ay\"], inplace=True)\n",
    "# just the \"regular\" districts\n",
    "corr_data = corr_data[corr_data.district < 33]\n",
    "corr_data.sort_values(by='district', inplace=True)\n",
    "\n",
    "\n",
    "\n",
    "corr_data.district = corr_data.district.astype(str)\n",
    "# corr_data.M = 1 - corr_data.M\n",
    "\n",
    "fig = go.Figure()\n",
    "\n",
    "\n",
    "\n",
    "fig.add_trace(go.Scatter(x=corr_data['district'], y=corr_data['black_hispanic_pct'], mode='lines+markers', name='% Black/Hispanic'))\n",
    "fig.add_trace(go.Scatter(x=corr_data['district'], y=corr_data['M'], mode='lines+markers', name='M Index'))\n",
    "\n",
    "\n",
    "fig.update_layout(title='Correlation of % Black/Hispanic and M Index',\n",
    "                  xaxis_title='District',\n",
    "                  yaxis_title='',\n",
    "                  yaxis=dict(range=[0, 1]))\n",
    "\n",
    "\n",
    "fig.show()\n",
    "\n",
    "corr_data[[\"black_hispanic_pct\", \"M\"]].corr()"
   ]
  }
 ],
 "metadata": {
  "kernelspec": {
   "display_name": "schools",
   "language": "python",
   "name": "python3"
  },
  "language_info": {
   "codemirror_mode": {
    "name": "ipython",
    "version": 3
   },
   "file_extension": ".py",
   "mimetype": "text/x-python",
   "name": "python",
   "nbconvert_exporter": "python",
   "pygments_lexer": "ipython3",
   "version": "3.12.2"
  }
 },
 "nbformat": 4,
 "nbformat_minor": 2
}
