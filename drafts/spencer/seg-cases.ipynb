{
 "cells": [
  {
   "cell_type": "code",
   "execution_count": 1,
   "metadata": {},
   "outputs": [],
   "source": [
    "import pandas as pd\n",
    "import numpy as np\n",
    "import matplotlib.pyplot as plt\n",
    "import plotly.express as px\n",
    "import seaborn as sns\n",
    "from nycschools import schools, geo, segregation as seg\n",
    "import warnings\n",
    "warnings.filterwarnings('ignore')"
   ]
  },
  {
   "cell_type": "code",
   "execution_count": 2,
   "metadata": {},
   "outputs": [
    {
     "data": {
      "text/html": [
       "<div>\n",
       "<style scoped>\n",
       "    .dataframe tbody tr th:only-of-type {\n",
       "        vertical-align: middle;\n",
       "    }\n",
       "\n",
       "    .dataframe tbody tr th {\n",
       "        vertical-align: top;\n",
       "    }\n",
       "\n",
       "    .dataframe thead th {\n",
       "        text-align: right;\n",
       "    }\n",
       "</style>\n",
       "<table border=\"1\" class=\"dataframe\">\n",
       "  <thead>\n",
       "    <tr style=\"text-align: right;\">\n",
       "      <th></th>\n",
       "      <th>dbn</th>\n",
       "      <th>ay</th>\n",
       "      <th>district</th>\n",
       "      <th>g</th>\n",
       "      <th>n</th>\n",
       "    </tr>\n",
       "  </thead>\n",
       "  <tbody>\n",
       "    <tr>\n",
       "      <th>0</th>\n",
       "      <td>01M015</td>\n",
       "      <td>2005</td>\n",
       "      <td>1</td>\n",
       "      <td>asian_n</td>\n",
       "      <td>10</td>\n",
       "    </tr>\n",
       "    <tr>\n",
       "      <th>1</th>\n",
       "      <td>01M015</td>\n",
       "      <td>2006</td>\n",
       "      <td>1</td>\n",
       "      <td>asian_n</td>\n",
       "      <td>18</td>\n",
       "    </tr>\n",
       "    <tr>\n",
       "      <th>2</th>\n",
       "      <td>01M015</td>\n",
       "      <td>2007</td>\n",
       "      <td>1</td>\n",
       "      <td>asian_n</td>\n",
       "      <td>16</td>\n",
       "    </tr>\n",
       "    <tr>\n",
       "      <th>3</th>\n",
       "      <td>01M015</td>\n",
       "      <td>2008</td>\n",
       "      <td>1</td>\n",
       "      <td>asian_n</td>\n",
       "      <td>16</td>\n",
       "    </tr>\n",
       "    <tr>\n",
       "      <th>4</th>\n",
       "      <td>01M015</td>\n",
       "      <td>2009</td>\n",
       "      <td>1</td>\n",
       "      <td>asian_n</td>\n",
       "      <td>16</td>\n",
       "    </tr>\n",
       "    <tr>\n",
       "      <th>...</th>\n",
       "      <td>...</td>\n",
       "      <td>...</td>\n",
       "      <td>...</td>\n",
       "      <td>...</td>\n",
       "      <td>...</td>\n",
       "    </tr>\n",
       "    <tr>\n",
       "      <th>198403</th>\n",
       "      <td>84X730</td>\n",
       "      <td>2018</td>\n",
       "      <td>84</td>\n",
       "      <td>missing_race_ethnicity_data_n</td>\n",
       "      <td>0</td>\n",
       "    </tr>\n",
       "    <tr>\n",
       "      <th>198404</th>\n",
       "      <td>84X730</td>\n",
       "      <td>2019</td>\n",
       "      <td>84</td>\n",
       "      <td>missing_race_ethnicity_data_n</td>\n",
       "      <td>0</td>\n",
       "    </tr>\n",
       "    <tr>\n",
       "      <th>198405</th>\n",
       "      <td>84X730</td>\n",
       "      <td>2020</td>\n",
       "      <td>84</td>\n",
       "      <td>missing_race_ethnicity_data_n</td>\n",
       "      <td>1</td>\n",
       "    </tr>\n",
       "    <tr>\n",
       "      <th>198406</th>\n",
       "      <td>84X730</td>\n",
       "      <td>2021</td>\n",
       "      <td>84</td>\n",
       "      <td>missing_race_ethnicity_data_n</td>\n",
       "      <td>2</td>\n",
       "    </tr>\n",
       "    <tr>\n",
       "      <th>198407</th>\n",
       "      <td>84X730</td>\n",
       "      <td>2022</td>\n",
       "      <td>84</td>\n",
       "      <td>missing_race_ethnicity_data_n</td>\n",
       "      <td>2</td>\n",
       "    </tr>\n",
       "  </tbody>\n",
       "</table>\n",
       "<p>198408 rows × 5 columns</p>\n",
       "</div>"
      ],
      "text/plain": [
       "           dbn    ay  district                              g   n\n",
       "0       01M015  2005         1                        asian_n  10\n",
       "1       01M015  2006         1                        asian_n  18\n",
       "2       01M015  2007         1                        asian_n  16\n",
       "3       01M015  2008         1                        asian_n  16\n",
       "4       01M015  2009         1                        asian_n  16\n",
       "...        ...   ...       ...                            ...  ..\n",
       "198403  84X730  2018        84  missing_race_ethnicity_data_n   0\n",
       "198404  84X730  2019        84  missing_race_ethnicity_data_n   0\n",
       "198405  84X730  2020        84  missing_race_ethnicity_data_n   1\n",
       "198406  84X730  2021        84  missing_race_ethnicity_data_n   2\n",
       "198407  84X730  2022        84  missing_race_ethnicity_data_n   2\n",
       "\n",
       "[198408 rows x 5 columns]"
      ]
     },
     "execution_count": 2,
     "metadata": {},
     "output_type": "execute_result"
    }
   ],
   "source": [
    "# get long data for all schools, all years\n",
    "demos = schools.load_school_demographics()\n",
    "groups = [ 'asian_n', 'black_n', 'hispanic_n', 'multi_racial_n', 'native_american_n', 'white_n', 'missing_race_ethnicity_data_n', ]\n",
    "index = ['dbn', 'ay', 'district']\n",
    "data = demos[index + groups]\n",
    "data = pd.melt(demos, id_vars=index, value_vars=groups, var_name='g', value_name='n')\n",
    "data\n"
   ]
  },
  {
   "cell_type": "code",
   "execution_count": 3,
   "metadata": {},
   "outputs": [
    {
     "data": {
      "text/plain": [
       "(0.4077531081698128, 0.17255912753825645)"
      ]
     },
     "execution_count": 3,
     "metadata": {},
     "output_type": "execute_result"
    }
   ],
   "source": [
    "def calc_M(district):\n",
    "    \"\"\"Calculate a district's mutual information index for each academic year\"\"\"\n",
    "    x = data[data.district == district].copy()\n",
    "    x.rename(columns={'dbn': 'u'}, inplace=True)\n",
    "\n",
    "    x = x[x.n > 0]\n",
    "    t = [[year] + list(seg.mutual_information(x[x.ay == year])) for year in x.ay.unique()]\n",
    "    result = pd.DataFrame(columns=['ay', 'M', 'H'], data=t)\n",
    "    result = result[[\"ay\",\"M\"]]\n",
    "    result[\"district\"] = district\n",
    "    result = result.sort_values(by='ay')\n",
    "\n",
    "    return result\n",
    "\n",
    "\n",
    "m_data = pd.concat([calc_M(district) for district in data.district.unique()])\n",
    "all_schools = data.rename(columns={'dbn': 'u'})\n",
    "all_schools = all_schools[all_schools.n > 0]\n",
    "all_schools = all_schools[all_schools.ay == 2022]\n",
    "M, H = seg.mutual_information(all_schools)\n",
    "M, m_data[m_data.ay == 2022].M.mean()"
   ]
  },
  {
   "cell_type": "code",
   "execution_count": 4,
   "metadata": {},
   "outputs": [
    {
     "data": {
      "application/vnd.plotly.v1+json": {
       "config": {
        "plotlyServerURL": "https://plot.ly"
       },
       "data": [
        {
         "hoverinfo": "name+y+x",
         "hovertemplate": "district=13<br>Academic Year=%{x}<br>M Index=%{y}<extra></extra>",
         "legendgroup": "13",
         "line": {
          "color": "#636efa",
          "dash": "solid"
         },
         "marker": {
          "symbol": "circle"
         },
         "mode": "markers+lines",
         "name": "13",
         "orientation": "v",
         "showlegend": true,
         "type": "scatter",
         "x": [
          2005,
          2006,
          2007,
          2008,
          2009,
          2010,
          2011,
          2013,
          2014,
          2015,
          2016,
          2017,
          2018,
          2019,
          2020,
          2021,
          2022
         ],
         "xaxis": "x",
         "y": [
          0.27448912842992007,
          0.2801907607366923,
          0.2921621372114921,
          0.30116230250784937,
          0.316280883778002,
          0.32645952852950355,
          0.3302718099925873,
          0.34507395092427534,
          0.3490935727035151,
          0.35226883604560794,
          0.37433745512555083,
          0.3535297527435073,
          0.3686017474480219,
          0.3738152173090261,
          0.3692001077616523,
          0.3683810195820983,
          0.3659911279287199
         ],
         "yaxis": "y"
        },
        {
         "hoverinfo": "name+y+x",
         "hovertemplate": "district=14<br>Academic Year=%{x}<br>M Index=%{y}<extra></extra>",
         "legendgroup": "14",
         "line": {
          "color": "#EF553B",
          "dash": "solid"
         },
         "marker": {
          "symbol": "circle"
         },
         "mode": "markers+lines",
         "name": "14",
         "orientation": "v",
         "showlegend": true,
         "type": "scatter",
         "x": [
          2005,
          2006,
          2007,
          2008,
          2009,
          2010,
          2011,
          2013,
          2014,
          2015,
          2016,
          2017,
          2018,
          2019,
          2020,
          2021,
          2022
         ],
         "xaxis": "x",
         "y": [
          0.19272247591198968,
          0.19713958677103477,
          0.1976623996986494,
          0.2094353189358103,
          0.2085813572136243,
          0.20933582071342038,
          0.21120784614613294,
          0.21355961982465776,
          0.21443485621616626,
          0.21382263820144046,
          0.23477749346550264,
          0.22923154326264555,
          0.24087546823710992,
          0.24468065474934048,
          0.24204247220189315,
          0.23490223395542703,
          0.24220991151894544
         ],
         "yaxis": "y"
        },
        {
         "hoverinfo": "name+y+x",
         "hovertemplate": "district=15<br>Academic Year=%{x}<br>M Index=%{y}<extra></extra>",
         "legendgroup": "15",
         "line": {
          "color": "#00cc96",
          "dash": "solid"
         },
         "marker": {
          "symbol": "circle"
         },
         "mode": "markers+lines",
         "name": "15",
         "orientation": "v",
         "showlegend": true,
         "type": "scatter",
         "x": [
          2005,
          2006,
          2007,
          2008,
          2009,
          2010,
          2011,
          2013,
          2014,
          2015,
          2016,
          2017,
          2018,
          2019,
          2020,
          2021,
          2022
         ],
         "xaxis": "x",
         "y": [
          0.2865549872195155,
          0.29208176713868333,
          0.300295788960358,
          0.31097563699846464,
          0.32904482017291714,
          0.3375663686699192,
          0.3446829714032859,
          0.3657326830787514,
          0.37639117802141436,
          0.37856629814638165,
          0.39247259931358003,
          0.37389592522115545,
          0.3842999621830102,
          0.359836381917956,
          0.34609397792252566,
          0.3269872428525331,
          0.32671196320141294
         ],
         "yaxis": "y"
        },
        {
         "hoverinfo": "name+y+x",
         "hovertemplate": "district=16<br>Academic Year=%{x}<br>M Index=%{y}<extra></extra>",
         "legendgroup": "16",
         "line": {
          "color": "#ab63fa",
          "dash": "solid"
         },
         "marker": {
          "symbol": "circle"
         },
         "mode": "markers+lines",
         "name": "16",
         "orientation": "v",
         "showlegend": true,
         "type": "scatter",
         "x": [
          2005,
          2006,
          2007,
          2008,
          2009,
          2010,
          2011,
          2013,
          2014,
          2015,
          2016,
          2017,
          2018,
          2019,
          2020,
          2021,
          2022
         ],
         "xaxis": "x",
         "y": [
          0.020719159049112635,
          0.02052080290679273,
          0.021997398583726326,
          0.023029870619601676,
          0.024725173534607018,
          0.02862150523753662,
          0.027384571827107174,
          0.02795329447464269,
          0.035920353044714526,
          0.04336961214239158,
          0.050054013016492586,
          0.03972501936982636,
          0.0442977725299489,
          0.04586710598104127,
          0.056557050471347306,
          0.05282432367097337,
          0.07474415443428639
         ],
         "yaxis": "y"
        },
        {
         "hoverinfo": "name+y+x",
         "hovertemplate": "district=17<br>Academic Year=%{x}<br>M Index=%{y}<extra></extra>",
         "legendgroup": "17",
         "line": {
          "color": "#FFA15A",
          "dash": "solid"
         },
         "marker": {
          "symbol": "circle"
         },
         "mode": "markers+lines",
         "name": "17",
         "orientation": "v",
         "showlegend": true,
         "type": "scatter",
         "x": [
          2005,
          2006,
          2007,
          2008,
          2009,
          2010,
          2011,
          2013,
          2014,
          2015,
          2016,
          2017,
          2018,
          2019,
          2020,
          2021,
          2022
         ],
         "xaxis": "x",
         "y": [
          0.03407335406547882,
          0.036974754864933575,
          0.041879331506245274,
          0.04573743833518965,
          0.04818625378479872,
          0.08020845094836873,
          0.05264270348379819,
          0.07304893641224657,
          0.0691272712523325,
          0.07132900300357692,
          0.08148498715863856,
          0.0724108981133744,
          0.07719907106977489,
          0.0774984215211,
          0.07138383420466451,
          0.07593512288530288,
          0.0960435454579889
         ],
         "yaxis": "y"
        },
        {
         "hoverinfo": "name+y+x",
         "hovertemplate": "district=18<br>Academic Year=%{x}<br>M Index=%{y}<extra></extra>",
         "legendgroup": "18",
         "line": {
          "color": "#19d3f3",
          "dash": "solid"
         },
         "marker": {
          "symbol": "circle"
         },
         "mode": "markers+lines",
         "name": "18",
         "orientation": "v",
         "showlegend": true,
         "type": "scatter",
         "x": [
          2005,
          2006,
          2007,
          2008,
          2009,
          2010,
          2011,
          2013,
          2014,
          2015,
          2016,
          2017,
          2018,
          2019,
          2020,
          2021,
          2022
         ],
         "xaxis": "x",
         "y": [
          0.015060545042281154,
          0.016270489132571394,
          0.01773756367663486,
          0.017734894170119773,
          0.016740407325454065,
          0.017943572172338176,
          0.01667185514880504,
          0.01743439709277188,
          0.020052778375308767,
          0.02153840558629657,
          0.030144066626113387,
          0.02048627511605342,
          0.027023698395964364,
          0.026031497421144488,
          0.03280073152565775,
          0.03521917650259216,
          0.05066793632013687
         ],
         "yaxis": "y"
        },
        {
         "hoverinfo": "name+y+x",
         "hovertemplate": "district=19<br>Academic Year=%{x}<br>M Index=%{y}<extra></extra>",
         "legendgroup": "19",
         "line": {
          "color": "#FF6692",
          "dash": "solid"
         },
         "marker": {
          "symbol": "circle"
         },
         "mode": "markers+lines",
         "name": "19",
         "orientation": "v",
         "showlegend": true,
         "type": "scatter",
         "x": [
          2005,
          2006,
          2007,
          2008,
          2009,
          2010,
          2011,
          2013,
          2014,
          2015,
          2016,
          2017,
          2018,
          2019,
          2020,
          2021,
          2022
         ],
         "xaxis": "x",
         "y": [
          0.13148341736036562,
          0.1399627742323469,
          0.14625944967095422,
          0.15377855658318051,
          0.1659417534627024,
          0.16991660328768898,
          0.1803934825557288,
          0.1892246728203912,
          0.19377305526902983,
          0.1878545168158691,
          0.194719093829251,
          0.19606261766230898,
          0.20343703540632338,
          0.20664300838135988,
          0.21882389168998873,
          0.22398888656233348,
          0.2369114275749577
         ],
         "yaxis": "y"
        },
        {
         "hoverinfo": "name+y+x",
         "hovertemplate": "district=20<br>Academic Year=%{x}<br>M Index=%{y}<extra></extra>",
         "legendgroup": "20",
         "line": {
          "color": "#B6E880",
          "dash": "solid"
         },
         "marker": {
          "symbol": "circle"
         },
         "mode": "markers+lines",
         "name": "20",
         "orientation": "v",
         "showlegend": true,
         "type": "scatter",
         "x": [
          2005,
          2006,
          2007,
          2008,
          2009,
          2010,
          2011,
          2013,
          2014,
          2015,
          2016,
          2017,
          2018,
          2019,
          2020,
          2021,
          2022
         ],
         "xaxis": "x",
         "y": [
          0.14517468966415575,
          0.13977688455977272,
          0.14497316907700591,
          0.14725865169761437,
          0.150103175758443,
          0.15141549736164,
          0.15810161673584294,
          0.161810302526797,
          0.15814790543980822,
          0.15686979645189256,
          0.15308027447685837,
          0.14337682980605854,
          0.1447050800150518,
          0.14118715051461703,
          0.13367474921899514,
          0.13109302511165247,
          0.139332248931836
         ],
         "yaxis": "y"
        },
        {
         "hoverinfo": "name+y+x",
         "hovertemplate": "district=21<br>Academic Year=%{x}<br>M Index=%{y}<extra></extra>",
         "legendgroup": "21",
         "line": {
          "color": "#FF97FF",
          "dash": "solid"
         },
         "marker": {
          "symbol": "circle"
         },
         "mode": "markers+lines",
         "name": "21",
         "orientation": "v",
         "showlegend": true,
         "type": "scatter",
         "x": [
          2005,
          2006,
          2007,
          2008,
          2009,
          2010,
          2011,
          2013,
          2014,
          2015,
          2016,
          2017,
          2018,
          2019,
          2020,
          2021,
          2022
         ],
         "xaxis": "x",
         "y": [
          0.16145095687596112,
          0.16525277059335236,
          0.1722321441082686,
          0.17847624238810433,
          0.17856719135415816,
          0.17779994359914603,
          0.17839293150559515,
          0.16822959311260322,
          0.17152406407587173,
          0.17656367021708952,
          0.1856154222953057,
          0.17489548682331088,
          0.17752101502036444,
          0.17234064810723543,
          0.16797626465592624,
          0.15830081798879767,
          0.15953092241466602
         ],
         "yaxis": "y"
        },
        {
         "hoverinfo": "name+y+x",
         "hovertemplate": "district=22<br>Academic Year=%{x}<br>M Index=%{y}<extra></extra>",
         "legendgroup": "22",
         "line": {
          "color": "#FECB52",
          "dash": "solid"
         },
         "marker": {
          "symbol": "circle"
         },
         "mode": "markers+lines",
         "name": "22",
         "orientation": "v",
         "showlegend": true,
         "type": "scatter",
         "x": [
          2005,
          2006,
          2007,
          2008,
          2009,
          2010,
          2011,
          2013,
          2014,
          2015,
          2016,
          2017,
          2018,
          2019,
          2020,
          2021,
          2022
         ],
         "xaxis": "x",
         "y": [
          0.21403687755300912,
          0.22241903717547898,
          0.2325931462031504,
          0.24184315626687303,
          0.24211351414298948,
          0.25309403150427656,
          0.2512031757257164,
          0.25511509336762866,
          0.24687861927611215,
          0.23891673549759185,
          0.23155611191197997,
          0.2224461600559496,
          0.2255459226325629,
          0.22308886569419437,
          0.20988939472657275,
          0.2042494301162069,
          0.20205480651529995
         ],
         "yaxis": "y"
        },
        {
         "hoverinfo": "name+y+x",
         "hovertemplate": "district=23<br>Academic Year=%{x}<br>M Index=%{y}<extra></extra>",
         "legendgroup": "23",
         "line": {
          "color": "#636efa",
          "dash": "solid"
         },
         "marker": {
          "symbol": "circle"
         },
         "mode": "markers+lines",
         "name": "23",
         "orientation": "v",
         "showlegend": true,
         "type": "scatter",
         "x": [
          2005,
          2006,
          2007,
          2008,
          2009,
          2010,
          2011,
          2013,
          2014,
          2015,
          2016,
          2017,
          2018,
          2019,
          2020,
          2021,
          2022
         ],
         "xaxis": "x",
         "y": [
          0.02690568477625338,
          0.029453750055630484,
          0.02954420272838707,
          0.02833142257826842,
          0.02654839177676578,
          0.026688813862857087,
          0.02535722696493009,
          0.03337052407947982,
          0.03689148428892488,
          0.03718180707380665,
          0.043475409594812414,
          0.036004610900479996,
          0.0430694472294446,
          0.04006159853121448,
          0.04055411837573548,
          0.045157210259762055,
          0.05415046162616968
         ],
         "yaxis": "y"
        },
        {
         "hoverinfo": "name+y+x",
         "hovertemplate": "district=32<br>Academic Year=%{x}<br>M Index=%{y}<extra></extra>",
         "legendgroup": "32",
         "line": {
          "color": "#EF553B",
          "dash": "solid"
         },
         "marker": {
          "symbol": "circle"
         },
         "mode": "markers+lines",
         "name": "32",
         "orientation": "v",
         "showlegend": true,
         "type": "scatter",
         "x": [
          2005,
          2006,
          2007,
          2008,
          2009,
          2010,
          2011,
          2013,
          2014,
          2015,
          2016,
          2017,
          2018,
          2019,
          2020,
          2021,
          2022
         ],
         "xaxis": "x",
         "y": [
          0.10500063749823109,
          0.10723186531397592,
          0.11246746028633382,
          0.1160792009684353,
          0.11295406886508748,
          0.10649865070337519,
          0.0976615656111825,
          0.09994771785452337,
          0.09674088814612958,
          0.09483158343539681,
          0.0878817899913817,
          0.08263887494425559,
          0.08724819457116476,
          0.07701892513680308,
          0.07737556429202712,
          0.0722242988171809,
          0.08079187072346958
         ],
         "yaxis": "y"
        }
       ],
       "layout": {
        "hovermode": "closest",
        "legend": {
         "font": {
          "size": 12
         },
         "title": {
          "font": {
           "size": 16
          },
          "text": "District"
         },
         "tracegroupgap": 0,
         "x": 0.01,
         "xanchor": "left",
         "y": 0.99,
         "yanchor": "top"
        },
        "plot_bgcolor": "white",
        "template": {
         "data": {
          "bar": [
           {
            "error_x": {
             "color": "#2a3f5f"
            },
            "error_y": {
             "color": "#2a3f5f"
            },
            "marker": {
             "line": {
              "color": "#E5ECF6",
              "width": 0.5
             },
             "pattern": {
              "fillmode": "overlay",
              "size": 10,
              "solidity": 0.2
             }
            },
            "type": "bar"
           }
          ],
          "barpolar": [
           {
            "marker": {
             "line": {
              "color": "#E5ECF6",
              "width": 0.5
             },
             "pattern": {
              "fillmode": "overlay",
              "size": 10,
              "solidity": 0.2
             }
            },
            "type": "barpolar"
           }
          ],
          "carpet": [
           {
            "aaxis": {
             "endlinecolor": "#2a3f5f",
             "gridcolor": "white",
             "linecolor": "white",
             "minorgridcolor": "white",
             "startlinecolor": "#2a3f5f"
            },
            "baxis": {
             "endlinecolor": "#2a3f5f",
             "gridcolor": "white",
             "linecolor": "white",
             "minorgridcolor": "white",
             "startlinecolor": "#2a3f5f"
            },
            "type": "carpet"
           }
          ],
          "choropleth": [
           {
            "colorbar": {
             "outlinewidth": 0,
             "ticks": ""
            },
            "type": "choropleth"
           }
          ],
          "contour": [
           {
            "colorbar": {
             "outlinewidth": 0,
             "ticks": ""
            },
            "colorscale": [
             [
              0,
              "#0d0887"
             ],
             [
              0.1111111111111111,
              "#46039f"
             ],
             [
              0.2222222222222222,
              "#7201a8"
             ],
             [
              0.3333333333333333,
              "#9c179e"
             ],
             [
              0.4444444444444444,
              "#bd3786"
             ],
             [
              0.5555555555555556,
              "#d8576b"
             ],
             [
              0.6666666666666666,
              "#ed7953"
             ],
             [
              0.7777777777777778,
              "#fb9f3a"
             ],
             [
              0.8888888888888888,
              "#fdca26"
             ],
             [
              1,
              "#f0f921"
             ]
            ],
            "type": "contour"
           }
          ],
          "contourcarpet": [
           {
            "colorbar": {
             "outlinewidth": 0,
             "ticks": ""
            },
            "type": "contourcarpet"
           }
          ],
          "heatmap": [
           {
            "colorbar": {
             "outlinewidth": 0,
             "ticks": ""
            },
            "colorscale": [
             [
              0,
              "#0d0887"
             ],
             [
              0.1111111111111111,
              "#46039f"
             ],
             [
              0.2222222222222222,
              "#7201a8"
             ],
             [
              0.3333333333333333,
              "#9c179e"
             ],
             [
              0.4444444444444444,
              "#bd3786"
             ],
             [
              0.5555555555555556,
              "#d8576b"
             ],
             [
              0.6666666666666666,
              "#ed7953"
             ],
             [
              0.7777777777777778,
              "#fb9f3a"
             ],
             [
              0.8888888888888888,
              "#fdca26"
             ],
             [
              1,
              "#f0f921"
             ]
            ],
            "type": "heatmap"
           }
          ],
          "heatmapgl": [
           {
            "colorbar": {
             "outlinewidth": 0,
             "ticks": ""
            },
            "colorscale": [
             [
              0,
              "#0d0887"
             ],
             [
              0.1111111111111111,
              "#46039f"
             ],
             [
              0.2222222222222222,
              "#7201a8"
             ],
             [
              0.3333333333333333,
              "#9c179e"
             ],
             [
              0.4444444444444444,
              "#bd3786"
             ],
             [
              0.5555555555555556,
              "#d8576b"
             ],
             [
              0.6666666666666666,
              "#ed7953"
             ],
             [
              0.7777777777777778,
              "#fb9f3a"
             ],
             [
              0.8888888888888888,
              "#fdca26"
             ],
             [
              1,
              "#f0f921"
             ]
            ],
            "type": "heatmapgl"
           }
          ],
          "histogram": [
           {
            "marker": {
             "pattern": {
              "fillmode": "overlay",
              "size": 10,
              "solidity": 0.2
             }
            },
            "type": "histogram"
           }
          ],
          "histogram2d": [
           {
            "colorbar": {
             "outlinewidth": 0,
             "ticks": ""
            },
            "colorscale": [
             [
              0,
              "#0d0887"
             ],
             [
              0.1111111111111111,
              "#46039f"
             ],
             [
              0.2222222222222222,
              "#7201a8"
             ],
             [
              0.3333333333333333,
              "#9c179e"
             ],
             [
              0.4444444444444444,
              "#bd3786"
             ],
             [
              0.5555555555555556,
              "#d8576b"
             ],
             [
              0.6666666666666666,
              "#ed7953"
             ],
             [
              0.7777777777777778,
              "#fb9f3a"
             ],
             [
              0.8888888888888888,
              "#fdca26"
             ],
             [
              1,
              "#f0f921"
             ]
            ],
            "type": "histogram2d"
           }
          ],
          "histogram2dcontour": [
           {
            "colorbar": {
             "outlinewidth": 0,
             "ticks": ""
            },
            "colorscale": [
             [
              0,
              "#0d0887"
             ],
             [
              0.1111111111111111,
              "#46039f"
             ],
             [
              0.2222222222222222,
              "#7201a8"
             ],
             [
              0.3333333333333333,
              "#9c179e"
             ],
             [
              0.4444444444444444,
              "#bd3786"
             ],
             [
              0.5555555555555556,
              "#d8576b"
             ],
             [
              0.6666666666666666,
              "#ed7953"
             ],
             [
              0.7777777777777778,
              "#fb9f3a"
             ],
             [
              0.8888888888888888,
              "#fdca26"
             ],
             [
              1,
              "#f0f921"
             ]
            ],
            "type": "histogram2dcontour"
           }
          ],
          "mesh3d": [
           {
            "colorbar": {
             "outlinewidth": 0,
             "ticks": ""
            },
            "type": "mesh3d"
           }
          ],
          "parcoords": [
           {
            "line": {
             "colorbar": {
              "outlinewidth": 0,
              "ticks": ""
             }
            },
            "type": "parcoords"
           }
          ],
          "pie": [
           {
            "automargin": true,
            "type": "pie"
           }
          ],
          "scatter": [
           {
            "fillpattern": {
             "fillmode": "overlay",
             "size": 10,
             "solidity": 0.2
            },
            "type": "scatter"
           }
          ],
          "scatter3d": [
           {
            "line": {
             "colorbar": {
              "outlinewidth": 0,
              "ticks": ""
             }
            },
            "marker": {
             "colorbar": {
              "outlinewidth": 0,
              "ticks": ""
             }
            },
            "type": "scatter3d"
           }
          ],
          "scattercarpet": [
           {
            "marker": {
             "colorbar": {
              "outlinewidth": 0,
              "ticks": ""
             }
            },
            "type": "scattercarpet"
           }
          ],
          "scattergeo": [
           {
            "marker": {
             "colorbar": {
              "outlinewidth": 0,
              "ticks": ""
             }
            },
            "type": "scattergeo"
           }
          ],
          "scattergl": [
           {
            "marker": {
             "colorbar": {
              "outlinewidth": 0,
              "ticks": ""
             }
            },
            "type": "scattergl"
           }
          ],
          "scattermapbox": [
           {
            "marker": {
             "colorbar": {
              "outlinewidth": 0,
              "ticks": ""
             }
            },
            "type": "scattermapbox"
           }
          ],
          "scatterpolar": [
           {
            "marker": {
             "colorbar": {
              "outlinewidth": 0,
              "ticks": ""
             }
            },
            "type": "scatterpolar"
           }
          ],
          "scatterpolargl": [
           {
            "marker": {
             "colorbar": {
              "outlinewidth": 0,
              "ticks": ""
             }
            },
            "type": "scatterpolargl"
           }
          ],
          "scatterternary": [
           {
            "marker": {
             "colorbar": {
              "outlinewidth": 0,
              "ticks": ""
             }
            },
            "type": "scatterternary"
           }
          ],
          "surface": [
           {
            "colorbar": {
             "outlinewidth": 0,
             "ticks": ""
            },
            "colorscale": [
             [
              0,
              "#0d0887"
             ],
             [
              0.1111111111111111,
              "#46039f"
             ],
             [
              0.2222222222222222,
              "#7201a8"
             ],
             [
              0.3333333333333333,
              "#9c179e"
             ],
             [
              0.4444444444444444,
              "#bd3786"
             ],
             [
              0.5555555555555556,
              "#d8576b"
             ],
             [
              0.6666666666666666,
              "#ed7953"
             ],
             [
              0.7777777777777778,
              "#fb9f3a"
             ],
             [
              0.8888888888888888,
              "#fdca26"
             ],
             [
              1,
              "#f0f921"
             ]
            ],
            "type": "surface"
           }
          ],
          "table": [
           {
            "cells": {
             "fill": {
              "color": "#EBF0F8"
             },
             "line": {
              "color": "white"
             }
            },
            "header": {
             "fill": {
              "color": "#C8D4E3"
             },
             "line": {
              "color": "white"
             }
            },
            "type": "table"
           }
          ]
         },
         "layout": {
          "annotationdefaults": {
           "arrowcolor": "#2a3f5f",
           "arrowhead": 0,
           "arrowwidth": 1
          },
          "autotypenumbers": "strict",
          "coloraxis": {
           "colorbar": {
            "outlinewidth": 0,
            "ticks": ""
           }
          },
          "colorscale": {
           "diverging": [
            [
             0,
             "#8e0152"
            ],
            [
             0.1,
             "#c51b7d"
            ],
            [
             0.2,
             "#de77ae"
            ],
            [
             0.3,
             "#f1b6da"
            ],
            [
             0.4,
             "#fde0ef"
            ],
            [
             0.5,
             "#f7f7f7"
            ],
            [
             0.6,
             "#e6f5d0"
            ],
            [
             0.7,
             "#b8e186"
            ],
            [
             0.8,
             "#7fbc41"
            ],
            [
             0.9,
             "#4d9221"
            ],
            [
             1,
             "#276419"
            ]
           ],
           "sequential": [
            [
             0,
             "#0d0887"
            ],
            [
             0.1111111111111111,
             "#46039f"
            ],
            [
             0.2222222222222222,
             "#7201a8"
            ],
            [
             0.3333333333333333,
             "#9c179e"
            ],
            [
             0.4444444444444444,
             "#bd3786"
            ],
            [
             0.5555555555555556,
             "#d8576b"
            ],
            [
             0.6666666666666666,
             "#ed7953"
            ],
            [
             0.7777777777777778,
             "#fb9f3a"
            ],
            [
             0.8888888888888888,
             "#fdca26"
            ],
            [
             1,
             "#f0f921"
            ]
           ],
           "sequentialminus": [
            [
             0,
             "#0d0887"
            ],
            [
             0.1111111111111111,
             "#46039f"
            ],
            [
             0.2222222222222222,
             "#7201a8"
            ],
            [
             0.3333333333333333,
             "#9c179e"
            ],
            [
             0.4444444444444444,
             "#bd3786"
            ],
            [
             0.5555555555555556,
             "#d8576b"
            ],
            [
             0.6666666666666666,
             "#ed7953"
            ],
            [
             0.7777777777777778,
             "#fb9f3a"
            ],
            [
             0.8888888888888888,
             "#fdca26"
            ],
            [
             1,
             "#f0f921"
            ]
           ]
          },
          "colorway": [
           "#636efa",
           "#EF553B",
           "#00cc96",
           "#ab63fa",
           "#FFA15A",
           "#19d3f3",
           "#FF6692",
           "#B6E880",
           "#FF97FF",
           "#FECB52"
          ],
          "font": {
           "color": "#2a3f5f"
          },
          "geo": {
           "bgcolor": "white",
           "lakecolor": "white",
           "landcolor": "#E5ECF6",
           "showlakes": true,
           "showland": true,
           "subunitcolor": "white"
          },
          "hoverlabel": {
           "align": "left"
          },
          "hovermode": "closest",
          "mapbox": {
           "style": "light"
          },
          "paper_bgcolor": "white",
          "plot_bgcolor": "#E5ECF6",
          "polar": {
           "angularaxis": {
            "gridcolor": "white",
            "linecolor": "white",
            "ticks": ""
           },
           "bgcolor": "#E5ECF6",
           "radialaxis": {
            "gridcolor": "white",
            "linecolor": "white",
            "ticks": ""
           }
          },
          "scene": {
           "xaxis": {
            "backgroundcolor": "#E5ECF6",
            "gridcolor": "white",
            "gridwidth": 2,
            "linecolor": "white",
            "showbackground": true,
            "ticks": "",
            "zerolinecolor": "white"
           },
           "yaxis": {
            "backgroundcolor": "#E5ECF6",
            "gridcolor": "white",
            "gridwidth": 2,
            "linecolor": "white",
            "showbackground": true,
            "ticks": "",
            "zerolinecolor": "white"
           },
           "zaxis": {
            "backgroundcolor": "#E5ECF6",
            "gridcolor": "white",
            "gridwidth": 2,
            "linecolor": "white",
            "showbackground": true,
            "ticks": "",
            "zerolinecolor": "white"
           }
          },
          "shapedefaults": {
           "line": {
            "color": "#2a3f5f"
           }
          },
          "ternary": {
           "aaxis": {
            "gridcolor": "white",
            "linecolor": "white",
            "ticks": ""
           },
           "baxis": {
            "gridcolor": "white",
            "linecolor": "white",
            "ticks": ""
           },
           "bgcolor": "#E5ECF6",
           "caxis": {
            "gridcolor": "white",
            "linecolor": "white",
            "ticks": ""
           }
          },
          "title": {
           "x": 0.05
          },
          "xaxis": {
           "automargin": true,
           "gridcolor": "white",
           "linecolor": "white",
           "ticks": "",
           "title": {
            "standoff": 15
           },
           "zerolinecolor": "white",
           "zerolinewidth": 2
          },
          "yaxis": {
           "automargin": true,
           "gridcolor": "white",
           "linecolor": "white",
           "ticks": "",
           "title": {
            "standoff": 15
           },
           "zerolinecolor": "white",
           "zerolinewidth": 2
          }
         }
        },
        "title": {
         "text": "Thiel's M Index, Brooklyn Schools"
        },
        "xaxis": {
         "anchor": "y",
         "domain": [
          0,
          1
         ],
         "title": {
          "text": "Academic Year"
         }
        },
        "yaxis": {
         "anchor": "x",
         "domain": [
          0,
          1
         ],
         "title": {
          "text": "M Index"
         }
        }
       }
      }
     },
     "metadata": {},
     "output_type": "display_data"
    }
   ],
   "source": [
    "bk = demos[demos.boro == 'Brooklyn'][\"district\"].unique()\n",
    "bk = sorted([x for x in bk if x <33])\n",
    "\n",
    "graph_data = m_data[m_data.district.isin(bk)]\n",
    "graph_data.sort_values(by=[\"district\", \"ay\"], inplace=True)\n",
    "\n",
    "\n",
    "fig = px.line(graph_data, x='ay', y='M', color='district', markers=True,\n",
    "              labels={\n",
    "                  \"ay\": \"Academic Year\",\n",
    "                  \"M\": \"M Index\"\n",
    "              },\n",
    "              title=\"Thiel's M Index, Brooklyn Schools\")\n",
    "\n",
    "fig.update_traces(mode=\"markers+lines\", hoverinfo=\"name+y+x\")\n",
    "\n",
    "fig.update_layout(\n",
    "    hovermode=\"closest\",\n",
    "    plot_bgcolor=\"white\",\n",
    "    legend_title_text='District',\n",
    "    xaxis=dict(title='Academic Year'),\n",
    "    yaxis=dict(title='M Index'),\n",
    "    legend=dict(\n",
    "        title_font_size=16,\n",
    "        font_size=12,\n",
    "        yanchor=\"top\",\n",
    "        y=0.99,\n",
    "        xanchor=\"left\",\n",
    "        x=0.01\n",
    "    )\n",
    ")\n",
    "\n",
    "fig.show()"
   ]
  },
  {
   "cell_type": "code",
   "execution_count": 5,
   "metadata": {},
   "outputs": [
    {
     "data": {
      "application/vnd.plotly.v1+json": {
       "config": {
        "plotlyServerURL": "https://plot.ly"
       },
       "data": [
        {
         "alignmentgroup": "True",
         "customdata": [
          [
           0.27448912842992007,
           "2005"
          ],
          [
           0.19272247591198968,
           "2005"
          ],
          [
           0.2865549872195155,
           "2005"
          ],
          [
           0.020719159049112635,
           "2005"
          ],
          [
           0.03407335406547882,
           "2005"
          ],
          [
           0.015060545042281154,
           "2005"
          ],
          [
           0.13148341736036562,
           "2005"
          ],
          [
           0.14517468966415575,
           "2005"
          ],
          [
           0.16145095687596112,
           "2005"
          ],
          [
           0.21403687755300912,
           "2005"
          ],
          [
           0.02690568477625338,
           "2005"
          ],
          [
           0.10500063749823109,
           "2005"
          ]
         ],
         "hovertemplate": "District: %{x}<br>AY: %{customdata[1]}<br>Percentage: %{y:.2f}%<br>M Index: %{customdata[0]:.2f}",
         "legendgroup": "2005",
         "marker": {
          "color": "#636efa",
          "pattern": {
           "shape": ""
          }
         },
         "name": "2005",
         "offsetgroup": "2005",
         "orientation": "v",
         "showlegend": true,
         "text": [
          "M (0.27)",
          "M (0.19)",
          "M (0.29)",
          "M (0.02)",
          "M (0.03)",
          "M (0.02)",
          "M (0.13)",
          "M (0.15)",
          "M (0.16)",
          "M (0.21)",
          "M (0.03)",
          "M (0.11)"
         ],
         "textposition": "auto",
         "type": "bar",
         "x": [
          "13",
          "14",
          "15",
          "16",
          "17",
          "18",
          "19",
          "20",
          "21",
          "22",
          "23",
          "32"
         ],
         "xaxis": "x",
         "y": [
          90.6195540538269,
          88.73585110430736,
          73.1127376901356,
          96.24758244665205,
          95.18101845466585,
          96.7626560497233,
          93.95937264319274,
          29.89701440108353,
          43.20606786543141,
          62.387389641509586,
          97.61838585233784,
          96.37815776846999
         ],
         "yaxis": "y"
        },
        {
         "alignmentgroup": "True",
         "customdata": [
          [
           0.3659911279287199,
           "2022"
          ],
          [
           0.24220991151894544,
           "2022"
          ],
          [
           0.32671196320141294,
           "2022"
          ],
          [
           0.07474415443428639,
           "2022"
          ],
          [
           0.0960435454579889,
           "2022"
          ],
          [
           0.05066793632013687,
           "2022"
          ],
          [
           0.2369114275749577,
           "2022"
          ],
          [
           0.139332248931836,
           "2022"
          ],
          [
           0.15953092241466602,
           "2022"
          ],
          [
           0.20205480651529995,
           "2022"
          ],
          [
           0.05415046162616968,
           "2022"
          ],
          [
           0.08079187072346958,
           "2022"
          ]
         ],
         "hovertemplate": "District: %{x}<br>AY: %{customdata[1]}<br>Percentage: %{y:.2f}%<br>M Index: %{customdata[0]:.2f}",
         "legendgroup": "2022",
         "marker": {
          "color": "#EF553B",
          "pattern": {
           "shape": ""
          }
         },
         "name": "2022",
         "offsetgroup": "2022",
         "orientation": "v",
         "showlegend": true,
         "text": [
          "M (0.37)",
          "M (0.24)",
          "M (0.33)",
          "M (0.07)",
          "M (0.10)",
          "M (0.05)",
          "M (0.24)",
          "M (0.14)",
          "M (0.16)",
          "M (0.20)",
          "M (0.05)",
          "M (0.08)"
         ],
         "textposition": "auto",
         "type": "bar",
         "x": [
          "13",
          "14",
          "15",
          "16",
          "17",
          "18",
          "19",
          "20",
          "21",
          "22",
          "23",
          "32"
         ],
         "xaxis": "x",
         "y": [
          75.25846327659151,
          79.06109207624034,
          53.23726409332308,
          89.7530656325923,
          88.66796426960344,
          89.73895896392588,
          87.32267533303623,
          32.09765065029952,
          42.57619284927092,
          49.571952426639,
          94.13550607543011,
          92.88270197390734
         ],
         "yaxis": "y"
        }
       ],
       "layout": {
        "barmode": "group",
        "legend": {
         "title": {
          "text": "Academic Year"
         },
         "tracegroupgap": 0
        },
        "template": {
         "data": {
          "bar": [
           {
            "error_x": {
             "color": "#2a3f5f"
            },
            "error_y": {
             "color": "#2a3f5f"
            },
            "marker": {
             "line": {
              "color": "#E5ECF6",
              "width": 0.5
             },
             "pattern": {
              "fillmode": "overlay",
              "size": 10,
              "solidity": 0.2
             }
            },
            "type": "bar"
           }
          ],
          "barpolar": [
           {
            "marker": {
             "line": {
              "color": "#E5ECF6",
              "width": 0.5
             },
             "pattern": {
              "fillmode": "overlay",
              "size": 10,
              "solidity": 0.2
             }
            },
            "type": "barpolar"
           }
          ],
          "carpet": [
           {
            "aaxis": {
             "endlinecolor": "#2a3f5f",
             "gridcolor": "white",
             "linecolor": "white",
             "minorgridcolor": "white",
             "startlinecolor": "#2a3f5f"
            },
            "baxis": {
             "endlinecolor": "#2a3f5f",
             "gridcolor": "white",
             "linecolor": "white",
             "minorgridcolor": "white",
             "startlinecolor": "#2a3f5f"
            },
            "type": "carpet"
           }
          ],
          "choropleth": [
           {
            "colorbar": {
             "outlinewidth": 0,
             "ticks": ""
            },
            "type": "choropleth"
           }
          ],
          "contour": [
           {
            "colorbar": {
             "outlinewidth": 0,
             "ticks": ""
            },
            "colorscale": [
             [
              0,
              "#0d0887"
             ],
             [
              0.1111111111111111,
              "#46039f"
             ],
             [
              0.2222222222222222,
              "#7201a8"
             ],
             [
              0.3333333333333333,
              "#9c179e"
             ],
             [
              0.4444444444444444,
              "#bd3786"
             ],
             [
              0.5555555555555556,
              "#d8576b"
             ],
             [
              0.6666666666666666,
              "#ed7953"
             ],
             [
              0.7777777777777778,
              "#fb9f3a"
             ],
             [
              0.8888888888888888,
              "#fdca26"
             ],
             [
              1,
              "#f0f921"
             ]
            ],
            "type": "contour"
           }
          ],
          "contourcarpet": [
           {
            "colorbar": {
             "outlinewidth": 0,
             "ticks": ""
            },
            "type": "contourcarpet"
           }
          ],
          "heatmap": [
           {
            "colorbar": {
             "outlinewidth": 0,
             "ticks": ""
            },
            "colorscale": [
             [
              0,
              "#0d0887"
             ],
             [
              0.1111111111111111,
              "#46039f"
             ],
             [
              0.2222222222222222,
              "#7201a8"
             ],
             [
              0.3333333333333333,
              "#9c179e"
             ],
             [
              0.4444444444444444,
              "#bd3786"
             ],
             [
              0.5555555555555556,
              "#d8576b"
             ],
             [
              0.6666666666666666,
              "#ed7953"
             ],
             [
              0.7777777777777778,
              "#fb9f3a"
             ],
             [
              0.8888888888888888,
              "#fdca26"
             ],
             [
              1,
              "#f0f921"
             ]
            ],
            "type": "heatmap"
           }
          ],
          "heatmapgl": [
           {
            "colorbar": {
             "outlinewidth": 0,
             "ticks": ""
            },
            "colorscale": [
             [
              0,
              "#0d0887"
             ],
             [
              0.1111111111111111,
              "#46039f"
             ],
             [
              0.2222222222222222,
              "#7201a8"
             ],
             [
              0.3333333333333333,
              "#9c179e"
             ],
             [
              0.4444444444444444,
              "#bd3786"
             ],
             [
              0.5555555555555556,
              "#d8576b"
             ],
             [
              0.6666666666666666,
              "#ed7953"
             ],
             [
              0.7777777777777778,
              "#fb9f3a"
             ],
             [
              0.8888888888888888,
              "#fdca26"
             ],
             [
              1,
              "#f0f921"
             ]
            ],
            "type": "heatmapgl"
           }
          ],
          "histogram": [
           {
            "marker": {
             "pattern": {
              "fillmode": "overlay",
              "size": 10,
              "solidity": 0.2
             }
            },
            "type": "histogram"
           }
          ],
          "histogram2d": [
           {
            "colorbar": {
             "outlinewidth": 0,
             "ticks": ""
            },
            "colorscale": [
             [
              0,
              "#0d0887"
             ],
             [
              0.1111111111111111,
              "#46039f"
             ],
             [
              0.2222222222222222,
              "#7201a8"
             ],
             [
              0.3333333333333333,
              "#9c179e"
             ],
             [
              0.4444444444444444,
              "#bd3786"
             ],
             [
              0.5555555555555556,
              "#d8576b"
             ],
             [
              0.6666666666666666,
              "#ed7953"
             ],
             [
              0.7777777777777778,
              "#fb9f3a"
             ],
             [
              0.8888888888888888,
              "#fdca26"
             ],
             [
              1,
              "#f0f921"
             ]
            ],
            "type": "histogram2d"
           }
          ],
          "histogram2dcontour": [
           {
            "colorbar": {
             "outlinewidth": 0,
             "ticks": ""
            },
            "colorscale": [
             [
              0,
              "#0d0887"
             ],
             [
              0.1111111111111111,
              "#46039f"
             ],
             [
              0.2222222222222222,
              "#7201a8"
             ],
             [
              0.3333333333333333,
              "#9c179e"
             ],
             [
              0.4444444444444444,
              "#bd3786"
             ],
             [
              0.5555555555555556,
              "#d8576b"
             ],
             [
              0.6666666666666666,
              "#ed7953"
             ],
             [
              0.7777777777777778,
              "#fb9f3a"
             ],
             [
              0.8888888888888888,
              "#fdca26"
             ],
             [
              1,
              "#f0f921"
             ]
            ],
            "type": "histogram2dcontour"
           }
          ],
          "mesh3d": [
           {
            "colorbar": {
             "outlinewidth": 0,
             "ticks": ""
            },
            "type": "mesh3d"
           }
          ],
          "parcoords": [
           {
            "line": {
             "colorbar": {
              "outlinewidth": 0,
              "ticks": ""
             }
            },
            "type": "parcoords"
           }
          ],
          "pie": [
           {
            "automargin": true,
            "type": "pie"
           }
          ],
          "scatter": [
           {
            "fillpattern": {
             "fillmode": "overlay",
             "size": 10,
             "solidity": 0.2
            },
            "type": "scatter"
           }
          ],
          "scatter3d": [
           {
            "line": {
             "colorbar": {
              "outlinewidth": 0,
              "ticks": ""
             }
            },
            "marker": {
             "colorbar": {
              "outlinewidth": 0,
              "ticks": ""
             }
            },
            "type": "scatter3d"
           }
          ],
          "scattercarpet": [
           {
            "marker": {
             "colorbar": {
              "outlinewidth": 0,
              "ticks": ""
             }
            },
            "type": "scattercarpet"
           }
          ],
          "scattergeo": [
           {
            "marker": {
             "colorbar": {
              "outlinewidth": 0,
              "ticks": ""
             }
            },
            "type": "scattergeo"
           }
          ],
          "scattergl": [
           {
            "marker": {
             "colorbar": {
              "outlinewidth": 0,
              "ticks": ""
             }
            },
            "type": "scattergl"
           }
          ],
          "scattermapbox": [
           {
            "marker": {
             "colorbar": {
              "outlinewidth": 0,
              "ticks": ""
             }
            },
            "type": "scattermapbox"
           }
          ],
          "scatterpolar": [
           {
            "marker": {
             "colorbar": {
              "outlinewidth": 0,
              "ticks": ""
             }
            },
            "type": "scatterpolar"
           }
          ],
          "scatterpolargl": [
           {
            "marker": {
             "colorbar": {
              "outlinewidth": 0,
              "ticks": ""
             }
            },
            "type": "scatterpolargl"
           }
          ],
          "scatterternary": [
           {
            "marker": {
             "colorbar": {
              "outlinewidth": 0,
              "ticks": ""
             }
            },
            "type": "scatterternary"
           }
          ],
          "surface": [
           {
            "colorbar": {
             "outlinewidth": 0,
             "ticks": ""
            },
            "colorscale": [
             [
              0,
              "#0d0887"
             ],
             [
              0.1111111111111111,
              "#46039f"
             ],
             [
              0.2222222222222222,
              "#7201a8"
             ],
             [
              0.3333333333333333,
              "#9c179e"
             ],
             [
              0.4444444444444444,
              "#bd3786"
             ],
             [
              0.5555555555555556,
              "#d8576b"
             ],
             [
              0.6666666666666666,
              "#ed7953"
             ],
             [
              0.7777777777777778,
              "#fb9f3a"
             ],
             [
              0.8888888888888888,
              "#fdca26"
             ],
             [
              1,
              "#f0f921"
             ]
            ],
            "type": "surface"
           }
          ],
          "table": [
           {
            "cells": {
             "fill": {
              "color": "#EBF0F8"
             },
             "line": {
              "color": "white"
             }
            },
            "header": {
             "fill": {
              "color": "#C8D4E3"
             },
             "line": {
              "color": "white"
             }
            },
            "type": "table"
           }
          ]
         },
         "layout": {
          "annotationdefaults": {
           "arrowcolor": "#2a3f5f",
           "arrowhead": 0,
           "arrowwidth": 1
          },
          "autotypenumbers": "strict",
          "coloraxis": {
           "colorbar": {
            "outlinewidth": 0,
            "ticks": ""
           }
          },
          "colorscale": {
           "diverging": [
            [
             0,
             "#8e0152"
            ],
            [
             0.1,
             "#c51b7d"
            ],
            [
             0.2,
             "#de77ae"
            ],
            [
             0.3,
             "#f1b6da"
            ],
            [
             0.4,
             "#fde0ef"
            ],
            [
             0.5,
             "#f7f7f7"
            ],
            [
             0.6,
             "#e6f5d0"
            ],
            [
             0.7,
             "#b8e186"
            ],
            [
             0.8,
             "#7fbc41"
            ],
            [
             0.9,
             "#4d9221"
            ],
            [
             1,
             "#276419"
            ]
           ],
           "sequential": [
            [
             0,
             "#0d0887"
            ],
            [
             0.1111111111111111,
             "#46039f"
            ],
            [
             0.2222222222222222,
             "#7201a8"
            ],
            [
             0.3333333333333333,
             "#9c179e"
            ],
            [
             0.4444444444444444,
             "#bd3786"
            ],
            [
             0.5555555555555556,
             "#d8576b"
            ],
            [
             0.6666666666666666,
             "#ed7953"
            ],
            [
             0.7777777777777778,
             "#fb9f3a"
            ],
            [
             0.8888888888888888,
             "#fdca26"
            ],
            [
             1,
             "#f0f921"
            ]
           ],
           "sequentialminus": [
            [
             0,
             "#0d0887"
            ],
            [
             0.1111111111111111,
             "#46039f"
            ],
            [
             0.2222222222222222,
             "#7201a8"
            ],
            [
             0.3333333333333333,
             "#9c179e"
            ],
            [
             0.4444444444444444,
             "#bd3786"
            ],
            [
             0.5555555555555556,
             "#d8576b"
            ],
            [
             0.6666666666666666,
             "#ed7953"
            ],
            [
             0.7777777777777778,
             "#fb9f3a"
            ],
            [
             0.8888888888888888,
             "#fdca26"
            ],
            [
             1,
             "#f0f921"
            ]
           ]
          },
          "colorway": [
           "#636efa",
           "#EF553B",
           "#00cc96",
           "#ab63fa",
           "#FFA15A",
           "#19d3f3",
           "#FF6692",
           "#B6E880",
           "#FF97FF",
           "#FECB52"
          ],
          "font": {
           "color": "#2a3f5f"
          },
          "geo": {
           "bgcolor": "white",
           "lakecolor": "white",
           "landcolor": "#E5ECF6",
           "showlakes": true,
           "showland": true,
           "subunitcolor": "white"
          },
          "hoverlabel": {
           "align": "left"
          },
          "hovermode": "closest",
          "mapbox": {
           "style": "light"
          },
          "paper_bgcolor": "white",
          "plot_bgcolor": "#E5ECF6",
          "polar": {
           "angularaxis": {
            "gridcolor": "white",
            "linecolor": "white",
            "ticks": ""
           },
           "bgcolor": "#E5ECF6",
           "radialaxis": {
            "gridcolor": "white",
            "linecolor": "white",
            "ticks": ""
           }
          },
          "scene": {
           "xaxis": {
            "backgroundcolor": "#E5ECF6",
            "gridcolor": "white",
            "gridwidth": 2,
            "linecolor": "white",
            "showbackground": true,
            "ticks": "",
            "zerolinecolor": "white"
           },
           "yaxis": {
            "backgroundcolor": "#E5ECF6",
            "gridcolor": "white",
            "gridwidth": 2,
            "linecolor": "white",
            "showbackground": true,
            "ticks": "",
            "zerolinecolor": "white"
           },
           "zaxis": {
            "backgroundcolor": "#E5ECF6",
            "gridcolor": "white",
            "gridwidth": 2,
            "linecolor": "white",
            "showbackground": true,
            "ticks": "",
            "zerolinecolor": "white"
           }
          },
          "shapedefaults": {
           "line": {
            "color": "#2a3f5f"
           }
          },
          "ternary": {
           "aaxis": {
            "gridcolor": "white",
            "linecolor": "white",
            "ticks": ""
           },
           "baxis": {
            "gridcolor": "white",
            "linecolor": "white",
            "ticks": ""
           },
           "bgcolor": "#E5ECF6",
           "caxis": {
            "gridcolor": "white",
            "linecolor": "white",
            "ticks": ""
           }
          },
          "title": {
           "x": 0.05
          },
          "xaxis": {
           "automargin": true,
           "gridcolor": "white",
           "linecolor": "white",
           "ticks": "",
           "title": {
            "standoff": 15
           },
           "zerolinecolor": "white",
           "zerolinewidth": 2
          },
          "yaxis": {
           "automargin": true,
           "gridcolor": "white",
           "linecolor": "white",
           "ticks": "",
           "title": {
            "standoff": 15
           },
           "zerolinecolor": "white",
           "zerolinewidth": 2
          }
         }
        },
        "title": {
         "text": "Percentage of Black and Hispanic Students in Brooklyn School Districts (2005, 2022)"
        },
        "xaxis": {
         "anchor": "y",
         "domain": [
          0,
          1
         ],
         "title": {
          "text": "District"
         }
        },
        "yaxis": {
         "anchor": "x",
         "domain": [
          0,
          1
         ],
         "title": {
          "text": "Precent Black/Hispanic"
         }
        }
       }
      }
     },
     "metadata": {},
     "output_type": "display_data"
    }
   ],
   "source": [
    "demos[\"black_hispanic_n\"] = demos[\"black_n\"] + demos[\"hispanic_n\"]\n",
    "demos[\"black_hispanic_pct\"] = demos[\"black_hispanic_n\"] / demos[\"total_enrollment\"]\n",
    "bar_data = demos[(demos.district.isin(bk)) & (demos.ay.isin([2005, 2022]))]\n",
    "bar_data = bar_data[[\"district\", \"ay\", \"black_hispanic_pct\"]]\n",
    "bar_data = bar_data.groupby([\"district\", \"ay\"]).mean().reset_index()\n",
    "\n",
    "bar_data['black_hispanic_pct'] *= 100\n",
    "bar_data = bar_data.merge(m_data, on=[\"district\", \"ay\"], how=\"inner\")\n",
    "\n",
    "\n",
    "\n",
    "bar_data.district = bar_data.district.astype(str)\n",
    "bar_data.ay = bar_data.ay.astype(str)   \n",
    "bar_data['M_label'] = bar_data['M'].apply(lambda x: f'M ({x:.2f})')\n",
    "\n",
    "fig = px.bar(bar_data, x='district', y='black_hispanic_pct', color='ay', barmode='group',\n",
    "             labels={'district': 'District',\n",
    "                     'black_hispanic_pct': '% Black/Hispanic', 'ay': 'Academic Year'},\n",
    "             title='Percentage of Black and Hispanic Students in Brooklyn School Districts (2005, 2022)',\n",
    "             text='M_label',\n",
    "             hover_data=[\"M\", \"ay\"])\n",
    "\n",
    "\n",
    "fig.update_traces( hovertemplate='District: %{x}<br>AY: %{customdata[1]}<br>Percentage: %{y:.2f}%<br>M Index: %{customdata[0]:.2f}')\n",
    "\n",
    "fig.update_layout(barmode='group', \n",
    "                  xaxis_title=\"District\",\n",
    "                  yaxis_title=\"Precent Black/Hispanic\")\n",
    "\n",
    "fig.show()"
   ]
  },
  {
   "cell_type": "code",
   "execution_count": 9,
   "metadata": {},
   "outputs": [
    {
     "data": {
      "text/html": [
       "<div>\n",
       "<style scoped>\n",
       "    .dataframe tbody tr th:only-of-type {\n",
       "        vertical-align: middle;\n",
       "    }\n",
       "\n",
       "    .dataframe tbody tr th {\n",
       "        vertical-align: top;\n",
       "    }\n",
       "\n",
       "    .dataframe thead th {\n",
       "        text-align: right;\n",
       "    }\n",
       "</style>\n",
       "<table border=\"1\" class=\"dataframe\">\n",
       "  <thead>\n",
       "    <tr style=\"text-align: right;\">\n",
       "      <th></th>\n",
       "      <th>stacked</th>\n",
       "      <th>name</th>\n",
       "      <th>annoline1</th>\n",
       "      <th>annoline3</th>\n",
       "      <th>objectid</th>\n",
       "      <th>annoangle</th>\n",
       "      <th>annoline2</th>\n",
       "      <th>borough</th>\n",
       "      <th>geometry</th>\n",
       "    </tr>\n",
       "  </thead>\n",
       "  <tbody>\n",
       "    <tr>\n",
       "      <th>0</th>\n",
       "      <td>1</td>\n",
       "      <td>Wakefield</td>\n",
       "      <td>Wakefield</td>\n",
       "      <td></td>\n",
       "      <td>1</td>\n",
       "      <td>0.0</td>\n",
       "      <td></td>\n",
       "      <td>Bronx</td>\n",
       "      <td>POINT (-73.84720 40.89471)</td>\n",
       "    </tr>\n",
       "    <tr>\n",
       "      <th>1</th>\n",
       "      <td>2</td>\n",
       "      <td>Co-op City</td>\n",
       "      <td>Co-op</td>\n",
       "      <td></td>\n",
       "      <td>2</td>\n",
       "      <td>0.0</td>\n",
       "      <td>City</td>\n",
       "      <td>Bronx</td>\n",
       "      <td>POINT (-73.82994 40.87429)</td>\n",
       "    </tr>\n",
       "    <tr>\n",
       "      <th>2</th>\n",
       "      <td>1</td>\n",
       "      <td>Eastchester</td>\n",
       "      <td>Eastchester</td>\n",
       "      <td></td>\n",
       "      <td>3</td>\n",
       "      <td>0.0</td>\n",
       "      <td></td>\n",
       "      <td>Bronx</td>\n",
       "      <td>POINT (-73.82781 40.88756)</td>\n",
       "    </tr>\n",
       "    <tr>\n",
       "      <th>3</th>\n",
       "      <td>1</td>\n",
       "      <td>Fieldston</td>\n",
       "      <td>Fieldston</td>\n",
       "      <td></td>\n",
       "      <td>4</td>\n",
       "      <td>0.0</td>\n",
       "      <td></td>\n",
       "      <td>Bronx</td>\n",
       "      <td>POINT (-73.90564 40.89544)</td>\n",
       "    </tr>\n",
       "    <tr>\n",
       "      <th>4</th>\n",
       "      <td>1</td>\n",
       "      <td>Riverdale</td>\n",
       "      <td>Riverdale</td>\n",
       "      <td></td>\n",
       "      <td>5</td>\n",
       "      <td>0.0</td>\n",
       "      <td></td>\n",
       "      <td>Bronx</td>\n",
       "      <td>POINT (-73.91259 40.89083)</td>\n",
       "    </tr>\n",
       "    <tr>\n",
       "      <th>...</th>\n",
       "      <td>...</td>\n",
       "      <td>...</td>\n",
       "      <td>...</td>\n",
       "      <td>...</td>\n",
       "      <td>...</td>\n",
       "      <td>...</td>\n",
       "      <td>...</td>\n",
       "      <td>...</td>\n",
       "      <td>...</td>\n",
       "    </tr>\n",
       "    <tr>\n",
       "      <th>294</th>\n",
       "      <td>2</td>\n",
       "      <td>Lighthouse Hill</td>\n",
       "      <td>Lighthouse</td>\n",
       "      <td></td>\n",
       "      <td>295</td>\n",
       "      <td>0.0</td>\n",
       "      <td>Hill</td>\n",
       "      <td>Staten Island</td>\n",
       "      <td>POINT (-74.13793 40.57651)</td>\n",
       "    </tr>\n",
       "    <tr>\n",
       "      <th>295</th>\n",
       "      <td>2</td>\n",
       "      <td>Richmond Valley</td>\n",
       "      <td>Richmond</td>\n",
       "      <td></td>\n",
       "      <td>296</td>\n",
       "      <td>0.0</td>\n",
       "      <td>Valley</td>\n",
       "      <td>Staten Island</td>\n",
       "      <td>POINT (-74.22957 40.51954)</td>\n",
       "    </tr>\n",
       "    <tr>\n",
       "      <th>296</th>\n",
       "      <td>1</td>\n",
       "      <td>Malba</td>\n",
       "      <td>Malba</td>\n",
       "      <td></td>\n",
       "      <td>297</td>\n",
       "      <td>0.0</td>\n",
       "      <td></td>\n",
       "      <td>Queens</td>\n",
       "      <td>POINT (-73.82668 40.79060)</td>\n",
       "    </tr>\n",
       "    <tr>\n",
       "      <th>297</th>\n",
       "      <td>2</td>\n",
       "      <td>Highland Park</td>\n",
       "      <td>Highland</td>\n",
       "      <td></td>\n",
       "      <td>298</td>\n",
       "      <td>0.0</td>\n",
       "      <td>Park</td>\n",
       "      <td>Brooklyn</td>\n",
       "      <td>POINT (-73.89028 40.68249)</td>\n",
       "    </tr>\n",
       "    <tr>\n",
       "      <th>298</th>\n",
       "      <td>1</td>\n",
       "      <td>Madison</td>\n",
       "      <td>Madison</td>\n",
       "      <td></td>\n",
       "      <td>299</td>\n",
       "      <td>0.0</td>\n",
       "      <td></td>\n",
       "      <td>Brooklyn</td>\n",
       "      <td>POINT (-73.94842 40.60938)</td>\n",
       "    </tr>\n",
       "  </tbody>\n",
       "</table>\n",
       "<p>299 rows × 9 columns</p>\n",
       "</div>"
      ],
      "text/plain": [
       "    stacked             name    annoline1 annoline3 objectid annoangle  \\\n",
       "0         1        Wakefield    Wakefield                  1       0.0   \n",
       "1         2       Co-op City        Co-op                  2       0.0   \n",
       "2         1      Eastchester  Eastchester                  3       0.0   \n",
       "3         1        Fieldston    Fieldston                  4       0.0   \n",
       "4         1        Riverdale    Riverdale                  5       0.0   \n",
       "..      ...              ...          ...       ...      ...       ...   \n",
       "294       2  Lighthouse Hill   Lighthouse                295       0.0   \n",
       "295       2  Richmond Valley     Richmond                296       0.0   \n",
       "296       1            Malba        Malba                297       0.0   \n",
       "297       2    Highland Park     Highland                298       0.0   \n",
       "298       1          Madison      Madison                299       0.0   \n",
       "\n",
       "    annoline2        borough                    geometry  \n",
       "0                      Bronx  POINT (-73.84720 40.89471)  \n",
       "1        City          Bronx  POINT (-73.82994 40.87429)  \n",
       "2                      Bronx  POINT (-73.82781 40.88756)  \n",
       "3                      Bronx  POINT (-73.90564 40.89544)  \n",
       "4                      Bronx  POINT (-73.91259 40.89083)  \n",
       "..        ...            ...                         ...  \n",
       "294      Hill  Staten Island  POINT (-74.13793 40.57651)  \n",
       "295    Valley  Staten Island  POINT (-74.22957 40.51954)  \n",
       "296                   Queens  POINT (-73.82668 40.79060)  \n",
       "297      Park       Brooklyn  POINT (-73.89028 40.68249)  \n",
       "298                 Brooklyn  POINT (-73.94842 40.60938)  \n",
       "\n",
       "[299 rows x 9 columns]"
      ]
     },
     "execution_count": 9,
     "metadata": {},
     "output_type": "execute_result"
    }
   ],
   "source": [
    "from nycschools.dataloader import load\n",
    "x = load(\"neighborhood-names.geojson\")\n",
    "x"
   ]
  },
  {
   "cell_type": "code",
   "execution_count": null,
   "metadata": {},
   "outputs": [],
   "source": []
  }
 ],
 "metadata": {
  "kernelspec": {
   "display_name": "schools",
   "language": "python",
   "name": "python3"
  },
  "language_info": {
   "codemirror_mode": {
    "name": "ipython",
    "version": 3
   },
   "file_extension": ".py",
   "mimetype": "text/x-python",
   "name": "python",
   "nbconvert_exporter": "python",
   "pygments_lexer": "ipython3",
   "version": "3.12.2"
  }
 },
 "nbformat": 4,
 "nbformat_minor": 2
}
