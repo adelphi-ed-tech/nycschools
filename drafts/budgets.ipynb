{
 "cells": [
  {
   "cell_type": "code",
   "execution_count": 1,
   "metadata": {},
   "outputs": [],
   "source": [
    "import pandas as pd\n",
    "from nycschools import schools\n",
    "from bs4 import BeautifulSoup\n",
    "from selenium import webdriver\n",
    "from selenium.webdriver.chrome.service import Service\n",
    "from collections import Counter\n",
    "from itertools import chain\n",
    "\n"
   ]
  },
  {
   "cell_type": "code",
   "execution_count": 5,
   "metadata": {},
   "outputs": [],
   "source": [
    "driver = webdriver.Firefox()\n",
    "url = \"https://manifold.umn.edu/read/operational-images/section/29f60bd2-7add-4293-bfd9-022c44098f45#ch02\"\n",
    "driver.get(url)\n",
    "html = driver.page_source\n",
    "# save the html to a file called ch2.html\n",
    "with open(\"ch2.html\", \"w\") as f:\n",
    "    f.write(html)\n",
    "s\n"
   ]
  },
  {
   "attachments": {},
   "cell_type": "markdown",
   "metadata": {},
   "source": [
    "Functions\n",
    "========="
   ]
  },
  {
   "cell_type": "code",
   "execution_count": 4,
   "metadata": {},
   "outputs": [],
   "source": [
    "def open_webdriver():\n",
    "\n",
    "    # don't launch the browser GUI\n",
    "    chrome_options = webdriver.ChromeOptions()\n",
    "    chrome_options.add_argument('--headless')\n",
    "\n",
    "    # if the environment variables are set, use them\n",
    "    chrome_path = os.environ.get(\"CHROME_PATH\", None)\n",
    "    chromedriver_path = os.environ.get(\"CHROMEDRIVER_PATH\", None)\n",
    "    \n",
    "    if chrome_path:\n",
    "        chrome_options.binary_location = chrome_path\n",
    "    if chromedriver_path:\n",
    "        print(\"using driver\")\n",
    "        s = Service(chromedriver_path)\n",
    "        return webdriver.Chrome(service=s, options=chrome_options)\n",
    "\n",
    "    return webdriver.Chrome(options=chrome_options)\n",
    "\n",
    "def fix_cols(data, sections, dbn):\n",
    "\n",
    "\n",
    "    col_map = {\n",
    "        'title': 'item',\n",
    "        'assignment': 'item',\n",
    "        'organizational category': 'item',\n",
    "        'total': 'item',\n",
    "        'total.1': 'item',\n",
    "        'grand total': 'item',\n",
    "        'type of class/service': 'service'\n",
    "    }\n",
    "\n",
    "\n",
    "    data = data.copy()\n",
    "    \n",
    "    for i, section in enumerate(sections):\n",
    "        data[i][\"category\"] = section\n",
    "        data[i].columns = [c.lower() for c in data[i].columns]\n",
    "        data[i].rename(columns=col_map, inplace=True)\n",
    "        school_col = [c for c in data[i].columns if c.lower().startswith(dbn.lower())]\n",
    "        if len(school_col) > 0:\n",
    "            data[i].rename(columns={school_col[0]: 'item'}, inplace=True)\n",
    "    return data\n",
    "\n",
    "\n",
    "def get_budgets(dbn, ay, driver):\n",
    "\n",
    "    url = f\"https://www.nycenet.edu/offices/d_chanc_oper/budget/dbor/galaxy/galaxybudgetsummaryto/default.aspx?DDBSSS_INPUT={dbn[2:]}\"\n",
    "\n",
    "    driver.get(url)\n",
    "    html = driver.page_source\n",
    "\n",
    "    soup = BeautifulSoup(html, 'html.parser')\n",
    "\n",
    "    sections = [section.get_text().strip() for section in soup.select('.TO_Section')]\n",
    "    data = pd.read_html(html)\n",
    "    data = fix_cols(data, sections, dbn)\n",
    "    data = pd.concat(data)\n",
    "    data[\"dbn\"] = dbn\n",
    "    data[\"ay\"] = ay\n",
    "\n",
    "    return data\n",
    "\n",
    "def batch_budgets(dbns, ay, driver):\n",
    "    budgets = []\n",
    "    not_found = []\n",
    "    for dbn in dbns:\n",
    "        try:\n",
    "            budgets.append(get_budgets(dbn, ay, driver))\n",
    "        except ValueError:\n",
    "            not_found.append(dbn)\n",
    "\n",
    "    data = pd.concat(budgets)\n",
    "    data.item = data.item.str.lower()\n",
    "\n",
    "    return data, not_found\n"
   ]
  },
  {
   "attachments": {},
   "cell_type": "markdown",
   "metadata": {},
   "source": [
    "Single School Test\n",
    "=================="
   ]
  },
  {
   "cell_type": "code",
   "execution_count": 5,
   "metadata": {},
   "outputs": [
    {
     "name": "stdout",
     "output_type": "stream",
     "text": [
      "using driver\n"
     ]
    },
    {
     "ename": "InvalidIndexError",
     "evalue": "Reindexing only valid with uniquely valued Index objects",
     "output_type": "error",
     "traceback": [
      "\u001b[0;31m---------------------------------------------------------------------------\u001b[0m",
      "\u001b[0;31mInvalidIndexError\u001b[0m                         Traceback (most recent call last)",
      "Cell \u001b[0;32mIn[5], line 2\u001b[0m\n\u001b[1;32m      1\u001b[0m driver \u001b[39m=\u001b[39m open_webdriver()\n\u001b[0;32m----> 2\u001b[0m data \u001b[39m=\u001b[39m get_budgets(\u001b[39m\"\u001b[39;49m\u001b[39m13K001\u001b[39;49m\u001b[39m\"\u001b[39;49m, \u001b[39m2022\u001b[39;49m, driver)\n\u001b[1;32m      3\u001b[0m driver\u001b[39m.\u001b[39mquit()\n\u001b[1;32m      4\u001b[0m data\n",
      "Cell \u001b[0;32mIn[4], line 58\u001b[0m, in \u001b[0;36mget_budgets\u001b[0;34m(dbn, ay, driver)\u001b[0m\n\u001b[1;32m     56\u001b[0m data \u001b[39m=\u001b[39m pd\u001b[39m.\u001b[39mread_html(html)\n\u001b[1;32m     57\u001b[0m data \u001b[39m=\u001b[39m fix_cols(data, sections, dbn)\n\u001b[0;32m---> 58\u001b[0m data \u001b[39m=\u001b[39m pd\u001b[39m.\u001b[39;49mconcat(data)\n\u001b[1;32m     59\u001b[0m data[\u001b[39m\"\u001b[39m\u001b[39mdbn\u001b[39m\u001b[39m\"\u001b[39m] \u001b[39m=\u001b[39m dbn\n\u001b[1;32m     60\u001b[0m data[\u001b[39m\"\u001b[39m\u001b[39may\u001b[39m\u001b[39m\"\u001b[39m] \u001b[39m=\u001b[39m ay\n",
      "File \u001b[0;32m~/.virtualenvs/school-data/lib/python3.10/site-packages/pandas/util/_decorators.py:331\u001b[0m, in \u001b[0;36mdeprecate_nonkeyword_arguments.<locals>.decorate.<locals>.wrapper\u001b[0;34m(*args, **kwargs)\u001b[0m\n\u001b[1;32m    325\u001b[0m \u001b[39mif\u001b[39;00m \u001b[39mlen\u001b[39m(args) \u001b[39m>\u001b[39m num_allow_args:\n\u001b[1;32m    326\u001b[0m     warnings\u001b[39m.\u001b[39mwarn(\n\u001b[1;32m    327\u001b[0m         msg\u001b[39m.\u001b[39mformat(arguments\u001b[39m=\u001b[39m_format_argument_list(allow_args)),\n\u001b[1;32m    328\u001b[0m         \u001b[39mFutureWarning\u001b[39;00m,\n\u001b[1;32m    329\u001b[0m         stacklevel\u001b[39m=\u001b[39mfind_stack_level(),\n\u001b[1;32m    330\u001b[0m     )\n\u001b[0;32m--> 331\u001b[0m \u001b[39mreturn\u001b[39;00m func(\u001b[39m*\u001b[39;49margs, \u001b[39m*\u001b[39;49m\u001b[39m*\u001b[39;49mkwargs)\n",
      "File \u001b[0;32m~/.virtualenvs/school-data/lib/python3.10/site-packages/pandas/core/reshape/concat.py:381\u001b[0m, in \u001b[0;36mconcat\u001b[0;34m(objs, axis, join, ignore_index, keys, levels, names, verify_integrity, sort, copy)\u001b[0m\n\u001b[1;32m    159\u001b[0m \u001b[39m\u001b[39m\u001b[39m\"\"\"\u001b[39;00m\n\u001b[1;32m    160\u001b[0m \u001b[39mConcatenate pandas objects along a particular axis.\u001b[39;00m\n\u001b[1;32m    161\u001b[0m \n\u001b[0;32m   (...)\u001b[0m\n\u001b[1;32m    366\u001b[0m \u001b[39m1   3   4\u001b[39;00m\n\u001b[1;32m    367\u001b[0m \u001b[39m\"\"\"\u001b[39;00m\n\u001b[1;32m    368\u001b[0m op \u001b[39m=\u001b[39m _Concatenator(\n\u001b[1;32m    369\u001b[0m     objs,\n\u001b[1;32m    370\u001b[0m     axis\u001b[39m=\u001b[39maxis,\n\u001b[0;32m   (...)\u001b[0m\n\u001b[1;32m    378\u001b[0m     sort\u001b[39m=\u001b[39msort,\n\u001b[1;32m    379\u001b[0m )\n\u001b[0;32m--> 381\u001b[0m \u001b[39mreturn\u001b[39;00m op\u001b[39m.\u001b[39;49mget_result()\n",
      "File \u001b[0;32m~/.virtualenvs/school-data/lib/python3.10/site-packages/pandas/core/reshape/concat.py:612\u001b[0m, in \u001b[0;36m_Concatenator.get_result\u001b[0;34m(self)\u001b[0m\n\u001b[1;32m    610\u001b[0m         obj_labels \u001b[39m=\u001b[39m obj\u001b[39m.\u001b[39maxes[\u001b[39m1\u001b[39m \u001b[39m-\u001b[39m ax]\n\u001b[1;32m    611\u001b[0m         \u001b[39mif\u001b[39;00m \u001b[39mnot\u001b[39;00m new_labels\u001b[39m.\u001b[39mequals(obj_labels):\n\u001b[0;32m--> 612\u001b[0m             indexers[ax] \u001b[39m=\u001b[39m obj_labels\u001b[39m.\u001b[39;49mget_indexer(new_labels)\n\u001b[1;32m    614\u001b[0m     mgrs_indexers\u001b[39m.\u001b[39mappend((obj\u001b[39m.\u001b[39m_mgr, indexers))\n\u001b[1;32m    616\u001b[0m new_data \u001b[39m=\u001b[39m concatenate_managers(\n\u001b[1;32m    617\u001b[0m     mgrs_indexers, \u001b[39mself\u001b[39m\u001b[39m.\u001b[39mnew_axes, concat_axis\u001b[39m=\u001b[39m\u001b[39mself\u001b[39m\u001b[39m.\u001b[39mbm_axis, copy\u001b[39m=\u001b[39m\u001b[39mself\u001b[39m\u001b[39m.\u001b[39mcopy\n\u001b[1;32m    618\u001b[0m )\n",
      "File \u001b[0;32m~/.virtualenvs/school-data/lib/python3.10/site-packages/pandas/core/indexes/base.py:3904\u001b[0m, in \u001b[0;36mIndex.get_indexer\u001b[0;34m(self, target, method, limit, tolerance)\u001b[0m\n\u001b[1;32m   3901\u001b[0m \u001b[39mself\u001b[39m\u001b[39m.\u001b[39m_check_indexing_method(method, limit, tolerance)\n\u001b[1;32m   3903\u001b[0m \u001b[39mif\u001b[39;00m \u001b[39mnot\u001b[39;00m \u001b[39mself\u001b[39m\u001b[39m.\u001b[39m_index_as_unique:\n\u001b[0;32m-> 3904\u001b[0m     \u001b[39mraise\u001b[39;00m InvalidIndexError(\u001b[39mself\u001b[39m\u001b[39m.\u001b[39m_requires_unique_msg)\n\u001b[1;32m   3906\u001b[0m \u001b[39mif\u001b[39;00m \u001b[39mlen\u001b[39m(target) \u001b[39m==\u001b[39m \u001b[39m0\u001b[39m:\n\u001b[1;32m   3907\u001b[0m     \u001b[39mreturn\u001b[39;00m np\u001b[39m.\u001b[39marray([], dtype\u001b[39m=\u001b[39mnp\u001b[39m.\u001b[39mintp)\n",
      "\u001b[0;31mInvalidIndexError\u001b[0m: Reindexing only valid with uniquely valued Index objects"
     ]
    }
   ],
   "source": [
    "driver = open_webdriver()\n",
    "data = get_budgets(\"13K001\", 2022, driver)\n",
    "driver.quit()\n",
    "data\n"
   ]
  },
  {
   "cell_type": "code",
   "execution_count": null,
   "metadata": {},
   "outputs": [],
   "source": [
    "cols = [d.columns for d in data]\n",
    "cols = list(chain(*cols))\n",
    "counts = pd.DataFrame(Counter(cols).items(), columns=['header', 'count'])\n",
    "counts.sort_values('count', ascending=False)\n"
   ]
  },
  {
   "attachments": {},
   "cell_type": "markdown",
   "metadata": {},
   "source": [
    "Batch Budgets\n",
    "=============="
   ]
  },
  {
   "cell_type": "code",
   "execution_count": null,
   "metadata": {},
   "outputs": [],
   "source": [
    "df = schools.load_school_demographics()\n",
    "df = df[(df.ay == df.ay.max()) & (df.district < 33)]\n",
    "dbns = df.dbn.values\n",
    "driver = open_webdriver()\n",
    "budgets, not_found = batch_budgets(dbns, 2022, driver)\n",
    "\n",
    "driver.quit()"
   ]
  },
  {
   "cell_type": "code",
   "execution_count": null,
   "metadata": {},
   "outputs": [],
   "source": [
    "budgets.columns\n",
    "data = budgets.copy()\n",
    "\n",
    "# update slice of data to set item to the value of \"grand total\" where grand total is not null\n",
    "# data.loc[data[\"grand total\"].notnull(), \"item\"] = data[\"grand total\"]\n",
    "x = data[data[\"grand total\"].notnull()]\n",
    "x[\"item\"] = x[\"grand total\"]\n",
    "data[data[\"grand total\"].notnull()]\n"
   ]
  },
  {
   "cell_type": "code",
   "execution_count": null,
   "metadata": {
    "scrolled": false
   },
   "outputs": [],
   "source": [
    "\n",
    "# items = data.item.value_counts()\n",
    "# x = pd.DataFrame(items)\n",
    "# x.sort_values(\"item\").head(50)\n",
    "budgets.to_csv(\"/opt/nycschools/galaxy.csv\", index=False)\n"
   ]
  },
  {
   "cell_type": "code",
   "execution_count": null,
   "metadata": {},
   "outputs": [],
   "source": [
    "\n",
    "# cols = [d.columns for d in budgets]\n",
    "# cols = list(chain(*cols))\n",
    "# counts = pd.DataFrame(Counter(cols).items(), columns=['column', 'count'])\n",
    "# counts.sort_values('count', ascending=False)\n",
    "budgets.columns"
   ]
  },
  {
   "cell_type": "code",
   "execution_count": 1,
   "metadata": {},
   "outputs": [],
   "source": [
    "# set autoreload\n",
    "%load_ext autoreload\n",
    "from nycschools import budgets\n"
   ]
  },
  {
   "cell_type": "code",
   "execution_count": 2,
   "metadata": {},
   "outputs": [
    {
     "name": "stdout",
     "output_type": "stream",
     "text": [
      "Error scraping 15K001\n"
     ]
    },
    {
     "data": {
      "text/plain": [
       "111745"
      ]
     },
     "execution_count": 2,
     "metadata": {},
     "output_type": "execute_result"
    }
   ],
   "source": [
    "\n",
    "\n",
    "data, not_found = budgets.get_galaxy_budgets()\n",
    "len(data)\n"
   ]
  },
  {
   "cell_type": "code",
   "execution_count": 3,
   "metadata": {},
   "outputs": [
    {
     "data": {
      "text/html": [
       "<div>\n",
       "<style scoped>\n",
       "    .dataframe tbody tr th:only-of-type {\n",
       "        vertical-align: middle;\n",
       "    }\n",
       "\n",
       "    .dataframe tbody tr th {\n",
       "        vertical-align: top;\n",
       "    }\n",
       "\n",
       "    .dataframe thead th {\n",
       "        text-align: right;\n",
       "    }\n",
       "</style>\n",
       "<table border=\"1\" class=\"dataframe\">\n",
       "  <thead>\n",
       "    <tr style=\"text-align: right;\">\n",
       "      <th></th>\n",
       "      <th>item</th>\n",
       "      <th>positions</th>\n",
       "      <th>budget</th>\n",
       "      <th>category</th>\n",
       "      <th>subject</th>\n",
       "      <th>service</th>\n",
       "      <th>dbn</th>\n",
       "      <th>ay</th>\n",
       "      <th>grade</th>\n",
       "    </tr>\n",
       "  </thead>\n",
       "  <tbody>\n",
       "    <tr>\n",
       "      <th>0</th>\n",
       "      <td>head of school</td>\n",
       "      <td>1.0</td>\n",
       "      <td>$ 183,162</td>\n",
       "      <td>Leadership</td>\n",
       "      <td>NaN</td>\n",
       "      <td>NaN</td>\n",
       "      <td>27Q302</td>\n",
       "      <td>2022</td>\n",
       "      <td>NaN</td>\n",
       "    </tr>\n",
       "    <tr>\n",
       "      <th>1</th>\n",
       "      <td>ap - special ed</td>\n",
       "      <td>1.0</td>\n",
       "      <td>$ 144,323</td>\n",
       "      <td>Leadership</td>\n",
       "      <td>NaN</td>\n",
       "      <td>NaN</td>\n",
       "      <td>27Q302</td>\n",
       "      <td>2022</td>\n",
       "      <td>NaN</td>\n",
       "    </tr>\n",
       "    <tr>\n",
       "      <th>2</th>\n",
       "      <td>ap - supervision</td>\n",
       "      <td>2.0</td>\n",
       "      <td>$ 289,124</td>\n",
       "      <td>Leadership</td>\n",
       "      <td>NaN</td>\n",
       "      <td>NaN</td>\n",
       "      <td>27Q302</td>\n",
       "      <td>2022</td>\n",
       "      <td>NaN</td>\n",
       "    </tr>\n",
       "    <tr>\n",
       "      <th>3</th>\n",
       "      <td>leadership total</td>\n",
       "      <td>4.0</td>\n",
       "      <td>$ 616,609</td>\n",
       "      <td>Leadership</td>\n",
       "      <td>NaN</td>\n",
       "      <td>NaN</td>\n",
       "      <td>27Q302</td>\n",
       "      <td>2022</td>\n",
       "      <td>NaN</td>\n",
       "    </tr>\n",
       "    <tr>\n",
       "      <th>4</th>\n",
       "      <td>dean</td>\n",
       "      <td>1.0</td>\n",
       "      <td>$ 98,459</td>\n",
       "      <td>Coordinator/Supervisor/Dean</td>\n",
       "      <td>NaN</td>\n",
       "      <td>NaN</td>\n",
       "      <td>27Q302</td>\n",
       "      <td>2022</td>\n",
       "      <td>NaN</td>\n",
       "    </tr>\n",
       "    <tr>\n",
       "      <th>...</th>\n",
       "      <td>...</td>\n",
       "      <td>...</td>\n",
       "      <td>...</td>\n",
       "      <td>...</td>\n",
       "      <td>...</td>\n",
       "      <td>...</td>\n",
       "      <td>...</td>\n",
       "      <td>...</td>\n",
       "      <td>...</td>\n",
       "    </tr>\n",
       "    <tr>\n",
       "      <th>3757</th>\n",
       "      <td>office temp services - contractual</td>\n",
       "      <td>NaN</td>\n",
       "      <td>$ 165,000</td>\n",
       "      <td>OTPS</td>\n",
       "      <td>NaN</td>\n",
       "      <td>NaN</td>\n",
       "      <td>02M150</td>\n",
       "      <td>2022</td>\n",
       "      <td>NaN</td>\n",
       "    </tr>\n",
       "    <tr>\n",
       "      <th>3758</th>\n",
       "      <td>supplies - general</td>\n",
       "      <td>NaN</td>\n",
       "      <td>$ 43,820</td>\n",
       "      <td>OTPS</td>\n",
       "      <td>NaN</td>\n",
       "      <td>NaN</td>\n",
       "      <td>02M150</td>\n",
       "      <td>2022</td>\n",
       "      <td>NaN</td>\n",
       "    </tr>\n",
       "    <tr>\n",
       "      <th>3759</th>\n",
       "      <td>textbooks</td>\n",
       "      <td>NaN</td>\n",
       "      <td>$ 24,599</td>\n",
       "      <td>OTPS</td>\n",
       "      <td>NaN</td>\n",
       "      <td>NaN</td>\n",
       "      <td>02M150</td>\n",
       "      <td>2022</td>\n",
       "      <td>NaN</td>\n",
       "    </tr>\n",
       "    <tr>\n",
       "      <th>3760</th>\n",
       "      <td>otps total</td>\n",
       "      <td>NaN</td>\n",
       "      <td>$ 276,645</td>\n",
       "      <td>OTPS</td>\n",
       "      <td>NaN</td>\n",
       "      <td>NaN</td>\n",
       "      <td>02M150</td>\n",
       "      <td>2022</td>\n",
       "      <td>NaN</td>\n",
       "    </tr>\n",
       "    <tr>\n",
       "      <th>3761</th>\n",
       "      <td>main school</td>\n",
       "      <td>22.0</td>\n",
       "      <td>$ 2,539,821</td>\n",
       "      <td>School Site</td>\n",
       "      <td>NaN</td>\n",
       "      <td>NaN</td>\n",
       "      <td>02M150</td>\n",
       "      <td>2022</td>\n",
       "      <td>NaN</td>\n",
       "    </tr>\n",
       "  </tbody>\n",
       "</table>\n",
       "<p>3762 rows × 9 columns</p>\n",
       "</div>"
      ],
      "text/plain": [
       "                                    item  positions       budget  \\\n",
       "0                         head of school        1.0    $ 183,162   \n",
       "1                        ap - special ed        1.0    $ 144,323   \n",
       "2                       ap - supervision        2.0    $ 289,124   \n",
       "3                       leadership total        4.0    $ 616,609   \n",
       "4                                   dean        1.0     $ 98,459   \n",
       "...                                  ...        ...          ...   \n",
       "3757  office temp services - contractual        NaN    $ 165,000   \n",
       "3758                  supplies - general        NaN     $ 43,820   \n",
       "3759                           textbooks        NaN     $ 24,599   \n",
       "3760                          otps total        NaN    $ 276,645   \n",
       "3761                         main school       22.0  $ 2,539,821   \n",
       "\n",
       "                         category subject service     dbn    ay grade  \n",
       "0                      Leadership     NaN     NaN  27Q302  2022   NaN  \n",
       "1                      Leadership     NaN     NaN  27Q302  2022   NaN  \n",
       "2                      Leadership     NaN     NaN  27Q302  2022   NaN  \n",
       "3                      Leadership     NaN     NaN  27Q302  2022   NaN  \n",
       "4     Coordinator/Supervisor/Dean     NaN     NaN  27Q302  2022   NaN  \n",
       "...                           ...     ...     ...     ...   ...   ...  \n",
       "3757                         OTPS     NaN     NaN  02M150  2022   NaN  \n",
       "3758                         OTPS     NaN     NaN  02M150  2022   NaN  \n",
       "3759                         OTPS     NaN     NaN  02M150  2022   NaN  \n",
       "3760                         OTPS     NaN     NaN  02M150  2022   NaN  \n",
       "3761                  School Site     NaN     NaN  02M150  2022   NaN  \n",
       "\n",
       "[3762 rows x 9 columns]"
      ]
     },
     "execution_count": 3,
     "metadata": {},
     "output_type": "execute_result"
    }
   ],
   "source": [
    "budgets.load_galaxy_budgets()"
   ]
  }
 ],
 "metadata": {
  "kernelspec": {
   "display_name": "Python 3 (ipykernel)",
   "language": "python",
   "name": "python3"
  },
  "language_info": {
   "codemirror_mode": {
    "name": "ipython",
    "version": 3
   },
   "file_extension": ".py",
   "mimetype": "text/x-python",
   "name": "python",
   "nbconvert_exporter": "python",
   "pygments_lexer": "ipython3",
   "version": "3.10.12"
  },
  "vscode": {
   "interpreter": {
    "hash": "c853444e20c489e5b96d8e1a4533affead1d94f1ba40ff9ef08cffb9c8ee794e"
   }
  }
 },
 "nbformat": 4,
 "nbformat_minor": 2
}
