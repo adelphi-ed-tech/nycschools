{
 "cells": [
  {
   "attachments": {},
   "cell_type": "markdown",
   "id": "98bcfabf",
   "metadata": {},
   "source": [
    "Exploring Segregation in NYC School\n",
    "===================================\n",
    "In 2014, the [_Civil Rights Project/Proyecto Derechos Civiles_](https://civilrightsproject.ucla.edu/) at UCLA released a report indicating that NYC had the most segregated schools in the nation. They followed up the 2014 report in 2021, finding that NYC was still last in terms of racial and ethnic integration of major school districts.\n",
    "\n",
    "Since the 1950s the city has grappled with it separate and unequal school system, but the problems persist. Recently, activism around Black Lives Matter has re-invigorated the conversation, with student-led organizations like [Teens Take Charge](https://www.instagram.com/teenstakecharge/) playing a leading role. This brief report demonstrates some ways that we can use NYC open data to explore the shape of segregation in the city's schools.\n"
   ]
  },
  {
   "cell_type": "code",
   "execution_count": 2,
   "id": "2193dcc9-a8c0-462c-91f8-c0110c4da6da",
   "metadata": {},
   "outputs": [],
   "source": [
    "import pandas as pd\n",
    "import matplotlib.pyplot as plt\n",
    "import numpy as np\n",
    "from functools import partial\n",
    "\n",
    "import scipy\n",
    "\n",
    "from IPython.display import Markdown as md, HTML\n",
    "from nycschools import schools, geo, ui, class_size\n"
   ]
  },
  {
   "cell_type": "code",
   "execution_count": 28,
   "id": "9d1735fb",
   "metadata": {},
   "outputs": [
    {
     "name": "stderr",
     "output_type": "stream",
     "text": [
      "/tmp/ipykernel_11956/1471487099.py:3: DtypeWarning: Columns (4,5,8,12,13,17,18,19,20,21,22,23,24,26,27,34,36,37,38,39,40) have mixed types. Specify dtype option on import or set low_memory=False.\n",
      "  ccd = pd.read_csv(\"../../../_data/ccod-2007.csv\")\n"
     ]
    },
    {
     "data": {
      "text/plain": [
       "['MCITY07']"
      ]
     },
     "execution_count": 28,
     "metadata": {},
     "output_type": "execute_result"
    }
   ],
   "source": [
    "# load common core of data for 2007-2008 to match the data in the journal article\n",
    "# description of columns: https://nces.ed.gov/ccd/pdf/psu071bgen.pdf\n",
    "ccd = pd.read_csv(\"../../../_data/ccod-2007.csv\")\n",
    "ccd.head()\n",
    "[c for c in ccd.columns if \"CITY\" in c]\n"
   ]
  },
  {
   "cell_type": "code",
   "execution_count": 43,
   "id": "ec5ed8bc",
   "metadata": {},
   "outputs": [],
   "source": [
    "\n",
    "ccd_nys = ccd[ccd[\"state\"] == \"NY\"]\n",
    "ccd_nys.groupby([\"LEAID\", \"LEANM07\"]).MEMBER07.sum().sort_values(ascending=False).head(40)\n",
    "ccd_nyc = ccd_nys[ccd_nys.LEANM07.str.startswith(\"NEW YORK CITY\")]\n",
    "ccd_nyc = ccd_nyc[[\"school_id\", \"ASIAN07\", \"BLACK07\", \"HISP07\", \"WHITE07\"]]\n",
    "ccd_nyc.rename(columns={\"ASIAN07\": \"asian_n\", \"BLACK07\": \"black_n\", \"HISP07\": \"hispanic_n\", \"WHITE07\":\"white_n\"}, inplace=True)\n",
    "ccd_nyc.to_csv(\"../../../_data/ccd-2007-nyc2.csv\", index=False)\n"
   ]
  },
  {
   "cell_type": "code",
   "execution_count": 4,
   "id": "72d0d8eb",
   "metadata": {},
   "outputs": [],
   "source": [
    "# load the demographic data and get just the most recent year and columns of interest\n",
    "df = schools.load_school_demographics()\n",
    "segregation_cols = ['dbn', 'district',  'school_name', 'total_enrollment',\n",
    "        'asian_n', 'asian_pct', 'black_n', 'black_pct', 'hispanic_n',\n",
    "        'hispanic_pct', 'white_n', 'white_pct', 'poverty_n', 'poverty_pct']\n",
    "data = df[df.ay == df.ay.max()].copy()\n",
    "data = data[segregation_cols]"
   ]
  },
  {
   "attachments": {},
   "cell_type": "markdown",
   "id": "b5478573",
   "metadata": {},
   "source": [
    "Index of dissimilarity\n",
    "----------------------\n",
    "\n",
    "`D` is the _index of dissimilarity_ which is an \"index of unevenness segregation.\" For our data D measures the unevenness of ethnic/racial distribution across schools. Higher values of D indicate that groups are not spread evenly across schools (more segregation), lower values indicate an even distribution of the population (less segregation). 1 would be perfectly segregated while 0 would be perfectly proportionate distribution. Below we calculate D for each district and then for the entire school system. We find that some districts have a low D index, where it is higher than the city index in other districts. This measure is based on Allen, R., and Vignoles, A. (2007) and Frankel, D. M., and Volij, O. (2011).\n",
    "\n",
    "We create a function to calculate the D index for a school based on a set of data. We can use this to find unenveness with a geographic school district and/or within the whole city.\n"
   ]
  },
  {
   "cell_type": "code",
   "execution_count": 11,
   "id": "0be787ad",
   "metadata": {},
   "outputs": [
    {
     "name": "stdout",
     "output_type": "stream",
     "text": [
      "City D 0.4951746899047429\n"
     ]
    }
   ],
   "source": [
    "# calculate unevenness\n",
    "\n",
    "def calculate_dissimilarity(data):\n",
    "    total_black = data['black_n'].sum()\n",
    "    total_white = data['white_n'].sum()\n",
    "    total_asian = data['asian_n'].sum()\n",
    "    total_hispanic = data['hispanic_n'].sum()\n",
    "\n",
    "    total = data.total_enrollment.sum()\n",
    "\n",
    "    non_black = total - total_black\n",
    "    non_white = total - total_white\n",
    "    non_asian = total - total_asian\n",
    "    non_hispanic = total - total_hispanic\n",
    "\n",
    "    def diss(row, eth, eth_total, total):\n",
    "        cols = list(row.index)\n",
    "        # the total students in the school outside of the target ethnic group `eth`\n",
    "        non_eth = sum([row[col] for col in cols if col != eth and col.endswith('_n')])\n",
    "        D = (row[eth] / eth_total) - (non_eth / total)\n",
    "        return abs(D)\n",
    "\n",
    "    black_D = data.apply(partial(diss, eth=\"black_n\", eth_total=total_black, total=non_black), axis=1)\n",
    "    black_D = black_D.sum() / 2\n",
    "\n",
    "    white_D = data.apply(partial(diss, eth=\"white_n\", eth_total=total_white, total=non_white), axis=1)\n",
    "    white_D = white_D.sum() / 2\n",
    "\n",
    "    asian_D = data.apply(partial(diss, eth=\"asian_n\", eth_total=total_asian, total=non_asian), axis=1)\n",
    "    asian_D = asian_D.sum() / 2\n",
    "\n",
    "    hispanic_D = data.apply(partial(diss, eth=\"hispanic_n\", eth_total=total_hispanic, total=non_hispanic), axis=1)\n",
    "    hispanic_D = hispanic_D.sum() / 2\n",
    "\n",
    "    # calculated a weighted average of the D indices\n",
    "    weights = [data.asian_pct.mean(), data.black_pct.mean(), data.hispanic_pct.mean(), data.white_pct.mean()]\n",
    "    D = np.average([asian_D, black_D, hispanic_D, white_D], weights=weights)\n",
    "    \n",
    "    return D\n",
    "\n",
    "cols = ['dbn', 'district', 'boro', 'total_enrollment', 'black_n', 'white_n', 'asian_n',\n",
    "        'hispanic_n', 'black_pct', 'white_pct', 'asian_pct', 'hispanic_pct']\n",
    "data = df[cols].copy()\n",
    "data.set_index('dbn', inplace=True)\n",
    "seg_D = pd.DataFrame()\n",
    "seg_D['district'] = data.district.unique()\n",
    "seg_D['D'] = seg_D.district.apply(lambda x: calculate_dissimilarity(data[data.district == x]))\n",
    "nyc_D = calculate_dissimilarity(data)\n",
    "seg_D = seg_D.sort_values('D', ascending=False)\n",
    "print(\"City D\", nyc_D)"
   ]
  },
  {
   "attachments": {},
   "cell_type": "markdown",
   "id": "0d738c7d",
   "metadata": {},
   "source": [
    "References\n",
    "============\n",
    "\n",
    "Allen, R., & Vignoles, A. (2007). What should an index of school segregation measure? _Oxford Review of Education_, _33_(5), 643–668. https://doi.org/10.1080/03054980701366306\n",
    "\n",
    "Cohen, D. (2021). NYC School Segregation Report Card: Still Last, Action Needed Now! _Civil Rights Project/Proyecto Derechos Civiles_. UCLA. https://escholarship.org/uc/item/5fx616qn\n",
    "\n",
    "Frankel, D. M., & Volij, O. (2011). Measuring school segregation. _Journal of Economic Theory_, _146_(1), 1–38. https://doi.org/10.1016/j.jet.2010.10.008\n",
    "\n",
    "Lauren Lefty. (2021, February 11). [The Long Fight for Educational Equity in NYC](https://www.mcny.org/story/long-fight-educational-equity-nyc). _Museum of the City of New York_.\n",
    "\n",
    "Zhang, C. H., & Ruther, M. (2021). Contemporary patterns and issues of school segregation and white flight in U.S. metropolitan areas: Towards spatial inquiries. _GeoJournal_, _86_(3), 1511–1526. https://doi.org/10.1007/s10708-019-10122-1\n"
   ]
  }
 ],
 "metadata": {
  "kernelspec": {
   "display_name": "school-data",
   "language": "python",
   "name": "python3"
  },
  "language_info": {
   "codemirror_mode": {
    "name": "ipython",
    "version": 3
   },
   "file_extension": ".py",
   "mimetype": "text/x-python",
   "name": "python",
   "nbconvert_exporter": "python",
   "pygments_lexer": "ipython3",
   "version": "3.10.6"
  },
  "vscode": {
   "interpreter": {
    "hash": "c853444e20c489e5b96d8e1a4533affead1d94f1ba40ff9ef08cffb9c8ee794e"
   }
  }
 },
 "nbformat": 4,
 "nbformat_minor": 5
}
