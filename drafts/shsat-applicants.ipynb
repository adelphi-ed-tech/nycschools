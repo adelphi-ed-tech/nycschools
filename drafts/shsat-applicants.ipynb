{
 "cells": [
  {
   "cell_type": "code",
   "execution_count": 2,
   "metadata": {},
   "outputs": [
    {
     "data": {
      "text/html": [
       "<div>\n",
       "<style scoped>\n",
       "    .dataframe tbody tr th:only-of-type {\n",
       "        vertical-align: middle;\n",
       "    }\n",
       "\n",
       "    .dataframe tbody tr th {\n",
       "        vertical-align: top;\n",
       "    }\n",
       "\n",
       "    .dataframe thead th {\n",
       "        text-align: right;\n",
       "    }\n",
       "</style>\n",
       "<table border=\"1\" class=\"dataframe\">\n",
       "  <thead>\n",
       "    <tr style=\"text-align: right;\">\n",
       "      <th></th>\n",
       "      <th>dbn</th>\n",
       "      <th>feeder_name</th>\n",
       "      <th>hs_applicants_n</th>\n",
       "      <th>testers_n</th>\n",
       "      <th>offers_n</th>\n",
       "      <th>ay</th>\n",
       "    </tr>\n",
       "  </thead>\n",
       "  <tbody>\n",
       "    <tr>\n",
       "      <th>0</th>\n",
       "      <td>01M034</td>\n",
       "      <td>P.S. 034 FRANKLIN D. ROOSEVELT</td>\n",
       "      <td>8</td>\n",
       "      <td>8</td>\n",
       "      <td>2</td>\n",
       "      <td>2015</td>\n",
       "    </tr>\n",
       "    <tr>\n",
       "      <th>1</th>\n",
       "      <td>01M140</td>\n",
       "      <td>P.S. 140 NATHAN STRAUS</td>\n",
       "      <td>14</td>\n",
       "      <td>14</td>\n",
       "      <td>2</td>\n",
       "      <td>2015</td>\n",
       "    </tr>\n",
       "    <tr>\n",
       "      <th>2</th>\n",
       "      <td>01M184</td>\n",
       "      <td>P.S. 184M SHUANG WEN</td>\n",
       "      <td>39</td>\n",
       "      <td>39</td>\n",
       "      <td>19</td>\n",
       "      <td>2015</td>\n",
       "    </tr>\n",
       "    <tr>\n",
       "      <th>3</th>\n",
       "      <td>01M188</td>\n",
       "      <td>P.S. 188 THE ISLAND SCHOOL</td>\n",
       "      <td>2</td>\n",
       "      <td>2</td>\n",
       "      <td>2</td>\n",
       "      <td>2015</td>\n",
       "    </tr>\n",
       "    <tr>\n",
       "      <th>4</th>\n",
       "      <td>01M301</td>\n",
       "      <td>TECHNOLOGY, ARTS, AND SCIENCES STUDIO</td>\n",
       "      <td>6</td>\n",
       "      <td>6</td>\n",
       "      <td>2</td>\n",
       "      <td>2015</td>\n",
       "    </tr>\n",
       "    <tr>\n",
       "      <th>...</th>\n",
       "      <td>...</td>\n",
       "      <td>...</td>\n",
       "      <td>...</td>\n",
       "      <td>...</td>\n",
       "      <td>...</td>\n",
       "      <td>...</td>\n",
       "    </tr>\n",
       "    <tr>\n",
       "      <th>653</th>\n",
       "      <td>84X703</td>\n",
       "      <td>BRONX PREPARATORY CHARTER SCHOOL (84X703)</td>\n",
       "      <td>19</td>\n",
       "      <td>8</td>\n",
       "      <td>2</td>\n",
       "      <td>2020</td>\n",
       "    </tr>\n",
       "    <tr>\n",
       "      <th>654</th>\n",
       "      <td>84X704</td>\n",
       "      <td>KIPP ACADEMY CHARTER SCHOOL (84X704)</td>\n",
       "      <td>15</td>\n",
       "      <td>6</td>\n",
       "      <td>2</td>\n",
       "      <td>2020</td>\n",
       "    </tr>\n",
       "    <tr>\n",
       "      <th>655</th>\n",
       "      <td>84X706</td>\n",
       "      <td>HARRIET TUBMAN CHARTER SCHOOL (84X706)</td>\n",
       "      <td>64</td>\n",
       "      <td>15</td>\n",
       "      <td>2</td>\n",
       "      <td>2020</td>\n",
       "    </tr>\n",
       "    <tr>\n",
       "      <th>656</th>\n",
       "      <td>84X717</td>\n",
       "      <td>ICAHN CHARTER SCHOOL (84X717)</td>\n",
       "      <td>29</td>\n",
       "      <td>7</td>\n",
       "      <td>2</td>\n",
       "      <td>2020</td>\n",
       "    </tr>\n",
       "    <tr>\n",
       "      <th>657</th>\n",
       "      <td>84X730</td>\n",
       "      <td>BRONX CHARTER SCHOOL FOR THE ARTS (84X730)</td>\n",
       "      <td>100</td>\n",
       "      <td>13</td>\n",
       "      <td>2</td>\n",
       "      <td>2020</td>\n",
       "    </tr>\n",
       "  </tbody>\n",
       "</table>\n",
       "<p>3620 rows × 6 columns</p>\n",
       "</div>"
      ],
      "text/plain": [
       "        dbn                                 feeder_name  hs_applicants_n  \\\n",
       "0    01M034              P.S. 034 FRANKLIN D. ROOSEVELT                8   \n",
       "1    01M140                      P.S. 140 NATHAN STRAUS               14   \n",
       "2    01M184                        P.S. 184M SHUANG WEN               39   \n",
       "3    01M188                  P.S. 188 THE ISLAND SCHOOL                2   \n",
       "4    01M301       TECHNOLOGY, ARTS, AND SCIENCES STUDIO                6   \n",
       "..      ...                                         ...              ...   \n",
       "653  84X703   BRONX PREPARATORY CHARTER SCHOOL (84X703)               19   \n",
       "654  84X704        KIPP ACADEMY CHARTER SCHOOL (84X704)               15   \n",
       "655  84X706      HARRIET TUBMAN CHARTER SCHOOL (84X706)               64   \n",
       "656  84X717               ICAHN CHARTER SCHOOL (84X717)               29   \n",
       "657  84X730  BRONX CHARTER SCHOOL FOR THE ARTS (84X730)              100   \n",
       "\n",
       "     testers_n  offers_n    ay  \n",
       "0            8         2  2015  \n",
       "1           14         2  2015  \n",
       "2           39        19  2015  \n",
       "3            2         2  2015  \n",
       "4            6         2  2015  \n",
       "..         ...       ...   ...  \n",
       "653          8         2  2020  \n",
       "654          6         2  2020  \n",
       "655         15         2  2020  \n",
       "656          7         2  2020  \n",
       "657         13         2  2020  \n",
       "\n",
       "[3620 rows x 6 columns]"
      ]
     },
     "execution_count": 2,
     "metadata": {},
     "output_type": "execute_result"
    }
   ],
   "source": [
    "import matplotlib.pyplot as plt\n",
    "from nycschools import schools, geo, shsat\n",
    "feeder = shsat.load_admission_offers()\n",
    "feeder\n"
   ]
  },
  {
   "cell_type": "code",
   "execution_count": 6,
   "metadata": {},
   "outputs": [
    {
     "data": {
      "text/plain": [
       "686"
      ]
     },
     "execution_count": 6,
     "metadata": {},
     "output_type": "execute_result"
    }
   ],
   "source": [
    "feeder.dbn.nunique()\n",
    "# set(feeder.columns)"
   ]
  },
  {
   "cell_type": "code",
   "execution_count": 2,
   "metadata": {},
   "outputs": [
    {
     "data": {
      "text/plain": [
       "{'2015': 'https://data.cityofnewyork.us/resource/xqx4-kdvp.csv?$limit=1000000',\n",
       " '2016': 'https://data.cityofnewyork.us/resource/8ws3-956v.csv?$limit=1000000',\n",
       " '2017': 'https://data.cityofnewyork.us/resource/vsgi-eeb5.csv?$limit=1000000',\n",
       " '2018': 'https://data.cityofnewyork.us/resource/uf53-ree9.csv?$limit=1000000',\n",
       " '2019': 'https://data.cityofnewyork.us/resource/xuij-x4t4.csv?$limit=1000000',\n",
       " '2020': 'https://data.cityofnewyork.us/resource/k8ah-28f4.csv?$limit=1000000'}"
      ]
     },
     "execution_count": 2,
     "metadata": {},
     "output_type": "execute_result"
    }
   ],
   "source": [
    "from nycschools import config\n",
    "x = config.urls[\"shsat_apps\"].data_urls\n",
    "x"
   ]
  }
 ],
 "metadata": {
  "kernelspec": {
   "display_name": "nycschools",
   "language": "python",
   "name": "python3"
  },
  "language_info": {
   "codemirror_mode": {
    "name": "ipython",
    "version": 3
   },
   "file_extension": ".py",
   "mimetype": "text/x-python",
   "name": "python",
   "nbconvert_exporter": "python",
   "pygments_lexer": "ipython3",
   "version": "3.10.6"
  },
  "orig_nbformat": 4,
  "vscode": {
   "interpreter": {
    "hash": "091e5df5716100aab17c7e849fd620629f61f1f03684590e94b7b3fc6003be54"
   }
  }
 },
 "nbformat": 4,
 "nbformat_minor": 2
}
