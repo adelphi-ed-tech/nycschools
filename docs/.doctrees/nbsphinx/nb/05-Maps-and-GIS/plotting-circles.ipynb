{
 "cells": [
  {
   "cell_type": "code",
   "execution_count": 3,
   "metadata": {},
   "outputs": [],
   "source": [
    "import math\n",
    "\n",
    "# m = districts[districts.district==24].explore(\n",
    "#      column=\"district\", # use district for the categories (aka chloropath)\n",
    "#      tooltip=False,\n",
    "#      popup=\"district\",\n",
    "#      tiles=\"CartoDB positron\", # use \"CartoDB positron\" tiles\n",
    "#      cmap=\"tab20b\", # use \"tab20b\" matplotlib colormap\n",
    "#      style_kwds=dict(color=\"black\") # use black outline\n",
    "#     )\n",
    "\n",
    "\n",
    "\n",
    "    \n",
    "# school_geo[\"school_color\"] = school_geo.district.apply(dist_map)\n",
    "\n",
    "# school_geo['lon'] = school_geo.centroid.x  \n",
    "# school_geo['lat'] = school_geo.centroid.y\n",
    "\n",
    "# max_rad = 200\n",
    "# # 50 * math.log(row.poverty_pct * 10, 2)\n",
    "\n",
    "# def map_school(row):\n",
    "#     folium.Circle(\n",
    "#         radius=(max_rad * row.poverty_pct),\n",
    "#         location=[row.lat, row.lon],\n",
    "#         tooltip=row.dbn,\n",
    "#         popup=school_pop(row),\n",
    "#         column=\"poverty_pct\",\n",
    "#         cmap=\"coolwarm\",\n",
    "#         fill=True,\n",
    "#     ).add_to(m)\n",
    "\n",
    "\n",
    "# school_geo[school_geo.district==24].apply(map_school, axis=1)\n",
    "\n"
   ]
  }
 ],
 "metadata": {
  "kernelspec": {
   "display_name": "school-data",
   "language": "python",
   "name": "python3"
  },
  "language_info": {
   "codemirror_mode": {
    "name": "ipython",
    "version": 3
   },
   "file_extension": ".py",
   "mimetype": "text/x-python",
   "name": "python",
   "nbconvert_exporter": "python",
   "pygments_lexer": "ipython3",
   "version": "3.10.6"
  },
  "vscode": {
   "interpreter": {
    "hash": "c853444e20c489e5b96d8e1a4533affead1d94f1ba40ff9ef08cffb9c8ee794e"
   }
  }
 },
 "nbformat": 4,
 "nbformat_minor": 2
}
