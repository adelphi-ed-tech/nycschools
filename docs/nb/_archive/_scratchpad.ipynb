{
 "cells": [
  {
   "cell_type": "code",
   "execution_count": 3,
   "id": "c46a80b6",
   "metadata": {},
   "outputs": [
    {
     "data": {
      "text/plain": [
       "Index(['dbn', 'school_name', 'grade_level', 'program_type',\n",
       "       'number_of_students', 'number_of_classes', 'average_class_size',\n",
       "       'minimum_class_size', 'maximum_class_size'],\n",
       "      dtype='object')"
      ]
     },
     "execution_count": 3,
     "metadata": {},
     "output_type": "execute_result"
    }
   ],
   "source": [
    "import pandas as pd\n",
    "\n",
    "url = \"https://data.cityofnewyork.us/resource/sgr7-hhwp.csv?$limit=1000000\"\n",
    "df = pd.read_csv(url)\n",
    "df.columns"
   ]
  },
  {
   "cell_type": "code",
   "execution_count": 2,
   "id": "eea066bb",
   "metadata": {},
   "outputs": [
    {
     "data": {
      "text/plain": [
       "'/opt/nycschools'"
      ]
     },
     "execution_count": 2,
     "metadata": {},
     "output_type": "execute_result"
    }
   ],
   "source": [
    "import nycschools\n",
    "from nycschools import config\n",
    "config.data_dir"
   ]
  },
  {
   "cell_type": "code",
   "execution_count": 4,
   "id": "c8812abf",
   "metadata": {},
   "outputs": [],
   "source": [
    "config.data_dir=\"/tmp/foo\""
   ]
  },
  {
   "cell_type": "code",
   "execution_count": 5,
   "id": "80733a17",
   "metadata": {},
   "outputs": [
    {
     "data": {
      "text/plain": [
       "'/tmp/foo'"
      ]
     },
     "execution_count": 5,
     "metadata": {},
     "output_type": "execute_result"
    }
   ],
   "source": [
    "config.data_dir"
   ]
  }
 ],
 "metadata": {
  "kernelspec": {
   "display_name": "school-data",
   "language": "python",
   "name": "python3"
  },
  "language_info": {
   "codemirror_mode": {
    "name": "ipython",
    "version": 3
   },
   "file_extension": ".py",
   "mimetype": "text/x-python",
   "name": "python",
   "nbconvert_exporter": "python",
   "pygments_lexer": "ipython3",
   "version": "3.10.6 (main, Nov 10 2011, 15:00:00) [GCC 12.1.0]"
  },
  "vscode": {
   "interpreter": {
    "hash": "c853444e20c489e5b96d8e1a4533affead1d94f1ba40ff9ef08cffb9c8ee794e"
   }
  }
 },
 "nbformat": 4,
 "nbformat_minor": 5
}
