{
 "cells": [
  {
   "cell_type": "code",
   "execution_count": 1,
   "id": "b6e996fb",
   "metadata": {
    "scrolled": false
   },
   "outputs": [
    {
     "data": {
      "image/png": "[encoded data removed]",
      "text/plain": [
       "<Figure size 432x288 with 1 Axes>"
      ]
     },
     "metadata": {},
     "output_type": "display_data"
    }
   ],
   "source": [
    "import networkx as nx #to create the diagram\n",
    "from pandas import DataFrame #to read the excel sheet\n",
    "import pandas as pd #to read the excel sheet\n",
    "import matplotlib.pyplot as plt #honestly not sure???\n",
    "\n",
    "\n",
    "#for getting the names from the excel sheet \n",
    "filename = 'Sample1.xlsx'\n",
    "df = pd.read_excel(filename)\n",
    "\n",
    "# first create the Graph -- this is the collection of all of the nodes and edges\n",
    "G = nx.MultiDiGraph()\n",
    "\n",
    "# filter out any empty names\n",
    "students = df[df.name.notnull()].name\n",
    "\n",
    "# add a node for each student\n",
    "G.add_nodes_from(students)\n",
    "# make edges from the speaker/responder lists\n",
    "edges = list(zip(df[\"speaker\"], df[\"responder\"]))\n",
    "\n",
    "G.add_edges_from(edges)\n",
    "\n",
    "cmap = {\n",
    "    1: \"red\",\n",
    "    2: \"green\",\n",
    "    3: \"blue\"\n",
    "}\n",
    "node_colors = [\"black\" for n in students]\n",
    "node_colors[0] = \"green\"\n",
    "node_colors[-1] = \"red\"\n",
    "nx.draw_circular(G, \n",
    "        node_color=node_colors,\n",
    "        with_labels=True, \n",
    "        node_size=800, \n",
    "        font_weight='bold',\n",
    "        font_size=10,\n",
    "        connectionstyle='arc3, rad = 0.1',\n",
    "        font_color=\"whitesmoke\",\n",
    "        edge_color=df[\"response-type\"],\n",
    "        edge_cmap=plt.cm.coolwarm)\n"
   ]
  },
  {
   "cell_type": "code",
   "execution_count": 2,
   "id": "c051d9d7",
   "metadata": {},
   "outputs": [],
   "source": [
    "from netgraph import Graph, InteractiveGraph, EditableGraph\n",
    "\n"
   ]
  },
  {
   "cell_type": "code",
   "execution_count": 3,
   "id": "7b898d5e",
   "metadata": {
    "scrolled": true
   },
   "outputs": [
    {
     "ename": "AttributeError",
     "evalue": "'str' object has no attribute 'value'",
     "output_type": "error",
     "traceback": [
      "\u001b[1;31m---------------------------------------------------------------------------\u001b[0m",
      "\u001b[1;31mAttributeError\u001b[0m                            Traceback (most recent call last)",
      "\u001b[1;32m~\\AppData\\Local\\Temp/ipykernel_11572/3895377394.py\u001b[0m in \u001b[0;36m<module>\u001b[1;34m\u001b[0m\n\u001b[0;32m     29\u001b[0m \u001b[0mG\u001b[0m\u001b[1;33m.\u001b[0m\u001b[0madd_nodes_from\u001b[0m\u001b[1;33m(\u001b[0m\u001b[0mspeakers\u001b[0m\u001b[1;33m)\u001b[0m\u001b[1;33m\u001b[0m\u001b[1;33m\u001b[0m\u001b[0m\n\u001b[0;32m     30\u001b[0m \u001b[1;33m\u001b[0m\u001b[0m\n\u001b[1;32m---> 31\u001b[1;33m \u001b[0mget_edges\u001b[0m\u001b[1;33m(\u001b[0m\u001b[1;33m)\u001b[0m\u001b[1;33m\u001b[0m\u001b[1;33m\u001b[0m\u001b[0m\n\u001b[0m\u001b[0;32m     32\u001b[0m \u001b[1;31m#for printing the lines from one student to another\u001b[0m\u001b[1;33m\u001b[0m\u001b[1;33m\u001b[0m\u001b[0m\n\u001b[0;32m     33\u001b[0m \u001b[0mG\u001b[0m\u001b[1;33m.\u001b[0m\u001b[0madd_edges_from\u001b[0m\u001b[1;33m(\u001b[0m\u001b[0medges\u001b[0m\u001b[1;33m)\u001b[0m\u001b[1;33m\u001b[0m\u001b[1;33m\u001b[0m\u001b[0m\n",
      "\u001b[1;32m~\\AppData\\Local\\Temp/ipykernel_11572/3895377394.py\u001b[0m in \u001b[0;36mget_edges\u001b[1;34m()\u001b[0m\n\u001b[0;32m     19\u001b[0m \u001b[1;32mdef\u001b[0m \u001b[0mget_edges\u001b[0m\u001b[1;33m(\u001b[0m\u001b[1;33m)\u001b[0m\u001b[1;33m:\u001b[0m\u001b[1;33m\u001b[0m\u001b[1;33m\u001b[0m\u001b[0m\n\u001b[0;32m     20\u001b[0m     \u001b[0mdf\u001b[0m \u001b[1;33m=\u001b[0m \u001b[0mpd\u001b[0m\u001b[1;33m.\u001b[0m\u001b[0mread_excel\u001b[0m\u001b[1;33m(\u001b[0m\u001b[0mfilename\u001b[0m\u001b[1;33m)\u001b[0m\u001b[1;33m\u001b[0m\u001b[1;33m\u001b[0m\u001b[0m\n\u001b[1;32m---> 21\u001b[1;33m     \u001b[0mperson1\u001b[0m \u001b[1;33m=\u001b[0m \u001b[0mlist\u001b[0m\u001b[1;33m(\u001b[0m\u001b[0mdf\u001b[0m\u001b[1;33m[\u001b[0m\u001b[1;34m'Speaker'\u001b[0m\u001b[1;33m.\u001b[0m\u001b[0mvalue\u001b[0m\u001b[1;33m]\u001b[0m\u001b[1;33m)\u001b[0m\u001b[1;33m\u001b[0m\u001b[1;33m\u001b[0m\u001b[0m\n\u001b[0m\u001b[0;32m     22\u001b[0m     \u001b[0mperson2\u001b[0m \u001b[1;33m=\u001b[0m \u001b[0mlist\u001b[0m\u001b[1;33m(\u001b[0m\u001b[0mdf\u001b[0m\u001b[1;33m[\u001b[0m\u001b[1;34m'Responder'\u001b[0m\u001b[1;33m.\u001b[0m\u001b[0mvalue\u001b[0m\u001b[1;33m]\u001b[0m\u001b[1;33m)\u001b[0m\u001b[1;33m\u001b[0m\u001b[1;33m\u001b[0m\u001b[0m\n\u001b[0;32m     23\u001b[0m     \u001b[0medges\u001b[0m\u001b[1;33m.\u001b[0m\u001b[0mappend\u001b[0m\u001b[1;33m(\u001b[0m\u001b[1;33m(\u001b[0m\u001b[0mperson1\u001b[0m\u001b[1;33m,\u001b[0m\u001b[0mperson2\u001b[0m\u001b[1;33m)\u001b[0m\u001b[1;33m)\u001b[0m\u001b[1;33m\u001b[0m\u001b[1;33m\u001b[0m\u001b[0m\n",
      "\u001b[1;31mAttributeError\u001b[0m: 'str' object has no attribute 'value'"
     ]
    }
   ],
   "source": [
    "#for pulling the edges from the excel sheet \n",
    "def get_edges():\n",
    "    df = pd.read_excel(filename)\n",
    "    person1 = list(df['Speaker'])\n",
    "    person2 = list(df['Responder'])\n",
    "    edges.append((person1,person2))\n",
    "    \n",
    "#^^^^this doesn't work because it doesn't make them a couple. It makes them a list of all person1 & a list of all person2??\n",
    "#need to figure out how to make them couples \n",
    "    \n",
    "#for printing the names to the graph \n",
    "G.add_nodes_from(speakers)\n",
    "                   \n",
    "get_edges()\n",
    "#for printing the lines from one student to another \n",
    "G.add_edges_from(edges)\n",
    "\n",
    "#for formatting what the names look like \n",
    "nx.draw_circular(G, node_color='black', with_labels=True, node_size=3000, font_weight='bold',font_size=10, font_color=\"whitesmoke\", cmap=\"tab10\")"
   ]
  },
  {
   "cell_type": "code",
   "execution_count": 6,
   "id": "17174c4c",
   "metadata": {},
   "outputs": [
    {
     "ename": "IndentationError",
     "evalue": "expected an indented block (Temp/ipykernel_21324/610731142.py, line 16)",
     "output_type": "error",
     "traceback": [
      "\u001b[1;36m  File \u001b[1;32m\"C:\\Users\\Julie\\AppData\\Local\\Temp/ipykernel_21324/610731142.py\"\u001b[1;36m, line \u001b[1;32m16\u001b[0m\n\u001b[1;33m    return G.add_edges_from(edges, color='r', weight= 2)\u001b[0m\n\u001b[1;37m    ^\u001b[0m\n\u001b[1;31mIndentationError\u001b[0m\u001b[1;31m:\u001b[0m expected an indented block\n"
     ]
    }
   ],
   "source": [
    "#For deciding the line color \n",
    "\n",
    "response_type = []\n",
    "response_type1 == 1 #gave these a number bc I don't think that the if statements can equal a string? \n",
    "response_type2 == 2\n",
    "response_type3 == 3 \n",
    "\n",
    "\n",
    "def get_reponse_type(): \n",
    "    df = pd.read_excel(filename)\n",
    "    response = list(df['Response type'])\n",
    "    response_type.append(response)\n",
    "    \n",
    "def edge_type():\n",
    "    if response_type == 1: \n",
    "    return G.add_edges_from(edges, color='r', weight= 2)\n",
    "    elif response_type == 2:\n",
    "    return G.add_edges_from(edges, color='g', weight= 2)\n",
    "    else:\n",
    "    return G.add_edges_from(edges, color='b', weight= 2)"
   ]
  },
  {
   "cell_type": "code",
   "execution_count": 7,
   "id": "b7ebef99",
   "metadata": {},
   "outputs": [
    {
     "data": {
      "text/plain": [
       "'\\nQuestions:\\n1. How will this know the excel file name that is generated in the first half of the program? Does the current code make \\nsense for variable file names? \\n2. Change the color of the first and last node --to indicate the first and last speaker--?\\n3. Change the line to an arrow to indicate who spoke? \\n3. Can the response type be a variable list that creates a new color line for each new response type? So that teachers can \\nregularly change this data or response type? Response type are the edges. \\n4. How do you keep the image from getting cut off with more names? Will this be able to be embedded on to a website to \\npresent the information?\\n\\nNotes:\\n1. The way this is coded would require the column names/ uploaded doc to be a template that is consistent.\\n'"
      ]
     },
     "execution_count": 7,
     "metadata": {},
     "output_type": "execute_result"
    }
   ],
   "source": [
    "\"\"\"\n",
    "Questions:\n",
    "1. How will this know the excel file name that is generated in the first half of the program? Does the current code make \n",
    "sense for variable file names? \n",
    "2. Change the color of the first and last node --to indicate the first and last speaker--?\n",
    "3. Change the line to an arrow to indicate who spoke? \n",
    "3. Can the response type be a variable list that creates a new color line for each new response type? So that teachers can \n",
    "regularly change this data or response type? Response type are the edges. \n",
    "4. How do you keep the image from getting cut off with more names? Will this be able to be embedded on to a website to \n",
    "present the information?\n",
    "\n",
    "Notes:\n",
    "1. The way this is coded would require the column names/ uploaded doc to be a template that is consistent.\n",
    "\"\"\""
   ]
  }
 ],
 "metadata": {
  "kernelspec": {
   "display_name": "Python 3 (ipykernel)",
   "language": "python",
   "name": "python3"
  },
  "language_info": {
   "codemirror_mode": {
    "name": "ipython",
    "version": 3
   },
   "file_extension": ".py",
   "mimetype": "text/x-python",
   "name": "python",
   "nbconvert_exporter": "python",
   "pygments_lexer": "ipython3",
   "version": "3.10.4"
  }
 },
 "nbformat": 4,
 "nbformat_minor": 5
}
