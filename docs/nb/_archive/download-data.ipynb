{
 "cells": [
  {
   "cell_type": "code",
   "execution_count": 1,
   "id": "e829f858",
   "metadata": {},
   "outputs": [
    {
     "name": "stdout",
     "output_type": "stream",
     "text": [
      "loading config from file system\n"
     ]
    }
   ],
   "source": [
    "%load_ext autoreload\n",
    "%autoreload 2\n",
    "from nycschools import schools, config, dataloader as loader\n",
    "import requests"
   ]
  },
  {
   "cell_type": "code",
   "execution_count": null,
   "id": "fb852bbb",
   "metadata": {},
   "outputs": [],
   "source": [
    "from nycschools import config, exams\n",
    "\n",
    "df = exams.load_charter_ela()\n",
    "# df = exams.load_nysed_exams()\n",
    "\n",
    "old = ['dbn', 'school_name', 'grade', 'category', 'number_tested',\n",
    "       'mean_scale_score', 'level_1', 'level_1_1', 'level_2', 'level_2_1',\n",
    "       'level_3', 'level_3_1', 'level_4', 'level_4_1', 'level_3_4',\n",
    "       'level_3_4_1', 'test_year', 'ay']\n",
    "df = df[old]\n",
    "new_cols = ['dbn', 'school_name', 'grade', 'category',\n",
    "'number_tested', 'mean_scale_score', 'level_1_n', 'level_1_pct', 'level_2_n',\n",
    "'level_2_pct', 'level_3_n', 'level_3_pct', 'level_4_n', 'level_4_pct',\n",
    "'level_3_4_n', 'level_3_4_pct', 'test_year', 'ay']\n",
    "z = dict(zip(old, new_cols))\n",
    "# # help(df.rename)\n",
    "# # \n",
    "new_cols = { k:v for (k,v) in zip(old, new_cols) if k!=v }\n",
    "df = df.rename(columns=z)\n",
    "new_cols"
   ]
  },
  {
   "cell_type": "code",
   "execution_count": 32,
   "id": "a6bf2410",
   "metadata": {},
   "outputs": [
    {
     "data": {
      "text/plain": [
       "1"
      ]
     },
     "execution_count": 32,
     "metadata": {},
     "output_type": "execute_result"
    }
   ],
   "source": [
    "df.number_tested.min()"
   ]
  },
  {
   "cell_type": "code",
   "execution_count": null,
   "id": "e62f3a43",
   "metadata": {},
   "outputs": [],
   "source": [
    "import pandas as pd\n",
    "df = pd.read_csv(\"https://data.cityofnewyork.us/resource/sgjd-xi99.csv?$limit=1000000\")\n",
    "df"
   ]
  },
  {
   "cell_type": "code",
   "execution_count": null,
   "id": "b05c7fc8",
   "metadata": {},
   "outputs": [],
   "source": [
    "for key, link in config.urls.items():\n",
    "    print(f\"checking {key}\")\n",
    "    r = requests.head(link.url)\n",
    "    print(r.ok)"
   ]
  },
  {
   "cell_type": "code",
   "execution_count": null,
   "id": "b5a9c3b6",
   "metadata": {},
   "outputs": [],
   "source": [
    "r.reason"
   ]
  },
  {
   "cell_type": "code",
   "execution_count": null,
   "id": "81acf1cd",
   "metadata": {},
   "outputs": [],
   "source": [
    "display(r.__attrs__)"
   ]
  },
  {
   "cell_type": "code",
   "execution_count": null,
   "id": "0357b633",
   "metadata": {},
   "outputs": [],
   "source": [
    "import json\n",
    "from types import SimpleNamespace\n",
    "config = {\n",
    "    \"config_file\": \"/home/mxc/.foo\",\n",
    "    \"data_dir\":\"/foo/data\"\n",
    "}\n",
    "\n",
    "f = \n",
    "f.data_dir\n",
    "\n",
    "# json.dumps(config, indent=2)"
   ]
  }
 ],
 "metadata": {
  "kernelspec": {
   "display_name": "Python 3 (ipykernel)",
   "language": "python",
   "name": "python3"
  },
  "language_info": {
   "codemirror_mode": {
    "name": "ipython",
    "version": 3
   },
   "file_extension": ".py",
   "mimetype": "text/x-python",
   "name": "python",
   "nbconvert_exporter": "python",
   "pygments_lexer": "ipython3",
   "version": "3.10.6"
  }
 },
 "nbformat": 4,
 "nbformat_minor": 5
}
